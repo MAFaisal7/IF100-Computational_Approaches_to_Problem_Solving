{
  "nbformat": 4,
  "nbformat_minor": 0,
  "metadata": {
    "colab": {
      "name": "THE2_Solution.ipynb",
      "provenance": [],
      "collapsed_sections": []
    },
    "kernelspec": {
      "name": "python3",
      "display_name": "Python 3"
    },
    "language_info": {
      "name": "python"
    }
  },
  "cells": [
    {
      "cell_type": "code",
      "metadata": {
        "colab": {
          "base_uri": "https://localhost:8080/"
        },
        "id": "2WBM9PZDD5xu",
        "outputId": "4bb9ce19-5fb3-4cd9-93d1-f1e960826ba0"
      },
      "source": [
        "usernames = input(\"Please enter usernames and passwords: \")\n",
        "last_changes = input(\"Please enter last modification information: \")\n",
        "\n",
        "username = input(\"Please enter the username: \")\n",
        "\n",
        "usernames = \";\" + usernames + \";\"\n",
        "search_username = \";\" + username + \":\"\n",
        "last_changes = \";\" + last_changes + \";\"\n",
        "\n",
        "if search_username in usernames:\n",
        "    password = input(\"Please enter the password: \")\n",
        "    scrambled_pass = username[0] + password[::-1] + username[1:]\n",
        "    \n",
        "    db_pass = usernames[usernames.find(search_username) + len(search_username):usernames.find(\";\",usernames.find(search_username) + len(search_username))]\n",
        "    \n",
        "    if db_pass == scrambled_pass:\n",
        "        last_changed = last_changes[last_changes.find(search_username) + len(search_username):last_changes.find(\";\",last_changes.find(search_username) + len(search_username))]\n",
        "        last_changed_month = (int(last_changed[:last_changed.find(\"y\")]) * 12) + int(last_changed[last_changed.find(\" \"):last_changed.find(\"m\")])\n",
        "        \n",
        "        if last_changed_month >= 6:\n",
        "            new_pass = input(\"Please enter your new password: \")\n",
        "            new_db_pass = username[0] + new_pass[::-1] + username[1:]\n",
        "            usernames = usernames[:usernames.find(search_username) + len(search_username)] + new_db_pass + usernames[usernames.find(\";\",usernames.find(search_username) + len(search_username)):]\n",
        "            usernames = usernames[1:-1]\n",
        "            print(usernames)\n",
        "\n",
        "            new_last_changed = \"0year(s) 0month(s)\"\n",
        "            last_changes = last_changes[:last_changes.find(search_username) + len(search_username)] + new_last_changed + last_changes[last_changes.find(\";\",last_changes.find(search_username) + len(search_username)):]\n",
        "            last_changes = last_changes[1:-1]\n",
        "            print(last_changes)\n",
        "        else:\n",
        "            print(\"Successful login\")\n",
        "    else:\n",
        "        print(\"Wrong password\")\n",
        "else:\n",
        "    print(\"Wrong username\")\n"
      ],
      "execution_count": null,
      "outputs": [
        {
          "output_type": "stream",
          "text": [
            "Please enter usernames and passwords: redstar:r321.s.redstar;edstar:eratS4ratsdstar;sunshine:s321renefunshine;jane:j999satkisebane\n",
            "Please enter last modification information: redstar:1year(s) 11month(s);edstar:1year(s) 5month(s);sunshine:0year(s) 1month(s);jane:0year(s) 5month(s)\n",
            "Please enter the username: edstar\n",
            "Please enter the password: star4Star\n",
            "Please enter your new password: rats4Rats\n",
            "redstar:r321.s.redstar;edstar:estaR4stardstar;sunshine:s321renefunshine;jane:j999satkisebane\n",
            "redstar:1year(s) 11month(s);edstar:0year(s) 0month(s);sunshine:0year(s) 1month(s);jane:0year(s) 5month(s)\n"
          ],
          "name": "stdout"
        }
      ]
    },
    {
      "cell_type": "code",
      "metadata": {
        "id": "OFEsTlSqvtCr",
        "colab": {
          "base_uri": "https://localhost:8080/",
          "height": 136
        },
        "outputId": "76d52f69-4fb5-450d-ed24-990c75b8757d"
      },
      "source": [
        "eagle_man:e5t4r3e2w1qagle_man;red.rose01:rgn4egnAROed.rose01;rhinowar:r123456.neveshinowar\n",
        "eagle_man:0year(s) 2month(s);red.rose01:1year(s) 6month(s);rhinowar:10year(s) 6month(s)\n",
        "wolf\n",
        "\n",
        "eagle_man:e5t4r3e2w1qagle_man;red.rose01:rgn4egnAROed.rose01;rhinowar:r123456.neveshinowar\n",
        "rhinowar:10year(s) 6month(s);eagle_man:0year(s) 2month(s);red.rose01:1year(s) 6month(s)\n",
        "eagle_man\n",
        "a1s2d3q1\n",
        "\n",
        "coff33c4ke:cr0t4id@lgoff33c4ke;j0mesb0nd7:jredips?etaraK0mesb0nd7;hubblebubble:h.sneil@_etucubblebubble\n",
        "coff33c4ke:2year(s) 5month(s);j0mesb0nd7:0year(s) 5month(s);hubblebubble:0year(s) 10month(s)\n",
        "j0mesb0nd7\n",
        "Karate?spide\n",
        "\n",
        "coff33c4ke:cr0t4id@lgoff33c4ke;j0mesb0nd7:jredips?etaraK0mesb0nd7;hubblebubble:h.sneil@_etucubblebubble\n",
        "hubblebubble:0year(s) 10month(s);coff33c4ke:2year(s) 5month(s);j0mesb0nd7:0year(s) 5month(s)\n",
        "j0mesb0nd7\n",
        "Karate?spider\n",
        "\n",
        "coff33c4ke:cr0t4id@lgoff33c4ke;j0mesb0nd7:jredips?etaraK0mesb0nd7;hubblebubble:h.sneil@_etucubblebubble\n",
        "hubblebubble:0year(s) 6month(s);coff33c4ke:2year(s) 5month(s);j0mesb0nd7:0year(s) 5month(s)\n",
        "hubblebubble\n",
        "cute_@liens.\n",
        "iRonMan4ever\n",
        "\n",
        "beagle_man:belgaeBrepaPkcoReagle_man;red.rose01:rgn4egnAROed.rose01;rhinowar:r123456.neveshinowar;eagle_man:e5t4r3e2w1qagle_man\n",
        "beagle_man:0year(s) 5month(s);red.rose01:0year(s) 3month(s);eagle_man:1year(s) 5month(s);rhinowar:4year(s) 2month(s)\n",
        "eagle_man\n",
        "q1w2e3r4t5\n",
        "gl@di4t0r\n",
        "\n",
        "eagle_man:e5t4r3e2w1qagle_man;red.rose01:rgn4egnAROed.rose01;rhinowar:r123456.neveshinowar\n",
        "eagle_man:0year(s) 2month(s);red.rose01:1year(s) 6month(s);rhinowar:10year(s) 6month(s)\n",
        "_man\n",
        "\n",
        "inancarin:i654321nancarin;arin:a54321rin\n",
        "inancarin:0year(s) 5month(s);arin:0year(s) 6month(s)\n",
        "arin\n",
        "123456\n",
        "\n",
        "inancarin:i654321nancarin;arin:a54321rin\n",
        "inancarin:0year(s) 5month(s);arin:0year(s) 6month(s)\n",
        "arin\n",
        "12345\n",
        "12345\n",
        "\n",
        "inancarin:i654321nancarin;arin:a54321rin\n",
        "inancarin:0year(s) 5month(s);arin:0year(s) 5month(s)\n",
        "Arin"
      ],
      "execution_count": null,
      "outputs": [
        {
          "output_type": "error",
          "ename": "SyntaxError",
          "evalue": "ignored",
          "traceback": [
            "\u001b[0;36m  File \u001b[0;32m\"<ipython-input-7-93938b66b7ce>\"\u001b[0;36m, line \u001b[0;32m2\u001b[0m\n\u001b[0;31m    eagle_man:0year(s) 2month(s);red.rose01:1year(s) 6month(s);rhinowar:10year(s) 6month(s)\u001b[0m\n\u001b[0m                  ^\u001b[0m\n\u001b[0;31mSyntaxError\u001b[0m\u001b[0;31m:\u001b[0m invalid syntax\n"
          ]
        }
      ]
    },
    {
      "cell_type": "code",
      "metadata": {
        "colab": {
          "base_uri": "https://localhost:8080/"
        },
        "id": "9XCU8pCmE79_",
        "outputId": "700355e8-d3c3-4987-f33c-9d3a02c59a6a"
      },
      "source": [
        "a = \"2 year(s) 1 month(s)\"\n",
        "int(a[:a.find(\" \")]) * 12 + int(a[a.find(\" \",a.find(\" \")+1)+1:a.find(\" \",a.find(\" \",a.find(\" \")+1)+1)])"
      ],
      "execution_count": null,
      "outputs": [
        {
          "output_type": "execute_result",
          "data": {
            "text/plain": [
              "25"
            ]
          },
          "metadata": {
            "tags": []
          },
          "execution_count": 54
        }
      ]
    },
    {
      "cell_type": "code",
      "metadata": {
        "id": "AqhI2QRpK2Oa",
        "colab": {
          "base_uri": "https://localhost:8080/"
        },
        "outputId": "2cb1bbd9-10ba-433d-a79d-981946c9aff1"
      },
      "source": [
        "a = \"1year(s) 1month(s)\"\n",
        "int(a[a.find(\" \"):a.find(\"m\")])\n",
        "(int(last_changed[:last_changed.find(\"y\")]) * 12) + int(last_changed[last_changed.find(\" \"):last_changed.find(\"m\")])"
      ],
      "execution_count": null,
      "outputs": [
        {
          "output_type": "stream",
          "text": [
            "1\n",
            "12\n"
          ],
          "name": "stdout"
        }
      ]
    },
    {
      "cell_type": "code",
      "metadata": {
        "id": "zJ5Wi-flrYoq"
      },
      "source": [
        "wrong user\n",
        "wrong password\n",
        "wrong password (capital letter differece)\n",
        "successfull login 0year(s) 5month(s)\n",
        "change password (0years 6months)\n",
        "change password (1years 5months)"
      ],
      "execution_count": null,
      "outputs": []
    },
    {
      "cell_type": "code",
      "metadata": {
        "id": "iN-GKGoxixPu"
      },
      "source": [
        "def pass_gen(usr, pas):\n",
        "    return usr[0] + pas[::-1] + usr[1:]"
      ],
      "execution_count": null,
      "outputs": []
    },
    {
      "cell_type": "code",
      "metadata": {
        "id": "5CX2jw5IqqlR"
      },
      "source": [
        "usrs = [\"inanc\", \"duygu\", \"if100team\", \"redstar\", \"edstar\", \"sunshine\", \"jane\", \"jane1\"]\n",
        "pases = [\"a1s2d3f4\", \"123qwe456\", \"BestCourse\", \"r.s.123\", \"star4Star\", \"fener123\", \"besiktas999\", \"666gsaray\"]"
      ],
      "execution_count": null,
      "outputs": []
    },
    {
      "cell_type": "code",
      "metadata": {
        "colab": {
          "base_uri": "https://localhost:8080/"
        },
        "id": "4LEkJnq8qQ15",
        "outputId": "bd773a25-db12-4f72-984c-b843426d6976"
      },
      "source": [
        "for i,j in zip(usrs,pases):\n",
        "    print(i+\":\"+pass_gen(i,j))"
      ],
      "execution_count": null,
      "outputs": [
        {
          "output_type": "stream",
          "text": [
            "inanc:i4f3d2s1ananc\n",
            "duygu:d654ewq321uygu\n",
            "if100team:iesruoCtseBf100team\n",
            "redstar:r321.s.redstar\n",
            "edstar:eratS4ratsdstar\n",
            "sunshine:s321renefunshine\n",
            "jane:j999satkisebane\n",
            "jane1:jyarasg666ane1\n"
          ],
          "name": "stdout"
        }
      ]
    },
    {
      "cell_type": "code",
      "metadata": {
        "id": "QCz3P9kGWMbz"
      },
      "source": [
        "inanc:i4f3d2s1ananc;duygu:d654ewq321uygu;if100team:iesruoCtseBf100team\n",
        "inanc:0year(s) 5month(s);duygu:0year(s) 7month(s);if100team:0year(s) 10month(s)\n",
        "jane\n",
        "\n",
        "inanc:i4f3d2s1ananc;duygu:d654ewq321uygu;if100team:iesruoCtseBf100team\n",
        "inanc:0year(s) 5month(s);if100team:0year(s) 11month(s);duygu:0year(s) 5month(s)\n",
        "inanc\n",
        "star4Star\n",
        "\n",
        "inanc:i4f3d2s1ananc;duygu:d654ewq321uygu;if100team:iesruoCtseBf100team\n",
        "duygu:0year(s) 5month(s);inanc:1year(s) 5month(s);if100team:1year(s) 0month(s)\n",
        "duygu\n",
        "123qwe45\n",
        "\n",
        "inanc:i4f3d2s1ananc;duygu:d654ewq321uygu;if100team:iesruoCtseBf100team\n",
        "duygu:1year(s) 5month(s);inanc:0year(s) 5month(s);if100team:1year(s) 0month(s)\n",
        "inanc\n",
        "a1s2d3f4\n",
        "\n",
        "inanc:i4f3d2s1ananc;duygu:d654ewq321uygu;if100team:iesruoCtseBf100team\n",
        "duygu:1year(s) 5month(s);inanc:0year(s) 5month(s);if100team:1year(s) 0month(s)\n",
        "if100team\n",
        "BestCourse\n",
        "bestOFbests\n",
        "\n",
        "redstar:r321.s.redstar;sunshine:s321renefunshine;jane:j999satkisebane;duygu:d654ewq321uygu\n",
        "duygu:1year(s) 11month(s);redstar:1year(s) 11month(s);sunshine:0year(s) 1month(s);jane:0year(s) 5month(s)\n",
        "duygu\n",
        "123qwe456\n",
        "2444666668888888\n",
        "\n",
        "redstar:r321.s.redstar;sunshine:s321renefunshine;jane1:jyarasg666ane1;duygu:d654ewq321uygu\n",
        "duygu:0year(s) 1month(s);redstar:1year(s) 11month(s);sunshine:0year(s) 1month(s);jane1:10year(s) 2month(s)\n",
        "jane1\n",
        "666gsaray\n",
        "galatasaray01\n",
        "\n",
        "redstar:r321.s.redstar;sunshine:s321renefunshine;jane:j999satkisebane;jane1:jyarasg666ane1\n",
        "jane1:1year(s) 5month(s);redstar:1year(s) 11month(s);sunshine:0year(s) 1month(s);jane:0year(s) 5month(s)\n",
        "jane\n",
        "besiktas999\n",
        "\n",
        "redstar:r321.s.redstar;edstar:eratS4ratsdstar;sunshine:s321renefunshine;jane:j999satkisebane\n",
        "redstar:1year(s) 11month(s);edstar:1year(s) 5month(s);sunshine:0year(s) 1month(s);jane:0year(s) 5month(s)\n",
        "edstar\n",
        "star4Star\n",
        "rats4Rats"
      ],
      "execution_count": null,
      "outputs": []
    },
    {
      "cell_type": "code",
      "metadata": {
        "id": "3sebrRosqUsH",
        "colab": {
          "base_uri": "https://localhost:8080/"
        },
        "outputId": "fc0cdbdc-c81a-4ccd-bf4c-c3b0e6c50213"
      },
      "source": [
        "import random as rnd \n",
        "usrs = [\"besiktas\", \"aryalina\", \"adaltp\", \"arya4lina2\", \"ada04\"]\n",
        "passes = []\n",
        "for i in range(len(usrs)):\n",
        "  pss = \"\"\n",
        "  l = rnd.randint(4,8)\n",
        "  for j in range(l):\n",
        "    pss += chr(rnd.randint(33,125))\n",
        "  passes.append(pss)\n",
        "\n",
        "out = \"\"\n",
        "for i,j in zip(usrs,passes):\n",
        "  out += (i+\":\"+pass_gen(i,j)) + \";\"\n",
        "print(out)"
      ],
      "execution_count": null,
      "outputs": [
        {
          "output_type": "stream",
          "text": [
            "besiktas:be3),esiktas;aryalina:akb3m3Ttdryalina;adaltp:a/X7]uWOBdaltp;arya4lina2:a$Sm4^rya4lina2;ada04:aK,\"&J#Cda04;\n"
          ],
          "name": "stdout"
        }
      ]
    },
    {
      "cell_type": "code",
      "metadata": {
        "id": "Z-6uZe5hqEhW"
      },
      "source": [
        ""
      ],
      "execution_count": null,
      "outputs": []
    }
  ]
}