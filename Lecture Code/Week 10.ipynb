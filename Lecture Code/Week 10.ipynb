{
  "nbformat": 4,
  "nbformat_minor": 0,
  "metadata": {
    "colab": {
      "name": "sectionA.ipynb",
      "provenance": [],
      "collapsed_sections": []
    },
    "kernelspec": {
      "name": "python3",
      "display_name": "Python 3"
    },
    "language_info": {
      "name": "python"
    }
  },
  "cells": [
    {
      "cell_type": "code",
      "metadata": {
        "colab": {
          "base_uri": "https://localhost:8080/"
        },
        "id": "iQBoD0mv_op3",
        "outputId": "973790d8-5d3b-4b1f-dfe5-8722ae545b59"
      },
      "source": [
        "myList = [1,2,3]\n",
        "for x in myList:\n",
        "  print(x, end=\" \")"
      ],
      "execution_count": null,
      "outputs": [
        {
          "output_type": "stream",
          "text": [
            "1 2 3 "
          ],
          "name": "stdout"
        }
      ]
    },
    {
      "cell_type": "code",
      "metadata": {
        "colab": {
          "base_uri": "https://localhost:8080/"
        },
        "id": "2Htdkq-VL92v",
        "outputId": "6003686e-dd89-4548-d887-a9bfde9ae693"
      },
      "source": [
        "myList = [1,2,3]\n",
        "for x in myList:\n",
        "  print(\"hello\")\n",
        "  for y in myList:\n",
        "    print(x, y)"
      ],
      "execution_count": null,
      "outputs": [
        {
          "output_type": "stream",
          "text": [
            "hello\n",
            "1 1\n",
            "1 2\n",
            "1 3\n",
            "hello\n",
            "2 1\n",
            "2 2\n",
            "2 3\n",
            "hello\n",
            "3 1\n",
            "3 2\n",
            "3 3\n"
          ],
          "name": "stdout"
        }
      ]
    },
    {
      "cell_type": "code",
      "metadata": {
        "colab": {
          "base_uri": "https://localhost:8080/"
        },
        "id": "SJ6cEuoVMarE",
        "outputId": "d2ae7904-7db0-425f-d5a9-49c70187e1e1"
      },
      "source": [
        "x = 0\n",
        "while x < 3:\n",
        "  print(x, end=\" \")\n",
        "  for y in range(x):        # range(0)\n",
        "    print(y, end= \" \")\n",
        "  print()\n",
        "  x += 1\n",
        "\n",
        "\"\"\"\n",
        "x = 0 --> range(0) --> empty sequence\n",
        "x = 1 --> range(1) --> 0\n",
        "x = 2 --> range(2) --> 0, 1\n",
        "x = 3\n",
        "\n",
        "output\n",
        "0\n",
        "1 0\n",
        "2 0 1\n",
        "\n",
        "\"\"\"\n",
        "\n",
        "print(\"bye\")"
      ],
      "execution_count": null,
      "outputs": [
        {
          "output_type": "stream",
          "text": [
            "0 \n",
            "1 0 \n",
            "2 0 1 \n",
            "bye\n"
          ],
          "name": "stdout"
        }
      ]
    },
    {
      "cell_type": "code",
      "metadata": {
        "id": "dONRrtiTPOIz"
      },
      "source": [
        "parties = [\"AKP\", \"ANAP\", \"AP\", \"B\", \"CGP\", \"CHF\", \"CHP\", \"CKMP\", \"DP\", \"DSP\",\\\n",
        "           \"DTP\", \"DYP\",\"HDP\", \"MGP\", \"MHP\", \"MP\",\"MSP\", \"RP\", \"SHP\", \"YTP\"]\n",
        "\n",
        "dates = [[\"2002-2021\"],\\\n",
        "         [\"1983-1991\", \"1996-1996\", \"1997-1999\", \"1999-2002\"],\\\n",
        "         [\"1961-1962\", \"1965-1974\", \"1975-1977\", \"1977-1978\", \"1979-1980\"],\\\n",
        "         [\"1963-1965\", \"1971-1974\", \"1978-1979\", \"2015-2015\"],\\\n",
        "         [\"1973-1974\", \"1975-1977\", \"1978-1979\"],\\\n",
        "         [\"1923-1935\"],\\\n",
        "         [\"1935-1950\", \"1971-1973\", \"1974-1974\", \"1977-1977\", \"1978-1979\", \"1995-1996\"],\\\n",
        "         [\"1962-1963\", \"1965-1965\"],\\\n",
        "         [\"1950-1960\"],\\\n",
        "         [\"1997-2002\"],\\\n",
        "         [\"1997-1999\"],\\\n",
        "         [\"1991-1997\", \"1996-1997\"],\\\n",
        "         [\"2015-2015\"],\\\n",
        "         [\"1971-1973\"],\\\n",
        "         [\"1975-1977\", \"1977-1978\", \"1999-2002\"],\\\n",
        "         [\"1965-1965\"],\\\n",
        "         [\"1974-1974\", \"1975-1977\", \"1977-1978\"],\\\n",
        "         [\"1996-1997\"],\\\n",
        "         [\"1991-1995\"],\\\n",
        "         [\"1962-1963\", \"1965-1965\"]]"
      ],
      "execution_count": null,
      "outputs": []
    },
    {
      "cell_type": "code",
      "metadata": {
        "colab": {
          "base_uri": "https://localhost:8080/"
        },
        "id": "nxxTKiDJPRGw",
        "outputId": "61e2518a-05fd-4309-8ff9-da69bca99188"
      },
      "source": [
        "party = input(\"Enter a party name: \").upper()\n",
        "while party not in parties:\n",
        "  party = input(\"Enter a party name: \").upper()\n",
        "\n",
        "idx = parties.index(party)\n",
        "years = dates[idx]\n",
        "\n",
        "total = 0\n",
        "\n",
        "for interval in years:\n",
        "  dashIdx = interval.index(\"-\")\n",
        "  startYear = int(interval[:dashIdx])\n",
        "  endYear = int(interval[dashIdx+1:])\n",
        "  duration = endYear - startYear + 1\n",
        "  total += duration\n",
        "\n",
        "print(total)"
      ],
      "execution_count": null,
      "outputs": [
        {
          "output_type": "stream",
          "text": [
            "Enter a party name: AKP\n",
            "20\n"
          ],
          "name": "stdout"
        }
      ]
    },
    {
      "cell_type": "code",
      "metadata": {
        "id": "-iyAT_uPSYL_"
      },
      "source": [
        "teams = [\"Roma\", \"Barcelona\", \"Juventus\", \"Bayern Munich\", \"Sevilla\", \"Real Madrid\", \"Manchester City\", \"Liverpool\"]"
      ],
      "execution_count": null,
      "outputs": []
    },
    {
      "cell_type": "code",
      "metadata": {
        "colab": {
          "base_uri": "https://localhost:8080/"
        },
        "id": "A1jeWgsYShIC",
        "outputId": "851a228f-f050-45ce-c0a2-6e0f8da30181"
      },
      "source": [
        "for idx1 in range(len(teams)-1):\n",
        "  for idx2 in range(idx1+1,len(teams)):\n",
        "    print(teams[idx1], \"vs\", teams[idx2])"
      ],
      "execution_count": null,
      "outputs": [
        {
          "output_type": "stream",
          "text": [
            "Roma vs Barcelona\n",
            "Roma vs Juventus\n",
            "Roma vs Bayern Munich\n",
            "Roma vs Sevilla\n",
            "Roma vs Real Madrid\n",
            "Roma vs Manchester City\n",
            "Roma vs Liverpool\n",
            "Barcelona vs Juventus\n",
            "Barcelona vs Bayern Munich\n",
            "Barcelona vs Sevilla\n",
            "Barcelona vs Real Madrid\n",
            "Barcelona vs Manchester City\n",
            "Barcelona vs Liverpool\n",
            "Juventus vs Bayern Munich\n",
            "Juventus vs Sevilla\n",
            "Juventus vs Real Madrid\n",
            "Juventus vs Manchester City\n",
            "Juventus vs Liverpool\n",
            "Bayern Munich vs Sevilla\n",
            "Bayern Munich vs Real Madrid\n",
            "Bayern Munich vs Manchester City\n",
            "Bayern Munich vs Liverpool\n",
            "Sevilla vs Real Madrid\n",
            "Sevilla vs Manchester City\n",
            "Sevilla vs Liverpool\n",
            "Real Madrid vs Manchester City\n",
            "Real Madrid vs Liverpool\n",
            "Manchester City vs Liverpool\n"
          ],
          "name": "stdout"
        }
      ]
    },
    {
      "cell_type": "code",
      "metadata": {
        "id": "M_9Pq394ULxv"
      },
      "source": [
        "for team1 in teams:\n",
        "  for team2 in teams:\n",
        "    if team1 != team2:\n"
      ],
      "execution_count": null,
      "outputs": []
    },
    {
      "cell_type": "code",
      "metadata": {
        "id": "zAD9Kh6eYE76"
      },
      "source": [
        "import random as rnd"
      ],
      "execution_count": null,
      "outputs": []
    },
    {
      "cell_type": "code",
      "metadata": {
        "colab": {
          "base_uri": "https://localhost:8080/"
        },
        "id": "uf2sxzCHYIFe",
        "outputId": "96e8e909-dc6a-4751-920f-4d4bbe93d9b5"
      },
      "source": [
        "n = int(input(\"Enter number of columns: \"))\n",
        "\n",
        "coupon = []\n",
        "\n",
        "for x in range(n):\n",
        "  column = []\n",
        "  while len(column) < 6:\n",
        "    num = rnd.randint(1,49)\n",
        "    if num not in column:\n",
        "      column.append(num)\n",
        "  column.sort()  \n",
        "  coupon.append(column)\n",
        "\n",
        "print(coupon)"
      ],
      "execution_count": null,
      "outputs": [
        {
          "output_type": "stream",
          "text": [
            "Enter number of columns: 5\n",
            "[[1, 2, 7, 16, 33, 36], [17, 23, 24, 25, 33, 43], [8, 12, 15, 22, 23, 25], [16, 19, 22, 27, 35, 36], [4, 9, 12, 21, 32, 46]]\n"
          ],
          "name": "stdout"
        }
      ]
    },
    {
      "cell_type": "code",
      "metadata": {
        "colab": {
          "base_uri": "https://localhost:8080/"
        },
        "id": "eNgHjgH7aEDQ",
        "outputId": "153dd650-6be4-40b3-ea2a-db6e0626e413"
      },
      "source": [
        "n = int(input(\"Enter number of columns: \"))\n",
        "\n",
        "coupon = []\n",
        "\n",
        "for x in range(n):\n",
        "  column = []\n",
        "  while len(column) < 6:\n",
        "    num = rnd.randint(1,49)\n",
        "    if num not in column:\n",
        "      column.append(num)\n",
        "  column.sort()  \n",
        "  coupon.append(column)\n",
        "\n",
        "# each column on a different line\n",
        "# start the lines with letter - proceed with a dot\n",
        "# separate each number with a tab character\n",
        "\n",
        "#print(coupon)\n",
        "\n",
        "letter = \"A\"\n",
        "\n",
        "for column in coupon:\n",
        "  print(letter, end=\".\\t\")\n",
        "  for num in column:\n",
        "    if num <= 9:\n",
        "      print(\"0\", num, sep=\"\", end=\"\\t\")\n",
        "    else:\n",
        "      print(num, sep=\"\", end=\"\\t\")\n",
        "  print()\n",
        "\n",
        "  letter = chr(ord(letter) + 1)\n"
      ],
      "execution_count": null,
      "outputs": [
        {
          "output_type": "stream",
          "text": [
            "Enter number of columns: 6\n",
            "A.\t04\t19\t22\t23\t26\t27\t\n",
            "B.\t08\t09\t18\t39\t48\t49\t\n",
            "C.\t02\t11\t15\t22\t31\t47\t\n",
            "D.\t09\t16\t30\t36\t45\t47\t\n",
            "E.\t02\t16\t19\t26\t33\t38\t\n",
            "F.\t02\t04\t19\t25\t26\t48\t\n"
          ],
          "name": "stdout"
        }
      ]
    },
    {
      "cell_type": "code",
      "metadata": {
        "colab": {
          "base_uri": "https://localhost:8080/"
        },
        "id": "1wL-LVfIcWdt",
        "outputId": "6cefe2da-444f-40fa-c41f-5b5dc5c9fd83"
      },
      "source": [
        "print(\"duygu\", \"altop\", sep=\" \")"
      ],
      "execution_count": null,
      "outputs": [
        {
          "output_type": "stream",
          "text": [
            "duygu altop\n"
          ],
          "name": "stdout"
        }
      ]
    },
    {
      "cell_type": "code",
      "metadata": {
        "colab": {
          "base_uri": "https://localhost:8080/",
          "height": 130
        },
        "id": "s7O-53Q1cb7j",
        "outputId": "cf0372b5-0fb6-43fe-e2c8-a92433f8b7b5"
      },
      "source": [
        "print(\"duy\"gu\")"
      ],
      "execution_count": null,
      "outputs": [
        {
          "output_type": "error",
          "ename": "SyntaxError",
          "evalue": "ignored",
          "traceback": [
            "\u001b[0;36m  File \u001b[0;32m\"<ipython-input-59-37bb82d6a577>\"\u001b[0;36m, line \u001b[0;32m1\u001b[0m\n\u001b[0;31m    print(\"duy\"gu\")\u001b[0m\n\u001b[0m                ^\u001b[0m\n\u001b[0;31mSyntaxError\u001b[0m\u001b[0;31m:\u001b[0m invalid syntax\n"
          ]
        }
      ]
    },
    {
      "cell_type": "code",
      "metadata": {
        "colab": {
          "base_uri": "https://localhost:8080/"
        },
        "id": "tpF9yJEGczgK",
        "outputId": "1e5d42aa-f3dd-485a-bd91-d91a3bffcd22"
      },
      "source": [
        "print(\"duygu\", end=\"\\n\")\n",
        "print(\"altop\", end=\"\\n\")"
      ],
      "execution_count": null,
      "outputs": [
        {
          "output_type": "stream",
          "text": [
            "duygu\n",
            "altop\n"
          ],
          "name": "stdout"
        }
      ]
    },
    {
      "cell_type": "code",
      "metadata": {
        "colab": {
          "base_uri": "https://localhost:8080/"
        },
        "id": "S3656nGVc-I8",
        "outputId": "d2c1b08f-9738-4542-822d-51d4e6cc3a0f"
      },
      "source": [
        "print(\"duygu\\naltop\")"
      ],
      "execution_count": null,
      "outputs": [
        {
          "output_type": "stream",
          "text": [
            "duygu\n",
            "altop\n"
          ],
          "name": "stdout"
        }
      ]
    },
    {
      "cell_type": "code",
      "metadata": {
        "colab": {
          "base_uri": "https://localhost:8080/"
        },
        "id": "xpPm0HZHdFhV",
        "outputId": "c9405952-3a6b-4391-86a1-24ca94906e0f"
      },
      "source": [
        "print(\"duy\\\"gu\")"
      ],
      "execution_count": null,
      "outputs": [
        {
          "output_type": "stream",
          "text": [
            "duy\"gu\n"
          ],
          "name": "stdout"
        }
      ]
    },
    {
      "cell_type": "code",
      "metadata": {
        "colab": {
          "base_uri": "https://localhost:8080/"
        },
        "id": "76q9fHCXdL7T",
        "outputId": "968b0ec3-9483-460d-f8e8-0d3918f32126"
      },
      "source": [
        "# \"'\\abc\\'\"\n",
        "print(\"\\\"\\'\\\\abc\\\\\\'\\\"\")"
      ],
      "execution_count": null,
      "outputs": [
        {
          "output_type": "stream",
          "text": [
            "\"'\\abc\\'\"\n"
          ],
          "name": "stdout"
        }
      ]
    },
    {
      "cell_type": "code",
      "metadata": {
        "colab": {
          "base_uri": "https://localhost:8080/"
        },
        "id": "a1llI2ZadoY1",
        "outputId": "ab5108e7-70a1-46c8-a038-ebe977b2a16f"
      },
      "source": [
        "print(\"duygu altop\")\n",
        "print(\"duygu\\taltop\")"
      ],
      "execution_count": null,
      "outputs": [
        {
          "output_type": "stream",
          "text": [
            "duygu altop\n",
            "duygu\taltop\n"
          ],
          "name": "stdout"
        }
      ]
    },
    {
      "cell_type": "code",
      "metadata": {
        "id": "3FFrjRD1fDcC",
        "colab": {
          "base_uri": "https://localhost:8080/"
        },
        "outputId": "76044e77-e18e-4d4b-d539-c3d280007b2d"
      },
      "source": [
        "l = [10, 5, 3, 4, 11]\n",
        "l.sort()\n",
        "print(l)"
      ],
      "execution_count": null,
      "outputs": [
        {
          "output_type": "stream",
          "text": [
            "[3, 4, 5, 10, 11]\n"
          ],
          "name": "stdout"
        }
      ]
    }
  ]
}