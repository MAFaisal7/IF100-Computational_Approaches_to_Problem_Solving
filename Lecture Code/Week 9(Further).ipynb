{
  "nbformat": 4,
  "nbformat_minor": 0,
  "metadata": {
    "colab": {
      "name": "While Loops.ipynb",
      "provenance": [],
      "collapsed_sections": []
    },
    "kernelspec": {
      "name": "python3",
      "display_name": "Python 3"
    }
  },
  "cells": [
    {
      "cell_type": "markdown",
      "metadata": {
        "id": "EA7znFQ4YGKZ"
      },
      "source": [
        "#While Statement"
      ]
    },
    {
      "cell_type": "markdown",
      "metadata": {
        "id": "bniUXNDdsV3S"
      },
      "source": [
        "![alt text](https://lh6.googleusercontent.com/wLgJhhs30oZO3BbmehYZokPoHlfrM-tjTyQan5Icn_G-pxenW-Eay9mc4y4MXieARo43a3AbsyuyTiriz2f5mEo8qL4TL8lc9TGg5kLEzkKnd1KwqpJ1QAXShXcwKRjUFS6PfJNfWMk)"
      ]
    },
    {
      "cell_type": "markdown",
      "metadata": {
        "id": "L2gXOsd5YJ5o"
      },
      "source": [
        "Repeats a statement or a group of statements while a given condition is True\n",
        "- When you come across the red light in traffic, stop and wait while the color of the light is red\n",
        "- To buy a coffee from Starbucks, wait in the line while you are not in the front\n",
        "- You cannot graduate until the graduation criteria are met\n",
        "\n",
        "\n",
        "Works with a condition\n",
        "- Tests condition before executing loop body\n",
        "- Perform task until condition is no longer true\n",
        "\n",
        "\n",
        "Key point is that the loop might not ever run\n",
        "- When the test condition is false, the loop body will be skipped \n"
      ]
    },
    {
      "cell_type": "markdown",
      "metadata": {
        "id": "XC_1AYRac1st"
      },
      "source": [
        "    condition initialization \n",
        "    while <condition>:\n",
        "        <statement_true_1>\n",
        "        …\n",
        "        <statement_true_N>\n",
        "        condition update\n"
      ]
    },
    {
      "cell_type": "markdown",
      "metadata": {
        "id": "L5S5a43rYZAt"
      },
      "source": [
        "** Condition update is crucial to terminate the loop at some point; otherwise, it may turn into an infinite loop  **"
      ]
    },
    {
      "cell_type": "markdown",
      "metadata": {
        "id": "Lt7pzPFJODx3"
      },
      "source": [
        "# While Loop Example"
      ]
    },
    {
      "cell_type": "code",
      "metadata": {
        "id": "ZStHFt2POGdL"
      },
      "source": [
        "number = int(input(\"Please enter a number between 1 and 10: \"))\n",
        "while number < 1 or number > 10:\n",
        "  print(\"You have entered an incorrect value!\")\n",
        "  number = int(input(\"Please enter a number between 1 and 10: \"))\n",
        "print(\"Well done!\")"
      ],
      "execution_count": null,
      "outputs": []
    },
    {
      "cell_type": "markdown",
      "metadata": {
        "id": "jFxpMO2nr5mu"
      },
      "source": [
        "#Guess the Secret Number\n",
        "\n",
        "The computer will pick a secret number between 1 and 100, and we will try to guess what number it is. If our guess is too high or too low, the computer will give us a hint and ask for another guess until it is correct. At the end, the computer will inform us on how many attempts we guessed the secret correctly.\n",
        "\n",
        "1. Computer will pick a secret between 1 & 100\n",
        "\n",
        "2. User will enter a guess, which will be checked against the secret and relevant output will be displayed (smaller/bigger/equal)\n",
        "\n",
        "3. User will enter guesses continuously until the correct guess is made\n",
        "\n",
        "4.  The number of attempts will be counted & displayed in the output\n"
      ]
    },
    {
      "cell_type": "markdown",
      "metadata": {
        "id": "bVoV4e3J5ENv"
      },
      "source": [
        "# Generating Random Integers\n",
        "\n",
        "\n",
        "\n",
        "*   In order to generate random integers in Python, we should use **random** module\n",
        "\n",
        "```\n",
        "import random as rnd\n",
        "```\n",
        "\n",
        "\n",
        "*   There are lots of methods coming from random module. We need to use **randint** method to generate random integers.\n",
        "\n",
        "\n",
        "```\n",
        "rand_num = rnd.randint(start_value, end_value)\n",
        "```\n",
        "\n",
        "\n",
        "\n",
        "*   ***rand_num*** will be a random integer in [***start_value***, ***end_value***] (note that both are inclusive)\n",
        "\n",
        "\n",
        "\n",
        "\n",
        "```\n",
        "rand_num = rnd.randint(1,100)\n",
        "```\n",
        "\n",
        "Every time we run the code given above, ***rand_num*** will be assigned to a random integer in [1,100]\n",
        "\n"
      ]
    },
    {
      "cell_type": "code",
      "metadata": {
        "id": "vAdHHUtG6ABH",
        "colab": {
          "base_uri": "https://localhost:8080/",
          "height": 34
        },
        "outputId": "61a7af29-9a49-4f63-c705-a5c21ecd16aa"
      },
      "source": [
        "import random as rnd\n",
        "\n",
        "rand_num = rnd.randint(1,100)\n",
        "print(rand_num)"
      ],
      "execution_count": null,
      "outputs": [
        {
          "output_type": "stream",
          "text": [
            "95\n"
          ],
          "name": "stdout"
        }
      ]
    },
    {
      "cell_type": "markdown",
      "metadata": {
        "id": "CF8zUeLer5mv"
      },
      "source": [
        "# secretGuessing.py"
      ]
    },
    {
      "cell_type": "code",
      "metadata": {
        "id": "QDBT1a1Wr5mw"
      },
      "source": [
        "# library to generate a random number\n",
        "import random as rand\n",
        "\n",
        "# variable initializations\n",
        "secret = rand.randint(1,100)     # secret to be guessed\n",
        "count = 1                         # number of attempts\n",
        "\n",
        "# while loop condition initialization\n",
        "guess = int(input(\"Please enter your guess: \"))\n",
        "# print(guess)\n",
        "\n",
        "# prompt until the user finds the secret\n",
        "while guess != secret:\n",
        "  # update the value of attempts\n",
        "  count += 1\n",
        "  # check whether the guess is smaller/bigger than the secret\n",
        "  if guess < secret:\n",
        "    print(\"Your guess is smaller than my secret!\")\n",
        "  else:\n",
        "    print(\"Your guess is bigger than my secret!\")\n",
        "  # while loop condition update\n",
        "  guess = int(input(\"Please enter your guess: \"))\n",
        "    \n",
        "# display the result    \n",
        "print(\"You found it in\", count , \"attempt(s)!\")"
      ],
      "execution_count": null,
      "outputs": []
    },
    {
      "cell_type": "markdown",
      "metadata": {
        "id": "xb2nYH6YP03L"
      },
      "source": [
        "# More on While Loops"
      ]
    },
    {
      "cell_type": "code",
      "metadata": {
        "id": "jklVsP5HP6Mx"
      },
      "source": [
        "while count < 9:\n",
        "  print(\"The count is\", count)"
      ],
      "execution_count": null,
      "outputs": []
    },
    {
      "cell_type": "code",
      "metadata": {
        "id": "7IvD_iW0QAsy"
      },
      "source": [
        "while count < 9:\n",
        "  print(\"The count is\", count)\n",
        "  count += 1"
      ],
      "execution_count": null,
      "outputs": []
    },
    {
      "cell_type": "code",
      "metadata": {
        "id": "Smm0NFcLQEaw"
      },
      "source": [
        "count = 0\n",
        "while count < 9:\n",
        "  print(\"The count is\", count)\n",
        "  count = count + 1"
      ],
      "execution_count": null,
      "outputs": []
    },
    {
      "cell_type": "code",
      "metadata": {
        "id": "gQqEEZ2AQqlP"
      },
      "source": [
        "count = 0\n",
        "while count < 9:\n",
        "  print(\"The count is\", count)"
      ],
      "execution_count": null,
      "outputs": []
    },
    {
      "cell_type": "code",
      "metadata": {
        "id": "X6tXhgUJR6ax"
      },
      "source": [
        "count = 0\n",
        "while count != 9:\n",
        "  print(\"The count is\", count)\n",
        "  count += 2"
      ],
      "execution_count": null,
      "outputs": []
    },
    {
      "cell_type": "markdown",
      "metadata": {
        "id": "CHOqIvbH0QCM"
      },
      "source": [
        "#Body Mass Index (BMI)"
      ]
    },
    {
      "cell_type": "markdown",
      "metadata": {
        "id": "sL-bg_dQ0SzG"
      },
      "source": [
        "The body mass index (BMI) is a value derived from the mass (weight) and height of an individual. It is a measure of body fat based on height and weight that applies to adult men and women. BMI is defined as the body mass divided by the square of the body height, and is universally expressed in units of kg/m2, resulting from mass in kilograms and height in metres."
      ]
    },
    {
      "cell_type": "markdown",
      "metadata": {
        "id": "WjnZNRDj0U7s"
      },
      "source": [
        "![alt text](https://lh6.googleusercontent.com/sMuEaV73_7ejZMG_ISdTjC8R4PokVpb1pZWU24wpQrX5r_Kallj1NQl7RBoHhUKjW61kt9F75QoGFZ0O9O99dKjUQrOQd6g8S6P2YtfXS_vsDga2TZuAaoJG0XI9-ibojAuXTVo1CWQ)"
      ]
    },
    {
      "cell_type": "markdown",
      "metadata": {
        "id": "3l6Pc-9b0bzK"
      },
      "source": [
        "Write a program that reads ***name***, ***height*** and ***weight*** information of a person respectively, prints the BMI score and health status as \"*underweight*\", \"*healthy*\", \"*overweight*\", or \"*obese*\" for that person.\n",
        "\n",
        "Additionally, your program should operate for multiple users by not terminating until \"exit\" (case-insensitive like \"EXIT\" or \"ExIt\") is entered as ***name***."
      ]
    },
    {
      "cell_type": "markdown",
      "metadata": {
        "id": "75eeSwPU0wco"
      },
      "source": [
        "Health Status | BMI Range\n",
        "-- | --\n",
        "underweight |BMI < 18.5\n",
        "healthy | 18.5 <= BMI < 25\n",
        "overweight | 25 <= BMI < 30\n",
        "obese| 30 <= BMI\n"
      ]
    },
    {
      "cell_type": "markdown",
      "metadata": {
        "id": "5h1njyGU1Bjr"
      },
      "source": [
        "Let's decompose our problem into 2 subproblems:\n",
        "- Construct a mechanism to operate until ***name*** is entered as \"exit\" (case-insensitively)\n",
        "- For the given information (if ***name*** is not \"exit\"), calculate BMI and display the health status for that person"
      ]
    },
    {
      "cell_type": "markdown",
      "metadata": {
        "id": "ANGkTKVk1eoe"
      },
      "source": [
        "#BMI_calculator.py"
      ]
    },
    {
      "cell_type": "code",
      "metadata": {
        "id": "ErtmNJ0809om"
      },
      "source": [
        "name = input(\"Please enter your name: \")\n",
        "\n",
        "while name.lower() != \"exit\":\n",
        "  height = float(input(name + \", please enter your height (in m): \"))\n",
        "  weight = float(input(name + \", please enter your weight (in kg): \"))\n",
        "  bmi = weight / (height**2)\n",
        "  print(name, \", your BMI is \", format(bmi,\".2f\"), \".\", sep=\"\")\n",
        "  \n",
        "  if bmi < 18.5:\n",
        "    category = \"underweight\"\n",
        "  elif bmi < 25:\n",
        "    category = \"healthy\"\n",
        "  elif bmi < 30:\n",
        "    category = \"overweight\"\n",
        "  else:\n",
        "    category = \"obese\"\n",
        "  \n",
        "  print(name, \", you are \", category, \".\", sep=\"\")\n",
        "  \n",
        "  name = input(\"Please enter your name: \")"
      ],
      "execution_count": null,
      "outputs": []
    },
    {
      "cell_type": "markdown",
      "metadata": {
        "id": "zRSkgZ3TdVKF"
      },
      "source": [
        "#Set Printer Example"
      ]
    },
    {
      "cell_type": "markdown",
      "metadata": {
        "id": "qG6np2bgdXxQ"
      },
      "source": [
        "Write a program that reads integers from the user until -1 is entered.\n",
        " \n",
        "Once all the integers have been read, your program should print \n",
        "- all the integers entered, \n",
        "- in reverse order,  \n",
        "- except for -1, \n",
        "- by discarding the replicas.\n"
      ]
    },
    {
      "cell_type": "markdown",
      "metadata": {
        "id": "hmgbKdDsZX7W"
      },
      "source": [
        "# setPrinter_v1.py"
      ]
    },
    {
      "cell_type": "code",
      "metadata": {
        "id": "ovahNeEbZk7i"
      },
      "source": [
        "numList = []    # create an empty list\n",
        "num = int(input(\"Please enter an integer (-1 to exit): \"))\n",
        "\n",
        "while num != -1:    # check whether the sentinel value was entered\n",
        "  if num not in numList:      # if not added already\n",
        "    numList.append(num)     # add num to the list\n",
        "  num = int(input(\"Please enter an integer (-1 to exit): \"))\n",
        "\n",
        "numList.reverse()   # reverse the elements of the list\n",
        "print(numList)"
      ],
      "execution_count": null,
      "outputs": []
    },
    {
      "cell_type": "markdown",
      "metadata": {
        "id": "bYhtvAL3ZYFy"
      },
      "source": [
        "# setPrinter_v2.py"
      ]
    },
    {
      "cell_type": "code",
      "metadata": {
        "id": "3rI0rMUQZuWY"
      },
      "source": [
        "myList = [] # create an empty list\n",
        "\n",
        "sentinel = True\n",
        "\n",
        "while sentinel:\n",
        "  num = int(input(\"Enter a number (-1 to exit): \"))\n",
        "  if num == -1: # check whether the sentinel value was entered\n",
        "    sentinel = False\n",
        "  else:\n",
        "    myList.append(num) # add num to the list\n",
        "\n",
        "printedList = [] # we will store printed values in that list\n",
        "\n",
        "for element in myList: # check each element in myList\n",
        "  if element not in printedList: # if this element was not printed before\n",
        "    print(element) # print it\n",
        "    printedList.append(element) # add to the printedList so it will not be printed again"
      ],
      "execution_count": null,
      "outputs": []
    },
    {
      "cell_type": "markdown",
      "metadata": {
        "id": "kxxx02xHZYQL"
      },
      "source": [
        "# setPrinter_v3.py"
      ]
    },
    {
      "cell_type": "code",
      "metadata": {
        "id": "vgXL4pXwZ1lb"
      },
      "source": [
        "inpList = [] # create an empty list\n",
        "\n",
        "num = int(input(\"Enter a number (-1 to exit): \"))\n",
        "while num != -1:  # check whether the sentinel value was entered\n",
        "  inpList.append(num)   # add num to the list\n",
        "  num = int(input(\"Enter a number (-1 to exit): \"))\n",
        "\n",
        "for element in inpList: # check each element in inpList\n",
        "  count = inpList.count(element)  # count the number of occurrences\n",
        "  while count > 1:        # in case that there are replicas\n",
        "    first_index = inpList.index(element)    # find the index of the first occurrence\n",
        "    next_index = inpList.index(element, first_index+1)    # find the index of the next occurrence\n",
        "    inpList.pop(next_index)     # remove the next occurrence\n",
        "    count = inpList.count(element)  # re-count the number of occurrences\n",
        "\n",
        "inpList.reverse()  # reverse the elements of the list\n",
        "print(inpList)   "
      ],
      "execution_count": null,
      "outputs": []
    },
    {
      "cell_type": "markdown",
      "metadata": {
        "id": "1RAwHkmcgRzm"
      },
      "source": [
        "# Palindrome\n",
        "\n",
        "A **palindrome** is a word, number, or other sequence of characters which reads the same backward as forward, such as level or anna.\n",
        "\n",
        "In this example, we will get a word from the user and print whether it is a palindrome or not.\n",
        "\n",
        "First, we need to answer the following questions:\n",
        "*  Which characters should we compare?\n",
        "*  How many comparison should we make?\n",
        "\n",
        "To answer these questions, we need to consider specific cases (decomposition) and then generalize them:\n",
        "\n",
        "**Case #1:** When the length of the word is even\n",
        "\n",
        "**Case #2:** When the length of the word is odd\n",
        "\n",
        "![alt text](https://lh3.googleusercontent.com/piDQt6uks5fws9tJj6XJMdzXRLuxn106Ro98DmZHSyjP3utP2fr80MJXlsUcNW0T7xpun5OOuXNu8u6MIfSmE4DnoDXp2w8NEfS5LvpeDDQx6zPbwdljNiZo42aBgl-9di7Pep4Yz5FiyEhqxL8LP3fFDBhV37VbT-oTMQbPOqWkNeqgvHEkQAIRRppcaUM9R_xxEhTJFO2DVQGjV6DlLN6cRpw5nQVJCO8RQeYncnVg9wkl7kFXX2a40NeubIEuMZvZMm_nzn7AsdwTFfXxMLfuqGGj2TZT9TyI3iHwDHa56Yt_h1JE482zcV2nEPxsVkVR2w2r5fs6OLM6f2g8WttyrNSCasiwQSigaD6v_m_qOGhGfRNWm3y6W-a8RQ5N4emHd0HN5AAt72dtl0JKQSe_d6WfgTHyqKuegodqTbb82lRmBjwMGleBokUH6kiAf9iImjm8kaq5g450gxvZhCf7NL3wkJkfGfUn8QLLFYYVAWmbtmFgOY2dBmoAjsrOC5_MEU0Ez9kym7U4pewiA5_lbkkkRBdfJMW1gJAh3PXryGk7vFvtBX6HOCbKE2E1vXme7MpOaTjRNy5O-GhCGnCsdnfdPxjo4IXlFRUafeAq_KcRLH624MjjNsSbjJH4dKIb7M5ARQ49LfXUlXVD6_Qt5NYsRMteTJdNXM6imgh_lgWYHTAgwexe7Cc6MtcxnHlLqPuIQhn1ft2y8rSn-lz3rBNQcezkKGPHepDmg9PtoExE=w1836-h1134-no)\n",
        "\n",
        "![alt text](https://lh3.googleusercontent.com/TK-le48LR5mQtkkCYHayMazIPDOfbVvfCLL_S95l4vZ9Lm6o-Fox5ofWX4EVSNW7PQQefAPlQKmnETYWTw187N-qnTRj5FJm_Jtc3SGe3M94mkj5mle5fUdrBWfJVDzefkdu7tqXUvl-B2EK8b1BDWSKBmCn9LAZDk7bT4IxPDOWGLQsdfPQP210ZtCTj7EGyd1uea-5qVicPv7RfWxdMw8OxdwwrlYBFrDxGpbCrATqp-kl1fdnvXomJnYURgZvtzTu3Hh4Ic-939Yw7pNzl3PrE4lLLGp9-F2RjB0OGCxeLkMCNVdymBIR2NSC7Wv7bZ6ThHIr9Fmt-5q5lOldB13KUMSd8eUDn33UVCfZLFc5l4_llHozmTVOYpD-SCDVb4VYiGlY3x1ys4xx8IN8dd4e9m09sgCX5cw7eK0fWMf2gLQ0QlKMRhNGmXGsmHiRxxYklXrh2Y3hoeypBvwKbe6JEIcDZK7iQHnKRkAVRdgoNQxtT-fMcDTG44YodzUXKAzQKiBzKrUOICCTLipSWFXPAkQjbqa7Qv6FMnTCFeGYT424Ub1Ym1Oxf1Iy4kz-8pV2pUSUmmJbzKcnWNc8Dh-APHZAclKL8odeYHRh-xao2103UAx7U8ESKnQLPfLIP5AeRinjMzRgfH4Xdslq9LWG9qXbfjjq21StfPivcnhbgj5TXWBpNzOSzOFKhNoofpvL8wDM0XDLvSWoJAASRdig9sE76wy-lBE5XJODQPHmUXJI=w1792-h1134-no)\n",
        "\n",
        "\n",
        "* Let’s assume that we are comparing **i**th and **j**th characters in each comparison\n",
        "\n",
        "\n",
        "* At the beginning, **i** is the very first and **j** is the last character, and **i** is increasing by 1, while **j** is decreasing by 1 in the next comparisons\n",
        "\n",
        "\n",
        "* In other words, while **i** is smaller than **j**, we should continue comparing the characters \n",
        "\n",
        "\n",
        "* We will assume that the word is palindrome until we see a mismatch (note that we may not see any mismatch)\n",
        "\n",
        "\n",
        "* However, do we need to continue to make comparison after anytime we see a mismatch? NO\n",
        "\n",
        "**Palindrome Pseudocode**\n",
        "\n",
        "\n",
        "```\n",
        "Get the word\n",
        "\n",
        "Set length as the length of the word\n",
        "\n",
        "Set i as 0, and j as length-1\n",
        "\n",
        "Set result as \"palindrome\"\n",
        "\n",
        "While i < j\n",
        "\n",
        "\tIf ith character is not same with jth character\n",
        "\n",
        "\t\tSet result as \"not palindrome\"\n",
        "\n",
        "\t\tTerminate the loop (while block)\n",
        "\n",
        "\tIncrement i\n",
        "\n",
        "\tDecrement j\n",
        "\n",
        "Print result\n",
        "```\n",
        "\n",
        "\n"
      ]
    },
    {
      "cell_type": "markdown",
      "metadata": {
        "id": "GxV3ABCLmjfu"
      },
      "source": [
        "# Palindrome.py"
      ]
    },
    {
      "cell_type": "code",
      "metadata": {
        "id": "LErbQZHUlyBV",
        "colab": {
          "base_uri": "https://localhost:8080/",
          "height": 51
        },
        "outputId": "1d8fa736-0b4f-409d-e73e-5fbe7970011e"
      },
      "source": [
        "word = input(\"Enter a string: \")\n",
        "i, j = 0, len(word)-1\n",
        "result = \"palindrome\"\n",
        "\n",
        "while i < j:\n",
        "  if word[i] != word[j]:\n",
        "    result = \"not palindrome\"\n",
        "    break\n",
        "  i += 1\n",
        "  j -= 1\n",
        "\n",
        "print(result)"
      ],
      "execution_count": null,
      "outputs": [
        {
          "output_type": "stream",
          "text": [
            "Enter a string: kazak\n",
            "palindrome\n"
          ],
          "name": "stdout"
        }
      ]
    }
  ]
}