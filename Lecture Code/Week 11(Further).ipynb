{
  "nbformat": 4,
  "nbformat_minor": 0,
  "metadata": {
    "colab": {
      "name": "Functions.ipynb",
      "provenance": [],
      "collapsed_sections": []
    },
    "kernelspec": {
      "name": "python3",
      "display_name": "Python 3"
    }
  },
  "cells": [
    {
      "cell_type": "markdown",
      "metadata": {
        "id": "-rj08DAsfVJA"
      },
      "source": [
        "#Functions"
      ]
    },
    {
      "cell_type": "markdown",
      "metadata": {
        "id": "woeW_HqnfXtr"
      },
      "source": [
        "#Random Password Generator"
      ]
    },
    {
      "cell_type": "markdown",
      "metadata": {
        "id": "EfkUud2wffUb"
      },
      "source": [
        "Write a Python program that generates a random password, checks whether \n",
        "the generated password is good or not, and if not, re-generates another random password until the generated password is a good password\n",
        "\n",
        "- The password should have a random length between 7 and 10, and each character should be randomly selected from the positions between 33 and 126 in the ASCII table \n",
        "\n",
        "- A good password should contain at least one uppercase letter, and at least one number \n"
      ]
    },
    {
      "cell_type": "markdown",
      "metadata": {
        "id": "XYXcI-qqf07b"
      },
      "source": [
        "## Ascii Table\n",
        "![alt text](https://www.asciitable.com/index/asciifull.gif)"
      ]
    },
    {
      "cell_type": "markdown",
      "metadata": {
        "id": "MBsaz1_wgXb1"
      },
      "source": [
        "#Decomposition: Random Password Generator\n"
      ]
    },
    {
      "cell_type": "markdown",
      "metadata": {
        "id": "T28wiZ5kgYcf"
      },
      "source": [
        "1. Generate a random password\n",
        "\n",
        "2. Check whether the password is good or not\n",
        "\n",
        "3. In case that the password is not good, re-generate a new password continuously until it is good\n"
      ]
    },
    {
      "cell_type": "markdown",
      "metadata": {
        "id": "-KFNODQFggtw"
      },
      "source": [
        "**Write a Python program that generates a random password**, checks whether the generated password is good or not, and if not, re-generates another random password until the generated password is a good password\n",
        "\n",
        "- **The password should have a random length between 7 and 10, and each character should be randomly selected from the positions between 33 and 126 in the ASCII table**\n",
        "\n",
        "- A good password should contain at least one uppercase letter, and at least one number \n"
      ]
    },
    {
      "cell_type": "markdown",
      "metadata": {
        "id": "eM8Oz6PNgxV_"
      },
      "source": [
        "# Functions"
      ]
    },
    {
      "cell_type": "markdown",
      "metadata": {
        "id": "bBKug1QWgyxM"
      },
      "source": [
        "- A function is a block of organized, reusable code that is used to perform a single, related action\n",
        "\n",
        "- Functions provide better modularity for your application and a high degree of code reusing\n",
        "\n",
        "- As we already know, Python gives you many built-in functions like print(), len() etc. \n",
        "\n",
        "- We can also get access to functions defined in libraries, modules, packages by using \n",
        "\t\t\n",
        "    `import ... as ...` \n",
        "    \n",
        "(e.g. randint defined in random, etc.)\n",
        "\n",
        "- These are called predefined functions or library functions."
      ]
    },
    {
      "cell_type": "markdown",
      "metadata": {
        "id": "5IutFsQ3hCfL"
      },
      "source": [
        "- However, we can also create our own functions; which are called **user-defined functions**\n",
        "\n",
        "- The concept of functions give us a tool using which we can apply the concepts of Computational Thinking easily: \n",
        "   pattern recognition, abstraction, decomposition, algorithm design\n",
        "\n",
        "- Now, we will learn how to design and implement **user-defined functions**"
      ]
    },
    {
      "cell_type": "markdown",
      "metadata": {
        "id": "-QDvAKVqYAoW"
      },
      "source": [
        "#Function Syntax"
      ]
    },
    {
      "cell_type": "markdown",
      "metadata": {
        "id": "HuBXq80zXa-1"
      },
      "source": [
        "`def \"\"\"function name\"\"\"():`\n",
        "\n",
        "    \"\"\"do something\"\"\""
      ]
    },
    {
      "cell_type": "markdown",
      "metadata": {
        "id": "qyu9ed0wXlSZ"
      },
      "source": [
        "`def func_name():`\n",
        "  \n",
        "    <statement_1>\n",
        "  \n",
        "    ...\n",
        "    \n",
        "    <statement_N>"
      ]
    },
    {
      "cell_type": "markdown",
      "metadata": {
        "id": "qAYlktSBmOUG"
      },
      "source": [
        "##Decomposition: Random Password Generator\n",
        "\n"
      ]
    },
    {
      "cell_type": "markdown",
      "metadata": {
        "id": "IzqSND_tmRem"
      },
      "source": [
        "Write a **function** that generates and *displays* a random password \n",
        "\n",
        "- length between 7 and 10, and \n",
        "\n",
        "- randomly selected from positions between 33 and 126 in ASCII\n"
      ]
    },
    {
      "cell_type": "markdown",
      "metadata": {
        "id": "FmOCsrQkw6dd"
      },
      "source": [
        "\n",
        "# randPass_1.py"
      ]
    },
    {
      "cell_type": "code",
      "metadata": {
        "id": "6sqijSHFw9FS",
        "colab": {
          "base_uri": "https://localhost:8080/",
          "height": 32
        },
        "outputId": "3e23aa72-31c3-4833-ac49-40d5bb692b5f"
      },
      "source": [
        "from random import *\n",
        "\n",
        "def randPassGen():\n",
        "  rand_len = randint(7,10)\n",
        "  password = \"\"\n",
        "  for idx in range(rand_len):\n",
        "    symbol = chr(randint(33,126))\n",
        "    password += symbol\n",
        "  print(password)\n",
        "\n",
        "randPassGen()"
      ],
      "execution_count": null,
      "outputs": [
        {
          "output_type": "stream",
          "text": [
            "I\"jzMT=7`&\n"
          ],
          "name": "stdout"
        }
      ]
    },
    {
      "cell_type": "markdown",
      "metadata": {
        "id": "lfUIKZBImbE8"
      },
      "source": [
        "#Important Remarks"
      ]
    },
    {
      "cell_type": "markdown",
      "metadata": {
        "id": "RV7NMMpsmdVm"
      },
      "source": [
        "- Statements in a python program runs in a top-down manner\n",
        "\n",
        "- However, the code block in a function definition will not be executed unless this function is called\n",
        "\n",
        "\n"
      ]
    },
    {
      "cell_type": "markdown",
      "metadata": {
        "id": "Zp5WInWzmufC"
      },
      "source": [
        "- When you want to call a function, this function must be defined somewhere above\n",
        "\n",
        "- Once you have a function defined, you can call it as many times as you want\n"
      ]
    },
    {
      "cell_type": "markdown",
      "metadata": {
        "id": "-1g7XA5EYPy-"
      },
      "source": [
        "###Scope of variables\n",
        "\n",
        "- Variables defined in a function are only accessible by the statements of that function"
      ]
    },
    {
      "cell_type": "markdown",
      "metadata": {
        "id": "ZAEWk92xdOo0"
      },
      "source": [
        "##Decomposition: Random Password Generator\n",
        "\n"
      ]
    },
    {
      "cell_type": "markdown",
      "metadata": {
        "id": "taHGU8AqdOo1"
      },
      "source": [
        "Write a **function** that generates and *returns* a random password \n",
        "\n",
        "- length between 7 and 10, and \n",
        "\n",
        "- randomly selected from positions between 33 and 126 in ASCII\n"
      ]
    },
    {
      "cell_type": "markdown",
      "metadata": {
        "id": "v1mGbOIf_1_A"
      },
      "source": [
        "#Function Syntax"
      ]
    },
    {
      "cell_type": "markdown",
      "metadata": {
        "id": "X6Tg5sTB_4Pq"
      },
      "source": [
        "`def \"\"\"function name\"\"\"():`\n",
        "   \n",
        "    \"\"\"do something\"\"\"\n",
        "        \n",
        "    return \"\"\"something\"\"\"\n"
      ]
    },
    {
      "cell_type": "markdown",
      "metadata": {
        "id": "gI1d2pu-Y2a3"
      },
      "source": [
        "`def func_name():`\n",
        "  \n",
        "    <statement_1>\n",
        "  \n",
        "    ...\n",
        "    \n",
        "    <statement_N>\n",
        "    \n",
        "    return something"
      ]
    },
    {
      "cell_type": "markdown",
      "metadata": {
        "id": "3ClIvDZWyxm7"
      },
      "source": [
        "# Return Statement in a Function"
      ]
    },
    {
      "cell_type": "markdown",
      "metadata": {
        "id": "ZKpSnRgcnMxD"
      },
      "source": [
        "- You can return a value from a function\n",
        "\n",
        "- The statement  *return [expression]*  exits a function, optionally passing back an expression to the caller"
      ]
    },
    {
      "cell_type": "code",
      "metadata": {
        "id": "nzaa8RV5y3Vw",
        "colab": {
          "base_uri": "https://localhost:8080/",
          "height": 32
        },
        "outputId": "587d295d-873a-43ea-dcc6-e2f49c69e46c"
      },
      "source": [
        "from random import*\n",
        "def sum2Rands():\n",
        "  a = randint(1,10)\n",
        "  b = randint(1,10)\n",
        "  return a + b\n",
        "\n",
        "total = sum2Rands()\n",
        "print(total)"
      ],
      "execution_count": null,
      "outputs": [
        {
          "output_type": "stream",
          "text": [
            "12\n"
          ],
          "name": "stdout"
        }
      ]
    },
    {
      "cell_type": "markdown",
      "metadata": {
        "id": "vaijyGwyn5dq"
      },
      "source": [
        "***Note 1:*** When a return statement is executed, the function immediately terminates, even if whole process in the function \n",
        "has not finished yet (like break in loops)\n",
        "\n",
        "***Note 2:*** There might be multiple return statements in a function"
      ]
    },
    {
      "cell_type": "markdown",
      "metadata": {
        "id": "UzrWII2oxmbJ"
      },
      "source": [
        "# randPass_2.py"
      ]
    },
    {
      "cell_type": "code",
      "metadata": {
        "id": "s-J4EUO6xrJ3",
        "colab": {
          "base_uri": "https://localhost:8080/",
          "height": 32
        },
        "outputId": "011db840-fc6a-467e-fd29-265c32c7340e"
      },
      "source": [
        "from random import *\n",
        "\n",
        "def randPassGen():\n",
        "  rand_len = randint(7,10)\n",
        "  password = \"\"\n",
        "  for idx in range(rand_len):\n",
        "    symbol = chr(randint(33,126))\n",
        "    password += symbol\n",
        "  return password\n",
        "\n",
        "passw = randPassGen()\n",
        "print(passw)"
      ],
      "execution_count": null,
      "outputs": [
        {
          "output_type": "stream",
          "text": [
            "/?6z`SEaw,\n"
          ],
          "name": "stdout"
        }
      ]
    },
    {
      "cell_type": "markdown",
      "metadata": {
        "id": "xmfMAKhidZXU"
      },
      "source": [
        "##Decomposition: Random Password Generator\n",
        "\n"
      ]
    },
    {
      "cell_type": "markdown",
      "metadata": {
        "id": "GOcMPejHdZXW"
      },
      "source": [
        "Write a function that checks whether the generated password is good or not\n",
        "\n",
        "- should contain at least one uppercase letter \n",
        "\n",
        "- should contain at least one digit\n",
        "\n",
        "\n"
      ]
    },
    {
      "cell_type": "markdown",
      "metadata": {
        "id": "qXnL5WyFcq6Z"
      },
      "source": [
        "#Function Syntax"
      ]
    },
    {
      "cell_type": "markdown",
      "metadata": {
        "id": "nhj-vMJDcq6a"
      },
      "source": [
        "`def \"\"\"function name\"\"\"(\"\"\"parameters\"\"\"):`\n",
        "   \n",
        "    \"\"\"do something\"\"\"\n",
        "        \n",
        "    return \"\"\"something\"\"\"\n"
      ]
    },
    {
      "cell_type": "markdown",
      "metadata": {
        "id": "Q-NzCjDmcq6b"
      },
      "source": [
        "`def func_name(parameters):`\n",
        "  \n",
        "    <statement_1>\n",
        "  \n",
        "    ...\n",
        "    \n",
        "    <statement_N>\n",
        "    \n",
        "    return something"
      ]
    },
    {
      "cell_type": "markdown",
      "metadata": {
        "id": "SkLetyS7xyq1"
      },
      "source": [
        "# randPass_3.py"
      ]
    },
    {
      "cell_type": "code",
      "metadata": {
        "id": "r8grzOeGx62e",
        "colab": {
          "base_uri": "https://localhost:8080/",
          "height": 32
        },
        "outputId": "89c3ac08-1864-4299-9073-eeb7531d3dc1"
      },
      "source": [
        "from random import *\n",
        "\n",
        "def randGenPass():\n",
        "  length = randint(7,10)\n",
        "  password = \"\"\n",
        "  for x in range(length):\n",
        "    password += chr(randint(33,126))\n",
        "  return password\n",
        "\n",
        "def checkUpper(passwd):\n",
        "  for char in passwd:\n",
        "    if \"A\" <= char <= \"Z\":\n",
        "      return True\n",
        "  return False\n",
        "            \n",
        "# main part\n",
        "passw = randGenPass()\n",
        "print(passw)\n",
        "if not checkUpper(passw):\n",
        "  print(\"Not a good password\")"
      ],
      "execution_count": null,
      "outputs": [
        {
          "output_type": "stream",
          "text": [
            "y'h'[P}Of\n"
          ],
          "name": "stdout"
        }
      ]
    },
    {
      "cell_type": "markdown",
      "metadata": {
        "id": "G38zzLqvone_"
      },
      "source": [
        "##Decomposition: Random Password Generator\n",
        "\n"
      ]
    },
    {
      "cell_type": "markdown",
      "metadata": {
        "id": "3rSiRqUQonfB"
      },
      "source": [
        "Write a function that checks whether the generated password is good or not\n",
        "\n",
        "- should contain at least one uppercase letter ✔\n",
        "\n",
        "- should contain at least one digit\n",
        "\n",
        "\n"
      ]
    },
    {
      "cell_type": "markdown",
      "metadata": {
        "id": "pFkkDKOUyIbM"
      },
      "source": [
        "# randPass_4.py"
      ]
    },
    {
      "cell_type": "code",
      "metadata": {
        "id": "r8T7aen7yKq8",
        "colab": {
          "base_uri": "https://localhost:8080/",
          "height": 32
        },
        "outputId": "c066ccb6-dfe9-4c5b-c96c-b8945b561663"
      },
      "source": [
        "from random import *\n",
        "\n",
        "def randGenPass():\n",
        "  length = randint(7,10)\n",
        "  password = \"\"\n",
        "  for x in range(length):\n",
        "    password += chr(randint(33,126))\n",
        "  return password\n",
        "\n",
        "def checkUpper(passwd):\n",
        "  for char in passwd:\n",
        "    if \"A\" <= char <= \"Z\":\n",
        "      return True\n",
        "  return False\n",
        "\n",
        "def checkDigit(passwd):\n",
        "  for char in passwd:\n",
        "    if \"0\" <= char <= \"9\":\n",
        "      return True\n",
        "  return False\n",
        "            \n",
        "# main part\n",
        "passw = randGenPass()\n",
        "print(passw)\n",
        "if not checkUpper(passw) or not checkDigit(passw):\n",
        "   print(\"Not a good password\")\n",
        "\n",
        "\n",
        "\n",
        "\n",
        "\n",
        "\n",
        "\n"
      ],
      "execution_count": null,
      "outputs": [
        {
          "output_type": "stream",
          "text": [
            "eEg[9Y6\n"
          ],
          "name": "stdout"
        }
      ]
    },
    {
      "cell_type": "markdown",
      "metadata": {
        "id": "yUMuIt0mo59q"
      },
      "source": [
        "##Decomposition: Random Password Generator\n",
        "\n"
      ]
    },
    {
      "cell_type": "markdown",
      "metadata": {
        "id": "9cIOfgvOo84I"
      },
      "source": [
        "Write a Python program that generates a good random password\n"
      ]
    },
    {
      "cell_type": "markdown",
      "metadata": {
        "id": "hhpT0Ei6zvHw"
      },
      "source": [
        "# randPass_5.py"
      ]
    },
    {
      "cell_type": "code",
      "metadata": {
        "id": "2zZLYxvHzyGy",
        "colab": {
          "base_uri": "https://localhost:8080/",
          "height": 32
        },
        "outputId": "a30ebb9f-e671-47a8-cdbf-a570a817ab8f"
      },
      "source": [
        "from random import *\n",
        "\n",
        "def randGenPass():\n",
        "  length = randint(7,10)\n",
        "  password = \"\"\n",
        "  for x in range(length):\n",
        "    password += chr(randint(33,126))\n",
        "  return password\n",
        "\n",
        "def checkUpper(passwd):\n",
        "  for char in passwd:\n",
        "    if \"A\" <= char <= \"Z\":\n",
        "      return True\n",
        "  return False\n",
        "\n",
        "def checkDigit(passwd):\n",
        "  for char in passwd:\n",
        "    if \"0\" <= char <= \"9\":\n",
        "      return True\n",
        "  return False\n",
        "            \n",
        "    \n",
        "# main part\n",
        "passw = randGenPass()\n",
        "while not checkUpper(passw) or not checkDigit(passw):\n",
        "  passw = randGenPass()\n",
        "print(passw)"
      ],
      "execution_count": null,
      "outputs": [
        {
          "output_type": "stream",
          "text": [
            "J7W=Uq_`\n"
          ],
          "name": "stdout"
        }
      ]
    },
    {
      "cell_type": "markdown",
      "metadata": {
        "id": "bg3VZNdd0rW_"
      },
      "source": [
        "# Scopes of Variables"
      ]
    },
    {
      "cell_type": "markdown",
      "metadata": {
        "id": "FLjkq0a1qsJz"
      },
      "source": [
        "Each function has a separate world of variables of its own, called its *scope*\n",
        "\n",
        "The world of variables of a function is created when the function is called, anddestroyed when the function terminates\n"
      ]
    },
    {
      "cell_type": "code",
      "metadata": {
        "id": "klmhDk6J0v7-",
        "colab": {
          "base_uri": "https://localhost:8080/",
          "height": 49
        },
        "outputId": "41f72d2d-9ac6-413a-cde0-82d2af116a83"
      },
      "source": [
        "#a function\n",
        "def absolute(y):\n",
        "  if y < 0:\n",
        "    y = -1 * y\n",
        "\n",
        "#main part of\n",
        "#the program\n",
        "\n",
        "y = -5\n",
        "\n",
        "print('y =', y)\n",
        "\n",
        "absolute(y)\n",
        "\n",
        "print('y =', y)\n"
      ],
      "execution_count": null,
      "outputs": [
        {
          "output_type": "stream",
          "text": [
            "y = -5\n",
            "y = -5\n"
          ],
          "name": "stdout"
        }
      ]
    },
    {
      "cell_type": "markdown",
      "metadata": {
        "id": "IfNfD4wcd30U"
      },
      "source": [
        "#Why do we need functions?"
      ]
    },
    {
      "cell_type": "markdown",
      "metadata": {
        "id": "IYEvQTOLd5dT"
      },
      "source": [
        "- To **decompose** complex problems (like we did in password generator example)\n",
        "\n",
        "\n",
        "- To make our code more **modular** and **understandable**\n",
        "\n",
        "\n",
        "- To make our code **easier to be changed** in the future (if needed)\n",
        "\n",
        "\n",
        "- To avoid **code duplication**\n"
      ]
    },
    {
      "cell_type": "markdown",
      "metadata": {
        "id": "gRlM_DUpeJR7"
      },
      "source": [
        "#Form Letter"
      ]
    },
    {
      "cell_type": "markdown",
      "metadata": {
        "id": "I7vCh5YMeOYp"
      },
      "source": [
        "Write a form letter to display the balance of a customer, its due date and possible late penalty information. Some parts of the letter are fixed, some parts are inputs and some parts are to be calculated (i.e. due date will be one month later from current date).\n",
        "\n",
        "---\n",
        "\n",
        "`Dear Name LastName :`\n",
        "\n",
        " <br />\n",
        "\n",
        "`Our records shows a balance of $Amount as of Day/Month/Year.`\n",
        "\n",
        "`In order to avoid any late penalty please pay your balance in full until dueDay/dueMonth/dueYear.`\n",
        "\n",
        "`Otherwise we have to charge late penalty (monthly Interest %) as shown below.`\n",
        "\n",
        " <br />\n",
        " \n",
        "`30 days past due, you pay $lateAmount1`\n",
        "\n",
        "`60 days past due, you pay $lateAmount2`\n",
        "\n",
        "`90 days past due, you pay $lateAmount3`\n",
        "\n",
        " <br />\n",
        " \n",
        "`Best regards,`\n",
        "\n",
        " <br />\n",
        " \n",
        "`IF100 Corporation`\n",
        "\n",
        "---\n",
        "\n",
        "- *Inputs* → *Name*, *LastName*, *Date* (day/month/year), *Amount*, *Interest*\n",
        "- Calculations → *dueDate*, *lateAmount*\n",
        "  - *dueDate*: one month later from the current *Date* \n",
        "  - *lateAmount*: increase *Amount* by *Interest* % for each 30 days\n",
        "\n"
      ]
    },
    {
      "cell_type": "code",
      "metadata": {
        "id": "kEA3GEVh6sgr",
        "colab": {
          "base_uri": "https://localhost:8080/",
          "height": 391
        },
        "outputId": "099329d6-221c-4cf4-f4ff-a1d9bb2ea318"
      },
      "source": [
        "name = input(\"Please enter the name: \")\n",
        "lastname = input(\"Please enter the lastname: \")\n",
        "date = input(\"Please enter the date (DD/MM/YYYY): \")\n",
        "amount = int(input(\"Please enter the amount: \"))\n",
        "interest = float(input(\"Please enter the interest: \"))\n",
        "\n",
        "# parse the date into day, month, year (of type integer)\n",
        "date_lst = date.split(\"/\")\n",
        "day = int(date_lst[0])\n",
        "month = int(date_lst[1])\n",
        "year = int(date_lst[2])\n",
        "\n",
        "# calculations for the due date\n",
        "dueDay = day\n",
        "dueMonth = (month + 1) % 13\n",
        "dueYear = year + (month//12)\n",
        "\n",
        "# display for due date\n",
        "dueDate = str(dueDay) + \"/\" + str(dueMonth) + \"/\" + str(dueYear)\n",
        "\n",
        "# calculate the late amount\n",
        "lateAmount1 = amount + 1 * (amount * interest / 100)\n",
        "lateAmount2 = amount + 2 * (amount * interest / 100)\n",
        "lateAmount3 = amount + 3 * (amount * interest / 100)\n",
        "\n",
        "# print the letter\n",
        "print(\"\")\n",
        "print(\"\")\n",
        "print(\"                            \", date)\n",
        "print(\"\")\n",
        "\n",
        "print(\"Dear \", name, \" \", lastname, \":\", sep=\"\")\n",
        "print(\"\")\n",
        " \n",
        "print(\"Our records shows a balance of \", amount,\" as of \", date, \".\", sep=\"\")\n",
        "print(\"In order to avoid any late penalty please pay your balance in full until \", dueDate, \".\", sep=\"\")\n",
        "print(\"Otherwise we have to charge late penalty (monthly\", interest, \"%) as shown below.\")\n",
        "print(\"\")\n",
        " \n",
        "print(\"30 days past due, you pay\", lateAmount1)\n",
        "print(\"60 days past due, you pay\", lateAmount2)\n",
        "print(\"90 days past due, you pay\", lateAmount3)\n",
        "print(\"\")\n",
        " \n",
        "print(\"Best regards,\")\n",
        "print(\"\")\n",
        " \n",
        "print(\"IF100 Corporation\")\n",
        "\n"
      ],
      "execution_count": null,
      "outputs": [
        {
          "output_type": "stream",
          "text": [
            "Please enter the name: d\n",
            "Please enter the lastname: k\n",
            "Please enter the date (DD/MM/YYYY): 2/2/2012\n",
            "Please enter the amount: 1200\n",
            "Please enter the interest: 2\n",
            "\n",
            "\n",
            "                             2/2/2012\n",
            "\n",
            "Dear d k:\n",
            "\n",
            "Our records shows a balance of 1200 as of 2/2/2012.\n",
            "In order to avoid any late penalty please pay your balance in full until 2/3/2012.\n",
            "Otherwise we have to charge late penalty (monthly Interest %) as shown below.\n",
            "\n",
            "30 days past due, you pay 1224.0\n",
            "60 days past due, you pay 1248.0\n",
            "90 days past due, you pay 1272.0\n",
            "\n",
            "Best regards,\n",
            "\n",
            "IF100 Corporation\n"
          ],
          "name": "stdout"
        }
      ]
    },
    {
      "cell_type": "code",
      "metadata": {
        "id": "anKocJCz9BUe",
        "colab": {
          "base_uri": "https://localhost:8080/",
          "height": 374
        },
        "outputId": "01bcdc28-4b95-4e05-a693-227aade72e5a"
      },
      "source": [
        "# display date\n",
        "def displayDate(day, month, year):\n",
        "  date = str(day) + \"/\" + str(month) + \"/\" + str(year)\n",
        "  print(date, end=\"\")\n",
        "\n",
        "# display date and dot\n",
        "def displayDateAndDot(day, month, year):\n",
        "  displayDate(day, month, year)\n",
        "  print(\".\")\n",
        "  \n",
        "# calculate and display due date\n",
        "def calcDisplayDueDate(day, month, year):\n",
        "  dueDay = day\n",
        "  dueMonth = (month + 1) % 13\n",
        "  dueYear = year + (month//12)\n",
        "  displayDateAndDot(dueDay, dueMonth,dueYear)\n",
        "  \n",
        "# calculate and display late amount\n",
        "def calcDisplayLateAmount(amount, interest, month):\n",
        "  lateAmount = amount + month * (amount * interest / 100)\n",
        "  print(30*month, \"days past due, you pay\", lateAmount)\n",
        "  \n",
        "# main program\n",
        "name = input(\"Please enter the name: \")\n",
        "lastname = input(\"Please enter the lastname: \")\n",
        "date = input(\"Please enter the date (DD/MM/YYYY): \")\n",
        "amount = int(input(\"Please enter the amount: \"))\n",
        "interest = float(input(\"Please enter the interest: \"))\n",
        "\n",
        "# parse the date into day, month, year (of type integer)\n",
        "date_lst = date.split(\"/\")\n",
        "day = int(date_lst[0])\n",
        "month = int(date_lst[1])\n",
        "year = int(date_lst[2])\n",
        "\n",
        "\n",
        "# print the letter\n",
        "print(\"\")\n",
        "print(\"\")\n",
        "print(\"                            \", end=\"\")\n",
        "displayDate(day,month,year)\n",
        "print(\"\")\n",
        "\n",
        "print(\"Dear \", name, \" \", lastname, \":\", sep=\"\")\n",
        "print(\"\")\n",
        " \n",
        "print(\"Our records shows a balance of\", amount, \"as of \", end=\"\")\n",
        "displayDateAndDot(day,month,year)   \n",
        "print(\"In order to avoid any late penalty please pay your balance in full until \", end=\"\")\n",
        "calcDisplayDueDate(day,month,year)\n",
        "print(\"Otherwise we have to charge late penalty (monthly \", interest ,\" %) as shown below.\")\n",
        "print(\"\")\n",
        " \n",
        "for lateMonth in range(1,4):\n",
        "  calcDisplayLateAmount(amount, interest, lateMonth)\n",
        "  \n",
        "print(\"\")\n",
        " \n",
        "print(\"Best regards,\")\n",
        "print(\"\")\n",
        " \n",
        "print(\"IF100 Corporation\")"
      ],
      "execution_count": null,
      "outputs": [
        {
          "output_type": "stream",
          "text": [
            "Please enter the name: d\n",
            "Please enter the lastname: k\n",
            "Please enter the date (DD/MM/YYYY): 2/2/2012\n",
            "Please enter the amount: 1200\n",
            "Please enter the interest: 2\n",
            "\n",
            "\n",
            "                            2/2/2012\n",
            "Dear d k:\n",
            "\n",
            "Our records shows a balance of 1200 as of 2/2/2012.\n",
            "In order to avoid any late penalty please pay your balance in full until2/3/2012.\n",
            "Otherwise we have to charge late penalty (monthly  2.0  %) as shown below.\n",
            "\n",
            "30 days past due, you pay 1224.0\n",
            "60 days past due, you pay 1248.0\n",
            "90 days past due, you pay 1272.0\n",
            "\n",
            "Best regards,\n",
            "\n",
            "IF100 Corporation\n"
          ],
          "name": "stdout"
        }
      ]
    },
    {
      "cell_type": "code",
      "metadata": {
        "id": "UBFQelRxDNYO",
        "colab": {
          "base_uri": "https://localhost:8080/",
          "height": 374
        },
        "outputId": "235d0cb3-3c62-428f-fcb6-327c1ff4a878"
      },
      "source": [
        "# display date\n",
        "def displayDate(day, month, year):\n",
        "  date = str(day) + \"/\" + str(month) + \"/\" + str(year)\n",
        "  print(date, end=\"\")\n",
        "\n",
        "# display date and dot\n",
        "def displayDateAndDot(day, month, year):\n",
        "  displayDate(day, month, year)\n",
        "  print(\".\")\n",
        "  \n",
        "# calculate and display due date\n",
        "def calcDisplayDueDate(day, month, year):\n",
        "  dueDay = day\n",
        "  dueMonth = (month + 1) % 13\n",
        "  dueYear = year + (month//12)\n",
        "  displayDateAndDot(dueDay, dueMonth,dueYear)\n",
        "  \n",
        "# calculate and display late amount\n",
        "def calcDisplayLateAmount(amount, interest, month):\n",
        "  lateAmount = amount + month * (amount * interest / 100)\n",
        "  print(30*month, \"days past due, you pay\", lateAmount)\n",
        "\n",
        "\n",
        "# print the letter\n",
        "def printLetter(day, month, year, amount, interest):\n",
        "  print(\"\")\n",
        "  print(\"\")\n",
        "  print(\"                            \", end=\"\")\n",
        "  displayDate(day,month,year)\n",
        "  print(\"\")\n",
        "  print(\"Dear \", name, \" \", lastname, \":\", sep=\"\")\n",
        "  print(\"\")\n",
        "  print(\"Our records shows a balance of\", amount, \"as of \", end=\"\")\n",
        "  displayDateAndDot(day,month,year)   \n",
        "  print(\"In order to avoid any late penalty please pay your balance in full until \", end=\"\")\n",
        "  calcDisplayDueDate(day,month,year)\n",
        "  print(\"Otherwise we have to charge late penalty (monthly \", interest ,\" %) as shown below.\")\n",
        "  print(\"\")\n",
        "  for lateMonth in range(1,4):\n",
        "    calcDisplayLateAmount(amount, interest, lateMonth)\n",
        "  print(\"\")\n",
        "  print(\"Best regards,\")\n",
        "  print(\"\")\n",
        "  print(\"IF100 Corporation\")  \n",
        "  \n",
        "# main program\n",
        "name = input(\"Please enter the name: \")\n",
        "lastname = input(\"Please enter the lastname: \")\n",
        "date = input(\"Please enter the date (DD/MM/YYYY): \")\n",
        "amount = int(input(\"Please enter the amount: \"))\n",
        "interest = float(input(\"Please enter the interest: \"))\n",
        "\n",
        "# parse the date into day, month, year (of type integer)\n",
        "date_lst = date.split(\"/\")\n",
        "day = int(date_lst[0])\n",
        "month = int(date_lst[1])\n",
        "year = int(date_lst[2])\n",
        "\n",
        "printLetter(day, month, year, amount, interest)"
      ],
      "execution_count": null,
      "outputs": [
        {
          "output_type": "stream",
          "text": [
            "Please enter the name: d\n",
            "Please enter the lastname: k\n",
            "Please enter the date (DD/MM/YYYY): 2/2/2012\n",
            "Please enter the amount: 1200\n",
            "Please enter the interest: 2\n",
            "\n",
            "\n",
            "                            2/2/2012\n",
            "Dear d k:\n",
            "\n",
            "Our records shows a balance of 1200 as of 2/2/2012.\n",
            "In order to avoid any late penalty please pay your balance in full until 2/3/2012.\n",
            "Otherwise we have to charge late penalty (monthly  2.0  %) as shown below.\n",
            "\n",
            "30 days past due, you pay 1224.0\n",
            "60 days past due, you pay 1248.0\n",
            "90 days past due, you pay 1272.0\n",
            "\n",
            "Best regards,\n",
            "\n",
            "IF100 Corporation\n"
          ],
          "name": "stdout"
        }
      ]
    },
    {
      "cell_type": "code",
      "metadata": {
        "id": "1XZ02Wj741FR"
      },
      "source": [
        "def dateToDisplay(day, month, year):\n",
        "  date = str(day) + \"/\" + str(month) + \"/\" + str(year)\n",
        "  return date\n",
        "\n",
        "def lateCalcDisplay(amount, interest, month):\n",
        "  lateAmount = amount + month * (amount * interest / 100)\n",
        "  print(30*month, \"days past due, you pay\", lateAmount)\n",
        "  \n",
        "def formLetterDisplay(name, lastname, date, amount, interest):\n",
        "  # parse the date into day, month, year (of type integer)\n",
        "  day = int(date[:2])\n",
        "  month = int(date[3:5])\n",
        "  year = int(date[6:])\n",
        "  # calculations for the due date\n",
        "  dueDay = day\n",
        "  dueMonth = (month + 1) % 13\n",
        "  dueYear = year + (month//12)\n",
        "  # display format of the date information\n",
        "  date = dateToDisplay(day,month,year)\n",
        "  dueDate = dateToDisplay(dueDay,dueMonth,dueYear)\n",
        "  # display form letter\n",
        "  print(\"\")\n",
        "  print(\"             \", date)\n",
        "  print(\"\")\n",
        "  print(\"Dear\", name, lastname, \":\")\n",
        "  print(\"\")\n",
        "  print(\"Our records shows a balance of \", amount, \" as of \", date, \".\", sep=\"\")\n",
        "  print(\"In order to avoid any late penalty please pay your balance in full until \", dueDate,\".\", sep=\"\")\n",
        "  print(\"Otherwise we have to charge late penalty (monthly\", interest, \"%) as shown below.\")\n",
        "  print(\"\")\n",
        "  for i in range(1,4):\n",
        "    lateCalcDisplay(amount, interest, i)\n",
        "  print(\"\")\n",
        "  print(\"Best regards,\")\n",
        "  print(\"\")\n",
        "  print(\"IF100 Corporation\")\n",
        "  \n",
        "# main part\n",
        "name = input(\"Please enter the name: \")\n",
        "lastname = input(\"Please enter the lastname: \")\n",
        "date = input(\"Please enter the date (DD/MM/YYYY): \")\n",
        "amount = int(input(\"Please enter the amount: \"))\n",
        "interest = float(input(\"Please enter the interest: \"))\n",
        "\n",
        "formLetterDisplay(name, lastname, date, amount, interest)"
      ],
      "execution_count": null,
      "outputs": []
    },
    {
      "cell_type": "markdown",
      "metadata": {
        "id": "s_4mjdWlPX4y"
      },
      "source": [
        "#Cumulative Sales Turnover"
      ]
    },
    {
      "cell_type": "markdown",
      "metadata": {
        "id": "r3OTnyLCPdOr"
      },
      "source": [
        "- Assume that two retail companies (let’s say Carrefour and Migros) have different number of subsidiaries across the Istanbul \n",
        "- They have their **daily sales turnover** dataset for each subsidiary from November 20th, 2017 to November 26th, 2017 (for 7 days)\n",
        "- And we want to calculate **cumulative daily sales turnover** for each retail company"
      ]
    },
    {
      "cell_type": "markdown",
      "metadata": {
        "id": "r4iDMeYjQEJP"
      },
      "source": [
        "Example:\n",
        "\n",
        "- We have the dataset below\n",
        "- Each retail company is represented with a list of lists\n",
        "- Each sublist represents daily sale turnovers for a subsidiary\n"
      ]
    },
    {
      "cell_type": "code",
      "metadata": {
        "id": "qpEcUqaUQDYC"
      },
      "source": [
        "dailySalesCarrefour = [\n",
        "    [48433,48586,18082,90311,23152,31862,59944],\n",
        "    [25112,76081,44503,22643,69390,43853,27246],\n",
        "    [74321,16705,64249,56880,13574,22267,10049],\n",
        "    [14248,39898,57689,20049,80358,41689,11024],\n",
        "    [73018,79656,77043,16072,36690,60764,53637],\n",
        "    [75419,98032,37270,18634,97915,41360,84585]\n",
        "]\n",
        "\n",
        "dailySalesMigros = [\n",
        "    [72505,91552,93746,59844,48727,60963,99796],\n",
        "    [26068,41250,40530,38920,85875,21588,77086],\n",
        "    [95239,82771,15208,69112,52392,89561,23215],\n",
        "    [46863,64110,58688,92434,30397,31814,87895],\n",
        "    [89488,54051,72168,34654,44215,80599,64931],\n",
        "    [96639,39638,66434,71364,95119,66868,82500],\n",
        "    [86703,33025,85902,39641,25898,63200,71143],\n",
        "    [30433,93254,73446,98841,58985,34406,86131],\n",
        "    [32427,60356,13881,24627,57100,39963,82367],\n",
        "    [23260,44590,15844,39504,71358,18853,10574],\n",
        "    [53067,25553,26856,29052,72836,16159,67741],\n",
        "    [16197,88189,58978,37239,60765,12192,32146],\n",
        "    [12545,79991,44242,87903,38595,32498,20739],\n",
        "    [47712,28993,40719,40240,27561,95260,88188]\n",
        "]"
      ],
      "execution_count": null,
      "outputs": []
    },
    {
      "cell_type": "code",
      "metadata": {
        "id": "guaHcjQouyff",
        "colab": {
          "base_uri": "https://localhost:8080/",
          "height": 136
        },
        "outputId": "448aa8fd-363f-4276-a62c-8bd7cee49aa4"
      },
      "source": [
        "def calculateCumulativeDailySales(dailySales):\n",
        "    cumulativeSales = [0] * 7\n",
        "    # cumulativeSales = [0] * len(dailySales[0])\n",
        "\n",
        "    for subsidiary in dailySales:\n",
        "        for index in range(len(subsidiary)):\n",
        "            cumulativeSales[index] += subsidiary[index]\n",
        "\n",
        "    return cumulativeSales\n",
        "\n",
        "\n",
        "cumulativeDailySalesCarrefour = calculateCumulativeDailySales(dailySalesCarrefour)\n",
        "\n",
        "cumulativeDailySalesMigros = calculateCumulativeDailySales(dailySalesMigros)\n",
        "\n",
        "print(\"Carrefour cumultive daily sales:\", cumulativeDailySalesCarrefour)\n",
        "print(\"Migros cumultive daily sales:\", cumulativeDailySalesMigros)"
      ],
      "execution_count": null,
      "outputs": [
        {
          "output_type": "stream",
          "text": [
            "[48433, 48586, 18082, 90311, 23152, 31862, 59944]\n",
            "[25112, 76081, 44503, 22643, 69390, 43853, 27246]\n",
            "[74321, 16705, 64249, 56880, 13574, 22267, 10049]\n",
            "[14248, 39898, 57689, 20049, 80358, 41689, 11024]\n",
            "[73018, 79656, 77043, 16072, 36690, 60764, 53637]\n",
            "[75419, 98032, 37270, 18634, 97915, 41360, 84585]\n"
          ],
          "name": "stdout"
        },
        {
          "output_type": "execute_result",
          "data": {
            "text/plain": [
              "[0, 0, 0, 0, 0, 0, 0]"
            ]
          },
          "metadata": {
            "tags": []
          },
          "execution_count": 8
        }
      ]
    }
  ]
}