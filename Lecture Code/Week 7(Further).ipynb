{
  "nbformat": 4,
  "nbformat_minor": 0,
  "metadata": {
    "colab": {
      "name": "Sequences_Part2.ipynb",
      "provenance": [],
      "collapsed_sections": []
    },
    "kernelspec": {
      "name": "python3",
      "display_name": "Python 3"
    }
  },
  "cells": [
    {
      "cell_type": "markdown",
      "metadata": {
        "id": "nOXrVx2qyCGU"
      },
      "source": [
        "#Finding Population of a City "
      ]
    },
    {
      "cell_type": "markdown",
      "metadata": {
        "id": "DTlUkXbNyFDj"
      },
      "source": [
        "- Let's assume that we have the following variables\n",
        "\n",
        "  `cities = \"Istanbul,Ankara,Izmir,Bursa\"`\n",
        "  \n",
        "  `populations = \"15000000,5500000,4300000,1800000\"``\n",
        "\n",
        "- Let's get a city name from the user, and display the population of that city\n",
        "  - Consider the steps we need to take (**decomposition and pseudocode**)\n",
        "    - Get the input (city name) from the user\n",
        "    - Check whether inputted city exist in cities string\n",
        "    - If so, then find the corresponding population (**how: decompose further**)\n",
        "        - First find the position of the city (i.e. Istanbul:0, Ankara:1, etc)\n",
        "        - Display the population with the same position\n",
        "    - **If** not, display an error message\n"
      ]
    },
    {
      "cell_type": "markdown",
      "metadata": {
        "id": "1ROVgl8O4nTi"
      },
      "source": [
        "#Lists"
      ]
    },
    {
      "cell_type": "markdown",
      "metadata": {
        "id": "Li3F8sK_4psf"
      },
      "source": [
        "- List is the most versatile data type available which can be written as a **list of comma-separated values** (items) **between square brackets**\n",
        "\n",
        "- Lists might contain items of different types, but <u>**usually**</u> all the items have the same type"
      ]
    },
    {
      "cell_type": "code",
      "metadata": {
        "id": "2eUin1d55Euw"
      },
      "source": [
        "list1 = [\"physics\", \"chemistry\", 1997, 2000]\n",
        "list2 = [1, 2, 3, 4, 5]\n",
        "list3 = ['a', 'b', 'c', 'd']"
      ],
      "execution_count": null,
      "outputs": []
    },
    {
      "cell_type": "markdown",
      "metadata": {
        "id": "cSf5rnnL_5fA"
      },
      "source": [
        "# Common Sequence Operations"
      ]
    },
    {
      "cell_type": "markdown",
      "metadata": {
        "id": "nYNdV_1a_6RW"
      },
      "source": [
        "Operation | Meaning\n",
        "--- | ---\n",
        "x in s | True if an item of s is equal to x, else False\n",
        "x not in s | False if an item of s is equal to x, else True\n",
        "s + t | the concatenation of s and t(not applicable to range)\n",
        "s\\*n or n\\*s | equivalent to adding s to itself n times (not applicable to range)\n",
        "s[i] | i th item of s, origin 0\n",
        "s[i:j] | slice of s from i to j\n",
        "s[i:j:k] | slice of s from i to j with step k\n",
        "len(s) | length of s\n",
        "min(s) | smallest item of s\n",
        "max(s) | largest item of s"
      ]
    },
    {
      "cell_type": "markdown",
      "metadata": {
        "id": "3H7hPE1UV2ex"
      },
      "source": [
        "# Slices of Lists"
      ]
    },
    {
      "cell_type": "markdown",
      "metadata": {
        "id": "3l0NZfP4BgEr"
      },
      "source": [
        "list1[2:4] → index 2 is inclusive, but index 4 is exclusive\n",
        "\n",
        "list1[2:] → all elements starting from the index 2\n",
        "\n",
        "list1[-1] → the last element\n",
        "\n",
        "\n",
        "list1[-2:] → elements from the \n",
        "\t\t\tsecond-last (included) to the end\n",
        "\n",
        "\n",
        "list1[:3] → elements from index 0 (included) \n",
        "\t\t\tto index 3 (excluded) \n",
        "\n",
        "\n",
        "list1[1:5:2] → elements from index 1 (included) \n",
        "\t\tto index 5 (excluded) with a step size of 2\n",
        "\n",
        "\n",
        "**Attempting to use an index that is too large will result in an error**\n",
        "\n",
        "\n",
        "**All slice operations return a new list with the requested elements\n",
        "This means that list1[:] returns a new copy of list1**\n",
        "\n"
      ]
    },
    {
      "cell_type": "code",
      "metadata": {
        "id": "vV7GZK0MV4UZ",
        "colab": {
          "base_uri": "https://localhost:8080/"
        },
        "outputId": "9131efe9-b8ea-4378-e42d-a1412f71748a"
      },
      "source": [
        "list1 = [1, 20, 30, 2, 5, 61]\n",
        "list1[2:4]"
      ],
      "execution_count": null,
      "outputs": [
        {
          "output_type": "execute_result",
          "data": {
            "text/plain": [
              "[30, 2]"
            ]
          },
          "metadata": {
            "tags": []
          },
          "execution_count": 8
        }
      ]
    },
    {
      "cell_type": "code",
      "metadata": {
        "id": "YxJCCnP9V-no",
        "colab": {
          "base_uri": "https://localhost:8080/",
          "height": 32
        },
        "outputId": "27db7b29-a221-4815-bac5-314e53b7d18f"
      },
      "source": [
        "list1[2:]"
      ],
      "execution_count": null,
      "outputs": [
        {
          "output_type": "execute_result",
          "data": {
            "text/plain": [
              "[30, 2, 5, 61]"
            ]
          },
          "metadata": {
            "tags": []
          },
          "execution_count": 26
        }
      ]
    },
    {
      "cell_type": "code",
      "metadata": {
        "id": "23iLPY5XWApx",
        "colab": {
          "base_uri": "https://localhost:8080/",
          "height": 32
        },
        "outputId": "af3e5c79-f3a0-4be2-bdeb-61c1f13cb9e0"
      },
      "source": [
        "list1[-1]"
      ],
      "execution_count": null,
      "outputs": [
        {
          "output_type": "execute_result",
          "data": {
            "text/plain": [
              "61"
            ]
          },
          "metadata": {
            "tags": []
          },
          "execution_count": 27
        }
      ]
    },
    {
      "cell_type": "code",
      "metadata": {
        "id": "-aQChD2bWCDK",
        "colab": {
          "base_uri": "https://localhost:8080/",
          "height": 32
        },
        "outputId": "a71fa7b1-5f5c-4cda-9280-663e24220914"
      },
      "source": [
        "list1[-2:]"
      ],
      "execution_count": null,
      "outputs": [
        {
          "output_type": "execute_result",
          "data": {
            "text/plain": [
              "[5, 61]"
            ]
          },
          "metadata": {
            "tags": []
          },
          "execution_count": 28
        }
      ]
    },
    {
      "cell_type": "code",
      "metadata": {
        "id": "QNPbNCxqWEgG",
        "colab": {
          "base_uri": "https://localhost:8080/",
          "height": 32
        },
        "outputId": "66e4bb7c-dfb5-4d63-96e1-c3311ea97329"
      },
      "source": [
        "list1[:3]"
      ],
      "execution_count": null,
      "outputs": [
        {
          "output_type": "execute_result",
          "data": {
            "text/plain": [
              "[1, 20, 30]"
            ]
          },
          "metadata": {
            "tags": []
          },
          "execution_count": 29
        }
      ]
    },
    {
      "cell_type": "code",
      "metadata": {
        "id": "tV3uYHsDWF0e",
        "colab": {
          "base_uri": "https://localhost:8080/",
          "height": 32
        },
        "outputId": "b25f57e1-cfea-4f3e-816d-2849cbd5a0b4"
      },
      "source": [
        "list1[0]"
      ],
      "execution_count": null,
      "outputs": [
        {
          "output_type": "execute_result",
          "data": {
            "text/plain": [
              "1"
            ]
          },
          "metadata": {
            "tags": []
          },
          "execution_count": 30
        }
      ]
    },
    {
      "cell_type": "code",
      "metadata": {
        "id": "T6ukcv26WHKr",
        "colab": {
          "base_uri": "https://localhost:8080/",
          "height": 32
        },
        "outputId": "42854f0f-b35c-4915-a8e5-5ae269ea07e4"
      },
      "source": [
        "list1[3]"
      ],
      "execution_count": null,
      "outputs": [
        {
          "output_type": "execute_result",
          "data": {
            "text/plain": [
              "2"
            ]
          },
          "metadata": {
            "tags": []
          },
          "execution_count": 31
        }
      ]
    },
    {
      "cell_type": "code",
      "metadata": {
        "id": "GNuNDsH7WIka",
        "colab": {
          "base_uri": "https://localhost:8080/",
          "height": 32
        },
        "outputId": "246fdb80-3ac5-495c-c423-fb770f9348b7"
      },
      "source": [
        "list1[1:5:2]"
      ],
      "execution_count": null,
      "outputs": [
        {
          "output_type": "execute_result",
          "data": {
            "text/plain": [
              "[20, 2]"
            ]
          },
          "metadata": {
            "tags": []
          },
          "execution_count": 32
        }
      ]
    },
    {
      "cell_type": "code",
      "metadata": {
        "id": "YNYj81a0WKZb",
        "colab": {
          "base_uri": "https://localhost:8080/",
          "height": 181
        },
        "outputId": "6fd1d6fb-230f-48cf-e79f-a261028aabb5"
      },
      "source": [
        "list1[6]"
      ],
      "execution_count": null,
      "outputs": [
        {
          "output_type": "error",
          "ename": "IndexError",
          "evalue": "ignored",
          "traceback": [
            "\u001b[0;31m---------------------------------------------------------------------------\u001b[0m",
            "\u001b[0;31mIndexError\u001b[0m                                Traceback (most recent call last)",
            "\u001b[0;32m<ipython-input-33-fa2dc7f71df5>\u001b[0m in \u001b[0;36m<module>\u001b[0;34m()\u001b[0m\n\u001b[0;32m----> 1\u001b[0;31m \u001b[0mlist1\u001b[0m\u001b[0;34m[\u001b[0m\u001b[0;36m6\u001b[0m\u001b[0;34m]\u001b[0m\u001b[0;34m\u001b[0m\u001b[0m\n\u001b[0m",
            "\u001b[0;31mIndexError\u001b[0m: list index out of range"
          ]
        }
      ]
    },
    {
      "cell_type": "markdown",
      "metadata": {
        "id": "Xb-9iPxw7gYP"
      },
      "source": [
        "# Operations on Lists"
      ]
    },
    {
      "cell_type": "markdown",
      "metadata": {
        "id": "MC2aUrlO7gYP"
      },
      "source": [
        "* Lists also support operations like **concatenation** (+)\n",
        "* Multiplication operator (*) means **repetition** of the list \n",
        "* However, subtraction & division operators are **NOT** **valid** for lists"
      ]
    },
    {
      "cell_type": "markdown",
      "metadata": {
        "id": "FlxJTXw37gYQ"
      },
      "source": [
        "There are some built-in operations for lists:\n",
        "\n",
        "* **len(list1)** → the number of elements in **list1**\n",
        "* **min(list1)** → the minimum element in **list1**\n",
        "* **max(list1)** → the maximum element in **list1**\n",
        "* **x in list1** → True if an item of **list1** is equal to **x**, else False\n",
        "* **x not in list1** → False if an item of **list1** is equal to **x**, else True\n"
      ]
    },
    {
      "cell_type": "code",
      "metadata": {
        "id": "j2uJHImL7gYR",
        "colab": {
          "base_uri": "https://localhost:8080/",
          "height": 32
        },
        "outputId": "89245bb5-1e80-4235-def2-252df1127832"
      },
      "source": [
        "list1 = [1, 2, 3]\n",
        "list2 = [4, 5, 6]\n",
        "list3 = list1 + list2\n",
        "list3"
      ],
      "execution_count": null,
      "outputs": [
        {
          "output_type": "execute_result",
          "data": {
            "text/plain": [
              "[1, 2, 3, 4, 5, 6]"
            ]
          },
          "metadata": {
            "tags": []
          },
          "execution_count": 34
        }
      ]
    },
    {
      "cell_type": "code",
      "metadata": {
        "id": "1oIORt9d7gYU",
        "colab": {
          "base_uri": "https://localhost:8080/",
          "height": 32
        },
        "outputId": "0084d9c1-a4e7-4bdb-cf1c-162099abd306"
      },
      "source": [
        "list3 + [7, 8, 9]"
      ],
      "execution_count": null,
      "outputs": [
        {
          "output_type": "execute_result",
          "data": {
            "text/plain": [
              "[1, 2, 3, 4, 5, 6, 7, 8, 9]"
            ]
          },
          "metadata": {
            "tags": []
          },
          "execution_count": 35
        }
      ]
    },
    {
      "cell_type": "code",
      "metadata": {
        "id": "YaXiuHTt7gYW",
        "colab": {
          "base_uri": "https://localhost:8080/",
          "height": 189
        },
        "outputId": "38da7674-98d6-4a66-e98d-f0180ce36cb7"
      },
      "source": [
        "list3 - [5,6]"
      ],
      "execution_count": null,
      "outputs": [
        {
          "output_type": "error",
          "ename": "TypeError",
          "evalue": "ignored",
          "traceback": [
            "\u001b[0;31m---------------------------------------------------------------------------\u001b[0m",
            "\u001b[0;31mTypeError\u001b[0m                                 Traceback (most recent call last)",
            "\u001b[0;32m<ipython-input-36-80de61676eda>\u001b[0m in \u001b[0;36m<module>\u001b[0;34m()\u001b[0m\n\u001b[0;32m----> 1\u001b[0;31m \u001b[0mlist3\u001b[0m \u001b[0;34m-\u001b[0m \u001b[0;34m[\u001b[0m\u001b[0;36m5\u001b[0m\u001b[0;34m,\u001b[0m\u001b[0;36m6\u001b[0m\u001b[0;34m]\u001b[0m\u001b[0;34m\u001b[0m\u001b[0m\n\u001b[0m",
            "\u001b[0;31mTypeError\u001b[0m: unsupported operand type(s) for -: 'list' and 'list'"
          ]
        }
      ]
    },
    {
      "cell_type": "code",
      "metadata": {
        "id": "WjosO8fY7gYY",
        "colab": {
          "base_uri": "https://localhost:8080/",
          "height": 32
        },
        "outputId": "30bcc0e0-f161-4efd-c398-f0d3bbb123fa"
      },
      "source": [
        "list3 * 2"
      ],
      "execution_count": null,
      "outputs": [
        {
          "output_type": "execute_result",
          "data": {
            "text/plain": [
              "[1, 2, 3, 4, 5, 6, 1, 2, 3, 4, 5, 6]"
            ]
          },
          "metadata": {
            "tags": []
          },
          "execution_count": 37
        }
      ]
    },
    {
      "cell_type": "code",
      "metadata": {
        "id": "47uQgqqR7gYc",
        "colab": {
          "base_uri": "https://localhost:8080/",
          "height": 32
        },
        "outputId": "1109cc74-7b2b-41cb-ad78-8000b470fb46"
      },
      "source": [
        "list3 * 3"
      ],
      "execution_count": null,
      "outputs": [
        {
          "output_type": "execute_result",
          "data": {
            "text/plain": [
              "[1, 2, 3, 4, 5, 6, 1, 2, 3, 4, 5, 6, 1, 2, 3, 4, 5, 6]"
            ]
          },
          "metadata": {
            "tags": []
          },
          "execution_count": 38
        }
      ]
    },
    {
      "cell_type": "code",
      "metadata": {
        "id": "hbzxiYnx7gYd",
        "colab": {
          "base_uri": "https://localhost:8080/",
          "height": 189
        },
        "outputId": "d2bee345-7a0b-4b30-adea-aff9b823e8b7"
      },
      "source": [
        "list3 / 2"
      ],
      "execution_count": null,
      "outputs": [
        {
          "output_type": "error",
          "ename": "TypeError",
          "evalue": "ignored",
          "traceback": [
            "\u001b[0;31m---------------------------------------------------------------------------\u001b[0m",
            "\u001b[0;31mTypeError\u001b[0m                                 Traceback (most recent call last)",
            "\u001b[0;32m<ipython-input-39-09f5bd2e668e>\u001b[0m in \u001b[0;36m<module>\u001b[0;34m()\u001b[0m\n\u001b[0;32m----> 1\u001b[0;31m \u001b[0mlist3\u001b[0m \u001b[0;34m/\u001b[0m \u001b[0;36m2\u001b[0m\u001b[0;34m\u001b[0m\u001b[0m\n\u001b[0m",
            "\u001b[0;31mTypeError\u001b[0m: unsupported operand type(s) for /: 'list' and 'int'"
          ]
        }
      ]
    },
    {
      "cell_type": "code",
      "metadata": {
        "id": "YXHm7duS7gYf",
        "colab": {
          "base_uri": "https://localhost:8080/",
          "height": 32
        },
        "outputId": "0e1d3457-a453-4e3f-e6b3-2b579ccf6b0e"
      },
      "source": [
        "list1 = [1, 7, 19, 22, 3]\n",
        "min(list1)"
      ],
      "execution_count": null,
      "outputs": [
        {
          "output_type": "execute_result",
          "data": {
            "text/plain": [
              "1"
            ]
          },
          "metadata": {
            "tags": []
          },
          "execution_count": 41
        }
      ]
    },
    {
      "cell_type": "code",
      "metadata": {
        "id": "hvjyhD5Y7gYi",
        "colab": {
          "base_uri": "https://localhost:8080/",
          "height": 32
        },
        "outputId": "e777a36c-0036-4ccb-83ba-472060ed9577"
      },
      "source": [
        "max(list1)"
      ],
      "execution_count": null,
      "outputs": [
        {
          "output_type": "execute_result",
          "data": {
            "text/plain": [
              "22"
            ]
          },
          "metadata": {
            "tags": []
          },
          "execution_count": 42
        }
      ]
    },
    {
      "cell_type": "code",
      "metadata": {
        "id": "EA3usIng7gYl",
        "colab": {
          "base_uri": "https://localhost:8080/",
          "height": 32
        },
        "outputId": "0f0aee47-cf59-44b6-a730-d92bf9cf907a"
      },
      "source": [
        "19 in list1"
      ],
      "execution_count": null,
      "outputs": [
        {
          "output_type": "execute_result",
          "data": {
            "text/plain": [
              "True"
            ]
          },
          "metadata": {
            "tags": []
          },
          "execution_count": 43
        }
      ]
    },
    {
      "cell_type": "code",
      "metadata": {
        "id": "ZvgmI1XN7gYt",
        "colab": {
          "base_uri": "https://localhost:8080/",
          "height": 32
        },
        "outputId": "999dbd7e-ed57-4551-d68a-f046692bd00e"
      },
      "source": [
        "18 in list1"
      ],
      "execution_count": null,
      "outputs": [
        {
          "output_type": "execute_result",
          "data": {
            "text/plain": [
              "False"
            ]
          },
          "metadata": {
            "tags": []
          },
          "execution_count": 44
        }
      ]
    },
    {
      "cell_type": "code",
      "metadata": {
        "id": "6XnhSVE-7gYz",
        "colab": {
          "base_uri": "https://localhost:8080/",
          "height": 32
        },
        "outputId": "0294ff43-f9df-4714-d750-1416bb0508ac"
      },
      "source": [
        "len(list1)"
      ],
      "execution_count": null,
      "outputs": [
        {
          "output_type": "execute_result",
          "data": {
            "text/plain": [
              "5"
            ]
          },
          "metadata": {
            "tags": []
          },
          "execution_count": 45
        }
      ]
    },
    {
      "cell_type": "code",
      "metadata": {
        "id": "PF56ODVg7gY3",
        "colab": {
          "base_uri": "https://localhost:8080/",
          "height": 32
        },
        "outputId": "47752a6d-647f-41f3-fd5c-e0e2863ba608"
      },
      "source": [
        "18 not in list1"
      ],
      "execution_count": null,
      "outputs": [
        {
          "output_type": "execute_result",
          "data": {
            "text/plain": [
              "True"
            ]
          },
          "metadata": {
            "tags": []
          },
          "execution_count": 46
        }
      ]
    },
    {
      "cell_type": "code",
      "metadata": {
        "id": "kWI3IxoE7gY6",
        "colab": {
          "base_uri": "https://localhost:8080/",
          "height": 32
        },
        "outputId": "4e91365f-0a6d-49ee-cb1d-481ddda2099f"
      },
      "source": [
        "19 not in list1"
      ],
      "execution_count": null,
      "outputs": [
        {
          "output_type": "execute_result",
          "data": {
            "text/plain": [
              "False"
            ]
          },
          "metadata": {
            "tags": []
          },
          "execution_count": 47
        }
      ]
    },
    {
      "cell_type": "markdown",
      "metadata": {
        "id": "hopGOWZU8_pH"
      },
      "source": [
        "#List Methods"
      ]
    },
    {
      "cell_type": "markdown",
      "metadata": {
        "id": "HzQnqJjI9Dgq"
      },
      "source": [
        "Method | Description\n",
        "--- | ---\n",
        "append(x) | Add an item *(x)* to the end of the list\n",
        "insert(i,x) | Insert an item *(x)* at a given position *(i)*\n",
        "remove(x) | Remove the *first* *item* in the list whose value is *x* <br> → Error if there is no such element\n",
        "pop(i) <br> pop() | Remove & return the element at index *i* <br> Remove & return the last element if *i* is not specified <br> → Error if there is no such index\n",
        "clear() | Remove all the elements of the list\n",
        "index(x,start,end) | Return the index of the first item whose value is *x*, <br> within the range of [*start*, *end*] <br>→ Error if there is no such element (*start* and *end* are optional)\n",
        "count(x) | Return the number of times *x* appears in the list\n",
        "reverse() | Reverses the elements of the list in-place (nothing is returned)\n"
      ]
    },
    {
      "cell_type": "markdown",
      "metadata": {
        "id": "ps90CrBcTOPY"
      },
      "source": [
        "# List Method Examples"
      ]
    },
    {
      "cell_type": "code",
      "metadata": {
        "id": "ZKxNpDUXTRTu",
        "colab": {
          "base_uri": "https://localhost:8080/",
          "height": 32
        },
        "outputId": "2ea71e0b-f914-4a17-b4fd-93134f065a3b"
      },
      "source": [
        "x = [1,2,3,4,5]\n",
        "x. append(6)\n",
        "print(x)"
      ],
      "execution_count": null,
      "outputs": [
        {
          "output_type": "stream",
          "text": [
            "[1, 2, 3, 4, 5, 6]\n"
          ],
          "name": "stdout"
        }
      ]
    },
    {
      "cell_type": "code",
      "metadata": {
        "id": "oaX7m1YlTUHx",
        "colab": {
          "base_uri": "https://localhost:8080/",
          "height": 32
        },
        "outputId": "07d978dc-e187-482f-8d52-a520fd3e00ae"
      },
      "source": [
        "x.insert(0,0)\n",
        "print(x)"
      ],
      "execution_count": null,
      "outputs": [
        {
          "output_type": "stream",
          "text": [
            "[0, 1, 2, 3, 4, 5, 6]\n"
          ],
          "name": "stdout"
        }
      ]
    },
    {
      "cell_type": "code",
      "metadata": {
        "id": "1KGREPZzTdec",
        "colab": {
          "base_uri": "https://localhost:8080/",
          "height": 32
        },
        "outputId": "534b265a-4969-4994-9484-302523481bd5"
      },
      "source": [
        "x.insert(0,5)\n",
        "print(x)"
      ],
      "execution_count": null,
      "outputs": [
        {
          "output_type": "stream",
          "text": [
            "[5, 0, 1, 2, 3, 4, 5, 6]\n"
          ],
          "name": "stdout"
        }
      ]
    },
    {
      "cell_type": "code",
      "metadata": {
        "id": "cjaCzHgRTilk",
        "colab": {
          "base_uri": "https://localhost:8080/",
          "height": 32
        },
        "outputId": "36597e5e-cee4-4bb1-dcb6-eda0554040ba"
      },
      "source": [
        "a = x.count(5)\n",
        "print(x,\"-->\",a)"
      ],
      "execution_count": null,
      "outputs": [
        {
          "output_type": "stream",
          "text": [
            "[5, 0, 1, 2, 3, 4, 5, 6] --> 2\n"
          ],
          "name": "stdout"
        }
      ]
    },
    {
      "cell_type": "code",
      "metadata": {
        "id": "BDVuA8RuXHdM",
        "colab": {
          "base_uri": "https://localhost:8080/",
          "height": 32
        },
        "outputId": "cfdc5b24-d323-457a-eae6-0cfd18759553"
      },
      "source": [
        "x.remove(5)\n",
        "print(x)"
      ],
      "execution_count": null,
      "outputs": [
        {
          "output_type": "stream",
          "text": [
            "[0, 1, 2, 3, 4, 5, 6]\n"
          ],
          "name": "stdout"
        }
      ]
    },
    {
      "cell_type": "code",
      "metadata": {
        "id": "HtmkJMr3Xi5J",
        "colab": {
          "base_uri": "https://localhost:8080/",
          "height": 32
        },
        "outputId": "d4c713ef-2eb3-4681-c191-581d62cb4c41"
      },
      "source": [
        "a = x.pop()\n",
        "print(x,\"-->\",a)"
      ],
      "execution_count": null,
      "outputs": [
        {
          "output_type": "stream",
          "text": [
            "[0, 1, 2, 3, 4, 5] --> 6\n"
          ],
          "name": "stdout"
        }
      ]
    },
    {
      "cell_type": "code",
      "metadata": {
        "id": "iNHHsLDBXo7p",
        "colab": {
          "base_uri": "https://localhost:8080/",
          "height": 32
        },
        "outputId": "212d3b3c-7210-466a-a176-e0b23cbd38c7"
      },
      "source": [
        "a = x.pop(0)\n",
        "print(x,\"-->\",a)"
      ],
      "execution_count": null,
      "outputs": [
        {
          "output_type": "stream",
          "text": [
            "[1, 2, 3, 4, 5] --> 0\n"
          ],
          "name": "stdout"
        }
      ]
    },
    {
      "cell_type": "code",
      "metadata": {
        "id": "LGAZ3KgNX7r3",
        "colab": {
          "base_uri": "https://localhost:8080/",
          "height": 32
        },
        "outputId": "50ba07a6-bae7-49a8-c26d-f176d5c76f01"
      },
      "source": [
        "a = x.pop(0)\n",
        "print(x,\"-->\",a)"
      ],
      "execution_count": null,
      "outputs": [
        {
          "output_type": "stream",
          "text": [
            "[2, 3, 4, 5] --> 1\n"
          ],
          "name": "stdout"
        }
      ]
    },
    {
      "cell_type": "code",
      "metadata": {
        "id": "JM1rhxevX_TL",
        "colab": {
          "base_uri": "https://localhost:8080/",
          "height": 32
        },
        "outputId": "63e027c2-c63b-4425-e8ac-815d27a14445"
      },
      "source": [
        "x = [1,2,3,4,5]\n",
        "x.append(5)\n",
        "x.insert(1,4)\n",
        "x.insert(4,4)\n",
        "print(x)"
      ],
      "execution_count": null,
      "outputs": [
        {
          "output_type": "stream",
          "text": [
            "[1, 4, 2, 3, 4, 4, 5, 5]\n"
          ],
          "name": "stdout"
        }
      ]
    },
    {
      "cell_type": "code",
      "metadata": {
        "id": "p6CPEfQ7YLZY",
        "colab": {
          "base_uri": "https://localhost:8080/",
          "height": 32
        },
        "outputId": "47828f88-3e2f-4cff-b1eb-8e0b6f0bdd6e"
      },
      "source": [
        "a = x.index(4)\n",
        "print(x,\"-->\",a)"
      ],
      "execution_count": null,
      "outputs": [
        {
          "output_type": "stream",
          "text": [
            "[1, 4, 2, 3, 4, 4, 5, 5] --> 1\n"
          ],
          "name": "stdout"
        }
      ]
    },
    {
      "cell_type": "code",
      "metadata": {
        "id": "8E2a1dP2YUNY",
        "colab": {
          "base_uri": "https://localhost:8080/",
          "height": 32
        },
        "outputId": "138dddbc-c0d6-469b-b392-a1b588426956"
      },
      "source": [
        "a = x.index(4,2)\n",
        "print(x,\"-->\",a)"
      ],
      "execution_count": null,
      "outputs": [
        {
          "output_type": "stream",
          "text": [
            "[1, 4, 2, 3, 4, 4, 5, 5] --> 4\n"
          ],
          "name": "stdout"
        }
      ]
    },
    {
      "cell_type": "code",
      "metadata": {
        "id": "0mbsB3QSYYgB",
        "colab": {
          "base_uri": "https://localhost:8080/",
          "height": 32
        },
        "outputId": "1434d2b1-66a2-404d-aa98-eab4db64332d"
      },
      "source": [
        "a = x.index(4,5,7)\n",
        "print(x,\"-->\",a)"
      ],
      "execution_count": null,
      "outputs": [
        {
          "output_type": "stream",
          "text": [
            "[1, 4, 2, 3, 4, 4, 5, 5] --> 5\n"
          ],
          "name": "stdout"
        }
      ]
    },
    {
      "cell_type": "markdown",
      "metadata": {
        "id": "aSAIJ2icF4ax"
      },
      "source": [
        "#find_population.py\n"
      ]
    },
    {
      "cell_type": "code",
      "metadata": {
        "id": "X75QIeNgEcfA",
        "colab": {
          "base_uri": "https://localhost:8080/",
          "height": 62
        },
        "outputId": "fe3614fe-0f17-4243-caef-17a9b803b059"
      },
      "source": [
        "cities = \"Istanbul,Ankara,Izmir,Bursa\"\n",
        "populations = \"15000000,5500000,4300000,1800000\"\n",
        "\n",
        "cityList = cities.split(',')\n",
        "populationList = populations.split(',')\n",
        "\n",
        "cityname = input(\"Please enter the city name:\")\n",
        "if cityname in cities:\n",
        "  position = cityList.index(cityname)\n",
        "  print('Population of', cityname, 'is', populationList[position])\n",
        "else:\n",
        "  print('The city name does not exist.')"
      ],
      "execution_count": null,
      "outputs": [
        {
          "output_type": "stream",
          "text": [
            "Please enter the city name:Ankara\n",
            "Population of Ankara is 5500000\n"
          ],
          "name": "stdout"
        }
      ]
    },
    {
      "cell_type": "markdown",
      "metadata": {
        "id": "GN-BqP-f_wKK"
      },
      "source": [
        "#Nested List"
      ]
    },
    {
      "cell_type": "markdown",
      "metadata": {
        "id": "EQJ-5vMX_zm7"
      },
      "source": [
        "An element of a list can be another list"
      ]
    },
    {
      "cell_type": "code",
      "metadata": {
        "id": "2kj-RGId_5LA"
      },
      "source": [
        "list1 = [[1,7,8], [2,6,5], [9,0,-45]]"
      ],
      "execution_count": null,
      "outputs": []
    },
    {
      "cell_type": "code",
      "metadata": {
        "id": "Q9ROGv7NAWJq",
        "colab": {
          "base_uri": "https://localhost:8080/",
          "height": 40
        },
        "outputId": "31ac6f29-7e80-4f7d-fc93-a3e827fd3d8d"
      },
      "source": [
        "list1[1]"
      ],
      "execution_count": null,
      "outputs": [
        {
          "output_type": "execute_result",
          "data": {
            "text/plain": [
              "[2, 6, 5]"
            ]
          },
          "metadata": {
            "tags": []
          },
          "execution_count": 4
        }
      ]
    },
    {
      "cell_type": "code",
      "metadata": {
        "id": "q10sPQf6Aalz"
      },
      "source": [
        "list1[1][1]"
      ],
      "execution_count": null,
      "outputs": []
    },
    {
      "cell_type": "markdown",
      "metadata": {
        "id": "gt0OvvBwAeIh"
      },
      "source": [
        "- list1[1] → returns the index 1 of list1, which is [2,6,5]\n",
        " \n",
        "- list1[1][1] → returns the index 1 of [2,6,5], which is 6\n"
      ]
    },
    {
      "cell_type": "markdown",
      "metadata": {
        "id": "JtNNcxC9ArPB"
      },
      "source": [
        "# Updating Elements of a List"
      ]
    },
    {
      "cell_type": "code",
      "metadata": {
        "id": "uXBucug7ArPC",
        "colab": {
          "base_uri": "https://localhost:8080/",
          "height": 32
        },
        "outputId": "dd83bcc0-b361-4b52-960f-9cab6c3f7178"
      },
      "source": [
        "cubes = [1, 8, 27, 65, 125] #something's wrong here\n",
        "cubes[3] = 64 #replace the wrong value\n",
        "cubes"
      ],
      "execution_count": null,
      "outputs": [
        {
          "output_type": "execute_result",
          "data": {
            "text/plain": [
              "[1, 8, 27, 64, 125]"
            ]
          },
          "metadata": {
            "tags": []
          },
          "execution_count": 53
        }
      ]
    },
    {
      "cell_type": "markdown",
      "metadata": {
        "id": "de-l2iTeArPO"
      },
      "source": [
        "# Updating Characters of String"
      ]
    },
    {
      "cell_type": "markdown",
      "metadata": {
        "id": "vZPNK5ZTArPQ"
      },
      "source": [
        "* Remember that lists are mutable → elements of lists can be updated\n",
        "* On the other hand, strings are immutable"
      ]
    },
    {
      "cell_type": "code",
      "metadata": {
        "id": "KGpO1hnpArPR"
      },
      "source": [
        "name = \"Ataturk\""
      ],
      "execution_count": null,
      "outputs": []
    },
    {
      "cell_type": "code",
      "metadata": {
        "id": "pf2o7Re2ArPT",
        "colab": {
          "base_uri": "https://localhost:8080/",
          "height": 181
        },
        "outputId": "437bad60-d4de-4d6d-de8a-e8d09a653c86"
      },
      "source": [
        "name[0] = 'R'"
      ],
      "execution_count": null,
      "outputs": [
        {
          "output_type": "error",
          "ename": "TypeError",
          "evalue": "ignored",
          "traceback": [
            "\u001b[0;31m---------------------------------------------------------------------------\u001b[0m",
            "\u001b[0;31mTypeError\u001b[0m                                 Traceback (most recent call last)",
            "\u001b[0;32m<ipython-input-58-acbce0d18936>\u001b[0m in \u001b[0;36m<module>\u001b[0;34m()\u001b[0m\n\u001b[0;32m----> 1\u001b[0;31m \u001b[0mname\u001b[0m\u001b[0;34m[\u001b[0m\u001b[0;36m0\u001b[0m\u001b[0;34m]\u001b[0m \u001b[0;34m=\u001b[0m \u001b[0;34m'R'\u001b[0m\u001b[0;34m\u001b[0m\u001b[0m\n\u001b[0m",
            "\u001b[0;31mTypeError\u001b[0m: 'str' object does not support item assignment"
          ]
        }
      ]
    },
    {
      "cell_type": "markdown",
      "metadata": {
        "id": "Y0C0h9rdAzvu"
      },
      "source": [
        "# Values versus References"
      ]
    },
    {
      "cell_type": "markdown",
      "metadata": {
        "id": "pujEBWpwAzvw"
      },
      "source": [
        "* Every variable references a location in the memory & its value is stored in that location\n",
        "* If you assign a **value** to a variable, then it has a new location in the memory\n",
        "* If you assign** another variable** to a variable, they share the same location **(reference)**"
      ]
    },
    {
      "cell_type": "code",
      "metadata": {
        "id": "Y_Bt58VtAzvw",
        "colab": {
          "base_uri": "https://localhost:8080/",
          "height": 115
        },
        "outputId": "73827676-3c12-4e5e-9517-548ce26545e5"
      },
      "source": [
        "list1 = [4,3,2,1]\n",
        "list2 = list1\n",
        "print(\"list1:\", list1)\n",
        "print(\"list2:\", list2)\n",
        "list1[2] = 7\n",
        "print(\"list1:\", list1)\n",
        "print(\"list2:\", list2)\n",
        "list2 = [\"a\", \"b\"]\n",
        "print(\"list1:\", list1)\n",
        "print(\"list2:\", list2)"
      ],
      "execution_count": null,
      "outputs": [
        {
          "output_type": "stream",
          "text": [
            "list1: [4, 3, 2, 1]\n",
            "list2: [4, 3, 2, 1]\n",
            "list1: [4, 3, 7, 1]\n",
            "list2: [4, 3, 7, 1]\n",
            "list1: [4, 3, 7, 1]\n",
            "list2: ['a', 'b']\n"
          ],
          "name": "stdout"
        }
      ]
    },
    {
      "cell_type": "code",
      "metadata": {
        "id": "h0DV_4KXAzvz",
        "colab": {
          "base_uri": "https://localhost:8080/",
          "height": 49
        },
        "outputId": "7f02705f-4021-438b-88b4-c975cc62e494"
      },
      "source": [
        "var1 = 5\n",
        "var2 = var1\n",
        "var2 = 20\n",
        "\n",
        "print(\"var1 = \", var1)\n",
        "print(\"var2 = \", var2)"
      ],
      "execution_count": null,
      "outputs": [
        {
          "output_type": "stream",
          "text": [
            "var1 =  5\n",
            "var2 =  20\n"
          ],
          "name": "stdout"
        }
      ]
    },
    {
      "cell_type": "code",
      "metadata": {
        "id": "KJfxmQWGAzv2",
        "colab": {
          "base_uri": "https://localhost:8080/",
          "height": 49
        },
        "outputId": "621ff129-feab-429e-e0e4-b2082944d39c"
      },
      "source": [
        "list1 = [1, 2, 3, 4, 5]\n",
        "list2 = list1\n",
        "list2 = [\"a\", \"b\", \"c\"]\n",
        "\n",
        "print(\"list1 = \", list1)\n",
        "print(\"list2 = \", list2)"
      ],
      "execution_count": null,
      "outputs": [
        {
          "output_type": "stream",
          "text": [
            "list1 =  [1, 2, 3, 4, 5]\n",
            "list2 =  ['a', 'b', 'c']\n"
          ],
          "name": "stdout"
        }
      ]
    },
    {
      "cell_type": "code",
      "metadata": {
        "id": "0PW9aCWHAzv6",
        "colab": {
          "base_uri": "https://localhost:8080/",
          "height": 49
        },
        "outputId": "2ef9d56a-5e99-47b4-cd24-fbf8f1e1bb64"
      },
      "source": [
        "list1 = [1, 2, 3, 4, 5]\n",
        "list2 = list1\n",
        "list2[3] = \"changed\"\n",
        "\n",
        "print(\"list1 = \", list1)\n",
        "print(\"list2 = \", list2)"
      ],
      "execution_count": null,
      "outputs": [
        {
          "output_type": "stream",
          "text": [
            "list1 =  [1, 2, 3, 'changed', 5]\n",
            "list2 =  [1, 2, 3, 'changed', 5]\n"
          ],
          "name": "stdout"
        }
      ]
    },
    {
      "cell_type": "markdown",
      "metadata": {
        "id": "Xi7GIG7c7k5q"
      },
      "source": [
        "# Car Colour Distribution Bar/Pie Chart in SU FASS Parking Area"
      ]
    },
    {
      "cell_type": "markdown",
      "metadata": {
        "id": "75JtBJchAkCl"
      },
      "source": [
        "One of your TAs recorded the colours of the cars parked at SU FASS parking area last Friday. Following are the results:\n",
        "\n",
        "Colour | Number of Cars\n",
        "--- | ---\n",
        "White | 12 cars\n",
        "Black | 18 cars \n",
        "Red | 8 cars\n",
        "Blue  | 5 cars\n",
        "\n",
        "**Plot the car colour distribution in SU FASS parking area last Friday**\n",
        "\n",
        "We need to learn two new concepts to do that:\n",
        "\n",
        "* list → A data type to hold group of information\n",
        "* matplotlib → Python 2D plotting library"
      ]
    },
    {
      "cell_type": "markdown",
      "metadata": {
        "id": "tcvFhaQxTHN4"
      },
      "source": [
        "# How to use Matplotlib"
      ]
    },
    {
      "cell_type": "markdown",
      "metadata": {
        "id": "OLIsQDq__M73"
      },
      "source": [
        "We add following line to the beginning of the program in order to be able to use the <u>*matplotlib*</u> library in the program:\n",
        "\n",
        "<u>*import matplotlib.pyplot as* ***give_a_name*** </u>\n",
        "\n",
        "or\n",
        "\n",
        "<u>*from matplotlib import pyplot as* ***give_a_name***</u>\n"
      ]
    },
    {
      "cell_type": "code",
      "metadata": {
        "id": "WLjbNxUVTL7S",
        "colab": {
          "base_uri": "https://localhost:8080/",
          "height": 279
        },
        "outputId": "a6b64532-6f0b-4d35-99b9-106b2127af45"
      },
      "source": [
        "from matplotlib import pyplot as plt\n",
        "\n",
        "x = [1, 2, 3, 4, 5]\n",
        "y = [2, 4, 6, 8, 10]\n",
        "\n",
        "plt.plot(x,y)\n",
        "plt.xlabel('x')\n",
        "plt.ylabel('y')\n",
        "plt.show()"
      ],
      "execution_count": null,
      "outputs": [
        {
          "output_type": "display_data",
          "data": {
            "image/png": "[encoded data removed]",
            "text/plain": [
              "<Figure size 432x288 with 1 Axes>"
            ]
          },
          "metadata": {
            "tags": []
          }
        }
      ]
    },
    {
      "cell_type": "code",
      "metadata": {
        "id": "nqXaCwfgTtNy",
        "colab": {
          "base_uri": "https://localhost:8080/",
          "height": 610
        },
        "outputId": "3fbbe4ce-8451-4938-e289-210fbaefd173"
      },
      "source": [
        "from matplotlib import pyplot as plt\n",
        "\n",
        "x = [1, 2, 3, 4, 5]\n",
        "y = [1, 4, 9, 16, 25, 36]\n",
        "\n",
        "plt.plot(x,y)\n",
        "plt.show()"
      ],
      "execution_count": null,
      "outputs": [
        {
          "output_type": "error",
          "ename": "ValueError",
          "evalue": "ignored",
          "traceback": [
            "\u001b[0;31m---------------------------------------------------------------------------\u001b[0m",
            "\u001b[0;31mValueError\u001b[0m                                Traceback (most recent call last)",
            "\u001b[0;32m<ipython-input-4-a057a6950779>\u001b[0m in \u001b[0;36m<module>\u001b[0;34m()\u001b[0m\n\u001b[1;32m      4\u001b[0m \u001b[0my\u001b[0m \u001b[0;34m=\u001b[0m \u001b[0;34m[\u001b[0m\u001b[0;36m1\u001b[0m\u001b[0;34m,\u001b[0m \u001b[0;36m4\u001b[0m\u001b[0;34m,\u001b[0m \u001b[0;36m9\u001b[0m\u001b[0;34m,\u001b[0m \u001b[0;36m16\u001b[0m\u001b[0;34m,\u001b[0m \u001b[0;36m25\u001b[0m\u001b[0;34m,\u001b[0m \u001b[0;36m36\u001b[0m\u001b[0;34m]\u001b[0m\u001b[0;34m\u001b[0m\u001b[0;34m\u001b[0m\u001b[0m\n\u001b[1;32m      5\u001b[0m \u001b[0;34m\u001b[0m\u001b[0m\n\u001b[0;32m----> 6\u001b[0;31m \u001b[0mplt\u001b[0m\u001b[0;34m.\u001b[0m\u001b[0mplot\u001b[0m\u001b[0;34m(\u001b[0m\u001b[0mx\u001b[0m\u001b[0;34m,\u001b[0m\u001b[0my\u001b[0m\u001b[0;34m)\u001b[0m\u001b[0;34m\u001b[0m\u001b[0;34m\u001b[0m\u001b[0m\n\u001b[0m\u001b[1;32m      7\u001b[0m \u001b[0mplt\u001b[0m\u001b[0;34m.\u001b[0m\u001b[0mshow\u001b[0m\u001b[0;34m(\u001b[0m\u001b[0;34m)\u001b[0m\u001b[0;34m\u001b[0m\u001b[0;34m\u001b[0m\u001b[0m\n",
            "\u001b[0;32m/usr/local/lib/python3.6/dist-packages/matplotlib/pyplot.py\u001b[0m in \u001b[0;36mplot\u001b[0;34m(scalex, scaley, data, *args, **kwargs)\u001b[0m\n\u001b[1;32m   2793\u001b[0m     return gca().plot(\n\u001b[1;32m   2794\u001b[0m         *args, scalex=scalex, scaley=scaley, **({\"data\": data} if data\n\u001b[0;32m-> 2795\u001b[0;31m         is not None else {}), **kwargs)\n\u001b[0m\u001b[1;32m   2796\u001b[0m \u001b[0;34m\u001b[0m\u001b[0m\n\u001b[1;32m   2797\u001b[0m \u001b[0;34m\u001b[0m\u001b[0m\n",
            "\u001b[0;32m/usr/local/lib/python3.6/dist-packages/matplotlib/axes/_axes.py\u001b[0m in \u001b[0;36mplot\u001b[0;34m(self, scalex, scaley, data, *args, **kwargs)\u001b[0m\n\u001b[1;32m   1664\u001b[0m         \"\"\"\n\u001b[1;32m   1665\u001b[0m         \u001b[0mkwargs\u001b[0m \u001b[0;34m=\u001b[0m \u001b[0mcbook\u001b[0m\u001b[0;34m.\u001b[0m\u001b[0mnormalize_kwargs\u001b[0m\u001b[0;34m(\u001b[0m\u001b[0mkwargs\u001b[0m\u001b[0;34m,\u001b[0m \u001b[0mmlines\u001b[0m\u001b[0;34m.\u001b[0m\u001b[0mLine2D\u001b[0m\u001b[0;34m.\u001b[0m\u001b[0m_alias_map\u001b[0m\u001b[0;34m)\u001b[0m\u001b[0;34m\u001b[0m\u001b[0;34m\u001b[0m\u001b[0m\n\u001b[0;32m-> 1666\u001b[0;31m         \u001b[0mlines\u001b[0m \u001b[0;34m=\u001b[0m \u001b[0;34m[\u001b[0m\u001b[0;34m*\u001b[0m\u001b[0mself\u001b[0m\u001b[0;34m.\u001b[0m\u001b[0m_get_lines\u001b[0m\u001b[0;34m(\u001b[0m\u001b[0;34m*\u001b[0m\u001b[0margs\u001b[0m\u001b[0;34m,\u001b[0m \u001b[0mdata\u001b[0m\u001b[0;34m=\u001b[0m\u001b[0mdata\u001b[0m\u001b[0;34m,\u001b[0m \u001b[0;34m**\u001b[0m\u001b[0mkwargs\u001b[0m\u001b[0;34m)\u001b[0m\u001b[0;34m]\u001b[0m\u001b[0;34m\u001b[0m\u001b[0;34m\u001b[0m\u001b[0m\n\u001b[0m\u001b[1;32m   1667\u001b[0m         \u001b[0;32mfor\u001b[0m \u001b[0mline\u001b[0m \u001b[0;32min\u001b[0m \u001b[0mlines\u001b[0m\u001b[0;34m:\u001b[0m\u001b[0;34m\u001b[0m\u001b[0;34m\u001b[0m\u001b[0m\n\u001b[1;32m   1668\u001b[0m             \u001b[0mself\u001b[0m\u001b[0;34m.\u001b[0m\u001b[0madd_line\u001b[0m\u001b[0;34m(\u001b[0m\u001b[0mline\u001b[0m\u001b[0;34m)\u001b[0m\u001b[0;34m\u001b[0m\u001b[0;34m\u001b[0m\u001b[0m\n",
            "\u001b[0;32m/usr/local/lib/python3.6/dist-packages/matplotlib/axes/_base.py\u001b[0m in \u001b[0;36m__call__\u001b[0;34m(self, *args, **kwargs)\u001b[0m\n\u001b[1;32m    223\u001b[0m                 \u001b[0mthis\u001b[0m \u001b[0;34m+=\u001b[0m \u001b[0margs\u001b[0m\u001b[0;34m[\u001b[0m\u001b[0;36m0\u001b[0m\u001b[0;34m]\u001b[0m\u001b[0;34m,\u001b[0m\u001b[0;34m\u001b[0m\u001b[0;34m\u001b[0m\u001b[0m\n\u001b[1;32m    224\u001b[0m                 \u001b[0margs\u001b[0m \u001b[0;34m=\u001b[0m \u001b[0margs\u001b[0m\u001b[0;34m[\u001b[0m\u001b[0;36m1\u001b[0m\u001b[0;34m:\u001b[0m\u001b[0;34m]\u001b[0m\u001b[0;34m\u001b[0m\u001b[0;34m\u001b[0m\u001b[0m\n\u001b[0;32m--> 225\u001b[0;31m             \u001b[0;32myield\u001b[0m \u001b[0;32mfrom\u001b[0m \u001b[0mself\u001b[0m\u001b[0;34m.\u001b[0m\u001b[0m_plot_args\u001b[0m\u001b[0;34m(\u001b[0m\u001b[0mthis\u001b[0m\u001b[0;34m,\u001b[0m \u001b[0mkwargs\u001b[0m\u001b[0;34m)\u001b[0m\u001b[0;34m\u001b[0m\u001b[0;34m\u001b[0m\u001b[0m\n\u001b[0m\u001b[1;32m    226\u001b[0m \u001b[0;34m\u001b[0m\u001b[0m\n\u001b[1;32m    227\u001b[0m     \u001b[0;32mdef\u001b[0m \u001b[0mget_next_color\u001b[0m\u001b[0;34m(\u001b[0m\u001b[0mself\u001b[0m\u001b[0;34m)\u001b[0m\u001b[0;34m:\u001b[0m\u001b[0;34m\u001b[0m\u001b[0;34m\u001b[0m\u001b[0m\n",
            "\u001b[0;32m/usr/local/lib/python3.6/dist-packages/matplotlib/axes/_base.py\u001b[0m in \u001b[0;36m_plot_args\u001b[0;34m(self, tup, kwargs)\u001b[0m\n\u001b[1;32m    389\u001b[0m             \u001b[0mx\u001b[0m\u001b[0;34m,\u001b[0m \u001b[0my\u001b[0m \u001b[0;34m=\u001b[0m \u001b[0mindex_of\u001b[0m\u001b[0;34m(\u001b[0m\u001b[0mtup\u001b[0m\u001b[0;34m[\u001b[0m\u001b[0;34m-\u001b[0m\u001b[0;36m1\u001b[0m\u001b[0;34m]\u001b[0m\u001b[0;34m)\u001b[0m\u001b[0;34m\u001b[0m\u001b[0;34m\u001b[0m\u001b[0m\n\u001b[1;32m    390\u001b[0m \u001b[0;34m\u001b[0m\u001b[0m\n\u001b[0;32m--> 391\u001b[0;31m         \u001b[0mx\u001b[0m\u001b[0;34m,\u001b[0m \u001b[0my\u001b[0m \u001b[0;34m=\u001b[0m \u001b[0mself\u001b[0m\u001b[0;34m.\u001b[0m\u001b[0m_xy_from_xy\u001b[0m\u001b[0;34m(\u001b[0m\u001b[0mx\u001b[0m\u001b[0;34m,\u001b[0m \u001b[0my\u001b[0m\u001b[0;34m)\u001b[0m\u001b[0;34m\u001b[0m\u001b[0;34m\u001b[0m\u001b[0m\n\u001b[0m\u001b[1;32m    392\u001b[0m \u001b[0;34m\u001b[0m\u001b[0m\n\u001b[1;32m    393\u001b[0m         \u001b[0;32mif\u001b[0m \u001b[0mself\u001b[0m\u001b[0;34m.\u001b[0m\u001b[0mcommand\u001b[0m \u001b[0;34m==\u001b[0m \u001b[0;34m'plot'\u001b[0m\u001b[0;34m:\u001b[0m\u001b[0;34m\u001b[0m\u001b[0;34m\u001b[0m\u001b[0m\n",
            "\u001b[0;32m/usr/local/lib/python3.6/dist-packages/matplotlib/axes/_base.py\u001b[0m in \u001b[0;36m_xy_from_xy\u001b[0;34m(self, x, y)\u001b[0m\n\u001b[1;32m    268\u001b[0m         \u001b[0;32mif\u001b[0m \u001b[0mx\u001b[0m\u001b[0;34m.\u001b[0m\u001b[0mshape\u001b[0m\u001b[0;34m[\u001b[0m\u001b[0;36m0\u001b[0m\u001b[0;34m]\u001b[0m \u001b[0;34m!=\u001b[0m \u001b[0my\u001b[0m\u001b[0;34m.\u001b[0m\u001b[0mshape\u001b[0m\u001b[0;34m[\u001b[0m\u001b[0;36m0\u001b[0m\u001b[0;34m]\u001b[0m\u001b[0;34m:\u001b[0m\u001b[0;34m\u001b[0m\u001b[0;34m\u001b[0m\u001b[0m\n\u001b[1;32m    269\u001b[0m             raise ValueError(\"x and y must have same first dimension, but \"\n\u001b[0;32m--> 270\u001b[0;31m                              \"have shapes {} and {}\".format(x.shape, y.shape))\n\u001b[0m\u001b[1;32m    271\u001b[0m         \u001b[0;32mif\u001b[0m \u001b[0mx\u001b[0m\u001b[0;34m.\u001b[0m\u001b[0mndim\u001b[0m \u001b[0;34m>\u001b[0m \u001b[0;36m2\u001b[0m \u001b[0;32mor\u001b[0m \u001b[0my\u001b[0m\u001b[0;34m.\u001b[0m\u001b[0mndim\u001b[0m \u001b[0;34m>\u001b[0m \u001b[0;36m2\u001b[0m\u001b[0;34m:\u001b[0m\u001b[0;34m\u001b[0m\u001b[0;34m\u001b[0m\u001b[0m\n\u001b[1;32m    272\u001b[0m             raise ValueError(\"x and y can be no greater than 2-D, but have \"\n",
            "\u001b[0;31mValueError\u001b[0m: x and y must have same first dimension, but have shapes (5,) and (6,)"
          ]
        },
        {
          "output_type": "display_data",
          "data": {
            "image/png": "[encoded data removed]",
            "text/plain": [
              "<Figure size 432x288 with 1 Axes>"
            ]
          },
          "metadata": {
            "tags": []
          }
        }
      ]
    },
    {
      "cell_type": "code",
      "metadata": {
        "id": "CDbygR20Uafw",
        "colab": {
          "base_uri": "https://localhost:8080/",
          "height": 295
        },
        "outputId": "5023ecc5-c736-4a33-8053-4e14d678e31c"
      },
      "source": [
        "from matplotlib import pyplot as plt\n",
        "#import matplotlib.pyplot as plt\n",
        "\n",
        "x = [1, 2, 3, 4, 5]\n",
        "y = [2, 4, 6, 8, 10]\n",
        "\n",
        "plt.scatter(x,y)\n",
        "plt.xlabel('x')\n",
        "plt.ylabel('y')\n",
        "plt.title(\"y = 2x\")\n",
        "plt.show()"
      ],
      "execution_count": null,
      "outputs": [
        {
          "output_type": "display_data",
          "data": {
            "image/png": "[encoded data removed]",
            "text/plain": [
              "<Figure size 432x288 with 1 Axes>"
            ]
          },
          "metadata": {
            "tags": []
          }
        }
      ]
    },
    {
      "cell_type": "code",
      "metadata": {
        "id": "ZZyjP1eOVI6I",
        "colab": {
          "base_uri": "https://localhost:8080/",
          "height": 282
        },
        "outputId": "57b1b56c-8f16-478c-eade-38373dd8a369"
      },
      "source": [
        "from matplotlib import pyplot as plt\n",
        "\n",
        "names = [\"Ada\", \"Barış\", \"Berk\",\\\n",
        "        \"Melis\", \"Uygar\"]\n",
        "ages = [1, 22, 24, 11, 21]\n",
        "\n",
        "plt.bar(names, ages)\n",
        "plt.xlabel('names')\n",
        "plt.ylabel('ages')\n",
        "plt.show()"
      ],
      "execution_count": null,
      "outputs": [
        {
          "output_type": "display_data",
          "data": {
            "image/png": "[encoded data removed]",
            "text/plain": [
              "<Figure size 432x288 with 1 Axes>"
            ]
          },
          "metadata": {
            "tags": []
          }
        }
      ]
    },
    {
      "cell_type": "markdown",
      "metadata": {
        "id": "sjjXnbQXc9_E"
      },
      "source": [
        "# car_colour_dist.py"
      ]
    },
    {
      "cell_type": "code",
      "metadata": {
        "id": "VODfhDw2c-u-",
        "colab": {
          "base_uri": "https://localhost:8080/",
          "height": 295
        },
        "outputId": "86a745c3-f0a3-4f43-f14e-c7387c187555"
      },
      "source": [
        "# required library for plotting\n",
        "from matplotlib import pyplot as plt\n",
        "\n",
        "# data to be plotted\n",
        "colors = [\"white\", \"black\", \"red\", \"blue\"]\n",
        "num = [12, 18, 8, 5]\n",
        "\n",
        "# bar chart\n",
        "plt.bar(colors,num)\n",
        "plt.xlabel('Colours')\n",
        "plt.ylabel('Number of Cars')\n",
        "plt.title(\"Car Colour Distribution\")\n",
        "plt.show()"
      ],
      "execution_count": null,
      "outputs": [
        {
          "output_type": "display_data",
          "data": {
            "image/png": "[encoded data removed]",
            "text/plain": [
              "<Figure size 432x288 with 1 Axes>"
            ]
          },
          "metadata": {
            "tags": []
          }
        }
      ]
    },
    {
      "cell_type": "markdown",
      "metadata": {
        "id": "bmwioO-DCITw"
      },
      "source": [
        "#Plot y=2x for x={1, 2, 3, 4, …, 50}"
      ]
    },
    {
      "cell_type": "markdown",
      "metadata": {
        "id": "9ZtDooE5CE6y"
      },
      "source": [
        "We need to learn another new concept to do that:\n",
        "\n",
        "- range → A data type to hold list of numbers"
      ]
    },
    {
      "cell_type": "markdown",
      "metadata": {
        "id": "5GIUZLofBubh"
      },
      "source": [
        "# range(start, stop, step)"
      ]
    },
    {
      "cell_type": "markdown",
      "metadata": {
        "id": "sH5l4nrNBubi"
      },
      "source": [
        "**range** → A data type to hold list of numbers"
      ]
    },
    {
      "cell_type": "code",
      "metadata": {
        "id": "_VgQ4iL7Bubk",
        "colab": {
          "base_uri": "https://localhost:8080/",
          "height": 32
        },
        "outputId": "de388bd3-7094-4a57-9fc9-455be02a53de"
      },
      "source": [
        "r = range(0,20,2)\n",
        "print(list(r))"
      ],
      "execution_count": null,
      "outputs": [
        {
          "output_type": "stream",
          "text": [
            "[0, 2, 4, 6, 8, 10, 12, 14, 16, 18]\n"
          ],
          "name": "stdout"
        }
      ]
    },
    {
      "cell_type": "code",
      "metadata": {
        "id": "Iot1-Xs2Bubn",
        "colab": {
          "base_uri": "https://localhost:8080/",
          "height": 32
        },
        "outputId": "fcf7f2c9-73b6-4c34-b1a6-f94822155493"
      },
      "source": [
        "11 in r"
      ],
      "execution_count": null,
      "outputs": [
        {
          "output_type": "execute_result",
          "data": {
            "text/plain": [
              "False"
            ]
          },
          "metadata": {
            "tags": []
          },
          "execution_count": 63
        }
      ]
    },
    {
      "cell_type": "code",
      "metadata": {
        "id": "eIwFEVCJBubr",
        "colab": {
          "base_uri": "https://localhost:8080/",
          "height": 32
        },
        "outputId": "3a9caef7-8349-4212-d77a-a0ef7dc64c53"
      },
      "source": [
        "10 in r"
      ],
      "execution_count": null,
      "outputs": [
        {
          "output_type": "execute_result",
          "data": {
            "text/plain": [
              "True"
            ]
          },
          "metadata": {
            "tags": []
          },
          "execution_count": 64
        }
      ]
    },
    {
      "cell_type": "code",
      "metadata": {
        "id": "9z31Ycl4Bubx",
        "colab": {
          "base_uri": "https://localhost:8080/",
          "height": 32
        },
        "outputId": "aa1d00ea-164a-451b-d1d7-73c2bd703bb1"
      },
      "source": [
        "min(r)"
      ],
      "execution_count": null,
      "outputs": [
        {
          "output_type": "execute_result",
          "data": {
            "text/plain": [
              "0"
            ]
          },
          "metadata": {
            "tags": []
          },
          "execution_count": 65
        }
      ]
    },
    {
      "cell_type": "code",
      "metadata": {
        "id": "ghH-liu5Bub3",
        "colab": {
          "base_uri": "https://localhost:8080/",
          "height": 32
        },
        "outputId": "cb092315-aef8-4e4d-ce5f-27de7efb3bd3"
      },
      "source": [
        "max(r)"
      ],
      "execution_count": null,
      "outputs": [
        {
          "output_type": "execute_result",
          "data": {
            "text/plain": [
              "18"
            ]
          },
          "metadata": {
            "tags": []
          },
          "execution_count": 66
        }
      ]
    },
    {
      "cell_type": "code",
      "metadata": {
        "id": "TqaZc8bxBub7",
        "colab": {
          "base_uri": "https://localhost:8080/",
          "height": 32
        },
        "outputId": "d9c929c3-932f-44b4-f3b7-0682fd9cdd13"
      },
      "source": [
        "len(r)"
      ],
      "execution_count": null,
      "outputs": [
        {
          "output_type": "execute_result",
          "data": {
            "text/plain": [
              "10"
            ]
          },
          "metadata": {
            "tags": []
          },
          "execution_count": 67
        }
      ]
    },
    {
      "cell_type": "code",
      "metadata": {
        "id": "fASuU9TSBub-",
        "colab": {
          "base_uri": "https://localhost:8080/",
          "height": 32
        },
        "outputId": "ffea72bc-8199-43e4-e274-5a176089922a"
      },
      "source": [
        "r[:5]"
      ],
      "execution_count": null,
      "outputs": [
        {
          "output_type": "execute_result",
          "data": {
            "text/plain": [
              "range(0, 10, 2)"
            ]
          },
          "metadata": {
            "tags": []
          },
          "execution_count": 68
        }
      ]
    },
    {
      "cell_type": "code",
      "metadata": {
        "id": "dK853m7HBub_",
        "colab": {
          "base_uri": "https://localhost:8080/",
          "height": 32
        },
        "outputId": "99b8d60a-140f-4bf0-8e46-ec5581536d7a"
      },
      "source": [
        "list(r[:5])"
      ],
      "execution_count": null,
      "outputs": [
        {
          "output_type": "execute_result",
          "data": {
            "text/plain": [
              "[0, 2, 4, 6, 8]"
            ]
          },
          "metadata": {
            "tags": []
          },
          "execution_count": 69
        }
      ]
    },
    {
      "cell_type": "code",
      "metadata": {
        "id": "0Z_GmEOjBucD",
        "colab": {
          "base_uri": "https://localhost:8080/",
          "height": 32
        },
        "outputId": "16c147cd-eb1e-4254-da96-c4ae915a22ef"
      },
      "source": [
        "list(r[1:5])"
      ],
      "execution_count": null,
      "outputs": [
        {
          "output_type": "execute_result",
          "data": {
            "text/plain": [
              "[2, 4, 6, 8]"
            ]
          },
          "metadata": {
            "tags": []
          },
          "execution_count": 70
        }
      ]
    },
    {
      "cell_type": "code",
      "metadata": {
        "id": "IaKJ7auXBucE",
        "colab": {
          "base_uri": "https://localhost:8080/",
          "height": 32
        },
        "outputId": "1898f963-0453-48f9-cc12-97b99258e1d6"
      },
      "source": [
        "list(r[1:5:2])"
      ],
      "execution_count": null,
      "outputs": [
        {
          "output_type": "execute_result",
          "data": {
            "text/plain": [
              "[2, 6]"
            ]
          },
          "metadata": {
            "tags": []
          },
          "execution_count": 71
        }
      ]
    },
    {
      "cell_type": "code",
      "metadata": {
        "id": "dTVH-sv5BucH",
        "colab": {
          "base_uri": "https://localhost:8080/",
          "height": 32
        },
        "outputId": "99b8e8ad-1233-4e7a-86c1-3cad915b298c"
      },
      "source": [
        "x = range(10)\n",
        "print(x)"
      ],
      "execution_count": null,
      "outputs": [
        {
          "output_type": "stream",
          "text": [
            "range(0, 10)\n"
          ],
          "name": "stdout"
        }
      ]
    },
    {
      "cell_type": "code",
      "metadata": {
        "id": "NiXyBfuHBucK",
        "colab": {
          "base_uri": "https://localhost:8080/",
          "height": 32
        },
        "outputId": "f893ac13-3228-40db-d2de-552331cfdc32"
      },
      "source": [
        "print(list(x))"
      ],
      "execution_count": null,
      "outputs": [
        {
          "output_type": "stream",
          "text": [
            "[0, 1, 2, 3, 4, 5, 6, 7, 8, 9]\n"
          ],
          "name": "stdout"
        }
      ]
    },
    {
      "cell_type": "code",
      "metadata": {
        "id": "z9nMnL41BucM",
        "colab": {
          "base_uri": "https://localhost:8080/",
          "height": 32
        },
        "outputId": "f993b1ea-f673-4d92-c964-376696d73845"
      },
      "source": [
        "x = range(-10)\n",
        "print(list(x))"
      ],
      "execution_count": null,
      "outputs": [
        {
          "output_type": "stream",
          "text": [
            "[]\n"
          ],
          "name": "stdout"
        }
      ]
    },
    {
      "cell_type": "code",
      "metadata": {
        "id": "dukD-_brBucP",
        "colab": {
          "base_uri": "https://localhost:8080/",
          "height": 32
        },
        "outputId": "542a3814-afa4-4a0e-a86f-9635048e324a"
      },
      "source": [
        "x = range(10,20)\n",
        "print(list(x))"
      ],
      "execution_count": null,
      "outputs": [
        {
          "output_type": "stream",
          "text": [
            "[10, 11, 12, 13, 14, 15, 16, 17, 18, 19]\n"
          ],
          "name": "stdout"
        }
      ]
    },
    {
      "cell_type": "code",
      "metadata": {
        "id": "vY9bhs0aBucR",
        "colab": {
          "base_uri": "https://localhost:8080/",
          "height": 32
        },
        "outputId": "f6a53c2d-f119-477c-de5f-c1e573bae369"
      },
      "source": [
        "x = range(-10,-5)\n",
        "print(list(x))"
      ],
      "execution_count": null,
      "outputs": [
        {
          "output_type": "stream",
          "text": [
            "[-10, -9, -8, -7, -6]\n"
          ],
          "name": "stdout"
        }
      ]
    },
    {
      "cell_type": "code",
      "metadata": {
        "id": "39wJIMCKBucS",
        "colab": {
          "base_uri": "https://localhost:8080/",
          "height": 32
        },
        "outputId": "cc48ecd4-db96-444c-e5e9-c288fca631c7"
      },
      "source": [
        "x = range(10,20,2)\n",
        "print(list(x))"
      ],
      "execution_count": null,
      "outputs": [
        {
          "output_type": "stream",
          "text": [
            "[10, 12, 14, 16, 18]\n"
          ],
          "name": "stdout"
        }
      ]
    },
    {
      "cell_type": "code",
      "metadata": {
        "id": "BhT79GzGBucT",
        "colab": {
          "base_uri": "https://localhost:8080/",
          "height": 32
        },
        "outputId": "31044416-b900-494b-be7a-02707dff82ab"
      },
      "source": [
        "x = range(-10,5,3)\n",
        "print(list(x))"
      ],
      "execution_count": null,
      "outputs": [
        {
          "output_type": "stream",
          "text": [
            "[-10, -7, -4, -1, 2]\n"
          ],
          "name": "stdout"
        }
      ]
    },
    {
      "cell_type": "code",
      "metadata": {
        "id": "F2Au9jSxBucW",
        "colab": {
          "base_uri": "https://localhost:8080/",
          "height": 181
        },
        "outputId": "3f8fb5bd-9d93-4652-b7be-fdc528d5ece6"
      },
      "source": [
        "r[10]"
      ],
      "execution_count": null,
      "outputs": [
        {
          "output_type": "error",
          "ename": "IndexError",
          "evalue": "ignored",
          "traceback": [
            "\u001b[0;31m---------------------------------------------------------------------------\u001b[0m",
            "\u001b[0;31mIndexError\u001b[0m                                Traceback (most recent call last)",
            "\u001b[0;32m<ipython-input-87-e9c159fe2fa7>\u001b[0m in \u001b[0;36m<module>\u001b[0;34m()\u001b[0m\n\u001b[0;32m----> 1\u001b[0;31m \u001b[0mr\u001b[0m\u001b[0;34m[\u001b[0m\u001b[0;36m10\u001b[0m\u001b[0;34m]\u001b[0m\u001b[0;34m\u001b[0m\u001b[0m\n\u001b[0m",
            "\u001b[0;31mIndexError\u001b[0m: range object index out of range"
          ]
        }
      ]
    },
    {
      "cell_type": "code",
      "metadata": {
        "id": "xgXEISpjBucW",
        "colab": {
          "base_uri": "https://localhost:8080/",
          "height": 181
        },
        "outputId": "289d2c78-5fec-4386-fd8e-51f9225b40da"
      },
      "source": [
        "r[3] = 3"
      ],
      "execution_count": null,
      "outputs": [
        {
          "output_type": "error",
          "ename": "TypeError",
          "evalue": "ignored",
          "traceback": [
            "\u001b[0;31m---------------------------------------------------------------------------\u001b[0m",
            "\u001b[0;31mTypeError\u001b[0m                                 Traceback (most recent call last)",
            "\u001b[0;32m<ipython-input-88-45a0468a5b20>\u001b[0m in \u001b[0;36m<module>\u001b[0;34m()\u001b[0m\n\u001b[0;32m----> 1\u001b[0;31m \u001b[0mr\u001b[0m\u001b[0;34m[\u001b[0m\u001b[0;36m3\u001b[0m\u001b[0;34m]\u001b[0m \u001b[0;34m=\u001b[0m \u001b[0;36m3\u001b[0m\u001b[0;34m\u001b[0m\u001b[0m\n\u001b[0m",
            "\u001b[0;31mTypeError\u001b[0m: 'range' object does not support item assignment"
          ]
        }
      ]
    },
    {
      "cell_type": "code",
      "metadata": {
        "id": "fr9GZaqoBucZ",
        "colab": {
          "base_uri": "https://localhost:8080/",
          "height": 181
        },
        "outputId": "4c9630de-31e3-4b3f-a9fd-dafafea4a59b"
      },
      "source": [
        "new_r = r + r"
      ],
      "execution_count": null,
      "outputs": [
        {
          "output_type": "error",
          "ename": "TypeError",
          "evalue": "ignored",
          "traceback": [
            "\u001b[0;31m---------------------------------------------------------------------------\u001b[0m",
            "\u001b[0;31mTypeError\u001b[0m                                 Traceback (most recent call last)",
            "\u001b[0;32m<ipython-input-89-05ee88eb05e7>\u001b[0m in \u001b[0;36m<module>\u001b[0;34m()\u001b[0m\n\u001b[0;32m----> 1\u001b[0;31m \u001b[0mnew_r\u001b[0m \u001b[0;34m=\u001b[0m \u001b[0mr\u001b[0m \u001b[0;34m+\u001b[0m \u001b[0mr\u001b[0m\u001b[0;34m\u001b[0m\u001b[0m\n\u001b[0m",
            "\u001b[0;31mTypeError\u001b[0m: unsupported operand type(s) for +: 'range' and 'range'"
          ]
        }
      ]
    },
    {
      "cell_type": "code",
      "metadata": {
        "id": "ad7fjYsCBuca",
        "colab": {
          "base_uri": "https://localhost:8080/",
          "height": 181
        },
        "outputId": "b56ec3e0-32c8-4cdf-8cbb-a9fc7143bb89"
      },
      "source": [
        "new_r = r * 2"
      ],
      "execution_count": null,
      "outputs": [
        {
          "output_type": "error",
          "ename": "TypeError",
          "evalue": "ignored",
          "traceback": [
            "\u001b[0;31m---------------------------------------------------------------------------\u001b[0m",
            "\u001b[0;31mTypeError\u001b[0m                                 Traceback (most recent call last)",
            "\u001b[0;32m<ipython-input-90-ca14b9cf231b>\u001b[0m in \u001b[0;36m<module>\u001b[0;34m()\u001b[0m\n\u001b[0;32m----> 1\u001b[0;31m \u001b[0mnew_r\u001b[0m \u001b[0;34m=\u001b[0m \u001b[0mr\u001b[0m \u001b[0;34m*\u001b[0m \u001b[0;36m2\u001b[0m\u001b[0;34m\u001b[0m\u001b[0m\n\u001b[0m",
            "\u001b[0;31mTypeError\u001b[0m: unsupported operand type(s) for *: 'range' and 'int'"
          ]
        }
      ]
    },
    {
      "cell_type": "markdown",
      "metadata": {
        "id": "xB8gtsy8Bucc"
      },
      "source": [
        "* Attempting to use an index that is too large will result in an error\n",
        "* Immutable sequence\n",
        "* Don’t support sequence concatenation or repetition!"
      ]
    },
    {
      "cell_type": "markdown",
      "metadata": {
        "id": "qdCtEetIdP-J"
      },
      "source": [
        "# plot_range.py"
      ]
    },
    {
      "cell_type": "code",
      "metadata": {
        "id": "SxUy6GLZdRMh",
        "colab": {
          "base_uri": "https://localhost:8080/",
          "height": 279
        },
        "outputId": "884c08b0-3c71-4875-8d18-2f9cd2463218"
      },
      "source": [
        "# required library for plotting\n",
        "from matplotlib import pyplot as plt\n",
        "\n",
        "# data to be plotted\n",
        "x = range(1,51)\n",
        "y = range(2,101,2)\n",
        "\n",
        "# plot\n",
        "plt.plot(x,y)\n",
        "plt.xlabel(\"x\")\n",
        "plt.ylabel(\"2x\")\n",
        "plt.show()"
      ],
      "execution_count": null,
      "outputs": [
        {
          "output_type": "display_data",
          "data": {
            "image/png": "[encoded data removed]",
            "text/plain": [
              "<Figure size 432x288 with 1 Axes>"
            ]
          },
          "metadata": {
            "tags": []
          }
        }
      ]
    }
  ]
}