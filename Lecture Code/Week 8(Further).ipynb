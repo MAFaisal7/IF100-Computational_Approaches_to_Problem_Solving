{
  "nbformat": 4,
  "nbformat_minor": 0,
  "metadata": {
    "colab": {
      "name": "For Loops.ipynb",
      "provenance": [],
      "collapsed_sections": []
    },
    "kernelspec": {
      "name": "python3",
      "display_name": "Python 3"
    }
  },
  "cells": [
    {
      "cell_type": "markdown",
      "metadata": {
        "id": "tPleqymQKkPy"
      },
      "source": [
        "# Loops"
      ]
    },
    {
      "cell_type": "markdown",
      "metadata": {
        "id": "E6VD4ItWrTKQ"
      },
      "source": [
        "![alt text](https://lh6.googleusercontent.com/6hZ0msQur0bXa3Xi-6rtQwm66boXrbbbF75g9a-83gLWQZrdLeePZndBpY9a9WqF93Rijp-sNhZwKjRO3JX1taTI2joILRED9XV5FBMQFeo7RtvPUyq3rmo2ymLAmLIRnsfpKpyNoEU)"
      ]
    },
    {
      "cell_type": "markdown",
      "metadata": {
        "id": "OvDp_T7SShLS"
      },
      "source": [
        "A loop statement allows us to execute \n",
        "a statement or a group of statements multiple times"
      ]
    },
    {
      "cell_type": "markdown",
      "metadata": {
        "id": "jLdZl2FVSuIU"
      },
      "source": [
        "2 types of **loop** statements:\n",
        "- **for** statements\n",
        "- **while** statements\n",
        "\n"
      ]
    },
    {
      "cell_type": "markdown",
      "metadata": {
        "id": "yLaYjNmzTw05"
      },
      "source": [
        "Loop control statement:\n",
        "- **break** statement"
      ]
    },
    {
      "cell_type": "markdown",
      "metadata": {
        "id": "fwkUwaTEUIn3"
      },
      "source": [
        "#For Statement"
      ]
    },
    {
      "cell_type": "markdown",
      "metadata": {
        "id": "aT-FFKv2rc1S"
      },
      "source": [
        "![alt text](https://lh4.googleusercontent.com/JIhcehtZ2QGBoOaxEupdrbPrmEIYc1Gi68fqbyusRi-a9zTTEK1OAATDdZmylPCtS5dXsn9kbH093BQT8DQagb1KTVZ1_ltH-smUP8usTvcU2MVMY_HwKgUhirB2pKInFfAmdTV_rfg)"
      ]
    },
    {
      "cell_type": "markdown",
      "metadata": {
        "id": "jhY3SmUmULZc"
      },
      "source": [
        "Executes a set of statements multiple times & abbreviates the code that manages the loop variable\n",
        "- Brush your teeth 3 times a day\n",
        "- If you are a cashier, for each item that the customer wants to buy, add the price of that item to the bill\n"
      ]
    },
    {
      "cell_type": "markdown",
      "metadata": {
        "id": "CBPB-UcIUOtE"
      },
      "source": [
        "Has the ability to iterate over the items of any **sequence** (list/string/range)"
      ]
    },
    {
      "cell_type": "markdown",
      "metadata": {
        "id": "5UH3mMXi_QcD"
      },
      "source": [
        "    for iterating_var in sequence:\n",
        "        <statement_true_1>\n",
        "        …\n",
        "        <statement_true_N>\n"
      ]
    },
    {
      "cell_type": "markdown",
      "metadata": {
        "id": "Ulz_fLiSIbLp"
      },
      "source": [
        "# For Loop Example"
      ]
    },
    {
      "cell_type": "code",
      "metadata": {
        "id": "cVjW7_TxIgD-",
        "colab": {
          "base_uri": "https://localhost:8080/",
          "height": 176
        },
        "outputId": "049dc309-0452-4a59-8753-8d93048e69e5"
      },
      "source": [
        "for x in range(1,10):\n",
        "  x_square = x*x\n",
        "  print(\"Square of\", x, \"is\", x_square)"
      ],
      "execution_count": null,
      "outputs": [
        {
          "output_type": "stream",
          "text": [
            "Square of 1 is 1\n",
            "Square of 2 is 4\n",
            "Square of 3 is 9\n",
            "Square of 4 is 16\n",
            "Square of 5 is 25\n",
            "Square of 6 is 36\n",
            "Square of 7 is 49\n",
            "Square of 8 is 64\n",
            "Square of 9 is 81\n"
          ],
          "name": "stdout"
        }
      ]
    },
    {
      "cell_type": "code",
      "metadata": {
        "id": "vstxcA57IqrV",
        "colab": {
          "base_uri": "https://localhost:8080/",
          "height": 176
        },
        "outputId": "5f839162-ffa9-47bf-f2d1-a7b56130eb72"
      },
      "source": [
        "myList = [1, 2, 3, 4, 5, 6, 7, 8, 9]\n",
        "for x in myList:\n",
        "  x_square = x*x\n",
        "  print(\"Square of\", x, \"is\", x_square)"
      ],
      "execution_count": null,
      "outputs": [
        {
          "output_type": "stream",
          "text": [
            "Square of 1 is 1\n",
            "Square of 2 is 4\n",
            "Square of 3 is 9\n",
            "Square of 4 is 16\n",
            "Square of 5 is 25\n",
            "Square of 6 is 36\n",
            "Square of 7 is 49\n",
            "Square of 8 is 64\n",
            "Square of 9 is 81\n"
          ],
          "name": "stdout"
        }
      ]
    },
    {
      "cell_type": "code",
      "metadata": {
        "id": "vh8ZGmwbJu4b",
        "colab": {
          "base_uri": "https://localhost:8080/",
          "height": 176
        },
        "outputId": "249b60df-6631-4c62-cb3b-732d265fa777"
      },
      "source": [
        "myList = [1, 2, 3, 4, 5, 6, 7, 8, 9]\n",
        "for x in range(len(myList)):\n",
        "  x_square = myList[x]*myList[x]\n",
        "  print(\"Square of\", myList[x], \"is\", x_square)"
      ],
      "execution_count": null,
      "outputs": [
        {
          "output_type": "stream",
          "text": [
            "Square of 1 is 1\n",
            "Square of 2 is 4\n",
            "Square of 3 is 9\n",
            "Square of 4 is 16\n",
            "Square of 5 is 25\n",
            "Square of 6 is 36\n",
            "Square of 7 is 49\n",
            "Square of 8 is 64\n",
            "Square of 9 is 81\n"
          ],
          "name": "stdout"
        }
      ]
    },
    {
      "cell_type": "code",
      "metadata": {
        "id": "qJKVyJ88KfJi"
      },
      "source": [
        "for letter in \"IF100 - Python\":\n",
        "  print(\"Current letter:\", letter)"
      ],
      "execution_count": null,
      "outputs": []
    },
    {
      "cell_type": "markdown",
      "metadata": {
        "id": "KPpOYrTDLcK2"
      },
      "source": [
        "#DNA Sequence Alignment"
      ]
    },
    {
      "cell_type": "markdown",
      "metadata": {
        "id": "r7vBISRfVtwE"
      },
      "source": [
        "Sequence alignment describes the way of aligning DNA, RNA, or protein sequences to highlight or identify similarities between these sequences."
      ]
    },
    {
      "cell_type": "markdown",
      "metadata": {
        "id": "5myOgc5QVxZC"
      },
      "source": [
        "Assume that you will write a program to align two input DNA strings. But first, you have to check whether the input strings indeed correctly define DNA sequences or not, meaning that they consist only of the letters “A”, “C”, “G”, and “T”, either lowercase or uppercase (i.e. case-insensitive)."
      ]
    },
    {
      "cell_type": "markdown",
      "metadata": {
        "id": "coprVLzsrE2f"
      },
      "source": [
        "![alt text](https://lh6.googleusercontent.com/8KNc6Th3D1xuKvkwB0JqOchYSjoABdMv65PKRYp83IC0B5t_eb6unOBGGxghVKdSP8vBdZQoDTQid0NxT8d5iAMKrXdUOiJ5XgJMyZdWLJX5rmOadkYg2pm1cFOuAcyulu7PeMstFJE)"
      ]
    },
    {
      "cell_type": "markdown",
      "metadata": {
        "id": "r9jZ3anzq3wh"
      },
      "source": [
        "# DNA_inputCheck_1.py"
      ]
    },
    {
      "cell_type": "code",
      "metadata": {
        "id": "jIOLQXE4Leui",
        "colab": {
          "base_uri": "https://localhost:8080/",
          "height": 52
        },
        "outputId": "4ef46fc7-f987-4fa5-ea80-a9a9a1794d1b"
      },
      "source": [
        "# obtain the DNA sequence from the user\n",
        "DNA_sequence = input(\"Please enter a DNA sequence: \")\n",
        "\n",
        "# control variable - we initially assume that \n",
        "# the user will enter a valid DNA sequence\n",
        "isCorrect = True\n",
        "\n",
        "# check the validity of the input sequence\n",
        "for dna in DNA_sequence:  # for each letter in the sequence\n",
        "  # check if that particular letter is not one of those valid characters\n",
        "  if (dna != \"a\" and dna != \"c\" and dna != \"g\" and dna != \"t\") and \\\n",
        "     (dna != \"A\" and dna != \"C\" and dna != \"G\" and dna != \"T\"):\n",
        "      # if it is an invalid character, update the control variable\n",
        "    isCorrect = False\n",
        "\n",
        "# check the control variable to decide on whether the input is valid or not\n",
        "if not isCorrect:\n",
        "  print(\"This is not a correct DNA sequence.\")\n",
        "else:\n",
        "  print(\"This is a correct DNA sequence.\")"
      ],
      "execution_count": null,
      "outputs": [
        {
          "output_type": "stream",
          "text": [
            "Please enter a DNA sequence: ATTT\n",
            "This is a correct DNA sequence.\n"
          ],
          "name": "stdout"
        }
      ]
    },
    {
      "cell_type": "markdown",
      "metadata": {
        "id": "beME0qQUWdbL"
      },
      "source": [
        "There are 4 different bases in a DNA, that are nucleotides whose names are abbreviated as A, C, G and T. \n",
        "\n",
        "In the human genome, there are about 3 billions bases if you go from the beginning to the end.\n",
        "\n",
        "Let’s assume that we find an invalid nucleotide in some point.\n",
        "Do we need to check the remaining nucleotides? \n",
        "(There maybe millions or billions more)\n"
      ]
    },
    {
      "cell_type": "markdown",
      "metadata": {
        "id": "rx53E1xm04Cr"
      },
      "source": [
        "#Break Statement"
      ]
    },
    {
      "cell_type": "markdown",
      "metadata": {
        "id": "Tw5R-srXrjbe"
      },
      "source": [
        "![alt text](https://lh5.googleusercontent.com/EXVBt0h-XsQNGLvTtUFyykWOMhpMn4F4xlMhR-WNegD3-Lsfjcjnb3sRrSSf9KUTHd4NvcTt_R4kjg-2siUhzYCkGBFy-3Ayz5nT4ROEAkgYBGMAdZNCbWaFzofP9FcmYOWuMBIGNqc)"
      ]
    },
    {
      "cell_type": "markdown",
      "metadata": {
        "id": "SWePsfTHXoR5"
      },
      "source": [
        "**Break** statement terminates the innermost loop statement & transfers execution to the statement immediately following the loop\n",
        "\n",
        "\n",
        "\n",
        "**Break** statement can be used in both \n",
        "**while** and **for** loops\n"
      ]
    },
    {
      "cell_type": "markdown",
      "metadata": {
        "id": "w2ITvpEhM0OE"
      },
      "source": [
        "# Break Example"
      ]
    },
    {
      "cell_type": "code",
      "metadata": {
        "id": "ruPwVP82M5G6"
      },
      "source": [
        "for i in range(10):\n",
        "  print(i)"
      ],
      "execution_count": null,
      "outputs": []
    },
    {
      "cell_type": "code",
      "metadata": {
        "id": "zT1LXA_XM8dK"
      },
      "source": [
        "for i in range(10):\n",
        "  print(i)\n",
        "  if i == 5:\n",
        "    break"
      ],
      "execution_count": null,
      "outputs": []
    },
    {
      "cell_type": "markdown",
      "metadata": {
        "id": "2fJ7ORWYNj4J"
      },
      "source": [
        "# DNA_inputCheck_2.py"
      ]
    },
    {
      "cell_type": "code",
      "metadata": {
        "id": "V_WfpZLANore"
      },
      "source": [
        "# obtain the DNA sequence from the user\n",
        "DNA_sequence = input(\"Please enter a DNA sequence: \")\n",
        "\n",
        "# control variable - we initially assume that \n",
        "# the user will enter a valid DNA sequence\n",
        "isCorrect = True\n",
        "\n",
        "# check the validity of the input sequence\n",
        "for dna in DNA_sequence:  # for each letter in the sequence\n",
        "  # check if that particular letter is not one of those valid characters\n",
        "  if (dna != \"a\" and dna != \"c\" and dna != \"g\" and dna != \"t\") and \\\n",
        "     (dna != \"A\" and dna != \"C\" and dna != \"G\" and dna != \"T\"):\n",
        "      # if it is an invalid character, update the control variable\n",
        "    isCorrect = False\n",
        "    break   # no need to check the rest of the characters\n",
        "\n",
        "# check the control variable to decide on whether the input is valid or not\n",
        "if not isCorrect:\n",
        "  print(\"This is not a correct DNA sequence.\")\n",
        "else:\n",
        "  print(\"This is a correct DNA sequence.\")"
      ],
      "execution_count": null,
      "outputs": []
    },
    {
      "cell_type": "markdown",
      "metadata": {
        "id": "Fy-Xo9FgVbqk"
      },
      "source": [
        "# findMinElement.py"
      ]
    },
    {
      "cell_type": "code",
      "metadata": {
        "id": "DgiH4j04VTRy",
        "colab": {
          "base_uri": "https://localhost:8080/",
          "height": 49
        },
        "outputId": "b7395536-dc21-48ed-cbd4-fee7106e642b"
      },
      "source": [
        "#assume it contains integers\n",
        "trialList = [14, 567, 56, 66, 1, 781, 10001, 45, 4, 342]\n",
        "\n",
        "# minimum element is the value of the first index\n",
        "minElement = min(trialList)\n",
        "\n",
        "for i in range(len(trialList)):\n",
        "  if trialList[i] == minElement:\n",
        "    minIndex = i\n",
        "        \n",
        "print(\"Minimum element of the list is \" + str(minElement))\n",
        "print(\"The index of the minimum element is \" + str(minIndex))"
      ],
      "execution_count": null,
      "outputs": [
        {
          "output_type": "stream",
          "text": [
            "Minimum element of the list is 1\n",
            "The index of the minimum element is 4\n"
          ],
          "name": "stdout"
        }
      ]
    },
    {
      "cell_type": "markdown",
      "metadata": {
        "id": "L5S5a43rYZAt"
      },
      "source": [
        "** Condition update is crucial to terminate the loop at some point; otherwise, it may turn into an infinite loop  **"
      ]
    }
  ]
}