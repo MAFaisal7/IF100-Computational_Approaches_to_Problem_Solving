{
  "nbformat": 4,
  "nbformat_minor": 0,
  "metadata": {
    "colab": {
      "name": "WelcomeToPython.ipynb",
      "provenance": [],
      "collapsed_sections": []
    },
    "kernelspec": {
      "name": "python3",
      "display_name": "Python 3"
    }
  },
  "cells": [
    {
      "cell_type": "markdown",
      "metadata": {
        "id": "ba8MVCLTDzUh"
      },
      "source": [
        "# Natural vs Formal Languages"
      ]
    },
    {
      "cell_type": "code",
      "metadata": {
        "id": "UnWgvm7dgTQ8"
      },
      "source": [
        ""
      ],
      "execution_count": null,
      "outputs": []
    },
    {
      "cell_type": "markdown",
      "metadata": {
        "id": "hp_HitF5OzYx"
      },
      "source": [
        "* **Natural languages** are the languages people speak - not designed by people\n",
        "English, Turkish, Spanish, etc.\n",
        "* **Formal languages** are languages designed by people for specific applications\n",
        "Notation that mathematicians (Cem Güneri 😉) or chemists use \n",
        "* **Programming languages** are formal languages that have been designed to express computations"
      ]
    },
    {
      "cell_type": "markdown",
      "metadata": {
        "id": "2XLwtzH1PJCu"
      },
      "source": [
        "# What's a program?\n",
        "\n"
      ]
    },
    {
      "cell_type": "markdown",
      "metadata": {
        "id": "HGcnPIHhPUtf"
      },
      "source": [
        "* Sequence of instructions specifying how to perform a computation\n",
        "  - Something mathematical or logical\n",
        "* Implementation of an algorithm\n",
        "  - Using a specific programming language\n",
        "    - Formal constructed language to communicate instructions to a machine\n",
        "  - To execute on specific platforms\n",
        "* Basic instructions appear in about every programming language\n",
        "  - **input** Get data from keyboard, file, etc.\n",
        "  - **output** Display data on screen, file, etc.\n",
        "  - **math** Perform basic mathematical operations (+, *, etc.)\n",
        "  - **conditional execution** Check for certain conditions & run the appropriate code\n",
        "  - **repetition** Perform some action repeatedly, usually with some variation"
      ]
    },
    {
      "cell_type": "markdown",
      "metadata": {
        "id": "E7fVqMRPQMKu"
      },
      "source": [
        "# Why Python?"
      ]
    },
    {
      "cell_type": "markdown",
      "metadata": {
        "id": "Zn2lTmryQY-R"
      },
      "source": [
        "* A simple language to learn (very popular in introductory courses)\n",
        "* Yet a very powerful language for practice (very popular among professionals)\n",
        "  - Youtube, Spotify, Instagram, Dropbox, Reddit, edX, ...\n",
        "* Very large user base and hence a huge library of reusable components\n",
        "* Minimal setup requirements\n",
        "* Minimal development environment\n"
      ]
    },
    {
      "cell_type": "markdown",
      "metadata": {
        "id": "9G7vKXiUkMZu"
      },
      "source": [
        "# The First Program\n",
        "\n"
      ]
    },
    {
      "cell_type": "code",
      "metadata": {
        "id": "cl7Pv51CjiH4",
        "colab": {
          "base_uri": "https://localhost:8080/",
          "height": 34
        },
        "outputId": "a6c19835-8211-4a23-8b98-e4a4ef561307"
      },
      "source": [
        "print(\"Hello World\")"
      ],
      "execution_count": null,
      "outputs": [
        {
          "output_type": "stream",
          "text": [
            "Hello World\n"
          ],
          "name": "stdout"
        }
      ]
    },
    {
      "cell_type": "code",
      "metadata": {
        "id": "ahi4ZmvUnEK_",
        "colab": {
          "base_uri": "https://localhost:8080/",
          "height": 34
        },
        "outputId": "a7e4f77e-9dfd-431d-b2ad-d682e0033de7"
      },
      "source": [
        "print (\"Hello World\")"
      ],
      "execution_count": null,
      "outputs": [
        {
          "output_type": "stream",
          "text": [
            "Hello World\n"
          ],
          "name": "stdout"
        }
      ]
    },
    {
      "cell_type": "code",
      "metadata": {
        "id": "AzDBSBMBnGUv",
        "colab": {
          "base_uri": "https://localhost:8080/",
          "height": 34
        },
        "outputId": "95a744d5-d84d-4159-81a3-5397f178931f"
      },
      "source": [
        "print('Hello World')"
      ],
      "execution_count": null,
      "outputs": [
        {
          "output_type": "stream",
          "text": [
            "Hello World\n"
          ],
          "name": "stdout"
        }
      ]
    },
    {
      "cell_type": "code",
      "metadata": {
        "id": "zue4DMq7nHUl",
        "colab": {
          "base_uri": "https://localhost:8080/",
          "height": 34
        },
        "outputId": "5aedefeb-2c87-425e-f68b-0337333f94cb"
      },
      "source": [
        "print ('Hello World')"
      ],
      "execution_count": null,
      "outputs": [
        {
          "output_type": "stream",
          "text": [
            "Hello World\n"
          ],
          "name": "stdout"
        }
      ]
    },
    {
      "cell_type": "markdown",
      "metadata": {
        "id": "e11tkHa_n52H"
      },
      "source": [
        "# The First Syntax Error"
      ]
    },
    {
      "cell_type": "markdown",
      "metadata": {
        "id": "bSPWO-nMVFYK"
      },
      "source": [
        "The **SyntaxError** indicates an error when trying to execute syntactically invalid code"
      ]
    },
    {
      "cell_type": "code",
      "metadata": {
        "id": "rtY2zCWdn9jZ",
        "colab": {
          "base_uri": "https://localhost:8080/",
          "height": 129
        },
        "outputId": "02d74749-9663-4d3c-bef8-7912cb17e6d3"
      },
      "source": [
        "print \"Hello World\""
      ],
      "execution_count": null,
      "outputs": [
        {
          "output_type": "error",
          "ename": "SyntaxError",
          "evalue": "ignored",
          "traceback": [
            "\u001b[0;36m  File \u001b[0;32m\"<ipython-input-6-2e860ebf713e>\"\u001b[0;36m, line \u001b[0;32m1\u001b[0m\n\u001b[0;31m    print \"Hello World\"\u001b[0m\n\u001b[0m                      ^\u001b[0m\n\u001b[0;31mSyntaxError\u001b[0m\u001b[0;31m:\u001b[0m Missing parentheses in call to 'print'. Did you mean print(\"Hello World\")?\n"
          ]
        }
      ]
    },
    {
      "cell_type": "code",
      "metadata": {
        "id": "tJH7LfyLoGJP",
        "colab": {
          "base_uri": "https://localhost:8080/",
          "height": 129
        },
        "outputId": "216203ab-0a67-453d-d1d5-0221fa13f0c8"
      },
      "source": [
        "print(Hello World)"
      ],
      "execution_count": null,
      "outputs": [
        {
          "output_type": "error",
          "ename": "SyntaxError",
          "evalue": "ignored",
          "traceback": [
            "\u001b[0;36m  File \u001b[0;32m\"<ipython-input-7-10cb182148e3>\"\u001b[0;36m, line \u001b[0;32m1\u001b[0m\n\u001b[0;31m    print(Hello World)\u001b[0m\n\u001b[0m                    ^\u001b[0m\n\u001b[0;31mSyntaxError\u001b[0m\u001b[0;31m:\u001b[0m invalid syntax\n"
          ]
        }
      ]
    },
    {
      "cell_type": "code",
      "metadata": {
        "id": "x805m4I5oPXh",
        "colab": {
          "base_uri": "https://localhost:8080/",
          "height": 129
        },
        "outputId": "2f2c982d-ca68-4056-dd1e-52625454a0c4"
      },
      "source": [
        "print(\"Hello World')"
      ],
      "execution_count": null,
      "outputs": [
        {
          "output_type": "error",
          "ename": "SyntaxError",
          "evalue": "ignored",
          "traceback": [
            "\u001b[0;36m  File \u001b[0;32m\"<ipython-input-8-f1fa627f45a2>\"\u001b[0;36m, line \u001b[0;32m1\u001b[0m\n\u001b[0;31m    print(\"Hello World')\u001b[0m\n\u001b[0m                        ^\u001b[0m\n\u001b[0;31mSyntaxError\u001b[0m\u001b[0;31m:\u001b[0m EOL while scanning string literal\n"
          ]
        }
      ]
    },
    {
      "cell_type": "markdown",
      "metadata": {
        "id": "rCqCPsYGCHU8"
      },
      "source": [
        "# **A Longer Program..**"
      ]
    },
    {
      "cell_type": "code",
      "metadata": {
        "id": "eg-aCqoCCRcF",
        "colab": {
          "base_uri": "https://localhost:8080/",
          "height": 34
        },
        "outputId": "5ad01be5-83ae-475d-df00-0b88d6e61fb0"
      },
      "source": [
        "print(\"Hello World\")"
      ],
      "execution_count": null,
      "outputs": [
        {
          "output_type": "stream",
          "text": [
            "Hello World\n"
          ],
          "name": "stdout"
        }
      ]
    },
    {
      "cell_type": "code",
      "metadata": {
        "id": "2AUQe4IwCbmw",
        "colab": {
          "base_uri": "https://localhost:8080/",
          "height": 34
        },
        "outputId": "198da412-c1e5-4546-c797-8628b891b9a9"
      },
      "source": [
        "print(\"Hello Sabanci University\")"
      ],
      "execution_count": null,
      "outputs": [
        {
          "output_type": "stream",
          "text": [
            "Hello Sabanci University\n"
          ],
          "name": "stdout"
        }
      ]
    },
    {
      "cell_type": "code",
      "metadata": {
        "id": "CPSGojh3Cfxf",
        "colab": {
          "base_uri": "https://localhost:8080/",
          "height": 34
        },
        "outputId": "e6f825e9-c583-4369-cdb1-126669a096eb"
      },
      "source": [
        "print(\"Hello IF100\")"
      ],
      "execution_count": null,
      "outputs": [
        {
          "output_type": "stream",
          "text": [
            "Hello IF100\n"
          ],
          "name": "stdout"
        }
      ]
    },
    {
      "cell_type": "markdown",
      "metadata": {
        "id": "-9MKI3cXElKs"
      },
      "source": [
        "# A longer program in the same code cell"
      ]
    },
    {
      "cell_type": "markdown",
      "metadata": {
        "id": "G1hI3O-EVQir"
      },
      "source": [
        " * Every code is on a separate line.\n",
        " * Code lines are executed in the given order!\n",
        " * Every line starts at column 1 (i.e. no space at the beginning of the lines)"
      ]
    },
    {
      "cell_type": "code",
      "metadata": {
        "id": "KY_1jU5EEvLK",
        "colab": {
          "base_uri": "https://localhost:8080/",
          "height": 102
        },
        "outputId": "f7b7351b-30c9-43fc-d1d8-a7a46e1b3578"
      },
      "source": [
        "print(\"Hello World\")\n",
        "print(\"Hello Sabanci University\")\n",
        "print(\"Hello IF100\")\n",
        "print(\"It is me, Python\")\n",
        "print(\"We will have a lot of fun together!!!\")"
      ],
      "execution_count": null,
      "outputs": [
        {
          "output_type": "stream",
          "text": [
            "Hello World\n",
            "Hello Sabanci University\n",
            "Hello IF100\n",
            "It is me, Python\n",
            "We will have a lot of fun together!!!\n"
          ],
          "name": "stdout"
        }
      ]
    },
    {
      "cell_type": "markdown",
      "metadata": {
        "id": "v0FMbl_NVhTS"
      },
      "source": [
        "# Estimate Population"
      ]
    },
    {
      "cell_type": "markdown",
      "metadata": {
        "id": "g7fycqJMVjm1"
      },
      "source": [
        "We are going to estimate the population of Turkey based on the following data\n",
        " * 83.67 million in 2018\n",
        " * Every 25 seconds, a birth happens\n",
        " * Every 74 seconds, a death happens\n",
        " * Every 54 seconds, a new immigrant comes\n",
        "\n",
        "What will the population be in 2025?\n",
        "\n",
        "\n",
        "\n",
        "---\n",
        "\n"
      ]
    },
    {
      "cell_type": "markdown",
      "metadata": {
        "id": "gpCJtae7Vs-V"
      },
      "source": [
        "Let’s break our problem into pieces (decomposition)\n",
        "1. Calculate the time difference in seconds\n",
        "2. Calculate the number of births in that period\n",
        "3. Calculate the number of deaths in that period\n",
        "4. Calculate the number of immigrants in that period\n",
        "5. Calculate the new population \n",
        "6. Print the new population\n",
        "\n",
        "**Pseudocode actually!**\n",
        "\n",
        "\n",
        "---\n",
        "\n"
      ]
    },
    {
      "cell_type": "markdown",
      "metadata": {
        "id": "qKqnJTzNV6ot"
      },
      "source": [
        " * Find the time elapsed between 2020 and 2016 in seconds\n",
        "   - e = (2025 - 2018) * 365 * 24 * 60 * 60\n",
        " * Consider the rates\n",
        "  - p = 83670000 + ⎣e/25⎦ - ⎣e/74⎦ + ⎣e/54⎦"
      ]
    },
    {
      "cell_type": "markdown",
      "metadata": {
        "id": "Mn9v83xuWfHX"
      },
      "source": [
        "# Variables & Assignment"
      ]
    },
    {
      "cell_type": "markdown",
      "metadata": {
        "id": "GqqDcD9QWiqg"
      },
      "source": [
        "![alt text](https://lh4.googleusercontent.com/KfJ4TBs4A2XVyqQ0vTiAG8OEM1VbAlpxim1FHJ5cWdTEdhZGMs5jmWqO6Uofl--IRY64xhTjIAV8X4T4A-gR1QZ7GKAM-qzYwja3yQM0cCnWbBkDf9bKodAnpcb2pNYm4WTALsdiZnI)\n",
        "* Storage space is very important\n",
        "  - Process information: move data from place to place\n",
        "* Assignment is an instruction to move data from one place to another\n",
        "  - Chess: series of moves of pieces from one position to another: a series of ***assignments***\n",
        "* Variable is a place where things (data) can be stored\n",
        "  - Chess: each square is a storage space that can hold a single piece at any time: squares are ***variables***"
      ]
    },
    {
      "cell_type": "markdown",
      "metadata": {
        "id": "y3y0DdqLXbhe"
      },
      "source": [
        "# Identifiers"
      ]
    },
    {
      "cell_type": "markdown",
      "metadata": {
        "id": "Wx_iIZOmXeEZ"
      },
      "source": [
        "<img src=\"https://lh3.googleusercontent.com/35mhQYU7ECLmV2ed2YN2fXQ-nDHooPGcch4XHr84CF4gEwbzF1CTP8aWEFNT6jTv-ru11HRA2uVJ4hqgzWMUjygoVSB96Br6xkN1Bxsn8vTiWPqOza2xrbWABo23-ouqJ1Kf7LsgTn1t--OWl76vEwUMyIp3nHjtZ02w4En3J2JEvJLvUFIsTVQtxkesl_v68UbZly66ea1DPuI96Iq7MLE6A_K2Wa3pP3J6fj2lETZBRmhDwoC5ipO4yfrsQAFNysMZaqAqRf4fbdV9NnL-32jDuGuzgmwMH7nMqLPq4Yxte_gqd1u8Krv8HLYqDxCwsElKk_dfKe-Pbt0pSEZ3Tuk6v6SzOxyadT_kbYKNqME4r-YBH0oFgzhHRQp04T5per3DBMDbibw4lVhw84wozwUohUFMeYfG09e1UuGVAqFLz-fkylmbcTIT10urlgYHBIgyJ8wU-ZYzvrA4BuGhROR18u-HTqO9PH6ZlQwoX_dd12xSXWr6KXKXI2Tx0dztFroCzSexJz3uAg2e4RKDFUz1tgqAdamJ7V-4hQq3x7z1_2JlXVKbHYC6msujh0ZO23_UIKIlrfGfe_eLbcHC22az7KlHFiCCnLNPngFHgDptHYBJuzyGuHGaxkZp6hRdTLlapOssficlOeO8AqJVqvONVE8WCnx2lWdxlKE4Y1QXuKUxoXY8D6QlbTIM6Op2sKxJdPck7rRQ-a0nOlW7Bpo=s512-no\" width=\"30%\" height=\"30%\"/>\n",
        "\n",
        "* A variable name is referred to as identifier\n",
        "  - Chess: a letter for the column & a number for the row, i.e. b1\n",
        "* Programming languages have rules for what makes a valid identifier\n",
        "  - Uppercase & lowercase letters A to Z\n",
        "  - Underscore _\n",
        "  - Digits 0 to 9 (***except for the first character***)\n",
        "  - **And no space!!**\n",
        "* Should be meaningful!"
      ]
    },
    {
      "cell_type": "markdown",
      "metadata": {
        "id": "bYol_PsEX--_"
      },
      "source": [
        "# Assignment"
      ]
    },
    {
      "cell_type": "markdown",
      "metadata": {
        "id": "LwMZVTamaEGK"
      },
      "source": [
        "<img src=\"https://lh3.googleusercontent.com/vS8fEh2qDl3urcE2oOcxBMslFKCNwZF9ZHU4cs4DmhL5yzlnWcNbKkcun-5hUNI6dV6HMW3W42c1y4C-UfHcFDqFT2yLfUOVDDjiqsDpLzpXpZru9NS_3bYuN5D5trgIc75j28r9-7dTIW5wKW6Knd29g3op4_cbiIru_ddZdza9B7wTniJ0c7MQqBEqRaV-HykNHsMcMhdY16tkUiw9L9AHX6rWR2rqM7xPBAFkEfKH0g10erwFCj71hUKtgwmh8sJWW0eyI0nPqac8qQEeeU9rrTTOXLZyPfaL8U1YipJ2osXcIrr9jw599XSBhyCnlMe-s7YmGuyuvN5mLj7SGx-EkJQguaA1y17Lwi01W-bqxDcX_luQosuabokIfNjBpfeCRQXuExfrIaN754UccDjctOpy8FZkbNOMYyyZ9-31fN1mW3VopYsZq__WMSYVxv3dBuwUHPRIE12R-e0C0tt41mhnrE_8vtAG6wl69WjPDLiW1eeBN9cyue4yrQ51-buZgXPEW-BnkltMM28Mtk9ZPfegrfozQhtLwuGoHBXMht4MLz3pGYJCCx7lCmqfOm1Yq4mqbUIxDI-v7LI2H0QlZgyduxlyXlHeHvit2A_8tmCOcurna_EzI1SoPybBX0DgzGpmTmjRzP66WlkF-JOfk8ykiyxOwUmarkfByOM_2jgjH6uLDZ02pqtaiY6m3rGu59GEhOCmJbq6LtBH-9QVRx0XBb17s8isZdKj1eNb2UQ=w1164-h654-no\" width=\"40%\" height=\"40%\"/>"
      ]
    },
    {
      "cell_type": "markdown",
      "metadata": {
        "id": "06nSMLcXYF03"
      },
      "source": [
        "* We can assign a value to a variable using **an assignment statement**\n",
        "* When an assignment statement is executed, the value on the right hand side (of the equality sign) is assigned as the value of the variable on the left hand side\n",
        "\n",
        "**variable = value** (Variable names should be always in the left hand side of the assignment operator.)"
      ]
    },
    {
      "cell_type": "markdown",
      "metadata": {
        "id": "ty3S7tWuG_F7"
      },
      "source": [
        "# Refer to a variable"
      ]
    },
    {
      "cell_type": "markdown",
      "metadata": {
        "id": "CioZhIHva4Te"
      },
      "source": [
        "* We can refer to a variable’s value by using its name (e.g. print(n))\n",
        "* The value does not change (unless we assign a new value)\n",
        "* Referring to a variable for which no previous assignment exists, results in an error \n",
        "(undefined variable)\n",
        "* Variable names are case sensitive"
      ]
    },
    {
      "cell_type": "code",
      "metadata": {
        "id": "B6GAA4WoGYwM"
      },
      "source": [
        "n = 1"
      ],
      "execution_count": null,
      "outputs": []
    },
    {
      "cell_type": "code",
      "metadata": {
        "id": "jNcDX6QtGaab",
        "colab": {
          "base_uri": "https://localhost:8080/",
          "height": 34
        },
        "outputId": "77eee92d-24dd-4505-852c-6ade033e0be9"
      },
      "source": [
        "print(n)"
      ],
      "execution_count": null,
      "outputs": [
        {
          "output_type": "stream",
          "text": [
            "1\n"
          ],
          "name": "stdout"
        }
      ]
    },
    {
      "cell_type": "code",
      "metadata": {
        "id": "CYEJgjynHEm3",
        "colab": {
          "base_uri": "https://localhost:8080/",
          "height": 34
        },
        "outputId": "6bd947ae-46c0-47b8-c9ea-f4ebe8068a9f"
      },
      "source": [
        "print(n)"
      ],
      "execution_count": null,
      "outputs": [
        {
          "output_type": "stream",
          "text": [
            "1\n"
          ],
          "name": "stdout"
        }
      ]
    },
    {
      "cell_type": "code",
      "metadata": {
        "id": "srR7YS44HFwA",
        "colab": {
          "base_uri": "https://localhost:8080/",
          "height": 34
        },
        "outputId": "21963e12-bb19-4b3d-d68d-ba8de20d9532"
      },
      "source": [
        "print(\"n\")"
      ],
      "execution_count": null,
      "outputs": [
        {
          "output_type": "stream",
          "text": [
            "n\n"
          ],
          "name": "stdout"
        }
      ]
    },
    {
      "cell_type": "code",
      "metadata": {
        "id": "RY2SIx8xHH-u",
        "colab": {
          "base_uri": "https://localhost:8080/",
          "height": 176
        },
        "outputId": "1b98759f-f899-4a40-b7e6-540f1ce4bea7"
      },
      "source": [
        "print(z)"
      ],
      "execution_count": null,
      "outputs": [
        {
          "output_type": "error",
          "ename": "NameError",
          "evalue": "ignored",
          "traceback": [
            "\u001b[0;31m---------------------------------------------------------------------------\u001b[0m",
            "\u001b[0;31mNameError\u001b[0m                                 Traceback (most recent call last)",
            "\u001b[0;32m<ipython-input-11-c01ac3f50fdc>\u001b[0m in \u001b[0;36m<module>\u001b[0;34m()\u001b[0m\n\u001b[0;32m----> 1\u001b[0;31m \u001b[0mprint\u001b[0m\u001b[0;34m(\u001b[0m\u001b[0mz\u001b[0m\u001b[0;34m)\u001b[0m\u001b[0;34m\u001b[0m\u001b[0m\n\u001b[0m",
            "\u001b[0;31mNameError\u001b[0m: name 'z' is not defined"
          ]
        }
      ]
    },
    {
      "cell_type": "code",
      "metadata": {
        "id": "Rb7FMSLlHKDs",
        "colab": {
          "base_uri": "https://localhost:8080/",
          "height": 34
        },
        "outputId": "0a317e0a-5dd9-46af-b08c-8945877e0cc7"
      },
      "source": [
        "print(n)"
      ],
      "execution_count": null,
      "outputs": [
        {
          "output_type": "stream",
          "text": [
            "1\n"
          ],
          "name": "stdout"
        }
      ]
    },
    {
      "cell_type": "code",
      "metadata": {
        "id": "7CBX6GLqHMCG",
        "colab": {
          "base_uri": "https://localhost:8080/",
          "height": 176
        },
        "outputId": "3eea003b-3004-4d84-8692-5798c51e90ac"
      },
      "source": [
        "print(N)"
      ],
      "execution_count": null,
      "outputs": [
        {
          "output_type": "error",
          "ename": "NameError",
          "evalue": "ignored",
          "traceback": [
            "\u001b[0;31m---------------------------------------------------------------------------\u001b[0m",
            "\u001b[0;31mNameError\u001b[0m                                 Traceback (most recent call last)",
            "\u001b[0;32m<ipython-input-13-9b5949cc7fc6>\u001b[0m in \u001b[0;36m<module>\u001b[0;34m()\u001b[0m\n\u001b[0;32m----> 1\u001b[0;31m \u001b[0mprint\u001b[0m\u001b[0;34m(\u001b[0m\u001b[0mN\u001b[0m\u001b[0;34m)\u001b[0m\u001b[0;34m\u001b[0m\u001b[0m\n\u001b[0m",
            "\u001b[0;31mNameError\u001b[0m: name 'N' is not defined"
          ]
        }
      ]
    },
    {
      "cell_type": "markdown",
      "metadata": {
        "id": "zqnhEtnEpHJF"
      },
      "source": [
        "# Initialization"
      ]
    },
    {
      "cell_type": "markdown",
      "metadata": {
        "id": "yT7jKlj6pMO7"
      },
      "source": [
        "* Point of variables is to store things that can then be moved around or manipulated\n",
        "* Before everything, you have to ***initialize*** variables\n",
        "  - Set a starting value\n",
        "  - Chess: initialize squares with pawns on the 2nd row, & Rook, Knight, Bishop etc. on consecutive pieces of the 1st row"
      ]
    },
    {
      "cell_type": "markdown",
      "metadata": {
        "id": "4FvU-eVjIeAw"
      },
      "source": [
        "# Changing the value of a variable"
      ]
    },
    {
      "cell_type": "markdown",
      "metadata": {
        "id": "rRLUcjQ2o8f4"
      },
      "source": [
        "* If we use an assignment statement to assign a value to an existing variable\n",
        "  - the old value is gone, forever\n",
        "  - the new value is stored and remembered from then on (until we assign it again)\n",
        "* We can assign a new value to a variable as many times as we want (the last one remembered)"
      ]
    },
    {
      "cell_type": "code",
      "metadata": {
        "id": "pc15r4cfIgEz"
      },
      "source": [
        "n = 1"
      ],
      "execution_count": null,
      "outputs": []
    },
    {
      "cell_type": "code",
      "metadata": {
        "id": "HPRqEBPPHNc7",
        "colab": {
          "base_uri": "https://localhost:8080/",
          "height": 34
        },
        "outputId": "033824a9-b8ac-4ef0-a77e-edcb84b04b7d"
      },
      "source": [
        "print(n)"
      ],
      "execution_count": null,
      "outputs": [
        {
          "output_type": "stream",
          "text": [
            "1\n"
          ],
          "name": "stdout"
        }
      ]
    },
    {
      "cell_type": "code",
      "metadata": {
        "id": "QymzsP8OIjAs"
      },
      "source": [
        "n = 2"
      ],
      "execution_count": null,
      "outputs": []
    },
    {
      "cell_type": "code",
      "metadata": {
        "id": "ZPEz5nETIkRI",
        "colab": {
          "base_uri": "https://localhost:8080/",
          "height": 34
        },
        "outputId": "f5c47d46-6811-429e-bfce-7678c1480075"
      },
      "source": [
        "print(n)"
      ],
      "execution_count": null,
      "outputs": [
        {
          "output_type": "stream",
          "text": [
            "2\n"
          ],
          "name": "stdout"
        }
      ]
    },
    {
      "cell_type": "code",
      "metadata": {
        "id": "pTh3nz2SImSt",
        "colab": {
          "base_uri": "https://localhost:8080/",
          "height": 34
        },
        "outputId": "c62d351a-8964-4770-874e-3cbc15b3e710"
      },
      "source": [
        "print(n)"
      ],
      "execution_count": null,
      "outputs": [
        {
          "output_type": "stream",
          "text": [
            "2\n"
          ],
          "name": "stdout"
        }
      ]
    },
    {
      "cell_type": "code",
      "metadata": {
        "id": "XYVRDg6WInvF"
      },
      "source": [
        "n = 3"
      ],
      "execution_count": null,
      "outputs": []
    },
    {
      "cell_type": "code",
      "metadata": {
        "id": "cQs_DzLbIpTu",
        "colab": {
          "base_uri": "https://localhost:8080/",
          "height": 34
        },
        "outputId": "34e00922-0622-4f55-bf19-3d7f7db5e10c"
      },
      "source": [
        "print(n)"
      ],
      "execution_count": null,
      "outputs": [
        {
          "output_type": "stream",
          "text": [
            "3\n"
          ],
          "name": "stdout"
        }
      ]
    },
    {
      "cell_type": "markdown",
      "metadata": {
        "id": "153h35-iJUlV"
      },
      "source": [
        "# Another way to refer to a variable"
      ]
    },
    {
      "cell_type": "markdown",
      "metadata": {
        "id": "KwB9qQkNpYLt"
      },
      "source": [
        "\n",
        "* Recall the syntax for the assignment statement\n",
        "* If a variable is used on the right hand side of an assignment, then this is a reference to the current value of that variable"
      ]
    },
    {
      "cell_type": "code",
      "metadata": {
        "id": "bolRlg50IqY9"
      },
      "source": [
        "n = 1"
      ],
      "execution_count": null,
      "outputs": []
    },
    {
      "cell_type": "code",
      "metadata": {
        "id": "98BtdXwtJYXe",
        "colab": {
          "base_uri": "https://localhost:8080/",
          "height": 34
        },
        "outputId": "e436ea58-3494-4550-d4e7-d70276d099ca"
      },
      "source": [
        "print(n)"
      ],
      "execution_count": null,
      "outputs": [
        {
          "output_type": "stream",
          "text": [
            "1\n"
          ],
          "name": "stdout"
        }
      ]
    },
    {
      "cell_type": "code",
      "metadata": {
        "id": "-GO_lqW1JZP8"
      },
      "source": [
        "p = n"
      ],
      "execution_count": null,
      "outputs": []
    },
    {
      "cell_type": "code",
      "metadata": {
        "id": "48Esqd1dJavN",
        "colab": {
          "base_uri": "https://localhost:8080/",
          "height": 34
        },
        "outputId": "c8745dd5-b9cd-4581-8f7a-42c646d41a48"
      },
      "source": [
        "print(p)"
      ],
      "execution_count": null,
      "outputs": [
        {
          "output_type": "stream",
          "text": [
            "1\n"
          ],
          "name": "stdout"
        }
      ]
    },
    {
      "cell_type": "code",
      "metadata": {
        "id": "jrFFBRuLJcdI"
      },
      "source": [
        "p = 4"
      ],
      "execution_count": null,
      "outputs": []
    },
    {
      "cell_type": "code",
      "metadata": {
        "id": "FAWhVPgbKjAm",
        "colab": {
          "base_uri": "https://localhost:8080/",
          "height": 32
        },
        "outputId": "9d6677ab-6850-4c25-ceed-f95c45de7e3d"
      },
      "source": [
        "print(p)"
      ],
      "execution_count": null,
      "outputs": [
        {
          "output_type": "stream",
          "text": [
            "4\n"
          ],
          "name": "stdout"
        }
      ]
    },
    {
      "cell_type": "code",
      "metadata": {
        "id": "-Y8PHZwkKkOg",
        "colab": {
          "base_uri": "https://localhost:8080/",
          "height": 32
        },
        "outputId": "035b5139-8f58-4586-9e74-03aa382a10ab"
      },
      "source": [
        "print(n)"
      ],
      "execution_count": null,
      "outputs": [
        {
          "output_type": "stream",
          "text": [
            "1\n"
          ],
          "name": "stdout"
        }
      ]
    },
    {
      "cell_type": "markdown",
      "metadata": {
        "id": "s_KRt4EQrtak"
      },
      "source": [
        "#Assignment"
      ]
    },
    {
      "cell_type": "markdown",
      "metadata": {
        "id": "RHDpQ9Lvr3cx"
      },
      "source": [
        "<img src=\"https://lh3.googleusercontent.com/EIeMbu2cDKkUXAGTPutZGc5vLuI-mMbWYfjYSkwA_X8EhsDbtXeRL4746sXvB45Z7nnI8mI9chUyVA4MuWut77orlC9qgG-XjJckIbwuEJCVC4UtbzFVe8Csx2II2yI4R0zNwnVhuoYhN4ht4EYqCjQtV2lH6v27wrJAM8Ao80vdpZhWevsqvcjJlLa92WYUHTcEcwFAhs7VvqYGFw4McOdb2ZB0IToX-APu2LOzNThIqXB16ForN_rXdskVEflK8y1m4AUJu7bNZyUsGKgXfY2OfhRg5yC2c9Ai9q6Y90kFRuu2Sbk6nZu1FM-zxIDansVJ93XbqsL61ZBRkzqQIWabExVX6j__uG1bwlBMSxobq3oJ7j_9yBmvvEIKa9pG_vQYmRuIqjbeP6F053AVwApTRQZXAJkHwYZRDT0GKCflEvRs8YgZ-ziURSHC7AmDB7eSnayWCSGYOoMKG0tW-SNaMZRh0HlXSNisBW9_FAKh84RwC1XBEmDLj-RiRCpGZMgQSbNtk7sqXiyvsLnj2OlP-AxZ08R0DbAVLJJII9lJnraoKJ-AuNhdgI0tw756myibtoHBXn0pw5sFzzQGVj9Hre6ARLhPiu0WRdPRtUPNIKhqsbC7_hYIEKuCseZ04fLIvZ61QhymACG1Ii9Re4_N_WuUIcxnmP5_omF8AkoxMGfNIhPHn-irunlO-W03v9sNlViQz3sKIRIJiqRgeDexKz9EXJv3szeoB4TLQig7bg=w960-h680-no\" width=\"50%\" height=\"80%\"/>\n",
        "\n",
        "- Recall the syntax for the assignment statement\n",
        "- The right hand side of an assignment statement does not need to be single value\n",
        "  - It can consist of an expression\n",
        " "
      ]
    },
    {
      "cell_type": "markdown",
      "metadata": {
        "id": "zVXm8k-EK_Sv"
      },
      "source": [
        "# Statements & Expressions"
      ]
    },
    {
      "cell_type": "markdown",
      "metadata": {
        "id": "SSdnKV2lpjbL"
      },
      "source": [
        "* ***Statement*** is an instruction that Python can execute\n",
        "  - Unit of code that has an effect\n",
        "* ***Expression*** is a combination of values, variables & operators\n",
        "  - Need to be evaluated\n",
        "  - Instructions to do calculations\n",
        "    - Arithmetic, boolean, etc.\n"
      ]
    },
    {
      "cell_type": "code",
      "metadata": {
        "id": "pwxvADK0LFr2"
      },
      "source": [
        "n = 1"
      ],
      "execution_count": null,
      "outputs": []
    },
    {
      "cell_type": "code",
      "metadata": {
        "id": "-3EGMZLYLO5n",
        "colab": {
          "base_uri": "https://localhost:8080/",
          "height": 32
        },
        "outputId": "3409e4e8-9359-44f5-d4f2-801a9d2225cb"
      },
      "source": [
        "print(n)"
      ],
      "execution_count": null,
      "outputs": [
        {
          "output_type": "stream",
          "text": [
            "1\n"
          ],
          "name": "stdout"
        }
      ]
    },
    {
      "cell_type": "code",
      "metadata": {
        "id": "aZ9JDcYeLPpY"
      },
      "source": [
        "n = 1 + 2"
      ],
      "execution_count": null,
      "outputs": []
    },
    {
      "cell_type": "code",
      "metadata": {
        "id": "wqbvBOsvLQ16",
        "colab": {
          "base_uri": "https://localhost:8080/",
          "height": 32
        },
        "outputId": "8f646a2a-a873-44da-b046-9f811a4add7c"
      },
      "source": [
        "print(n)"
      ],
      "execution_count": null,
      "outputs": [
        {
          "output_type": "stream",
          "text": [
            "3\n"
          ],
          "name": "stdout"
        }
      ]
    },
    {
      "cell_type": "code",
      "metadata": {
        "id": "m595hzGkLRz4"
      },
      "source": [
        "n = 1 + 2 + 3"
      ],
      "execution_count": null,
      "outputs": []
    },
    {
      "cell_type": "code",
      "metadata": {
        "id": "sKpWtpVjLUKX",
        "colab": {
          "base_uri": "https://localhost:8080/",
          "height": 32
        },
        "outputId": "359642e0-120e-4407-884b-f563783e379a"
      },
      "source": [
        "print(n)"
      ],
      "execution_count": null,
      "outputs": [
        {
          "output_type": "stream",
          "text": [
            "6\n"
          ],
          "name": "stdout"
        }
      ]
    },
    {
      "cell_type": "code",
      "metadata": {
        "id": "mVDpkIzNLU3t"
      },
      "source": [
        "n = 1"
      ],
      "execution_count": null,
      "outputs": []
    },
    {
      "cell_type": "code",
      "metadata": {
        "id": "6_eGkRRzLYOB",
        "colab": {
          "base_uri": "https://localhost:8080/",
          "height": 32
        },
        "outputId": "c9b407c9-9d9e-4a4b-c462-c1e84f3a269a"
      },
      "source": [
        "print(n)"
      ],
      "execution_count": null,
      "outputs": [
        {
          "output_type": "stream",
          "text": [
            "1\n"
          ],
          "name": "stdout"
        }
      ]
    },
    {
      "cell_type": "code",
      "metadata": {
        "id": "P3Iah7N6LZYp"
      },
      "source": [
        "p = n + 1"
      ],
      "execution_count": null,
      "outputs": []
    },
    {
      "cell_type": "code",
      "metadata": {
        "id": "rIcTRHCALbXd",
        "colab": {
          "base_uri": "https://localhost:8080/",
          "height": 32
        },
        "outputId": "a45d9ff2-e88f-4fdc-92ec-3f6358805c18"
      },
      "source": [
        "print(p)"
      ],
      "execution_count": null,
      "outputs": [
        {
          "output_type": "stream",
          "text": [
            "2\n"
          ],
          "name": "stdout"
        }
      ]
    },
    {
      "cell_type": "code",
      "metadata": {
        "id": "BfMCg4GjLc03"
      },
      "source": [
        "r = 2*p"
      ],
      "execution_count": null,
      "outputs": []
    },
    {
      "cell_type": "code",
      "metadata": {
        "id": "LUFKkI72LeNN",
        "colab": {
          "base_uri": "https://localhost:8080/",
          "height": 32
        },
        "outputId": "fff2e006-23f3-4fea-aff9-a2241cbb810b"
      },
      "source": [
        "print(r)"
      ],
      "execution_count": null,
      "outputs": [
        {
          "output_type": "stream",
          "text": [
            "4\n"
          ],
          "name": "stdout"
        }
      ]
    },
    {
      "cell_type": "markdown",
      "metadata": {
        "id": "xRfdlaOQMhsM"
      },
      "source": [
        "# Arithmetic Operations"
      ]
    },
    {
      "cell_type": "markdown",
      "metadata": {
        "id": "RrPXXo1ep3yK"
      },
      "source": [
        "Operator | Meaning\n",
        "--- | ---\n",
        "+ | Add two operands\n",
        "- | Subtract right operand from the left operand\n",
        "\\* | Multiply two operands\n",
        "/ | Divide left operand by the right operand (always results in float)\n",
        "% | Modulus - remainder of the division of left operand by the right operand\n",
        "// | Floor division - division that results into a cut off the part after the period\n",
        "\\*\\* | Exponent - left operand is raised to the power of the right operand"
      ]
    },
    {
      "cell_type": "code",
      "metadata": {
        "id": "MI-CwVdUMmLD",
        "colab": {
          "base_uri": "https://localhost:8080/",
          "height": 32
        },
        "outputId": "396c60ef-0341-4e0a-9174-36ad7d3ceb9d"
      },
      "source": [
        "x = 10 + 2\n",
        "print(x)"
      ],
      "execution_count": null,
      "outputs": [
        {
          "output_type": "stream",
          "text": [
            "12\n"
          ],
          "name": "stdout"
        }
      ]
    },
    {
      "cell_type": "code",
      "metadata": {
        "id": "3rd-SMVGM186",
        "colab": {
          "base_uri": "https://localhost:8080/",
          "height": 32
        },
        "outputId": "2a900bc5-352d-44dc-fc0a-202131c14cb6"
      },
      "source": [
        "x = 13 - 1\n",
        "print(x)"
      ],
      "execution_count": null,
      "outputs": [
        {
          "output_type": "stream",
          "text": [
            "12\n"
          ],
          "name": "stdout"
        }
      ]
    },
    {
      "cell_type": "code",
      "metadata": {
        "id": "LuxdAsalM3l_",
        "colab": {
          "base_uri": "https://localhost:8080/",
          "height": 32
        },
        "outputId": "9fa19cd9-28a3-440e-da7e-6ae56d41fe51"
      },
      "source": [
        "x = 5*3\n",
        "print(x)"
      ],
      "execution_count": null,
      "outputs": [
        {
          "output_type": "stream",
          "text": [
            "15\n"
          ],
          "name": "stdout"
        }
      ]
    },
    {
      "cell_type": "code",
      "metadata": {
        "id": "w7yXPZFuM5k0",
        "colab": {
          "base_uri": "https://localhost:8080/",
          "height": 32
        },
        "outputId": "8b698875-3e9b-45e3-97e7-b550d6e58655"
      },
      "source": [
        "x = 6**2\n",
        "print(x)"
      ],
      "execution_count": null,
      "outputs": [
        {
          "output_type": "stream",
          "text": [
            "36\n"
          ],
          "name": "stdout"
        }
      ]
    },
    {
      "cell_type": "code",
      "metadata": {
        "id": "S00XxAuJM6hC",
        "colab": {
          "base_uri": "https://localhost:8080/",
          "height": 32
        },
        "outputId": "232133d2-b4b1-43ff-af8f-61b8d1105f10"
      },
      "source": [
        "x = 19/4\n",
        "print(x)"
      ],
      "execution_count": null,
      "outputs": [
        {
          "output_type": "stream",
          "text": [
            "4.75\n"
          ],
          "name": "stdout"
        }
      ]
    },
    {
      "cell_type": "code",
      "metadata": {
        "id": "HRuPN5VjM7qR",
        "colab": {
          "base_uri": "https://localhost:8080/",
          "height": 32
        },
        "outputId": "afd7832f-7441-41e3-a0a4-2aefe255ae8b"
      },
      "source": [
        "x = 19//4\n",
        "print(x)"
      ],
      "execution_count": null,
      "outputs": [
        {
          "output_type": "stream",
          "text": [
            "4\n"
          ],
          "name": "stdout"
        }
      ]
    },
    {
      "cell_type": "code",
      "metadata": {
        "id": "7DFysjNYM8jl",
        "colab": {
          "base_uri": "https://localhost:8080/",
          "height": 32
        },
        "outputId": "770dcad3-5fba-4a3c-ac8b-3cbca56ea3da"
      },
      "source": [
        "x = 19%4\n",
        "print(x)"
      ],
      "execution_count": null,
      "outputs": [
        {
          "output_type": "stream",
          "text": [
            "3\n"
          ],
          "name": "stdout"
        }
      ]
    },
    {
      "cell_type": "code",
      "metadata": {
        "id": "BgqvJFKKNvZu",
        "colab": {
          "base_uri": "https://localhost:8080/",
          "height": 32
        },
        "outputId": "051dc616-3350-4416-9e3d-273cb765a1bb"
      },
      "source": [
        "x = 12-4*2/4+3\n",
        "print(x)"
      ],
      "execution_count": null,
      "outputs": [
        {
          "output_type": "stream",
          "text": [
            "13.0\n"
          ],
          "name": "stdout"
        }
      ]
    },
    {
      "cell_type": "code",
      "metadata": {
        "id": "HNBwsc_pN01X",
        "colab": {
          "base_uri": "https://localhost:8080/",
          "height": 32
        },
        "outputId": "72f8858f-204c-4a1c-894c-ccfb2dd72074"
      },
      "source": [
        "x = (12-4)*2/4+3\n",
        "print(x)"
      ],
      "execution_count": null,
      "outputs": [
        {
          "output_type": "stream",
          "text": [
            "7.0\n"
          ],
          "name": "stdout"
        }
      ]
    },
    {
      "cell_type": "markdown",
      "metadata": {
        "id": "l_rurmzgq5od"
      },
      "source": [
        "Just like we have precedence of arithmetic operators in math, Python applies a certain order of evaluation"
      ]
    },
    {
      "cell_type": "markdown",
      "metadata": {
        "id": "x0WgfLitq-0M"
      },
      "source": [
        "# Precedence - Order of Operations (PEMDAS)"
      ]
    },
    {
      "cell_type": "markdown",
      "metadata": {
        "id": "yADKKUPwrAls"
      },
      "source": [
        "1.   Parenthesis ***(highest precedence)***\n",
        "2.   Exponentiation (right to left for multiple consecutive occurrences)\n",
        "3.   Multiplication & Division (left to right for multiple consecutive occurrences)\n",
        "4.   Addition & Subtraction (left to right for multiple consecutive occurrences) ***(lowest precedence)***"
      ]
    },
    {
      "cell_type": "markdown",
      "metadata": {
        "id": "YlT4UVqDQDJS"
      },
      "source": [
        "# Estimate Population"
      ]
    },
    {
      "cell_type": "markdown",
      "metadata": {
        "id": "bT4rEZTrkQua"
      },
      "source": [
        "We are going to estimate the population of Turkey based on the following data\n",
        " * 83.67 million in 2018\n",
        " * Every 25 seconds, a birth happens\n",
        " * Every 74 seconds, a death happens\n",
        " * Every 54 seconds, a new immigrant comes\n",
        "\n",
        "What will the population be in 2025?\n",
        "\n",
        "\n",
        "\n",
        "---"
      ]
    },
    {
      "cell_type": "markdown",
      "metadata": {
        "id": "NLkNYRJck2ua"
      },
      "source": [
        "There are different ways of calculating elapsed time in seconds as given below"
      ]
    },
    {
      "cell_type": "code",
      "metadata": {
        "id": "ON_7H_A8N6xa"
      },
      "source": [
        "e = (2025-2018)*365*24*60*60"
      ],
      "execution_count": null,
      "outputs": []
    },
    {
      "cell_type": "code",
      "metadata": {
        "id": "c5GUhK0DQJMK"
      },
      "source": [
        "p = 83670000 + e//25 - e//74 + e//54"
      ],
      "execution_count": null,
      "outputs": []
    },
    {
      "cell_type": "code",
      "metadata": {
        "id": "L6WdXC3zOsPD"
      },
      "source": [
        "elapsed = (2025-2018)*365*24*60*60"
      ],
      "execution_count": null,
      "outputs": []
    },
    {
      "cell_type": "code",
      "metadata": {
        "id": "cjI2efXzO5zl"
      },
      "source": [
        "sec_in_year = 365*24*60*60\n",
        "elapsed = (2025-2018)*sec_in_year"
      ],
      "execution_count": null,
      "outputs": []
    },
    {
      "cell_type": "code",
      "metadata": {
        "id": "rycnkCKXPT9r"
      },
      "source": [
        "start_year = 2018\n",
        "end_year = 2025\n",
        "sec_in_year = 365*24*60*60\n",
        "elapsed = (end_year - start_year) * sec_in_year"
      ],
      "execution_count": null,
      "outputs": []
    },
    {
      "cell_type": "markdown",
      "metadata": {
        "id": "jJD9oWSenFK6"
      },
      "source": [
        "# Estimate Population - Flowchart"
      ]
    },
    {
      "cell_type": "markdown",
      "metadata": {
        "id": "_YPI0G7T6cYH"
      },
      "source": [
        "![alt text](https://lh3.googleusercontent.com/1oo6e-UIDyB_uD-F_Yfmkt6JmUzmvV82BZ8LgoHrF6bDWHAea1Ho9Yq_7gIhSXBoEpIbqeAevIqHzSidkcMsyv6UXAtZPFKLAVWP9YbZhq8ktOq2EYVl6iMYUDOfO4al0CgJi00lQjJ45cz0UklHQzo_4uwJTQLr5vwJhXz7BaAa2T12MktIi0WQjroebaHjjMaPj59t-C20ctU3TdBTfTznaNOMqzF4YmZZG064x6Nqge6yNe5uKV5xW5zL1NxVHkeOmw5-qPyAPjUpGw2_KeWL4LU4HOyaH2_94bPVu3G-xYhuniEbtv6hwiZbeLaSL2wzGhQ3mxPIm8tOQStcvxIqvkVjs7QRJZPDczf4XlEVArfCMJqohn-WvMXVHblW5Nj4w_DdOkRUSCoPjJfBHeSsKwg8Lh3XCiEhFw1MufS6crU-lzEFupEhxeA20Z7KShQ54httWxO-uTn2Ks5p14XFZzgVcdImJwUk9b0s3PH5KS6iRuNwDCaLH-H28EyDNGoB5DvCbBGiq5pv-IlIvGiZCc7E3p4R6slltLYFRpUELtTdyTRfNSy8nJzzIKtjy1hs_eNLB6Y_xmDNQhYrCufla4mi-ABxzUEcBNmv2r2VpBFuqqv1krci1OLK_XCOj272WUjwvlH70Aaso8l1B2wWYtkWkj7MJtYqSKGapVWT490po3h2pD94JgGqKxB2ODZoZ5MH2yoxrPrkNly8CvHV8h0itmDyTUMo66f-0H_Sd3s=w641-h221-no)"
      ]
    },
    {
      "cell_type": "markdown",
      "metadata": {
        "id": "T4kjrtrxtoQy"
      },
      "source": [
        "# Assignment Operators"
      ]
    },
    {
      "cell_type": "markdown",
      "metadata": {
        "id": "pInBl6U83o5L"
      },
      "source": [
        "Operator | Example | Equivalent to\n",
        "--- | --- | ---\n",
        "= | x = 5 | x = 5\n",
        "+= | x += 5 | x = x + 5\n",
        "-= | x -= 5| x = x - 5\n",
        "\\*= | x \\*= 5 | x = x * 5\n",
        "/= | x /= 5 | x = x / 5\n",
        "%= | x %= 5 | x = x % 5\n",
        "//= | x //= 5| x = x = x // 5\n",
        "\\*\\*= | x \\*\\*= 5 | x = x \\*\\* 5"
      ]
    },
    {
      "cell_type": "markdown",
      "metadata": {
        "id": "LKfQO2e-6aQf"
      },
      "source": [
        "# population1.py"
      ]
    },
    {
      "cell_type": "markdown",
      "metadata": {
        "id": "T908RSXQlHi1"
      },
      "source": [
        "We are going to estimate the population of Turkey based on the following data\n",
        " * 83.67 million in 2018\n",
        " * Every 25 seconds, a birth happens\n",
        " * Every 74 seconds, a death happens\n",
        " * Every 54 seconds, a new immigrant comes\n",
        "\n",
        "What will the population be in 2025?\n",
        "\n",
        "\n",
        "\n",
        "---"
      ]
    },
    {
      "cell_type": "code",
      "metadata": {
        "id": "JteObkUq6p3B",
        "colab": {
          "base_uri": "https://localhost:8080/",
          "height": 34
        },
        "outputId": "75644f1a-ad6a-4775-d30c-2632760c3c82"
      },
      "source": [
        "population = 83670000\n",
        "start_year = 2018\n",
        "end_year = 2025\n",
        "sec_in_year = 365*24*60*60\n",
        "\n",
        "elapsed = (end_year - start_year)*sec_in_year\n",
        "\n",
        "population += elapsed//25 - elapsed//74 + elapsed//54\n",
        "population = population + elapsed//25 - elapsed//74 + elapsed//54\n",
        "\n",
        "print(population)"
      ],
      "execution_count": null,
      "outputs": [
        {
          "output_type": "stream",
          "text": [
            "93604945\n"
          ],
          "name": "stdout"
        }
      ]
    },
    {
      "cell_type": "markdown",
      "metadata": {
        "id": "HxzVKV8Ji9rN"
      },
      "source": [
        "# Outputs in Python"
      ]
    },
    {
      "cell_type": "markdown",
      "metadata": {
        "id": "hX58Q8SLi9rP"
      },
      "source": [
        "You have two variables at the end with the following values:"
      ]
    },
    {
      "cell_type": "code",
      "metadata": {
        "id": "Bi6kcA5ai9rP",
        "colab": {
          "base_uri": "https://localhost:8080/",
          "height": 34
        },
        "outputId": "f4b340be-6453-4650-81a3-a4344d2cda29"
      },
      "source": [
        "end_year = 2025\n",
        "population = 93604945\n",
        "\n",
        "print(\"The estimated population will be\", population, \"in\", end_year, \".\")"
      ],
      "execution_count": null,
      "outputs": [
        {
          "output_type": "stream",
          "text": [
            "The estimated population will be 93604945 in 2025 .\n"
          ],
          "name": "stdout"
        }
      ]
    },
    {
      "cell_type": "code",
      "metadata": {
        "id": "QlONbcYWi9rS",
        "colab": {
          "base_uri": "https://localhost:8080/",
          "height": 34
        },
        "outputId": "dd73d527-5765-468f-f6ea-f7f7edec6b35"
      },
      "source": [
        "print(\"The estimated population will be \", population, \" in \", end_year, \".\", sep=\"\")"
      ],
      "execution_count": null,
      "outputs": [
        {
          "output_type": "stream",
          "text": [
            "The estimated population will be 93604945 in 2025.\n"
          ],
          "name": "stdout"
        }
      ]
    },
    {
      "cell_type": "markdown",
      "metadata": {
        "id": "JeJ3t8fpi9rX"
      },
      "source": [
        "Any difference among the outputs?"
      ]
    },
    {
      "cell_type": "markdown",
      "metadata": {
        "id": "JlkoCL_7uyIY"
      },
      "source": [
        "# Values & Types"
      ]
    },
    {
      "cell_type": "markdown",
      "metadata": {
        "id": "5NB37XEly9XR"
      },
      "source": [
        ""
      ]
    },
    {
      "cell_type": "markdown",
      "metadata": {
        "id": "-4hBEhtSu0dt"
      },
      "source": [
        "* A ***value*** is one of the basic things a program works with\n",
        "  - Like a letter or a word\n",
        "* Each value belongs to a ***type***\n",
        "  - int - integer\n",
        "  - float - floating point (real numbers)\n",
        "  - str - string"
      ]
    },
    {
      "cell_type": "markdown",
      "metadata": {
        "id": "g-bHgg53TC07"
      },
      "source": [
        "# String as a Type"
      ]
    },
    {
      "cell_type": "code",
      "metadata": {
        "id": "2BQdQxJWTFNO",
        "colab": {
          "base_uri": "https://localhost:8080/",
          "height": 176
        },
        "outputId": "c67bbe91-0e4b-4db5-e374-e96158b96678"
      },
      "source": [
        "'2'-'1'"
      ],
      "execution_count": null,
      "outputs": [
        {
          "output_type": "error",
          "ename": "TypeError",
          "evalue": "ignored",
          "traceback": [
            "\u001b[0;31m---------------------------------------------------------------------------\u001b[0m",
            "\u001b[0;31mTypeError\u001b[0m                                 Traceback (most recent call last)",
            "\u001b[0;32m<ipython-input-74-1ccf7c896d8b>\u001b[0m in \u001b[0;36m<module>\u001b[0;34m()\u001b[0m\n\u001b[0;32m----> 1\u001b[0;31m \u001b[0;34m'2'\u001b[0m\u001b[0;34m-\u001b[0m\u001b[0;34m'1'\u001b[0m\u001b[0;34m\u001b[0m\u001b[0m\n\u001b[0m",
            "\u001b[0;31mTypeError\u001b[0m: unsupported operand type(s) for -: 'str' and 'str'"
          ]
        }
      ]
    },
    {
      "cell_type": "code",
      "metadata": {
        "id": "N0QaMyygTHq0",
        "colab": {
          "base_uri": "https://localhost:8080/",
          "height": 176
        },
        "outputId": "197e6329-6939-4228-8c55-a817e958809d"
      },
      "source": [
        "'a'/'b'"
      ],
      "execution_count": null,
      "outputs": [
        {
          "output_type": "error",
          "ename": "TypeError",
          "evalue": "ignored",
          "traceback": [
            "\u001b[0;31m---------------------------------------------------------------------------\u001b[0m",
            "\u001b[0;31mTypeError\u001b[0m                                 Traceback (most recent call last)",
            "\u001b[0;32m<ipython-input-75-29fdd2493750>\u001b[0m in \u001b[0;36m<module>\u001b[0;34m()\u001b[0m\n\u001b[0;32m----> 1\u001b[0;31m \u001b[0;34m'a'\u001b[0m\u001b[0;34m/\u001b[0m\u001b[0;34m'b'\u001b[0m\u001b[0;34m\u001b[0m\u001b[0m\n\u001b[0m",
            "\u001b[0;31mTypeError\u001b[0m: unsupported operand type(s) for /: 'str' and 'str'"
          ]
        }
      ]
    },
    {
      "cell_type": "code",
      "metadata": {
        "id": "qGK_YcffTKq7",
        "colab": {
          "base_uri": "https://localhost:8080/",
          "height": 32
        },
        "outputId": "db3325d3-dadb-4da9-dacb-e9e857c0da6e"
      },
      "source": [
        "'a'+'b'"
      ],
      "execution_count": null,
      "outputs": [
        {
          "output_type": "execute_result",
          "data": {
            "text/plain": [
              "'ab'"
            ]
          },
          "metadata": {
            "tags": []
          },
          "execution_count": 76
        }
      ]
    },
    {
      "cell_type": "code",
      "metadata": {
        "id": "CqfUSHWnTg9M",
        "colab": {
          "base_uri": "https://localhost:8080/",
          "height": 32
        },
        "outputId": "03bc630c-999b-4d75-be7b-1e073e051b18"
      },
      "source": [
        "'a'*3"
      ],
      "execution_count": null,
      "outputs": [
        {
          "output_type": "execute_result",
          "data": {
            "text/plain": [
              "'aaa'"
            ]
          },
          "metadata": {
            "tags": []
          },
          "execution_count": 77
        }
      ]
    },
    {
      "cell_type": "code",
      "metadata": {
        "id": "yeSOTCsiTk68",
        "colab": {
          "base_uri": "https://localhost:8080/",
          "height": 176
        },
        "outputId": "50887c00-471c-4c13-ea3c-72f15b5b6468"
      },
      "source": [
        "'a'*'b'"
      ],
      "execution_count": null,
      "outputs": [
        {
          "output_type": "error",
          "ename": "TypeError",
          "evalue": "ignored",
          "traceback": [
            "\u001b[0;31m---------------------------------------------------------------------------\u001b[0m",
            "\u001b[0;31mTypeError\u001b[0m                                 Traceback (most recent call last)",
            "\u001b[0;32m<ipython-input-78-3a7abb6af42d>\u001b[0m in \u001b[0;36m<module>\u001b[0;34m()\u001b[0m\n\u001b[0;32m----> 1\u001b[0;31m \u001b[0;34m'a'\u001b[0m\u001b[0;34m*\u001b[0m\u001b[0;34m'b'\u001b[0m\u001b[0;34m\u001b[0m\u001b[0m\n\u001b[0m",
            "\u001b[0;31mTypeError\u001b[0m: can't multiply sequence by non-int of type 'str'"
          ]
        }
      ]
    },
    {
      "cell_type": "markdown",
      "metadata": {
        "id": "MjFriok3UUvZ"
      },
      "source": [
        "# Outputs in Python (cont'd)"
      ]
    },
    {
      "cell_type": "markdown",
      "metadata": {
        "id": "oaW4kCOwvV-2"
      },
      "source": [
        "You have two variables at the end with the following values:"
      ]
    },
    {
      "cell_type": "code",
      "metadata": {
        "id": "X6V2tE75UcAZ",
        "colab": {
          "base_uri": "https://localhost:8080/",
          "height": 34
        },
        "outputId": "b392d666-fb7c-4783-f37c-f1a47ad3fe1f"
      },
      "source": [
        "end_year = 2025\n",
        "population = 93604945\n",
        "\n",
        "print(\"The estimated population will be \" + str(population) + \" in \" + str(end_year) + \".\")"
      ],
      "execution_count": null,
      "outputs": [
        {
          "output_type": "stream",
          "text": [
            "The estimated population will be 93604945 in 2025.\n"
          ],
          "name": "stdout"
        }
      ]
    },
    {
      "cell_type": "markdown",
      "metadata": {
        "id": "mjle14BHkF_3"
      },
      "source": [
        "You can only sum (or append) **same data types**"
      ]
    },
    {
      "cell_type": "markdown",
      "metadata": {
        "id": "JdMcCPrAXVga"
      },
      "source": [
        "# population2.py"
      ]
    },
    {
      "cell_type": "code",
      "metadata": {
        "id": "VKRR1UozkXVv",
        "colab": {
          "base_uri": "https://localhost:8080/",
          "height": 68
        },
        "outputId": "40ee6a09-6e0b-4cda-eab7-b0262f44689b"
      },
      "source": [
        "population = 83670000\n",
        "start_year = 2018\n",
        "end_year = 2025\n",
        "sec_in_year = 365*24*60*60\n",
        "\n",
        "elapsed = (end_year - start_year)*sec_in_year\n",
        "\n",
        "population += elapsed//25 - elapsed//74 + elapsed//54\n",
        "\n",
        "print(\"The estimated population will be\", population, \"in\", end_year, \".\")\n",
        "print(\"The estimated population will be \", population, \" in \", end_year, \".\", sep=\"\")\n",
        "print(\"The estimated population will be \" + str(population) + \" in \" + str(end_year) + \".\")"
      ],
      "execution_count": null,
      "outputs": [
        {
          "output_type": "stream",
          "text": [
            "The estimated population will be 93604945 in 2025 .\n",
            "The estimated population will be 93604945 in 2025.\n",
            "The estimated population will be 93604945 in 2025.\n"
          ],
          "name": "stdout"
        }
      ]
    },
    {
      "cell_type": "markdown",
      "metadata": {
        "id": "6BDn1emYLIRr"
      },
      "source": [
        ""
      ]
    },
    {
      "cell_type": "markdown",
      "metadata": {
        "id": "GHe2DI0JWexz"
      },
      "source": [
        "# Type Casting"
      ]
    },
    {
      "cell_type": "markdown",
      "metadata": {
        "id": "6jJMKK0wvn9t"
      },
      "source": [
        "* To convert between types you simply use the type name as a function\n",
        "* The value should be convertible\n",
        "* **ord() is inverse of chr()**"
      ]
    },
    {
      "cell_type": "code",
      "metadata": {
        "id": "fFdKUbl1WhNG",
        "colab": {
          "base_uri": "https://localhost:8080/",
          "height": 32
        },
        "outputId": "901b35e6-6721-46ea-8809-c5ed93eaab29"
      },
      "source": [
        "x = str(57)\n",
        "x"
      ],
      "execution_count": null,
      "outputs": [
        {
          "output_type": "execute_result",
          "data": {
            "text/plain": [
              "'57'"
            ]
          },
          "metadata": {
            "tags": []
          },
          "execution_count": 82
        }
      ]
    },
    {
      "cell_type": "code",
      "metadata": {
        "id": "3fNNxWL2WltH",
        "colab": {
          "base_uri": "https://localhost:8080/",
          "height": 32
        },
        "outputId": "913bb4e1-2640-4474-d2db-2e28569249d1"
      },
      "source": [
        "x = int(\"655\")\n",
        "x"
      ],
      "execution_count": null,
      "outputs": [
        {
          "output_type": "execute_result",
          "data": {
            "text/plain": [
              "655"
            ]
          },
          "metadata": {
            "tags": []
          },
          "execution_count": 83
        }
      ]
    },
    {
      "cell_type": "code",
      "metadata": {
        "id": "or5Al5o4Wofj",
        "colab": {
          "base_uri": "https://localhost:8080/",
          "height": 34
        },
        "outputId": "9ebbe142-dda5-4b90-c468-ddb6683fe11f"
      },
      "source": [
        "x = int(5.99)\n",
        "x"
      ],
      "execution_count": null,
      "outputs": [
        {
          "output_type": "execute_result",
          "data": {
            "text/plain": [
              "5"
            ]
          },
          "metadata": {
            "tags": []
          },
          "execution_count": 2
        }
      ]
    },
    {
      "cell_type": "code",
      "metadata": {
        "id": "bQ12FmODWrcS",
        "colab": {
          "base_uri": "https://localhost:8080/",
          "height": 181
        },
        "outputId": "5e73e2dc-bff7-47a3-ed1e-a9eaba8091d2"
      },
      "source": [
        "x = int(\"655a\")\n",
        "x"
      ],
      "execution_count": null,
      "outputs": [
        {
          "output_type": "error",
          "ename": "ValueError",
          "evalue": "ignored",
          "traceback": [
            "\u001b[0;31m---------------------------------------------------------------------------\u001b[0m",
            "\u001b[0;31mValueError\u001b[0m                                Traceback (most recent call last)",
            "\u001b[0;32m<ipython-input-3-1de9201de608>\u001b[0m in \u001b[0;36m<module>\u001b[0;34m()\u001b[0m\n\u001b[0;32m----> 1\u001b[0;31m \u001b[0mx\u001b[0m \u001b[0;34m=\u001b[0m \u001b[0mint\u001b[0m\u001b[0;34m(\u001b[0m\u001b[0;34m\"655a\"\u001b[0m\u001b[0;34m)\u001b[0m\u001b[0;34m\u001b[0m\u001b[0m\n\u001b[0m\u001b[1;32m      2\u001b[0m \u001b[0mx\u001b[0m\u001b[0;34m\u001b[0m\u001b[0m\n",
            "\u001b[0;31mValueError\u001b[0m: invalid literal for int() with base 10: '655a'"
          ]
        }
      ]
    },
    {
      "cell_type": "code",
      "metadata": {
        "id": "guPfqDVqWvDI",
        "colab": {
          "base_uri": "https://localhost:8080/",
          "height": 32
        },
        "outputId": "b8843186-cbd5-4f4b-8585-fb5697d433c9"
      },
      "source": [
        "x = ord(\"A\")\n",
        "x"
      ],
      "execution_count": null,
      "outputs": [
        {
          "output_type": "execute_result",
          "data": {
            "text/plain": [
              "65"
            ]
          },
          "metadata": {
            "tags": []
          },
          "execution_count": 86
        }
      ]
    },
    {
      "cell_type": "code",
      "metadata": {
        "id": "qKJnMQFbW0Wy",
        "colab": {
          "base_uri": "https://localhost:8080/",
          "height": 32
        },
        "outputId": "7036bb32-cbcc-43dd-85d5-41b7778324de"
      },
      "source": [
        "x = chr(65)\n",
        "x"
      ],
      "execution_count": null,
      "outputs": [
        {
          "output_type": "execute_result",
          "data": {
            "text/plain": [
              "'A'"
            ]
          },
          "metadata": {
            "tags": []
          },
          "execution_count": 87
        }
      ]
    },
    {
      "cell_type": "markdown",
      "metadata": {
        "id": "WLK3fHrsRrn1"
      },
      "source": [
        "# Comments"
      ]
    },
    {
      "cell_type": "markdown",
      "metadata": {
        "id": "fqaWnddxtTPw"
      },
      "source": [
        "* Hard to read larger & complicated programs\n",
        "* Adding notes is a good idea - comments\n",
        "  - To explain in natural language what the program is doing\n",
        "* Use of #\n",
        "  - Everything from the symbol # to the end of the line is ignored \n",
        "    - no effect on execution\n",
        "* It is also possible to comment multiple lines at the same time\n",
        "* You can use triple-quotes (''' or \"\"\")\n",
        "  - Everything between triple-quotes will be commented out as below"
      ]
    },
    {
      "cell_type": "code",
      "metadata": {
        "id": "oSo53VUJQyGz",
        "colab": {
          "base_uri": "https://localhost:8080/",
          "height": 32
        },
        "outputId": "2fddf5e5-1269-44a8-a269-7f85828ff34d"
      },
      "source": [
        "\"\"\"\n",
        "print(\"This part will be commented out\")\n",
        "\n",
        "print(\"This part also will be commented out\")\n",
        "\"\"\"\n",
        "\n",
        "print(\"However this will be printed\")"
      ],
      "execution_count": null,
      "outputs": [
        {
          "output_type": "stream",
          "text": [
            "However this will be printed\n"
          ],
          "name": "stdout"
        }
      ]
    },
    {
      "cell_type": "markdown",
      "metadata": {
        "id": "lqEhhOf-ldV6"
      },
      "source": [
        "# population3.py"
      ]
    },
    {
      "cell_type": "markdown",
      "metadata": {
        "id": "OnIvevpMlxgi"
      },
      "source": [
        "We are going to estimate the population of Turkey based on the following data\n",
        " * 83.67 million in 2018\n",
        " * Every 25 seconds, a birth happens\n",
        " * Every 74 seconds, a death happens\n",
        " * Every 54 seconds, a new immigrant comes\n",
        "\n",
        "What will the population be in 2025?\n",
        "\n",
        "\n",
        "\n",
        "---"
      ]
    },
    {
      "cell_type": "code",
      "metadata": {
        "id": "R6Nan7calDCo"
      },
      "source": [
        "# initializations\n",
        "population = 83670000\n",
        "start_year = 2018\n",
        "end_year = 2025\n",
        "sec_in_year = 365*24*60*60\n",
        "\n",
        "# calculate the elapsed time in seconds\n",
        "elapsed = (end_year - start_year)*sec_in_year\n",
        "\n",
        "# consider the rates \n",
        "population += elapsed//25 - elapsed//74 + elapsed//54\n",
        "# population = population + elapsed//7 - elapsed//13 + elapsed//35\n",
        "\n",
        "# print out the desired value\n",
        "print(\"The estimated population will be \", population, \" in \", end_year, \".\", sep=\"\")"
      ],
      "execution_count": null,
      "outputs": []
    },
    {
      "cell_type": "markdown",
      "metadata": {
        "id": "UkuaJJh5XXyK"
      },
      "source": [
        "# Inputs in Python"
      ]
    },
    {
      "cell_type": "markdown",
      "metadata": {
        "id": "GyARYTNwvzmn"
      },
      "source": [
        "What about getting the end_year variable from the user?"
      ]
    },
    {
      "cell_type": "markdown",
      "metadata": {
        "id": "ifpwlwzzv64H"
      },
      "source": [
        "* What if we want to get the value of the variable ***end_year*** from the user? \n",
        "* **input()** is used to get the info  from user\n",
        "* If **input()** is called, the program flow will stop until the user has given an input\n",
        "* The text of the optional parameter, i.e. prompt, will be printed on screen\n",
        "* **input()** takes only 1 parameter \n",
        "  - of type string"
      ]
    },
    {
      "cell_type": "code",
      "metadata": {
        "id": "B1EW-RRzXbZs",
        "colab": {
          "base_uri": "https://localhost:8080/",
          "height": 52
        },
        "outputId": "cb99b2bd-ee2b-4738-c1dc-456efd712017"
      },
      "source": [
        "input()"
      ],
      "execution_count": null,
      "outputs": [
        {
          "output_type": "stream",
          "text": [
            "Ronnie\n"
          ],
          "name": "stdout"
        },
        {
          "output_type": "execute_result",
          "data": {
            "text/plain": [
              "'Ronnie'"
            ]
          },
          "metadata": {
            "tags": []
          },
          "execution_count": 1
        }
      ]
    },
    {
      "cell_type": "code",
      "metadata": {
        "id": "klAMxBCcXc7R",
        "colab": {
          "base_uri": "https://localhost:8080/",
          "height": 52
        },
        "outputId": "1b38e254-377f-40c2-a5f3-fa618dc35e0e"
      },
      "source": [
        "name = input()\n",
        "print(name)"
      ],
      "execution_count": null,
      "outputs": [
        {
          "output_type": "stream",
          "text": [
            "Ronnie\n",
            "Ronnie\n"
          ],
          "name": "stdout"
        }
      ]
    },
    {
      "cell_type": "code",
      "metadata": {
        "id": "RRBoq2RVXjLE",
        "colab": {
          "base_uri": "https://localhost:8080/",
          "height": 54
        },
        "outputId": "251c882f-038c-4454-fd52-034d1c4387fd"
      },
      "source": [
        "name = input(\"Please enter your name: \")\n",
        "print(name)"
      ],
      "execution_count": null,
      "outputs": [
        {
          "output_type": "stream",
          "text": [
            "Please enter your name: Ronnie\n",
            "Ronnie\n"
          ],
          "name": "stdout"
        }
      ]
    },
    {
      "cell_type": "code",
      "metadata": {
        "id": "xxLcYAmUXzgp",
        "colab": {
          "base_uri": "https://localhost:8080/",
          "height": 54
        },
        "outputId": "feb53f69-43be-4f5d-cc71-35c5ae5c4b73"
      },
      "source": [
        "surname = input(name + \",please enter your surname: \")\n",
        "print(surname)"
      ],
      "execution_count": null,
      "outputs": [
        {
          "output_type": "stream",
          "text": [
            "Ronnie,please enter your surname: Bonnie\n",
            "Bonnie\n"
          ],
          "name": "stdout"
        }
      ]
    },
    {
      "cell_type": "code",
      "metadata": {
        "id": "uK3lLSf1YHAN",
        "colab": {
          "base_uri": "https://localhost:8080/",
          "height": 32
        },
        "outputId": "93ca436a-c00b-4dd9-ee67-c7e39e7614c1"
      },
      "source": [
        "print(name, surname)"
      ],
      "execution_count": null,
      "outputs": [
        {
          "output_type": "stream",
          "text": [
            "Ronnie Bonnie\n"
          ],
          "name": "stdout"
        }
      ]
    },
    {
      "cell_type": "code",
      "metadata": {
        "id": "esRAAThCYLfB",
        "colab": {
          "base_uri": "https://localhost:8080/",
          "height": 158
        },
        "outputId": "88350a47-a648-48db-db94-80a2097f7455"
      },
      "source": [
        "surname = input(name, \",please enter your surname: \")"
      ],
      "execution_count": null,
      "outputs": [
        {
          "output_type": "error",
          "ename": "TypeError",
          "evalue": "ignored",
          "traceback": [
            "\u001b[0;31m---------------------------------------------------------------------------\u001b[0m",
            "\u001b[0;31mTypeError\u001b[0m                                 Traceback (most recent call last)",
            "\u001b[0;32m<ipython-input-95-7ba6bc3f08aa>\u001b[0m in \u001b[0;36m<module>\u001b[0;34m()\u001b[0m\n\u001b[0;32m----> 1\u001b[0;31m \u001b[0msurname\u001b[0m \u001b[0;34m=\u001b[0m \u001b[0minput\u001b[0m\u001b[0;34m(\u001b[0m\u001b[0mname\u001b[0m\u001b[0;34m,\u001b[0m \u001b[0;34m\",please enter your surname: \"\u001b[0m\u001b[0;34m)\u001b[0m\u001b[0;34m\u001b[0m\u001b[0m\n\u001b[0m",
            "\u001b[0;31mTypeError\u001b[0m: raw_input() takes from 1 to 2 positional arguments but 3 were given"
          ]
        }
      ]
    },
    {
      "cell_type": "markdown",
      "metadata": {
        "id": "TVFktLeuwvXU"
      },
      "source": [
        "* User input will be returned as a **string** without any changes \n",
        "* We need to use **type casting** when input is required to be transformed into another type"
      ]
    },
    {
      "cell_type": "code",
      "metadata": {
        "id": "N0WIz009YWF8",
        "colab": {
          "base_uri": "https://localhost:8080/",
          "height": 257
        },
        "outputId": "acf28c8a-63f6-4c7c-e1c7-80db0ea607a2"
      },
      "source": [
        "currentYear = input(\"Enter current year:\")\n",
        "birthYear = input(\"Enter your birth year:\")\n",
        "\n",
        "age = currentYear - birthYear\n",
        "\n",
        "print(age)"
      ],
      "execution_count": null,
      "outputs": [
        {
          "output_type": "stream",
          "text": [
            "Enter current year:2018\n",
            "Enter your birth year:1993\n"
          ],
          "name": "stdout"
        },
        {
          "output_type": "error",
          "ename": "TypeError",
          "evalue": "ignored",
          "traceback": [
            "\u001b[0;31m---------------------------------------------------------------------------\u001b[0m",
            "\u001b[0;31mTypeError\u001b[0m                                 Traceback (most recent call last)",
            "\u001b[0;32m<ipython-input-97-6b3a0dd01917>\u001b[0m in \u001b[0;36m<module>\u001b[0;34m()\u001b[0m\n\u001b[1;32m      2\u001b[0m \u001b[0mbirthYear\u001b[0m \u001b[0;34m=\u001b[0m \u001b[0minput\u001b[0m\u001b[0;34m(\u001b[0m\u001b[0;34m\"Enter your birth year:\"\u001b[0m\u001b[0;34m)\u001b[0m\u001b[0;34m\u001b[0m\u001b[0m\n\u001b[1;32m      3\u001b[0m \u001b[0;34m\u001b[0m\u001b[0m\n\u001b[0;32m----> 4\u001b[0;31m \u001b[0mage\u001b[0m \u001b[0;34m=\u001b[0m \u001b[0mcurrentYear\u001b[0m \u001b[0;34m-\u001b[0m \u001b[0mbirthYear\u001b[0m\u001b[0;34m\u001b[0m\u001b[0m\n\u001b[0m\u001b[1;32m      5\u001b[0m \u001b[0;34m\u001b[0m\u001b[0m\n\u001b[1;32m      6\u001b[0m \u001b[0mprint\u001b[0m\u001b[0;34m(\u001b[0m\u001b[0mage\u001b[0m\u001b[0;34m)\u001b[0m\u001b[0;34m\u001b[0m\u001b[0m\n",
            "\u001b[0;31mTypeError\u001b[0m: unsupported operand type(s) for -: 'str' and 'str'"
          ]
        }
      ]
    },
    {
      "cell_type": "markdown",
      "metadata": {
        "id": "XEcxCuiMweVu"
      },
      "source": [
        "You cannot subtract one string from another !!!"
      ]
    },
    {
      "cell_type": "code",
      "metadata": {
        "id": "z_VrKuSLZGbC",
        "colab": {
          "base_uri": "https://localhost:8080/",
          "height": 70
        },
        "outputId": "0b6ea450-555e-4fec-dbdf-c037636dddd1"
      },
      "source": [
        "currentYear = int(input(\"Enter current year:\"))\n",
        "birthYear = int(input(\"Enter your birth year:\"))\n",
        "\n",
        "age = currentYear - birthYear\n",
        "\n",
        "print(age)"
      ],
      "execution_count": null,
      "outputs": [
        {
          "output_type": "stream",
          "text": [
            "Enter current year:2018\n",
            "Enter your birth year:1993\n",
            "25\n"
          ],
          "name": "stdout"
        }
      ]
    },
    {
      "cell_type": "markdown",
      "metadata": {
        "id": "lOtnoRJ5w6jG"
      },
      "source": [
        "Now, we are capable of getting the value of variable ***end_year*** from the user"
      ]
    },
    {
      "cell_type": "code",
      "metadata": {
        "id": "9qojeIcLZe-w",
        "colab": {
          "base_uri": "https://localhost:8080/",
          "height": 70
        },
        "outputId": "dcd8bad9-19a6-4f12-8607-44118d7e834b"
      },
      "source": [
        "#promt for the user's name\n",
        "name = input('Please enter your name: ')\n",
        "\n",
        "#prompt for end_year\n",
        "end_year = int(input(name + ', please enter a year for population estimation: '))"
      ],
      "execution_count": null,
      "outputs": [
        {
          "output_type": "stream",
          "text": [
            "Please enter your name: Berk\n",
            "Berk, please enter a year for population estimation: 100\n"
          ],
          "name": "stdout"
        }
      ]
    },
    {
      "cell_type": "markdown",
      "metadata": {
        "id": "h_W3Vc_cWe-D"
      },
      "source": [
        "# population4.py"
      ]
    },
    {
      "cell_type": "markdown",
      "metadata": {
        "id": "xPamZs9ilfh4"
      },
      "source": [
        "We are going to estimate the population of Turkey based on the following data\n",
        " * 83.67 million in 2018\n",
        " * Every 25 seconds, a birth happens\n",
        " * Every 74 seconds, a death happens\n",
        " * Every 54 seconds, a new immigrant comes\n",
        "\n",
        "What will the population be in 2025?\n",
        "\n",
        "\n",
        "\n",
        "---"
      ]
    },
    {
      "cell_type": "code",
      "metadata": {
        "id": "qD80s55DWpgp",
        "colab": {
          "base_uri": "https://localhost:8080/",
          "height": 70
        },
        "outputId": "9aad6b16-f59e-4cb9-df10-638fb8634ac4"
      },
      "source": [
        "# prompt for the user's name\n",
        "name = input(\"Please enter your name: \")\n",
        "\n",
        "# prompt for the end_year\n",
        "end_year = int(input(name + \", please enter a year for population estimation: \"))\n",
        "\n",
        "# initializations\n",
        "population = 79510000\n",
        "start_year = 2016\n",
        "sec_in_year = 365*24*60*60\n",
        "\n",
        "# calculate the elapsed time in seconds\n",
        "elapsed = (end_year - start_year)*sec_in_year\n",
        "\n",
        "# consider the rates \n",
        "population += elapsed//7 - elapsed//13 + elapsed//35\n",
        "\n",
        "# print out the desired value\n",
        "print('The estimated population will be ', population, ' in ', end_year, '.', sep='')"
      ],
      "execution_count": null,
      "outputs": [
        {
          "output_type": "stream",
          "text": [
            "Please enter your name: Berk\n",
            "Berk, please enter a year for population estimation: 2018\n",
            "The estimated population will be 85470650 in 2018.\n"
          ],
          "name": "stdout"
        }
      ]
    },
    {
      "cell_type": "markdown",
      "metadata": {
        "id": "P-WlDWCkbb3V"
      },
      "source": [
        "# More on variables"
      ]
    },
    {
      "cell_type": "markdown",
      "metadata": {
        "id": "Dx-r2rnlw_LR"
      },
      "source": [
        "* You can always overwrite the value of a variable \n",
        "  - even with different data types\n",
        "* Whenever you want to use a variable, the latest value of the variable will be used"
      ]
    },
    {
      "cell_type": "code",
      "metadata": {
        "id": "WoE0ugCpbe6v",
        "colab": {
          "base_uri": "https://localhost:8080/",
          "height": 32
        },
        "outputId": "c99e3630-c046-4170-9c17-67a24a7b2a35"
      },
      "source": [
        "a = 5\n",
        "print(a)"
      ],
      "execution_count": null,
      "outputs": [
        {
          "output_type": "stream",
          "text": [
            "5\n"
          ],
          "name": "stdout"
        }
      ]
    },
    {
      "cell_type": "code",
      "metadata": {
        "id": "rfGF7cLnbhGv",
        "colab": {
          "base_uri": "https://localhost:8080/",
          "height": 32
        },
        "outputId": "2cda28e3-c131-4ad0-ca6a-a7e47a38e744"
      },
      "source": [
        "a = 10\n",
        "print(a)"
      ],
      "execution_count": null,
      "outputs": [
        {
          "output_type": "stream",
          "text": [
            "10\n"
          ],
          "name": "stdout"
        }
      ]
    },
    {
      "cell_type": "code",
      "metadata": {
        "id": "O9fDuiNwbiXC",
        "colab": {
          "base_uri": "https://localhost:8080/",
          "height": 32
        },
        "outputId": "ac0dff99-f796-45ba-d3e0-cbd2d330acf3"
      },
      "source": [
        "a = \"Alex De Souza\"\n",
        "print(a)"
      ],
      "execution_count": null,
      "outputs": [
        {
          "output_type": "stream",
          "text": [
            "Alex De Souza\n"
          ],
          "name": "stdout"
        }
      ]
    },
    {
      "cell_type": "code",
      "metadata": {
        "id": "CX0qmrkKbnZh",
        "colab": {
          "base_uri": "https://localhost:8080/",
          "height": 32
        },
        "outputId": "87a316d0-9a29-4176-bec7-7508c010baf5"
      },
      "source": [
        "a"
      ],
      "execution_count": null,
      "outputs": [
        {
          "output_type": "execute_result",
          "data": {
            "text/plain": [
              "'Alex De Souza'"
            ]
          },
          "metadata": {
            "tags": []
          },
          "execution_count": 105
        }
      ]
    }
  ]
}