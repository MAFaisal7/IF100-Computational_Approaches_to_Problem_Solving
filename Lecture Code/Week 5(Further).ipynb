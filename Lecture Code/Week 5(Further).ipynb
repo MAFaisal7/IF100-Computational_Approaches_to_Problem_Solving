{
  "nbformat": 4,
  "nbformat_minor": 0,
  "metadata": {
    "colab": {
      "name": "MakingDecisions.ipynb",
      "provenance": [],
      "collapsed_sections": []
    },
    "kernelspec": {
      "name": "python3",
      "display_name": "Python 3"
    }
  },
  "cells": [
    {
      "cell_type": "markdown",
      "metadata": {
        "id": "y7_EQX_g1QpJ"
      },
      "source": [
        "# Decision Making"
      ]
    },
    {
      "cell_type": "markdown",
      "metadata": {
        "id": "46fjRGW31Ths"
      },
      "source": [
        "<img src = \"https://lh3.googleusercontent.com/PWGVU9kb-qI4rgZz4jPS70ZVGq8IOTwShzwFSsKt8Wpno-MN4Fznv80ihjGfbx2TzNfzl0XJiaaWeGQn7j2ZtkS_PMgDV4dxKohp_ZzxgM_HyHGTAIQwVG-Qihj9KAZeeAK2zFflC90\" width = \"25%\"/>\n",
        "* **Decision making** is anticipation of conditions occurring while execution of the program and specifying actions taken accordingly (sequential execution vs. conditional execution)\n",
        "  - If it snows, announce holiday.\n",
        "  - If dollar is high, sell dollar; otherwise, buy dollar.\n",
        "  - If dollar is high and euro is low, sell dollar and buy euro. If dollar is low and euro is high, sell euro and buy dollar. If both of them are high, sell both and buy TL.\n",
        "* Decision structures evaluate multiple **expressions which produce TRUE or FALSE** \n",
        "as outcome\n",
        "  - Determine which action to take and which statements to execute if outcome is TRUE or FALSE otherwise\n",
        "  \n",
        "  \n",
        "\n",
        "\n",
        "\n",
        "\n"
      ]
    },
    {
      "cell_type": "markdown",
      "metadata": {
        "id": "ytucC6dY1qxl"
      },
      "source": [
        "# Boolean As a Type"
      ]
    },
    {
      "cell_type": "markdown",
      "metadata": {
        "id": "ItyXnIWr1ybc"
      },
      "source": [
        "* Christian Bale was in the movie The Dark Knight **and** Tom Hardy was in the movie Mad Max: Fury Road.\n",
        "* Christian Bale was in the movie The Dark Knight **or** Tom Hardy was not in the movie Mad Max: Fury Road.\n",
        "\n",
        "\n",
        "---\n",
        "\n"
      ]
    },
    {
      "cell_type": "markdown",
      "metadata": {
        "id": "OBJQLtjV17M5"
      },
      "source": [
        "* Allow computers to make decisions\n",
        "* Questions are required to be phrased in a particular way\n",
        "  - Use of operators for more complicated questions\n",
        "    - and, or, not"
      ]
    },
    {
      "cell_type": "markdown",
      "metadata": {
        "id": "zGdVJiRS5A7U"
      },
      "source": [
        "# Boolean Operators"
      ]
    },
    {
      "cell_type": "markdown",
      "metadata": {
        "id": "ZIymGQAX3jrm"
      },
      "source": [
        "Operator | Meaning\n",
        "--- | ---\n",
        "and | True if both the operands are true\n",
        "or | True if either of the operands is true\n",
        "not | True if operand is false (complements the operand)"
      ]
    },
    {
      "cell_type": "markdown",
      "metadata": {
        "id": "YlyBPwHaCxNb"
      },
      "source": [
        "# Truth Table"
      ]
    },
    {
      "cell_type": "markdown",
      "metadata": {
        "id": "9cPOuORiC2p-"
      },
      "source": [
        "x | y | x **and** y | x **or** x | **not** x\n",
        "--- | --- | --- | --- | ---\n",
        "True | True | True | True | False\n",
        "True | False | False | True | False\n",
        "False | True | False | True | True\n",
        "False | False | False | False | True"
      ]
    },
    {
      "cell_type": "markdown",
      "metadata": {
        "id": "TKoqluAH1I0a"
      },
      "source": [
        "# Boolean Operations"
      ]
    },
    {
      "cell_type": "code",
      "metadata": {
        "id": "VamMuF-K0oxh"
      },
      "source": [
        "x = True\n",
        "y = False"
      ],
      "execution_count": null,
      "outputs": []
    },
    {
      "cell_type": "code",
      "metadata": {
        "id": "anqd6K-g0xNW",
        "cellView": "both",
        "colab": {
          "base_uri": "https://localhost:8080/",
          "height": 32
        },
        "outputId": "7859eace-3556-4915-f2d8-b412da4a5239"
      },
      "source": [
        "print(\"x and y is\", x and y)"
      ],
      "execution_count": null,
      "outputs": [
        {
          "output_type": "stream",
          "text": [
            "x and y is False\n"
          ],
          "name": "stdout"
        }
      ]
    },
    {
      "cell_type": "code",
      "metadata": {
        "id": "2cO4thGS02Jt",
        "colab": {
          "base_uri": "https://localhost:8080/",
          "height": 32
        },
        "outputId": "7a0c21eb-01c2-4af8-daa3-aed1e078bb65"
      },
      "source": [
        "print(\"x or y is\", x or y)"
      ],
      "execution_count": null,
      "outputs": [
        {
          "output_type": "stream",
          "text": [
            "x or y is True\n"
          ],
          "name": "stdout"
        }
      ]
    },
    {
      "cell_type": "code",
      "metadata": {
        "id": "vaJpxroH09Vl",
        "colab": {
          "base_uri": "https://localhost:8080/",
          "height": 32
        },
        "outputId": "216d4042-a288-40f9-81d8-5a552c64b2c6"
      },
      "source": [
        "print(\"not x is\", not x)"
      ],
      "execution_count": null,
      "outputs": [
        {
          "output_type": "stream",
          "text": [
            "not x is False\n"
          ],
          "name": "stdout"
        }
      ]
    },
    {
      "cell_type": "markdown",
      "metadata": {
        "id": "SmHC9Bcs5dsH"
      },
      "source": [
        "# Comparison Operators"
      ]
    },
    {
      "cell_type": "markdown",
      "metadata": {
        "id": "wTz6ZFff5hAC"
      },
      "source": [
        "Operator | Meaning\n",
        "--- | ---\n",
        "> | Greater than - True if left operand is greater than the right\n",
        "< | Less than - True if left operand is less than the right\n",
        "== | Equal to - True if operands are equal\n",
        "!= | Not equal to - True if operands are not equal\n",
        ">= | Greater than or equal to\n",
        "<= | Less than or equal to\n"
      ]
    },
    {
      "cell_type": "markdown",
      "metadata": {
        "id": "URWpt6CM1Z8I"
      },
      "source": [
        "# Comparison Operations"
      ]
    },
    {
      "cell_type": "code",
      "metadata": {
        "id": "tb0aUIED1d0J"
      },
      "source": [
        "x = 10\n",
        "y = 12"
      ],
      "execution_count": null,
      "outputs": []
    },
    {
      "cell_type": "code",
      "metadata": {
        "id": "ECom5peW1flY",
        "colab": {
          "base_uri": "https://localhost:8080/",
          "height": 32
        },
        "outputId": "4d595050-3302-4ff8-dc0c-99d291d003af"
      },
      "source": [
        "print(\"x == y is\", x == y)"
      ],
      "execution_count": null,
      "outputs": [
        {
          "output_type": "stream",
          "text": [
            "x == y is False\n"
          ],
          "name": "stdout"
        }
      ]
    },
    {
      "cell_type": "code",
      "metadata": {
        "id": "jhPO0cmq1kAq",
        "colab": {
          "base_uri": "https://localhost:8080/",
          "height": 32
        },
        "outputId": "75124cca-3063-4778-fb54-29914dafea7a"
      },
      "source": [
        "print(\"x != y is\", x != y)"
      ],
      "execution_count": null,
      "outputs": [
        {
          "output_type": "stream",
          "text": [
            "x != y is True\n"
          ],
          "name": "stdout"
        }
      ]
    },
    {
      "cell_type": "code",
      "metadata": {
        "id": "V7RyRCMB1qGC",
        "colab": {
          "base_uri": "https://localhost:8080/",
          "height": 32
        },
        "outputId": "ada284ca-b0cc-4d66-ec2a-d74592e83e6f"
      },
      "source": [
        "print('x > y is', x > y)"
      ],
      "execution_count": null,
      "outputs": [
        {
          "output_type": "stream",
          "text": [
            "x > y is False\n"
          ],
          "name": "stdout"
        }
      ]
    },
    {
      "cell_type": "code",
      "metadata": {
        "id": "vtuHWUzb1yXv",
        "colab": {
          "base_uri": "https://localhost:8080/",
          "height": 32
        },
        "outputId": "f5fcef81-319c-497b-d5e8-070e6559ce37"
      },
      "source": [
        "print('x < y is', x < y)"
      ],
      "execution_count": null,
      "outputs": [
        {
          "output_type": "stream",
          "text": [
            "x < y is True\n"
          ],
          "name": "stdout"
        }
      ]
    },
    {
      "cell_type": "code",
      "metadata": {
        "id": "3BJsMYCu116j",
        "colab": {
          "base_uri": "https://localhost:8080/",
          "height": 32
        },
        "outputId": "c2f97445-784a-472b-e4e5-f4261c6406fe"
      },
      "source": [
        "print('x >= y is', x >= y)"
      ],
      "execution_count": null,
      "outputs": [
        {
          "output_type": "stream",
          "text": [
            "x >= y is False\n"
          ],
          "name": "stdout"
        }
      ]
    },
    {
      "cell_type": "code",
      "metadata": {
        "id": "s4cc8Z7114Ed",
        "colab": {
          "base_uri": "https://localhost:8080/",
          "height": 32
        },
        "outputId": "29534eb8-c5d5-493b-a809-3456967fb01d"
      },
      "source": [
        "print('x <= y is', x <= y)"
      ],
      "execution_count": null,
      "outputs": [
        {
          "output_type": "stream",
          "text": [
            "x <= y is True\n"
          ],
          "name": "stdout"
        }
      ]
    },
    {
      "cell_type": "markdown",
      "metadata": {
        "id": "S1O-hhhZD1_6"
      },
      "source": [
        "# Precedence Table"
      ]
    },
    {
      "cell_type": "markdown",
      "metadata": {
        "id": "DhOkYCd3D5k_"
      },
      "source": [
        "Operator | Operator type | Explanation\n",
        "--- | --- | ---\n",
        "+, - | Sign Operators | plus and minus signs\n",
        "** | Arithmetic Operators | exponentiation\n",
        "*,     /,     //,     % | Arithmetic Operators | multiplication, (floor) division and modulus\n",
        "+, - | Arithmetic Operators | addition and subtraction\n",
        " in,  not in,   <,  <=,  >,     >=,      ==,     !=   | Comparison and Membership Operators| membership, relational, equality and inequality\n",
        "not | Logical Operators | logical NOT\n",
        "and | Logical Operators |logical AND\n",
        "or | Logical Operators |logical OR\n",
        "=,      +=,      -=,       *=,       /=,       //=,      %= | Assignment Operators |assign values to variables\n"
      ]
    },
    {
      "cell_type": "markdown",
      "metadata": {
        "id": "A9xjWPSYvW8Q"
      },
      "source": [
        "#Absolute Value"
      ]
    },
    {
      "cell_type": "markdown",
      "metadata": {
        "id": "b7VL5ems6Dpw"
      },
      "source": [
        "Input a number & print out the absolute value of that number.\n",
        "<div id=\"image-table\">\n",
        "    <table>\n",
        "\t    <tr>\n",
        "        <td>\n",
        "        \t    <img src=\"https://lh4.googleusercontent.com/OqoZKLu5PuU-a-zdbEDX6YDGjNd_xDJ41twb9HIQ2d-optwOM5LobRp2k-UWgPG9vHDTbC-w5Kfqk9p3O9owgurMBJVm34R7zoMmNnFgzXr2KV09l2qo9fK4JQI9MOP-VClP-lLmNGo\" width = \"100%\">\n",
        "      \t    </td>\n",
        "    \t    <td>\n",
        "        \t    <img src=\"https://lh3.googleusercontent.com/zCWqKDDHrVCxIhEpg8eqUVS4_iNCC5hgfGvTwLti5t5DAZlAiRCSLuZeCgsi382ydmMwGct-2RCdMd8sUGvGiHdQWppZK03TfAXLIMhWPAmEEnisqWkImjaLTdQ_C7qh6JL33w4ZlV4NIyccVXiAS1jABADl2u5tX53egPsNNuyUYZuAG9O4QuOFVWg4-o7FFhLT7RgZLkJO5gHysER75kodM2MyBi8M1-cv7u_Znk8UaUfeB-ae6voyZj9mVImiE3uGVfQFh3sPaJ3pQ2uvshewp84gfdJrJdBF26OF3Z3aMnNJUC5ik2u878Q1FG_9vEQ5GR2VovUb_4mZkxxvvNi9qOPc__rVpo8yV1dGS8CrQ-6ETQ9HG8dnrCGfcQPKBfNa9Ycf8GBE8pmwBXrucOt1BJ-r0nRbVEohNbGA3KCUYdDnIRb61-XoBFuD2rm-i1Es0Brligvrmhble9t89C4Yno3vnDAyp7yY3U19AcheE8jDFrzYJ2u2DZ11Le9veQe1Xz5Oiaf-OndlJvWz0J38CSy7LGLbiu9VLbnOT7icW4RbybIEQPb-kupbaUyjjFp9_FD3f7YDlZXZ-S2t1pufTW66aDcfa5uq6p288ruQDo1lGjfInstiCvDL1xFuHz-86X5th3O8m6DNvyiOJPo4HDhnuk_sNQqIvM22c1hFa2fv79aBCGJbHvJTTX1CCED6_Cyxp82ye4G-RN3Vhu4=w752-h644-no\" height= \"40%\" hspace=\"50\">\n",
        "      \t    </td>\n",
        "            <td>\n",
        "            \t<img src=\"https://lh3.googleusercontent.com/w70rtcLgO_SvjZ_j6ng8GLsYtpVnAF3bvNi2O0mVYuQF7XlNXRGvci8t2PCOhkRwt5lwqleMFkUgKEBJIBY3m3rRpFomK1Kv-_gyI3QUu5wcurYPMXcAfVhaRU-H835_vMhUGTEj_hU\" height= \"40%\" hspace=\"50\">\n",
        "             </td>\n",
        "        </tr>\n",
        "    </table>\n",
        "</div>"
      ]
    },
    {
      "cell_type": "markdown",
      "metadata": {
        "id": "nt961uei5-xz"
      },
      "source": [
        "# If Syntax"
      ]
    },
    {
      "cell_type": "markdown",
      "metadata": {
        "id": "2fayS-bV6P-1"
      },
      "source": [
        "<img src = \"https://lh3.googleusercontent.com/uLW-DXN9bFHpypULsqldCMYZurAsiazDYgOownlmggH8eCNO7zEhbJGRsL3laWT5iLl6VlRIxjPSU17jTgkQlkLrrGiN9MyOYWnVEdOd1bcauoAQzq4LNCeuRmjfgSSYAoyzVfJVKKJV4mOHS-UF3wJ_zJh6-1O4U6WOBXs5ETGpLii_vQdM0_9dIhBtZxjcJbEoPxRrGETAdAAsjMUWOE-6x_thZafJTaoF5siNe90EGmJOrbKArAiKU7AGhjapslFXJ2-Dyn3xBdRTgyhCItamAqPKjXTmhPMBFSwAiQ2UWkOCbnbbMvdRYq8gjDfZA992oV537vMLZRoxQumfbUPat6b3Mr7sTlGR0jYHGVO3Z7jlW06AfoWMU5w0qskFx9JkUfp9dGFifxYAc1FdCoWDjXOuLLTMcBmeckESDxtb7lvnLhHQcOx1HEr4zn4_9jfifW95-7DBz4K6NDxBlSSE7ehduad2rpDUy8MW0g9Rm0ef239gBcCLJ14tN_UFNfH8JyGU2xckbuaS2H36JhKDr_G-23woAWBd0sNC_FHykfTVksEsAI0oD_pS2r7_M6wPcDvlkglpi2fTuoTP7rWrVd9jei7dtSzx8gfFa7fZw2f-5OzFi60oqCrMEhTS0rfeL1gyV0sHy5dk_mqmiPtVGU55g_Lt4UOdtPLcjfw8wl6MokDKBKtjsOgch4o2-uYR9Zw1qhY-FSKBrbbzZqo-=w1002-h264-no\" width= \"30%\"/>\n",
        "\n",
        "* Lines & Indentation → blocks of code are denoted by indentation (enforced!)\n",
        "  - All statements within the block must be indented the same amount\n",
        "  - All statements within different blocks must be indented the same amount\n",
        "  - By default 4 spaces! (2 space in Google Colab)\n",
        "* You can use several blank lines between statements\n"
      ]
    },
    {
      "cell_type": "markdown",
      "metadata": {
        "id": "I5GgIHHqYY85"
      },
      "source": [
        "# absolute_value.py"
      ]
    },
    {
      "cell_type": "code",
      "metadata": {
        "id": "4WnC3IUrYduc",
        "colab": {
          "base_uri": "https://localhost:8080/",
          "height": 54
        },
        "outputId": "b981b38e-bb56-4308-f19e-8e9fa6567e0f"
      },
      "source": [
        "# input the number\n",
        "number = int(input(\"Please enter a number: \"))\n",
        "\n",
        "# update if smaller than 0\n",
        "if number < 0:\n",
        "  number *= -1\n",
        "\n",
        "# display the absolute value    \n",
        "print(\"The absolute value is: \", number)"
      ],
      "execution_count": null,
      "outputs": [
        {
          "output_type": "stream",
          "text": [
            "Please enter a number: 5\n",
            "The absolute value is:  5\n"
          ],
          "name": "stdout"
        }
      ]
    },
    {
      "cell_type": "markdown",
      "metadata": {
        "id": "T1NyDTojFo3c"
      },
      "source": [
        "# Graduation Policy"
      ]
    },
    {
      "cell_type": "markdown",
      "metadata": {
        "id": "YzEmYYNUFrHN"
      },
      "source": [
        "![alt text](https://lh3.googleusercontent.com/eYltORkL5AcsUPS0_ipPQm44XPkNWeLUhB99o7dSrHXLMCDfXjGWhUSR75h2oRCs5M1oghOJqYVSjKymeysv11MWtzbNw6fa4olICnm_eeHApotDeRkR33nN0F_sRw_U5Q095Vbr81IZrZoW37LnO765prLJo6P36hnlBX24EixmjaHRNqZc4YQMCfyPJtWR3224JdTD1P9N9pjiPU_wNAtn9n-OJW_OaPIt3lxnehiCkNFr2B-HmqO_0RgH8GO6HQQs3ykKfE7zjUUvAMJkIh5wujSOnKqtUPPwb7n4WG0WwynUtg06gmBYW4QXKxnfJLyjdI-NBFshnVrI0TZj0EoRcb7Y-AZQ_6frcytL3YztZUpEeQTCHur-upzv9GcMrUUwSm2jLt2k6tKpvOdgBCoYf4p1r0P-gxBjxF-E-EyK4B1FhBm8yocJstZLFlaPQCDBMZfXxuq8iq6YtDwz7JFDOzv0oQspxExTpITpgbeMq_95p8mSqngtKM9v0hjyxqtvseVxr7N16JN26410ZVORyRN6g-NHPs7MF4knf5Zb6sDEAgoyAYFc9s1LIslnFWxYB51gRjZ6O8tS8DKOavKmm4MpPFRBlTdSVeceIkO-8Sl2aL2lB-_pyDX83fjjzW4DDShK3Ogamx5xsb-IQ4w0byF9xEcCmQ5nhsiHVym1vmToB0zdnBrZQe-h25xmCfleCz38qdDeuoBdBgvSmUU=w1816-h898-no)"
      ]
    },
    {
      "cell_type": "markdown",
      "metadata": {
        "id": "Sg51El8oY28I"
      },
      "source": [
        "# graduation_policy.py"
      ]
    },
    {
      "cell_type": "markdown",
      "metadata": {
        "id": "hHK1MPlf7Gkq"
      },
      "source": [
        "<img src = \"https://lh3.googleusercontent.com/eU6cJs3_C5mcnzZAvB7bA4ONjYvpo_WGwRd0E52xOVqBdaZuHxV6YrvIYXETPJ__rcQT0tYEdJWJIbe3cLDGrMlcKL0wJiIHMm5kt6rHHMeB5U6rtd2A76A--PHqQbSZpUC6ZS0estmqawyhhbQwcgi5YhoceT4SsAmSB1GLVcxtvbo-3B9FwOj6rj11lSSsvC1EkW6V8YlKVF6YpLFHpQBDlUBtg5fVRR1I_tTCPTfGO-xDx_hI-EfxD44bEuWzxhrxlLTeFPKucxsVQ6KmR5KbalwhNPjXCyC7ZACZIHgGIf0S21MiTsTw0giaR1PSlQduW-J6IDcQYzwbVp0GP9h_gx2jfVDkykpkPlGAWJCwQbo0th-0FYtgyqJ0Cu21bRsbMxTEiA3ajl198INyvuNtT88TWxVdAficwEi_DJG2FsNGFG9Tnp0rNo1sneMVsXy5a37gxRxdV90pKyTNjIfqJOynocddfgTwj2rbUu1c7j8HO4rpWv2JBTJEQZtDpH0oCovOr7xHLKbvi9VDpvQqKDk_lE8Vje364bNjZvV7LfSSUojdb2pz1f7oPBvH_c3O2MZzRPWvXwwMK1IdvBFIN_Kz6ZtQHBgE-HIFdPTTKPzwqyIZ0iCzbuGLgORVIuPzqwIrZ4pg5ekyJim2DX-WUKBBu0MuBwRS6zTQvdMCwDxD19-SZXbnFQCpFJqawRmvRFeCK47ozIBiL3EpJKhR=w916-h712-no\" width = \"30%\"/>\n",
        "\n",
        "In order to be eligible to graduate from Sabancı University, you should have a minimum of 2.00 GPA. \n",
        "\n",
        "Input the GPA of a student & print out whether that student is eligible to graduate or not."
      ]
    },
    {
      "cell_type": "code",
      "metadata": {
        "id": "8y9pHHK7Y1tZ",
        "colab": {
          "base_uri": "https://localhost:8080/",
          "height": 54
        },
        "outputId": "d884f8a0-6458-4f06-e078-414fa919ccfd"
      },
      "source": [
        "# input the GPA\n",
        "gpa = float(input(\"Please enter the value of GPA: \"))\n",
        "\n",
        "# determine whether eligible or not\n",
        "if gpa >= 2.00:\n",
        "  print(\"Eligible to graduate\")\n",
        "else:\n",
        "  print(\"Not eligible to graduate\")"
      ],
      "execution_count": null,
      "outputs": [
        {
          "output_type": "stream",
          "text": [
            "Please enter the value of GPA: 1.9\n",
            "Not eligible to graduate\n"
          ],
          "name": "stdout"
        }
      ]
    },
    {
      "cell_type": "markdown",
      "metadata": {
        "id": "hYIbhFivadPw"
      },
      "source": [
        "# sps_grade.py"
      ]
    },
    {
      "cell_type": "markdown",
      "metadata": {
        "id": "dpaZIyEpGEzv"
      },
      "source": [
        "![alt text](https://lh3.googleusercontent.com/CY5Na_0L47AW6NQsfiftJyJsnpq2GCdOtjlM2LrCacBIroKr15EIwmlFsmAkwtPFmCd3d7AUry7cz_jH1kxgLC6KZrGgQAO-RVrJgj0wrK8C6kJTcGezQMdU-u2xTYN1hKHp8jjkoFaca4KPqgfQ5nq2N_YpsfHrTid50n2CGDRT5hPw756tXY64wkWMbbY9VxlVqpEYJ1uDtylQIit1U5Pff86CkWYI1KRLQ42D1YIpcBgADxSGR_dRU3QEjuXiEy31On_ZsgCvqTzKubJ78FqddQGTWSruLp3HR8ijOt3h6sv_m-FWizB6eB7hSisTmbExBOsv5W7cpcdZumv4il2IbJygHd7idRp0P0vItDEDzxo0md21Cu_89Fp98gw0RXOnRi_GxeE_jdFnkqC785ClI2LWpjbINqCkoMWEAV6L_X3mRHxr0zyXnP35-EmlZ2PF_PvxGjwZtGfu7n7qQ7Dik_fWZ-Az8SJTzAJZE1VMtXfkJrJ9MtxTBFNlOEdJvwtHVr9SyEbnUTi94C98cRdL3Ob4W7pylNuhBUFyS6XgaTiM9M9pdmBiUmM71MG53zfDO4OSNmZY8xVJHOHQ4wGZCfHmgrLnss83PJVI-Nz11i5xsYVGAWb0UVaNKCFjdaJLd3tIQbGFpmKvt3K_zzXf36FADexp1wSlwk5nMTFl50Vk9bqP73PJq_9Rtbsli7RydA_XhIdFi3q-If6y7j9zp3lgPxYyFNFKpCmExdZ0gFDC=w2700-h1548-no)"
      ]
    },
    {
      "cell_type": "markdown",
      "metadata": {
        "id": "9TZPg1KB7VME"
      },
      "source": [
        "Let’s break our problem into pieces (decomposition)\n",
        "\n",
        "1. Get the points earned from the user\n",
        "\n",
        "2. Calculate and display the overall grade\n",
        "\n",
        "3. Find and display the corresponding letter grade"
      ]
    },
    {
      "cell_type": "code",
      "metadata": {
        "id": "EjOYeAZPai4o",
        "colab": {
          "base_uri": "https://localhost:8080/",
          "height": 136
        },
        "outputId": "aa13540b-ac0e-4c82-e4b9-dde406dabbcf"
      },
      "source": [
        "# input the points earned for each grading component\n",
        "midterm_1 = float(input(\"Please enter your Midterm 1 grade: \"))\n",
        "midterm_2 = float(input(\"Please enter your Midterm 2 grade: \"))\n",
        "summary_paper = float(input(\"Please enter your Summary Paper grade: \"))\n",
        "response_paper = float(input(\"Please enter your Response Paper grade: \"))\n",
        "discussion = float(input(\"Please enter your Overall Discussion grade: \"))\n",
        "tophat = float(input(\"Please enter your Overall Top Hat grade: \"))\n",
        "\n",
        "# define the rates\n",
        "midterm_rate = 0.2\n",
        "summary_paper_rate = 0.1\n",
        "response_paper_rate = 0.2\n",
        "discussion_rate = 0.2\n",
        "tophat_rate = 0.1\n",
        "\n",
        "# calculate the grade\n",
        "grade = (midterm_1 + midterm_2) * midterm_rate + \\\n",
        "        summary_paper * summary_paper_rate + \\\n",
        "        response_paper * response_paper_rate + \\\n",
        "        discussion * discussion_rate + \\\n",
        "        tophat * tophat_rate\n",
        "\n",
        "# select the letter grade\n",
        "if grade >= 90:\n",
        "  letter = \"A\"\n",
        "elif grade >= 86:\n",
        "  letter = \"A-\"\n",
        "elif grade >= 82:\n",
        "  letter = \"B+\"\n",
        "elif grade >= 78:\n",
        "  letter = \"B\"\n",
        "elif grade >= 74:\n",
        "  letter = \"B-\"\n",
        "elif grade >= 70:\n",
        "  letter = \"C+\"\n",
        "elif grade >= 66:\n",
        "  letter = \"C\"\n",
        "elif grade >= 62:\n",
        "  letter = \"C-\"\n",
        "elif grade >= 58:\n",
        "  letter = \"D+\"\n",
        "elif grade >= 54:\n",
        "  letter = \"D\"\n",
        "else:\n",
        "  letter = \"F\"\n",
        "\n",
        "# print the resulting value\n",
        "print(\"The overall grade is \", grade, \" and the letter grade is \", letter, \".\", sep = \"\")\n",
        "\n",
        "\n",
        "\n",
        "        \n",
        "        "
      ],
      "execution_count": null,
      "outputs": [
        {
          "output_type": "stream",
          "text": [
            "Please enter your Midterm 1 grade: 50\n",
            "Please enter your Midterm 2 grade: 50\n",
            "Please enter your Summary Paper grade: 50\n",
            "Please enter your Response Paper grade: 50\n",
            "Please enter your Overall Discussion grade: 50\n",
            "Please enter your Overall Top Hat grade: 50\n",
            "The overall grade is 50.0 and the letter grade is F.\n"
          ],
          "name": "stdout"
        }
      ]
    },
    {
      "cell_type": "markdown",
      "metadata": {
        "id": "xnxjY2D05-s7"
      },
      "source": [
        "# More on Decision Making"
      ]
    },
    {
      "cell_type": "code",
      "metadata": {
        "id": "lhFKyGhn6BDe",
        "colab": {
          "base_uri": "https://localhost:8080/",
          "height": 32
        },
        "outputId": "22a73365-a04d-479f-cf31-ce9792edcfea"
      },
      "source": [
        "x = 5\n",
        "\n",
        "if x > 4:\n",
        "  x = x+1\n",
        "if x > 5:\n",
        "  x = x+2\n",
        "if x > 7:\n",
        "  x = x+3\n",
        "  \n",
        "print(\"x is\", x)"
      ],
      "execution_count": null,
      "outputs": [
        {
          "output_type": "stream",
          "text": [
            "x is 11\n"
          ],
          "name": "stdout"
        }
      ]
    },
    {
      "cell_type": "code",
      "metadata": {
        "id": "-8jxGcuE6unW",
        "colab": {
          "base_uri": "https://localhost:8080/",
          "height": 32
        },
        "outputId": "cebc57eb-0217-43b6-9f24-36e407198263"
      },
      "source": [
        "x = 5\n",
        "\n",
        "if x > 4:\n",
        "  x = x+1\n",
        "elif x > 5:\n",
        "  x = x+2\n",
        "elif x > 7:\n",
        "  x = x+3\n",
        "  \n",
        "print(\"x is\", x)"
      ],
      "execution_count": null,
      "outputs": [
        {
          "output_type": "stream",
          "text": [
            "x is 6\n"
          ],
          "name": "stdout"
        }
      ]
    },
    {
      "cell_type": "code",
      "metadata": {
        "id": "VaLxybiK7Mk8",
        "colab": {
          "base_uri": "https://localhost:8080/",
          "height": 32
        },
        "outputId": "9111f96c-7436-48f9-9569-e652333afdec"
      },
      "source": [
        "x = 5\n",
        "\n",
        "if x > 4:\n",
        "  y = 1\n",
        "elif x > 5:\n",
        "  y = 2\n",
        "elif x > 7:\n",
        "  y = 3\n",
        "\n",
        "x = x + y  \n",
        "print(\"x is\", x)"
      ],
      "execution_count": null,
      "outputs": [
        {
          "output_type": "stream",
          "text": [
            "x is 6\n"
          ],
          "name": "stdout"
        }
      ]
    },
    {
      "cell_type": "code",
      "metadata": {
        "id": "fqyLwzHB7aiM",
        "colab": {
          "base_uri": "https://localhost:8080/",
          "height": 32
        },
        "outputId": "b95d994c-7834-4b87-c184-983389304d43"
      },
      "source": [
        "x = 5\n",
        "\n",
        "if x > 4:\n",
        "  y = 1\n",
        "if x > 5:\n",
        "  y = 2\n",
        "if x > 7:\n",
        "  y = 3\n",
        "\n",
        "x = x + y  \n",
        "print(\"x is\", x)"
      ],
      "execution_count": null,
      "outputs": [
        {
          "output_type": "stream",
          "text": [
            "x is 6\n"
          ],
          "name": "stdout"
        }
      ]
    },
    {
      "cell_type": "markdown",
      "metadata": {
        "id": "yHoCy6U5bFZT"
      },
      "source": [
        "# leap_year.py"
      ]
    },
    {
      "cell_type": "markdown",
      "metadata": {
        "id": "uL0Lkylb7l6P"
      },
      "source": [
        "Most years have 365 days. However, the time required for the Earth to orbit the Sun is actually slightly more than that. As a result, an extra day, February 29, is included in some years to correct this difference. Such years are referred to as **leap years**.\n",
        "\n",
        "The rules for determining whether or not a year is a leap year follow:\n",
        "* Leap years are any year that can be **evenly divided by 4** (such as 2012, 2016, etc)\n",
        "* **Except if** it can be **evenly divided by 100**, then it **isn't** (such as 2100, 2200, etc)\n",
        "* **Except if** it can be **evenly divided by 400**, then it **is** (such as 2000, 2400)\n",
        "\n",
        "<img src =\"https://lh5.googleusercontent.com/9uFyYE-hSbl6XqoWIelTUyGO3FWqpzW3n0Py_mw8vd29rKBEhTeeXzHtYDdvLOeZRL7M7jLovaIL3i57mAsTf96vGnNuK1tpnTYzvtDhmiueSh7RsZTJ7FL1utjhfWLk8neDoeXS5d4\" vspace = \"20\" width = \"60%\"/>\n",
        "\n",
        "Write a program that reads a year from the user and displays a message indicating whether or not it is a leap year."
      ]
    },
    {
      "cell_type": "code",
      "metadata": {
        "id": "p1Bph2y8bJce",
        "colab": {
          "base_uri": "https://localhost:8080/",
          "height": 54
        },
        "outputId": "f1f6cd27-daed-4544-981b-bea20155bf7b"
      },
      "source": [
        "# input a year from the user\n",
        "year = int(input(\"Please enter a year: \"))\n",
        "\n",
        "# determine if leap year\n",
        "if year % 4 == 0:\n",
        "  if year % 100 == 0:\n",
        "    if year % 400 == 0:\n",
        "      print(\"It is a leap year\")\n",
        "    else:\n",
        "      print(\"It is not a leap year\")\n",
        "  else:\n",
        "    print(\"It is a leap year\")\n",
        "else:\n",
        "  print(\"It is not a leap year\")"
      ],
      "execution_count": null,
      "outputs": [
        {
          "output_type": "stream",
          "text": [
            "Please enter a year: 2018\n",
            "It is not a leap year\n"
          ],
          "name": "stdout"
        }
      ]
    }
  ]
}