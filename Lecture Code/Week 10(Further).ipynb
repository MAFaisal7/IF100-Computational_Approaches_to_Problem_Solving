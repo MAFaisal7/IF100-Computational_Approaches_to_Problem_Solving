{
  "nbformat": 4,
  "nbformat_minor": 0,
  "metadata": {
    "colab": {
      "name": "Nested Loops.ipynb",
      "provenance": [],
      "collapsed_sections": []
    },
    "kernelspec": {
      "name": "python3",
      "display_name": "Python 3"
    }
  },
  "cells": [
    {
      "cell_type": "markdown",
      "metadata": {
        "id": "1RAwHkmcgRzm"
      },
      "source": [
        "# Palindrome\n",
        "\n",
        "A **palindrome** is a word, number, or other sequence of characters which reads the same backward as forward, such as level or anna.\n",
        "\n",
        "In this example, we will get a word from the user and print whether it is a palindrome or not.\n",
        "\n",
        "First, we need to answer the following questions:\n",
        "*  Which characters should we compare?\n",
        "*  How many comparison should we make?\n",
        "\n",
        "To answer these questions, we need to consider specific cases (decomposition) and then generalize them:\n",
        "\n",
        "**Case #1:** When the length of the word is even\n",
        "\n",
        "**Case #2:** When the length of the word is odd\n",
        "\n",
        "![alt text](https://lh3.googleusercontent.com/piDQt6uks5fws9tJj6XJMdzXRLuxn106Ro98DmZHSyjP3utP2fr80MJXlsUcNW0T7xpun5OOuXNu8u6MIfSmE4DnoDXp2w8NEfS5LvpeDDQx6zPbwdljNiZo42aBgl-9di7Pep4Yz5FiyEhqxL8LP3fFDBhV37VbT-oTMQbPOqWkNeqgvHEkQAIRRppcaUM9R_xxEhTJFO2DVQGjV6DlLN6cRpw5nQVJCO8RQeYncnVg9wkl7kFXX2a40NeubIEuMZvZMm_nzn7AsdwTFfXxMLfuqGGj2TZT9TyI3iHwDHa56Yt_h1JE482zcV2nEPxsVkVR2w2r5fs6OLM6f2g8WttyrNSCasiwQSigaD6v_m_qOGhGfRNWm3y6W-a8RQ5N4emHd0HN5AAt72dtl0JKQSe_d6WfgTHyqKuegodqTbb82lRmBjwMGleBokUH6kiAf9iImjm8kaq5g450gxvZhCf7NL3wkJkfGfUn8QLLFYYVAWmbtmFgOY2dBmoAjsrOC5_MEU0Ez9kym7U4pewiA5_lbkkkRBdfJMW1gJAh3PXryGk7vFvtBX6HOCbKE2E1vXme7MpOaTjRNy5O-GhCGnCsdnfdPxjo4IXlFRUafeAq_KcRLH624MjjNsSbjJH4dKIb7M5ARQ49LfXUlXVD6_Qt5NYsRMteTJdNXM6imgh_lgWYHTAgwexe7Cc6MtcxnHlLqPuIQhn1ft2y8rSn-lz3rBNQcezkKGPHepDmg9PtoExE=w1836-h1134-no)\n",
        "\n",
        "![alt text](https://lh3.googleusercontent.com/TK-le48LR5mQtkkCYHayMazIPDOfbVvfCLL_S95l4vZ9Lm6o-Fox5ofWX4EVSNW7PQQefAPlQKmnETYWTw187N-qnTRj5FJm_Jtc3SGe3M94mkj5mle5fUdrBWfJVDzefkdu7tqXUvl-B2EK8b1BDWSKBmCn9LAZDk7bT4IxPDOWGLQsdfPQP210ZtCTj7EGyd1uea-5qVicPv7RfWxdMw8OxdwwrlYBFrDxGpbCrATqp-kl1fdnvXomJnYURgZvtzTu3Hh4Ic-939Yw7pNzl3PrE4lLLGp9-F2RjB0OGCxeLkMCNVdymBIR2NSC7Wv7bZ6ThHIr9Fmt-5q5lOldB13KUMSd8eUDn33UVCfZLFc5l4_llHozmTVOYpD-SCDVb4VYiGlY3x1ys4xx8IN8dd4e9m09sgCX5cw7eK0fWMf2gLQ0QlKMRhNGmXGsmHiRxxYklXrh2Y3hoeypBvwKbe6JEIcDZK7iQHnKRkAVRdgoNQxtT-fMcDTG44YodzUXKAzQKiBzKrUOICCTLipSWFXPAkQjbqa7Qv6FMnTCFeGYT424Ub1Ym1Oxf1Iy4kz-8pV2pUSUmmJbzKcnWNc8Dh-APHZAclKL8odeYHRh-xao2103UAx7U8ESKnQLPfLIP5AeRinjMzRgfH4Xdslq9LWG9qXbfjjq21StfPivcnhbgj5TXWBpNzOSzOFKhNoofpvL8wDM0XDLvSWoJAASRdig9sE76wy-lBE5XJODQPHmUXJI=w1792-h1134-no)\n",
        "\n",
        "\n",
        "* Let’s assume that we are comparing **i**th and **j**th characters in each comparison\n",
        "\n",
        "\n",
        "* At the beginning, **i** is the very first and **j** is the last character, and **i** is increasing by 1, while **j** is decreasing by 1 in the next comparisons\n",
        "\n",
        "\n",
        "* In other words, while **i** is smaller than **j**, we should continue comparing the characters \n",
        "\n",
        "\n",
        "* We will assume that the word is palindrome until we see a mismatch (note that we may not see any mismatch)\n",
        "\n",
        "\n",
        "* However, do we need to continue to make comparison after anytime we see a mismatch? NO\n",
        "\n",
        "**Palindrome Pseudocode**\n",
        "\n",
        "\n",
        "```\n",
        "Get the word\n",
        "\n",
        "Set length as the length of the word\n",
        "\n",
        "Set i as 0, and j as length-1\n",
        "\n",
        "Set result as \"palindrome\"\n",
        "\n",
        "While i < j\n",
        "\n",
        "\tIf ith character is not same with jth character\n",
        "\n",
        "\t\tSet result as \"not palindrome\"\n",
        "\n",
        "\t\tTerminate the loop (while block)\n",
        "\n",
        "\tIncrement i\n",
        "\n",
        "\tDecrement j\n",
        "\n",
        "Print result\n",
        "```\n",
        "\n",
        "\n"
      ]
    },
    {
      "cell_type": "markdown",
      "metadata": {
        "id": "GxV3ABCLmjfu"
      },
      "source": [
        "# Palindrome.py"
      ]
    },
    {
      "cell_type": "code",
      "metadata": {
        "id": "LErbQZHUlyBV",
        "colab": {
          "base_uri": "https://localhost:8080/",
          "height": 51
        },
        "outputId": "1d8fa736-0b4f-409d-e73e-5fbe7970011e"
      },
      "source": [
        "word = input(\"Enter a string: \")\n",
        "i, j = 0, len(word)-1\n",
        "result = \"palindrome\"\n",
        "\n",
        "while i < j:\n",
        "  if word[i] != word[j]:\n",
        "    result = \"not palindrome\"\n",
        "    break\n",
        "  i += 1\n",
        "  j -= 1\n",
        "\n",
        "print(result)"
      ],
      "execution_count": null,
      "outputs": [
        {
          "output_type": "stream",
          "text": [
            "Enter a string: kazak\n",
            "palindrome\n"
          ],
          "name": "stdout"
        }
      ]
    },
    {
      "cell_type": "markdown",
      "metadata": {
        "id": "FTLthSC7fmZI"
      },
      "source": [
        "# Extension 1\n",
        "\n",
        "Get 3 strings from the user; and then for every single string, decide whether they are palindrome\n",
        "\n",
        "\n",
        "```\n",
        "Enter a string: turkey\n",
        "turkey is not palindrome\n",
        "Enter a string: level\n",
        "level is palindrome\n",
        "Enter a string: great\n",
        "great is not palindrome\n",
        "```\n",
        "\n"
      ]
    },
    {
      "cell_type": "markdown",
      "metadata": {
        "id": "qiGJnz8yiFPZ"
      },
      "source": [
        "# Extension1.py"
      ]
    },
    {
      "cell_type": "code",
      "metadata": {
        "id": "JbqJVYTbgTAF",
        "colab": {
          "base_uri": "https://localhost:8080/",
          "height": 119
        },
        "outputId": "893d40d3-9382-4ee5-a2e1-4d3cbb4beb19"
      },
      "source": [
        "for count in range(3):\n",
        "  word = input(\"Enter a string: \")\n",
        "  i, j = 0, len(word)-1\n",
        "  result = \"palindrome\"\n",
        "\n",
        "  while i < j:\n",
        "    if word[i] != word[j]:\n",
        "      result = \"not palindrome\"\n",
        "      break\n",
        "    i += 1\n",
        "    j -= 1\n",
        "\n",
        "  print(word, \"is\", result)"
      ],
      "execution_count": null,
      "outputs": [
        {
          "output_type": "stream",
          "text": [
            "Enter a string: turkey\n",
            "turkey is not palindrome\n",
            "Enter a string: level\n",
            "level is palindrome\n",
            "Enter a string: great\n",
            "great is not palindrome\n"
          ],
          "name": "stdout"
        }
      ]
    },
    {
      "cell_type": "code",
      "metadata": {
        "id": "-GWS25RticR_",
        "colab": {
          "base_uri": "https://localhost:8080/",
          "height": 119
        },
        "outputId": "4c7e111c-5569-4566-8ab3-349b910e118a"
      },
      "source": [
        "# another solution\n",
        "count = 0\n",
        "while count < 3:\n",
        "  word = input(\"Enter a string: \")\n",
        "  i, j = 0, len(word)-1\n",
        "  result = \"palindrome\"\n",
        "\n",
        "  while i < j:\n",
        "    if word[i] != word[j]:\n",
        "      result = \"not palindrome\"\n",
        "      break\n",
        "    i += 1\n",
        "    j -= 1\n",
        "\n",
        "  print(word, \"is\", result)\n",
        "  count += 1\n"
      ],
      "execution_count": null,
      "outputs": [
        {
          "output_type": "stream",
          "text": [
            "Enter a string: turkey\n",
            "turkey is not palindrome\n",
            "Enter a string: level\n",
            "level is palindrome\n",
            "Enter a string: great\n",
            "great is not palindrome\n"
          ],
          "name": "stdout"
        }
      ]
    },
    {
      "cell_type": "markdown",
      "metadata": {
        "id": "dRBPkj8MmYkC"
      },
      "source": [
        "# Extension 2\n",
        "\n",
        "Forcing the user to enter a palindrome\n",
        "\n",
        "\n",
        "```\n",
        "Enter a string: kart\n",
        "Enter a string: kagit\n",
        "Enter a string: kapa\n",
        "Enter a string: kapak\n",
        "```\n",
        "\n"
      ]
    },
    {
      "cell_type": "markdown",
      "metadata": {
        "id": "AIFyiRpOmu_U"
      },
      "source": [
        "# Extension2.py"
      ]
    },
    {
      "cell_type": "code",
      "metadata": {
        "id": "v5k-cMVYmuMN",
        "colab": {
          "base_uri": "https://localhost:8080/",
          "height": 85
        },
        "outputId": "ea5521e3-3f10-41f1-a193-7a151799d8da"
      },
      "source": [
        "while True:\n",
        "  word = input(\"Enter a string: \")\n",
        "  i, j = 0, len(word)-1\n",
        "  result = \"palindrome\"\n",
        "\n",
        "  while i < j:\n",
        "    if word[i] != word[j]:\n",
        "      result = \"not palindrome\"\n",
        "      break\n",
        "    i += 1\n",
        "    j -= 1\n",
        "  \n",
        "  if result == \"palindrome\":\n",
        "    break\n"
      ],
      "execution_count": null,
      "outputs": [
        {
          "output_type": "stream",
          "text": [
            "Enter a string: kart\n",
            "Enter a string: kagit\n",
            "Enter a string: kapa\n",
            "Enter a string: kapak\n"
          ],
          "name": "stdout"
        }
      ]
    },
    {
      "cell_type": "code",
      "metadata": {
        "id": "9rY9kSDJnLWo",
        "colab": {
          "base_uri": "https://localhost:8080/",
          "height": 85
        },
        "outputId": "7b800fea-fc1f-4cc2-ae3e-0d8c5f1363fb"
      },
      "source": [
        "# another solution\n",
        "check = True\n",
        "while check:\n",
        "  word = input(\"Enter a string: \")\n",
        "  i, j = 0, len(word)-1\n",
        "  result = \"palindrome\"\n",
        "\n",
        "  while i < j:\n",
        "    if word[i] != word[j]:\n",
        "      result = \"not palindrome\"\n",
        "      break\n",
        "    i += 1\n",
        "    j -= 1\n",
        "  \n",
        "  if result == \"palindrome\":\n",
        "    check = False\n"
      ],
      "execution_count": null,
      "outputs": [
        {
          "output_type": "stream",
          "text": [
            "Enter a string: kart\n",
            "Enter a string: kagit\n",
            "Enter a string: kapa\n",
            "Enter a string: kapak\n"
          ],
          "name": "stdout"
        }
      ]
    },
    {
      "cell_type": "code",
      "metadata": {
        "id": "YRpXr8vdncrf",
        "colab": {
          "base_uri": "https://localhost:8080/",
          "height": 85
        },
        "outputId": "4dbbd0be-29ae-410d-8801-77396ed054f2"
      },
      "source": [
        "# another one (a bit longer and with a code duplication)\n",
        "word = input(\"Enter a string: \")\n",
        "i, j = 0, len(word)-1\n",
        "result = \"palindrome\"\n",
        "\n",
        "while i < j:\n",
        "  if word[i] != word[j]:\n",
        "    result = \"not palindrome\"\n",
        "    break\n",
        "  i += 1\n",
        "  j -= 1\n",
        "\n",
        "while result == \"not palindrome\":\n",
        "  word = input(\"Enter a string: \")\n",
        "  i, j = 0, len(word)-1\n",
        "  result = \"palindrome\"\n",
        "\n",
        "  while i < j:\n",
        "    if word[i] != word[j]:\n",
        "      result = \"not palindrome\"\n",
        "      break\n",
        "    i += 1\n",
        "    j -= 1\n"
      ],
      "execution_count": null,
      "outputs": [
        {
          "output_type": "stream",
          "text": [
            "Enter a string: kart\n",
            "Enter a string: kagit\n",
            "Enter a string: kapa\n",
            "Enter a string: kapak\n"
          ],
          "name": "stdout"
        }
      ]
    },
    {
      "cell_type": "markdown",
      "metadata": {
        "id": "ees3ZW3nUHeH"
      },
      "source": [
        "# Champions League Draw Simulator"
      ]
    },
    {
      "cell_type": "markdown",
      "metadata": {
        "id": "xA3EiNdqZUrJ"
      },
      "source": [
        "- 8 teams are seeded for the quarter finals in Champions League (CL).\n",
        "\n",
        "- The ties are determined by means of a draw. \n",
        "\n",
        "- We will find out all possible matches during the quarter finals.\n"
      ]
    },
    {
      "cell_type": "markdown",
      "metadata": {
        "id": "PGac34Zke-ri"
      },
      "source": [
        "\n",
        "Assume that we have following teams to be matched:\n",
        "\n",
        "- *Roma, Barcelona, Juventus, \n",
        "Bayern Munich, Sevilla, \n",
        "Real Madrid, Manchester City, Liverpool* \n",
        "\n",
        "Let's first create the team list and basically print their names.\n"
      ]
    },
    {
      "cell_type": "code",
      "metadata": {
        "id": "5o3owENzUOub",
        "colab": {
          "base_uri": "https://localhost:8080/",
          "height": 148
        },
        "outputId": "8ce80eda-ac55-46b8-a13e-0b5374ab9a50"
      },
      "source": [
        "# list of teams\n",
        "teams = [\"Roma\", \"Barcelona\", \"Juventus\", \"Bayern Munich\", \\\n",
        "         \"Sevilla\", \"Real Madrid\", \"Manchester City\", \"Liverpool\"]\n",
        "\n",
        "for i in range(len(teams)):\n",
        "  team1 = teams[i]\n",
        "  print(team1)"
      ],
      "execution_count": null,
      "outputs": [
        {
          "output_type": "stream",
          "text": [
            "Roma\n",
            "Barcelona\n",
            "Juventus\n",
            "Bayern Munich\n",
            "Sevilla\n",
            "Real Madrid\n",
            "Manchester City\n",
            "Liverpool\n"
          ],
          "name": "stdout"
        }
      ]
    },
    {
      "cell_type": "markdown",
      "metadata": {
        "id": "IIQppGmQZq2m"
      },
      "source": [
        "We now want to print all possible combinations for the quarter final matches.\n",
        "\n",
        "In our program, \n",
        "“Team1 vs Team2” is equivalent to \n",
        "“Team2 vs Team1”, so we will print only one of them\n"
      ]
    },
    {
      "cell_type": "markdown",
      "metadata": {
        "id": "X-ZHU7P7T3SB"
      },
      "source": [
        "# CL_draw.py"
      ]
    },
    {
      "cell_type": "code",
      "metadata": {
        "id": "qtGBoeZXT4bQ",
        "colab": {
          "base_uri": "https://localhost:8080/",
          "height": 477
        },
        "outputId": "8bd4dcf1-c229-4444-e30c-36a206add1e6"
      },
      "source": [
        "# list of teams\n",
        "teams = [\"Roma\", \"Barcelona\", \"Juventus\", \"Bayern Munich\", \\\n",
        "         \"Sevilla\", \"Real Madrid\", \"Manchester City\", \"Liverpool\"]\n",
        "\n",
        "for i in range(len(teams)):                 # for each team \n",
        "  team1 = teams[i]            \n",
        "  for j in range(i+1, len(teams)):     # for each other team\n",
        "    team2 = teams[j]\n",
        "    print(team1, \"-\", team2)            # display the match"
      ],
      "execution_count": null,
      "outputs": [
        {
          "output_type": "stream",
          "text": [
            "Roma - Barcelona\n",
            "Roma - Juventus\n",
            "Roma - Bayern Munich\n",
            "Roma - Sevilla\n",
            "Roma - Real Madrid\n",
            "Roma - Manchester City\n",
            "Roma - Liverpool\n",
            "Barcelona - Juventus\n",
            "Barcelona - Bayern Munich\n",
            "Barcelona - Sevilla\n",
            "Barcelona - Real Madrid\n",
            "Barcelona - Manchester City\n",
            "Barcelona - Liverpool\n",
            "Juventus - Bayern Munich\n",
            "Juventus - Sevilla\n",
            "Juventus - Real Madrid\n",
            "Juventus - Manchester City\n",
            "Juventus - Liverpool\n",
            "Bayern Munich - Sevilla\n",
            "Bayern Munich - Real Madrid\n",
            "Bayern Munich - Manchester City\n",
            "Bayern Munich - Liverpool\n",
            "Sevilla - Real Madrid\n",
            "Sevilla - Manchester City\n",
            "Sevilla - Liverpool\n",
            "Real Madrid - Manchester City\n",
            "Real Madrid - Liverpool\n",
            "Manchester City - Liverpool\n"
          ],
          "name": "stdout"
        }
      ]
    },
    {
      "cell_type": "markdown",
      "metadata": {
        "id": "Q7Kd-PmVekEW"
      },
      "source": [
        "#Sayısal Loto (Lottery)"
      ]
    },
    {
      "cell_type": "markdown",
      "metadata": {
        "id": "G-GipK1DtRb2"
      },
      "source": [
        "![alt text](https://lh4.googleusercontent.com/WDt539WLM1sx9fpC4vMDBseIi_8_04ynBOt1zZVcWijyBMA5RVn2IHpa1EeSNFyc26gBmNYXbRL4fCsfubS__lcCvzNIkd9g-a8sRje0WTeuEse2XzN8fMFbP8-e2QnH6QX5bNP_4es)"
      ]
    },
    {
      "cell_type": "markdown",
      "metadata": {
        "id": "7drUnkGjemcy"
      },
      "source": [
        "We will generate a Sayısal Loto coupon with n columns. \n",
        "\n",
        "n will be given by the user as an input. \n",
        "\n",
        "We will generate 6 different numbers randomly for each column."
      ]
    },
    {
      "cell_type": "markdown",
      "metadata": {
        "id": "sgjDteGdes0a"
      },
      "source": [
        "We will display the ticket in a tab-delaminated format:\n",
        "- Each column will be displayed on a separate line\n",
        "- Each line will start with a capital letter proceeded by a dot, in the ascending order of the English alphabet\n",
        "- Values in each column will be separated by a single horizontal tab character"
      ]
    },
    {
      "cell_type": "markdown",
      "metadata": {
        "id": "QBK45AuetZ9-"
      },
      "source": [
        "![alt text](https://lh4.googleusercontent.com/yPFbKEQG6o_43qFe6ksoYDRtM4vatlrlQv8wgVwoxskBZn6YVjlX9LXkx79BKBbVWeEORi1acZK8q35Bz8pEkJFzubyPhxBa-UveK6vHEKMVmT8LS5yStjdy0ddOE_5LjxcAHbGxVrQ)"
      ]
    },
    {
      "cell_type": "markdown",
      "metadata": {
        "id": "9iIACuDDtXSG"
      },
      "source": [
        "#Decomposition: Sayısal Loto (Lottery)"
      ]
    },
    {
      "cell_type": "markdown",
      "metadata": {
        "id": "WHNoaluOth85"
      },
      "source": [
        "- First assume that we will generate only one column (*subproblem 1*)\n",
        "\n",
        "  - Keep a list which is initially empty <br> (Each selected number will be inserted into that list)\n",
        "\n",
        "\n",
        "  - While length of the list (number of elements in the list) smaller than 6\n",
        "    - Select a random number between 1 and 49 (including both)\n",
        "\n",
        "    - If this random number does not exist in the list, insert it into the list <br> (we should not select the same number again)\n",
        "\n",
        "- Extend this solution to generate **n** column (*subproblem 2*) \n",
        "\n",
        "- Modify the output structure to display the ticket in the required format (*subproblem 3*)\n"
      ]
    },
    {
      "cell_type": "markdown",
      "metadata": {
        "id": "XJZZZeiAfbCF"
      },
      "source": [
        "#lottary_subp1.py"
      ]
    },
    {
      "cell_type": "code",
      "metadata": {
        "id": "YRt5Pq7cjLXG",
        "colab": {
          "base_uri": "https://localhost:8080/",
          "height": 51
        },
        "outputId": "b8a6f590-1703-4e34-b3f7-6b815cbc5586"
      },
      "source": [
        "import random as rand     # library required for random number generation\n",
        "\n",
        "column = []               # initalize an empty list to store the numbers\n",
        "\n",
        "while len(column) < 6:         # there should be at most 6 numbers to be selected\n",
        "  num = rand.randint(1,49)     # numbers should be between 1 and 49 (including both)\n",
        "  if num not in column:        # numbers should be unique\n",
        "    column.append(num)         # if a valid number is to be stored, add it to the list\n",
        "    \n",
        "print(column)\n",
        "column.sort()  # sort the list\n",
        "print(column)"
      ],
      "execution_count": null,
      "outputs": [
        {
          "output_type": "stream",
          "text": [
            "[44, 15, 37, 42, 40, 45]\n",
            "[15, 37, 40, 42, 44, 45]\n"
          ],
          "name": "stdout"
        }
      ]
    },
    {
      "cell_type": "markdown",
      "metadata": {
        "id": "5fAUP_Qlf7po"
      },
      "source": [
        "#lottary_subp2.py"
      ]
    },
    {
      "cell_type": "code",
      "metadata": {
        "id": "EaqgvTp39aoC",
        "colab": {
          "base_uri": "https://localhost:8080/",
          "height": 68
        },
        "outputId": "2077e464-0e2f-4886-c3c2-0998bcd3179f"
      },
      "source": [
        "import random as rand     # library required for random number generation\n",
        "\n",
        "\n",
        "# get the number of columns to be generated from the user\n",
        "numColumns = int(input(\"Please enter the number of columns to be generated: \"))\n",
        "\n",
        "coupon = []                 # initalize an empty list to store the columns\n",
        "\n",
        "for x in range(numColumns):  # there should be numColumns number of columns\n",
        "  \n",
        "  column = []               # initalize an empty list to store the numbers\n",
        "  while len(column) < 6:         # there should be at most 6 numbers to be selected\n",
        "    num = rand.randint(1,50)     # numbers should be between 1 and 49 (including both)\n",
        "    if num not in column:        # numbers should be unique\n",
        "      column.append(num)         # if a valid number is to be stored, add it to the list\n",
        "  column.sort()  # sort the list\n",
        "  \n",
        "  coupon.append(column)    # insert the column to the ticket list\n",
        "  \n",
        "# print(ticket)\n",
        "for column in coupon:\n",
        "  print(column)"
      ],
      "execution_count": null,
      "outputs": [
        {
          "output_type": "stream",
          "text": [
            "Please enter the number of columns to be generated: 2\n",
            "[4, 18, 25, 26, 41, 42]\n",
            "[22, 24, 27, 30, 47, 48]\n"
          ],
          "name": "stdout"
        }
      ]
    },
    {
      "cell_type": "markdown",
      "metadata": {
        "id": "AdId38c-0TQU"
      },
      "source": [
        "# Special Characters in Python"
      ]
    },
    {
      "cell_type": "markdown",
      "metadata": {
        "id": "Mp091pWOxTLa"
      },
      "source": [
        "- We use double quote (\"\") or single quote ('') to print something with the print function\n",
        "\n",
        "- What if we want to have a quote in a string variable?\n",
        "\n",
        "- In Python strings, the backslash (\\) is a special character, also called the **escape** character"
      ]
    },
    {
      "cell_type": "code",
      "metadata": {
        "id": "s3DH_wn60x5m",
        "colab": {
          "base_uri": "https://localhost:8080/",
          "height": 32
        },
        "outputId": "d4f1d5cf-a594-454d-a15c-8856b4b783f4"
      },
      "source": [
        "name = \"duygu\"\n",
        "name"
      ],
      "execution_count": null,
      "outputs": [
        {
          "output_type": "execute_result",
          "data": {
            "text/plain": [
              "'duygu'"
            ]
          },
          "metadata": {
            "tags": []
          },
          "execution_count": 60
        }
      ]
    },
    {
      "cell_type": "code",
      "metadata": {
        "id": "ma55OBMv00GU",
        "colab": {
          "base_uri": "https://localhost:8080/",
          "height": 125
        },
        "outputId": "be15df04-7c27-4586-d17f-fcd7710d95b0"
      },
      "source": [
        "name = \"duy\"gu\""
      ],
      "execution_count": null,
      "outputs": [
        {
          "output_type": "error",
          "ename": "SyntaxError",
          "evalue": "ignored",
          "traceback": [
            "\u001b[0;36m  File \u001b[0;32m\"<ipython-input-61-6e9bdebd4dd6>\"\u001b[0;36m, line \u001b[0;32m1\u001b[0m\n\u001b[0;31m    name = \"duy\"gu\"\u001b[0m\n\u001b[0m                 ^\u001b[0m\n\u001b[0;31mSyntaxError\u001b[0m\u001b[0;31m:\u001b[0m invalid syntax\n"
          ]
        }
      ]
    },
    {
      "cell_type": "code",
      "metadata": {
        "id": "GfK_Qn7G03VT",
        "colab": {
          "base_uri": "https://localhost:8080/",
          "height": 32
        },
        "outputId": "1eaa16ed-67f5-45cd-856d-cca003e48f6a"
      },
      "source": [
        "name = \"duy\\\"gu\"\n",
        "name"
      ],
      "execution_count": null,
      "outputs": [
        {
          "output_type": "execute_result",
          "data": {
            "text/plain": [
              "'duy\"gu'"
            ]
          },
          "metadata": {
            "tags": []
          },
          "execution_count": 62
        }
      ]
    },
    {
      "cell_type": "markdown",
      "metadata": {
        "id": "TlC-JQHauy-0"
      },
      "source": [
        "Special Character | Meaning\n",
        "--- | ---\n",
        "\\\\ | Backslash \\\n",
        "\\n | newline\n",
        "\\\" | Double quote \"\n",
        "\\' | Single quote '\n",
        "\\t | Horizontal tab "
      ]
    },
    {
      "cell_type": "code",
      "metadata": {
        "id": "cueNHqCu0-m0",
        "colab": {
          "base_uri": "https://localhost:8080/",
          "height": 32
        },
        "outputId": "c3cbbe2e-548b-4375-bed0-aef49f01552f"
      },
      "source": [
        "print(\"\\\"\")"
      ],
      "execution_count": null,
      "outputs": [
        {
          "output_type": "stream",
          "text": [
            "\"\n"
          ],
          "name": "stdout"
        }
      ]
    },
    {
      "cell_type": "code",
      "metadata": {
        "id": "3CH51a731-zV",
        "colab": {
          "base_uri": "https://localhost:8080/",
          "height": 32
        },
        "outputId": "93ec5285-b19d-454d-bf52-bc6204fbc8e7"
      },
      "source": [
        "print(\"\\'\")"
      ],
      "execution_count": null,
      "outputs": [
        {
          "output_type": "stream",
          "text": [
            "'\n"
          ],
          "name": "stdout"
        }
      ]
    },
    {
      "cell_type": "code",
      "metadata": {
        "id": "0LUZhelh2EQV",
        "colab": {
          "base_uri": "https://localhost:8080/",
          "height": 32
        },
        "outputId": "dd2da30d-4d97-4584-f425-408f39321db1"
      },
      "source": [
        "print(\"\\\\\")"
      ],
      "execution_count": null,
      "outputs": [
        {
          "output_type": "stream",
          "text": [
            "\\\n"
          ],
          "name": "stdout"
        }
      ]
    },
    {
      "cell_type": "code",
      "metadata": {
        "id": "C_ehcvfz2HO4",
        "colab": {
          "base_uri": "https://localhost:8080/",
          "height": 49
        },
        "outputId": "b31c62aa-bf97-4f95-fad7-60362f670f28"
      },
      "source": [
        "print(\"alex\\tde\\nsouza\")"
      ],
      "execution_count": null,
      "outputs": [
        {
          "output_type": "stream",
          "text": [
            "alex\tde\n",
            "souza\n"
          ],
          "name": "stdout"
        }
      ]
    },
    {
      "cell_type": "code",
      "metadata": {
        "id": "TGwogISe2MSQ",
        "colab": {
          "base_uri": "https://localhost:8080/",
          "height": 32
        },
        "outputId": "aae4d4b7-0664-4a51-9e98-8ef4f1f34ea8"
      },
      "source": [
        "print(\"\\\"\\'abc\\'\\\"\")"
      ],
      "execution_count": null,
      "outputs": [
        {
          "output_type": "stream",
          "text": [
            "\"'abc'\"\n"
          ],
          "name": "stdout"
        }
      ]
    },
    {
      "cell_type": "markdown",
      "metadata": {
        "id": "jbZb93eqf9Qx"
      },
      "source": [
        "#lottary_subp3.py"
      ]
    },
    {
      "cell_type": "code",
      "metadata": {
        "id": "LQO5fL5ywFY5",
        "colab": {
          "base_uri": "https://localhost:8080/",
          "height": 187
        },
        "outputId": "a0dc5b65-46c8-4cea-c758-4542914752b0"
      },
      "source": [
        "import random as rand     # library required for random number generation\n",
        "\n",
        "\n",
        "# get the number of columns to be generated from the user\n",
        "numColumns = int(input(\"Please enter the number of columns to be generated: \"))\n",
        "\n",
        "coupon = []                 # initalize an empty list to store the columns\n",
        "\n",
        "for x in range(numColumns):  # there should be numColumns number of columns\n",
        "  \n",
        "  column = []               # initalize an empty list to store the numbers\n",
        "  while len(column) < 6:         # there should be at most 6 numbers to be selected\n",
        "    num = rand.randint(1,49)     # numbers should be between 1 and 49 (including both)\n",
        "    if num not in column:        # numbers should be unique\n",
        "      column.append(num)         # if a valid number is to be stored, add it to the list\n",
        "  column.sort()  # sort the list\n",
        "  \n",
        "  coupon.append(column)    # insert the column to the ticket list\n",
        "  \n",
        "# print(ticket)\n",
        "\n",
        "# display the ticket in a tab (\\t) deliminated format\n",
        "idx = 0\n",
        "for column in coupon:\n",
        "  print( chr(ord(\"A\")+idx)  + \".\" ,end=\"\\t\")\n",
        "  idx += 1\n",
        "  for number in column:\n",
        "    print(number,end=\"\\t\")\n",
        "  print()"
      ],
      "execution_count": null,
      "outputs": [
        {
          "output_type": "stream",
          "text": [
            "Please enter the number of columns to be generated: 9\n",
            "A.\t5\t22\t23\t32\t37\t41\t\n",
            "B.\t3\t30\t31\t33\t39\t44\t\n",
            "C.\t11\t18\t21\t28\t43\t49\t\n",
            "D.\t2\t13\t32\t33\t36\t47\t\n",
            "E.\t6\t18\t23\t25\t31\t46\t\n",
            "F.\t12\t18\t27\t28\t34\t49\t\n",
            "G.\t4\t10\t26\t28\t31\t48\t\n",
            "H.\t10\t20\t29\t41\t44\t49\t\n",
            "I.\t22\t23\t25\t41\t43\t45\t\n"
          ],
          "name": "stdout"
        }
      ]
    },
    {
      "cell_type": "markdown",
      "metadata": {
        "id": "8iRwu1y2c6aM"
      },
      "source": [
        "#Government History of Turkey\n",
        "\n",
        "\n"
      ]
    },
    {
      "cell_type": "markdown",
      "metadata": {
        "id": "-Z6SCYu2duff"
      },
      "source": [
        "The politics of Turkey takes place in a framework of a secular parliamentary representative democratic republic, whereby the Prime Minister of Turkey is the head of government, and the President of Turkey is the head of state who holds a largely ceremonial role with substantial reserve powers.\n",
        "\n",
        "Legislative power is invested in the 550-seat Grand National Assembly of Turkey (TBMM), representing 81 provinces. The members are elected for a four-year term by mitigated proportional representation with an election threshold of 10%. To be represented in Parliament, a party must win at least 10% of the national vote in a national parliamentary election. Independent candidates may run, and to be elected, they must only win enough to get one seat. The threshold is set to be reduced.\n",
        "\n",
        "**Given a list of elected parties and their duration intervals for being government, calculate the total number of years of a particular party being in power.**"
      ]
    },
    {
      "cell_type": "markdown",
      "metadata": {
        "id": "mklHz7audyLV"
      },
      "source": [
        "- We will decompose the problem into subproblems which are easier to solve\n",
        "\n",
        "- We are given political party names and their durations of being governments \n",
        "\n",
        "- The name and durations are stored in the same index of different lists\n",
        "\n",
        "  - For instance ANAP is located in <u>index 1</u> of **parties** list and \n",
        "its durations are stored in  <u>index 1</u> of **dates** list"
      ]
    },
    {
      "cell_type": "markdown",
      "metadata": {
        "id": "kCS83ewJeIPI"
      },
      "source": [
        "- We will take a political party name as input\n",
        "\n",
        "- Then, we will check whether this party name exists in parties list\n",
        "\n",
        "- If it does not exist, then give an appropriate message;\n",
        "otherwise, we will do some other operations\n",
        "\n",
        "- If party name (**party**) exists, then we know that it is located in some place (*index*) \n",
        "in **parties** list <br> → we need that information since duration information will be in the \n",
        "same index of **dates** list\n",
        "\n",
        "  - index = parties.index(party)\n",
        "  \n",
        "- After we find the index of the party, we can obtain the list of dates with following line:\n",
        "  - party_dates = dates[index]\n",
        "                \n",
        "- Party_dates may contain several date intervals, so we will process as long as \n",
        "we have date interval\n",
        "  - for date in party_dates:\n",
        "        \n",
        "- For each date string, we have the start year with 4 characters (like “1995”), then “-”, \n",
        "and then the end year with 4 characters again (like “1999”). \n",
        "\n",
        "  - We can obtain the first year and convert it into integer as follows\n",
        "    - int(date[:4])\n",
        "        \n",
        "  - Similarly, we can obtain the end year\n",
        "    - int(date[5:])\n",
        "        \n",
        "- And then sum all of the differences"
      ]
    },
    {
      "cell_type": "markdown",
      "metadata": {
        "id": "itJLq62sevAz"
      },
      "source": [
        "#governmentHistory_withoutMethods.py"
      ]
    },
    {
      "cell_type": "code",
      "metadata": {
        "id": "nhndsVs4expD",
        "colab": {
          "base_uri": "https://localhost:8080/",
          "height": 51
        },
        "outputId": "c00386f1-3f76-4872-db00-2f64785ca0d1"
      },
      "source": [
        "parties = [\"AKP\", \"ANAP\", \"AP\", \"B\", \"CGP\", \"CHF\", \"CHP\", \"CKMP\", \"DP\", \"DSP\",\\\n",
        "           \"DTP\", \"DYP\",\"HDP\", \"MGP\", \"MHP\", \"MP\",\"MSP\", \"RP\", \"SHP\", \"YTP\"]\n",
        "\n",
        "dates = [[\"2002-2017\"],\\\n",
        "         [\"1983-1991\", \"1996-1996\", \"1997-1999\", \"1999-2002\"],\\\n",
        "         [\"1961-1962\", \"1965-1974\", \"1975-1977\", \"1977-1978\", \"1979-1980\"],\\\n",
        "         [\"1963-1965\", \"1971-1974\", \"1978-1979\", \"2015-2015\"],\\\n",
        "         [\"1973-1974\", \"1975-1977\", \"1978-1979\"],\\\n",
        "         [\"1923-1935\"],\\\n",
        "         [\"1935-1950\", \"1971-1973\", \"1974-1974\", \"1977-1977\", \"1978-1979\", \"1995-1996\"],\\\n",
        "         [\"1962-1963\", \"1965-1965\"],\\\n",
        "         [\"1950-1960\"],\\\n",
        "         [\"1997-2002\"],\\\n",
        "         [\"1997-1999\"],\\\n",
        "         [\"1991-1997\", \"1996-1997\"],\\\n",
        "         [\"2015-2015\"],\\\n",
        "         [\"1971-1973\"],\\\n",
        "         [\"1975-1977\", \"1977-1978\", \"1999-2002\"],\\\n",
        "         [\"1965-1965\"],\\\n",
        "         [\"1974-1974\", \"1975-1977\", \"1977-1978\"],\\\n",
        "         [\"1996-1997\"],\\\n",
        "         [\"1991-1995\"],\\\n",
        "         [\"1962-1963\", \"1965-1965\"]]\n",
        "\n",
        "party = input(\"Please enter a party name: \")\n",
        "if party in parties:\n",
        "    for index in range(len(parties)):\n",
        "        if parties[index] == party:\n",
        "            totalYears = 0\n",
        "            party_dates = dates[index]\n",
        "            for date in party_dates:\n",
        "                totalYears += int(date[5:])-int(date[:4])\n",
        "            print(party, \"'s duration of power is \",totalYears, \" years\")\n",
        "            break\n",
        "else:\n",
        "    print(\"Incorrect input!\")"
      ],
      "execution_count": null,
      "outputs": [
        {
          "output_type": "stream",
          "text": [
            "Please enter a party name: AKP\n",
            "AKP's duration of power is 15 years.\n"
          ],
          "name": "stdout"
        }
      ]
    },
    {
      "cell_type": "markdown",
      "metadata": {
        "id": "L8DXmQh9wFT9"
      },
      "source": [
        "#governmentHistory_withMethods.py"
      ]
    },
    {
      "cell_type": "code",
      "metadata": {
        "id": "tAS4pGJvvmya"
      },
      "source": [
        "parties = [\"AKP\", \"ANAP\", \"AP\", \"B\", \"CGP\", \"CHF\", \"CHP\", \"CKMP\", \"DP\", \"DSP\",\\\n",
        "           \"DTP\", \"DYP\",\"HDP\", \"MGP\", \"MHP\", \"MP\",\"MSP\", \"RP\", \"SHP\", \"YTP\"]\n",
        "\n",
        "dates = [[\"2002-2017\"],\\\n",
        "         [\"1983-1991\", \"1996-1996\", \"1997-1999\", \"1999-2002\"],\\\n",
        "         [\"1961-1962\", \"1965-1974\", \"1975-1977\", \"1977-1978\", \"1979-1980\"],\\\n",
        "         [\"1963-1965\", \"1971-1974\", \"1978-1979\", \"2015-2015\"],\\\n",
        "         [\"1973-1974\", \"1975-1977\", \"1978-1979\"],\\\n",
        "         [\"1923-1935\"],\\\n",
        "         [\"1935-1950\", \"1971-1973\", \"1974-1974\", \"1977-1977\", \"1978-1979\", \"1995-1996\"],\\\n",
        "         [\"1962-1963\", \"1965-1965\"],\\\n",
        "         [\"1950-1960\"],\\\n",
        "         [\"1997-2002\"],\\\n",
        "         [\"1997-1999\"],\\\n",
        "         [\"1991-1997\", \"1996-1997\"],\\\n",
        "         [\"2015-2015\"],\\\n",
        "         [\"1971-1973\"],\\\n",
        "         [\"1975-1977\", \"1977-1978\", \"1999-2002\"],\\\n",
        "         [\"1965-1965\"],\\\n",
        "         [\"1974-1974\", \"1975-1977\", \"1977-1978\"],\\\n",
        "         [\"1996-1997\"],\\\n",
        "         [\"1991-1995\"],\\\n",
        "         [\"1962-1963\", \"1965-1965\"]]\n",
        "\n",
        "party = input(\"Please enter a party name: \")\n",
        "if party in parties:\n",
        "  index = parties.index(party)\n",
        "  totalYears = 0\n",
        "  party_dates = dates[index]\n",
        "  for date in party_dates:\n",
        "    totalYears += int(date[5:])-int(date[:4]) + 1\n",
        "  print(party, \"'s duration of power is \",totalYears, \" years\")\n",
        "else:\n",
        "    print(\"Incorrect input!\")"
      ],
      "execution_count": null,
      "outputs": []
    },
    {
      "cell_type": "markdown",
      "metadata": {
        "id": "aX3ySFEc15Px"
      },
      "source": [
        "The rest of the course will be more interesting\n",
        "\n",
        "Since we have learned the loop concept, now we are capable of dealing with real world problems:\n",
        "\n",
        "- Literature\n",
        "  - Statistics of Shakespeare\n",
        "  \n",
        "- Social Media\n",
        "  - Twitter Trending Topics\n",
        "  \n",
        "- Cryptography\n",
        "  - Caesar Cipher\n",
        "\n"
      ]
    }
  ]
}