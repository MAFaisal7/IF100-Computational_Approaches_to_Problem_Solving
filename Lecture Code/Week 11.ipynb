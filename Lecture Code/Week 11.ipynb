{
  "nbformat": 4,
  "nbformat_minor": 0,
  "metadata": {
    "colab": {
      "name": "sectionA.ipynb",
      "provenance": [],
      "collapsed_sections": []
    },
    "kernelspec": {
      "name": "python3",
      "display_name": "Python 3"
    },
    "language_info": {
      "name": "python"
    }
  },
  "cells": [
    {
      "cell_type": "code",
      "metadata": {
        "id": "vtpkS4mbJo0R"
      },
      "source": [
        "import random as rnd\n"
      ],
      "execution_count": null,
      "outputs": []
    },
    {
      "cell_type": "code",
      "metadata": {
        "colab": {
          "base_uri": "https://localhost:8080/"
        },
        "id": "OkNkCy65O0Vp",
        "outputId": "a3ce4823-2b5c-4c88-8fab-39edfc462f8b"
      },
      "source": [
        "length = rnd.randint(7,10)\n",
        "print(length)\n",
        "\n",
        "password = \"\"\n",
        "for i in range(length):\n",
        "  password += chr(rnd.randint(33,126))\n",
        "print(password)"
      ],
      "execution_count": null,
      "outputs": [
        {
          "output_type": "stream",
          "text": [
            "10\n",
            ",6g+1j:5M[\n"
          ],
          "name": "stdout"
        }
      ]
    },
    {
      "cell_type": "code",
      "metadata": {
        "colab": {
          "base_uri": "https://localhost:8080/"
        },
        "id": "iswyyi0XQNaJ",
        "outputId": "bdf5fba7-bc25-4ccc-a76d-284812768175"
      },
      "source": [
        "def func1():\n",
        "  print(\"Hello Sabancı\")\n",
        "  print(\"Hello IF100\")\n",
        "\n",
        "# MAIN\n",
        "print(\"hello\")\n",
        "print(\"bye\")"
      ],
      "execution_count": null,
      "outputs": [
        {
          "output_type": "stream",
          "text": [
            "hello\n",
            "bye\n"
          ],
          "name": "stdout"
        }
      ]
    },
    {
      "cell_type": "code",
      "metadata": {
        "colab": {
          "base_uri": "https://localhost:8080/"
        },
        "id": "jnY5sgjQQtWf",
        "outputId": "373cf4df-9918-4d40-9d9d-36e99df07601"
      },
      "source": [
        "def func1():\n",
        "  print(\"Hello Sabancı\")\n",
        "  print(\"Hello IF100\")\n",
        "\n",
        "# MAIN\n",
        "print(\"hello\")\n",
        "func1()\n",
        "print(\"bye\")"
      ],
      "execution_count": null,
      "outputs": [
        {
          "output_type": "stream",
          "text": [
            "hello\n",
            "Hello Sabancı\n",
            "Hello IF100\n",
            "bye\n"
          ],
          "name": "stdout"
        }
      ]
    },
    {
      "cell_type": "code",
      "metadata": {
        "colab": {
          "base_uri": "https://localhost:8080/"
        },
        "id": "Rkoqx0RsR162",
        "outputId": "bbe6f353-1ead-47dc-d49e-8753e01c43ed"
      },
      "source": [
        "func1()\n",
        "print(\"dfsdf\")\n",
        "func1()\n",
        "a = 5\n",
        "print(a)\n",
        "func1()\n",
        "\n",
        "for i in range(5):\n",
        "  func1()"
      ],
      "execution_count": null,
      "outputs": [
        {
          "output_type": "stream",
          "text": [
            "Hello Sabancı\n",
            "Hello IF100\n",
            "dfsdf\n",
            "Hello Sabancı\n",
            "Hello IF100\n",
            "5\n",
            "Hello Sabancı\n",
            "Hello IF100\n",
            "Hello Sabancı\n",
            "Hello IF100\n",
            "Hello Sabancı\n",
            "Hello IF100\n",
            "Hello Sabancı\n",
            "Hello IF100\n",
            "Hello Sabancı\n",
            "Hello IF100\n",
            "Hello Sabancı\n",
            "Hello IF100\n"
          ],
          "name": "stdout"
        }
      ]
    },
    {
      "cell_type": "code",
      "metadata": {
        "colab": {
          "base_uri": "https://localhost:8080/"
        },
        "id": "E_ixN58QSGNC",
        "outputId": "eba3db50-4d1e-4a11-aa2f-3753a451eb7e"
      },
      "source": [
        "def func3():\n",
        "  a, b = 10, 20\n",
        "  print(a, b)\n",
        "\n",
        "# MAIN\n",
        "func3()"
      ],
      "execution_count": null,
      "outputs": [
        {
          "output_type": "stream",
          "text": [
            "10 20\n"
          ],
          "name": "stdout"
        }
      ]
    },
    {
      "cell_type": "code",
      "metadata": {
        "colab": {
          "base_uri": "https://localhost:8080/",
          "height": 213
        },
        "id": "GVT_3mC2SSub",
        "outputId": "d8af40c8-7826-40a9-8cb0-4107c3f70089"
      },
      "source": [
        "def func3():\n",
        "  a, b = 10, 20\n",
        "  print(a, b)\n",
        "\n",
        "# MAIN\n",
        "print(a)\n",
        "func3()"
      ],
      "execution_count": null,
      "outputs": [
        {
          "output_type": "error",
          "ename": "NameError",
          "evalue": "ignored",
          "traceback": [
            "\u001b[0;31m---------------------------------------------------------------------------\u001b[0m",
            "\u001b[0;31mNameError\u001b[0m                                 Traceback (most recent call last)",
            "\u001b[0;32m<ipython-input-1-42325bac3071>\u001b[0m in \u001b[0;36m<module>\u001b[0;34m()\u001b[0m\n\u001b[1;32m      4\u001b[0m \u001b[0;34m\u001b[0m\u001b[0m\n\u001b[1;32m      5\u001b[0m \u001b[0;31m# MAIN\u001b[0m\u001b[0;34m\u001b[0m\u001b[0;34m\u001b[0m\u001b[0;34m\u001b[0m\u001b[0m\n\u001b[0;32m----> 6\u001b[0;31m \u001b[0mprint\u001b[0m\u001b[0;34m(\u001b[0m\u001b[0ma\u001b[0m\u001b[0;34m)\u001b[0m\u001b[0;34m\u001b[0m\u001b[0;34m\u001b[0m\u001b[0m\n\u001b[0m\u001b[1;32m      7\u001b[0m \u001b[0mfunc3\u001b[0m\u001b[0;34m(\u001b[0m\u001b[0;34m)\u001b[0m\u001b[0;34m\u001b[0m\u001b[0;34m\u001b[0m\u001b[0m\n",
            "\u001b[0;31mNameError\u001b[0m: name 'a' is not defined"
          ]
        }
      ]
    },
    {
      "cell_type": "code",
      "metadata": {
        "colab": {
          "base_uri": "https://localhost:8080/",
          "height": 213
        },
        "id": "SeRQnxsgSeUa",
        "outputId": "b26d9892-fc41-4620-875d-84b8fd451ba2"
      },
      "source": [
        "def func3():\n",
        "  a, b = 10, 20     # local variable\n",
        "  print(a, b)\n",
        "\n",
        "# MAIN    \n",
        "func3()\n",
        "print(a)"
      ],
      "execution_count": null,
      "outputs": [
        {
          "output_type": "stream",
          "text": [
            "10 20\n"
          ],
          "name": "stdout"
        },
        {
          "output_type": "error",
          "ename": "NameError",
          "evalue": "ignored",
          "traceback": [
            "\u001b[0;31m---------------------------------------------------------------------------\u001b[0m",
            "\u001b[0;31mNameError\u001b[0m                                 Traceback (most recent call last)",
            "\u001b[0;32m<ipython-input-2-104e97930da9>\u001b[0m in \u001b[0;36m<module>\u001b[0;34m()\u001b[0m\n\u001b[1;32m      5\u001b[0m \u001b[0;31m# MAIN\u001b[0m\u001b[0;34m\u001b[0m\u001b[0;34m\u001b[0m\u001b[0;34m\u001b[0m\u001b[0m\n\u001b[1;32m      6\u001b[0m \u001b[0mfunc3\u001b[0m\u001b[0;34m(\u001b[0m\u001b[0;34m)\u001b[0m\u001b[0;34m\u001b[0m\u001b[0;34m\u001b[0m\u001b[0m\n\u001b[0;32m----> 7\u001b[0;31m \u001b[0mprint\u001b[0m\u001b[0;34m(\u001b[0m\u001b[0ma\u001b[0m\u001b[0;34m)\u001b[0m\u001b[0;34m\u001b[0m\u001b[0;34m\u001b[0m\u001b[0m\n\u001b[0m",
            "\u001b[0;31mNameError\u001b[0m: name 'a' is not defined"
          ]
        }
      ]
    },
    {
      "cell_type": "code",
      "metadata": {
        "colab": {
          "base_uri": "https://localhost:8080/"
        },
        "id": "iOhC6zcdSwAR",
        "outputId": "dc8bdc79-95e8-4c8e-b6dd-81ce4ca23d7d"
      },
      "source": [
        "def func3():\n",
        "  a, b = 10, 20     # local variable\n",
        "  print(a, b)\n",
        "\n",
        "# MAIN    \n",
        "a = 5\n",
        "func3()\n",
        "print(a)"
      ],
      "execution_count": null,
      "outputs": [
        {
          "output_type": "stream",
          "text": [
            "10 20\n",
            "5\n"
          ],
          "name": "stdout"
        }
      ]
    },
    {
      "cell_type": "code",
      "metadata": {
        "colab": {
          "base_uri": "https://localhost:8080/"
        },
        "id": "LJigjXwATy7C",
        "outputId": "8865a6bb-02c9-4101-b299-d0513afbddd2"
      },
      "source": [
        "def func3():\n",
        "  a, b = 10, 20     # local variable\n",
        "  print(a, b, c)\n",
        "\n",
        "# MAIN    \n",
        "a = 5\n",
        "c = 30\n",
        "func3()\n",
        "print(a)"
      ],
      "execution_count": null,
      "outputs": [
        {
          "output_type": "stream",
          "text": [
            "10 20 30\n",
            "5\n"
          ],
          "name": "stdout"
        }
      ]
    },
    {
      "cell_type": "code",
      "metadata": {
        "colab": {
          "base_uri": "https://localhost:8080/",
          "height": 230
        },
        "id": "iAhTVKDjQ-wQ",
        "outputId": "22f1d307-9173-46d6-b6b6-7c6dc0b239f7"
      },
      "source": [
        "func2()\n",
        "\n",
        "def func2():\n",
        "  print(\"Hello Sabancı\")\n",
        "  print(\"Hello IF100\")"
      ],
      "execution_count": null,
      "outputs": [
        {
          "output_type": "error",
          "ename": "NameError",
          "evalue": "ignored",
          "traceback": [
            "\u001b[0;31m---------------------------------------------------------------------------\u001b[0m",
            "\u001b[0;31mNameError\u001b[0m                                 Traceback (most recent call last)",
            "\u001b[0;32m<ipython-input-16-7be5e030f0d1>\u001b[0m in \u001b[0;36m<module>\u001b[0;34m()\u001b[0m\n\u001b[0;32m----> 1\u001b[0;31m \u001b[0mfunc2\u001b[0m\u001b[0;34m(\u001b[0m\u001b[0;34m)\u001b[0m\u001b[0;34m\u001b[0m\u001b[0;34m\u001b[0m\u001b[0m\n\u001b[0m\u001b[1;32m      2\u001b[0m \u001b[0;34m\u001b[0m\u001b[0m\n\u001b[1;32m      3\u001b[0m \u001b[0;32mdef\u001b[0m \u001b[0mfunc2\u001b[0m\u001b[0;34m(\u001b[0m\u001b[0;34m)\u001b[0m\u001b[0;34m:\u001b[0m\u001b[0;34m\u001b[0m\u001b[0;34m\u001b[0m\u001b[0m\n\u001b[1;32m      4\u001b[0m   \u001b[0mprint\u001b[0m\u001b[0;34m(\u001b[0m\u001b[0;34m\"Hello Sabancı\"\u001b[0m\u001b[0;34m)\u001b[0m\u001b[0;34m\u001b[0m\u001b[0;34m\u001b[0m\u001b[0m\n\u001b[1;32m      5\u001b[0m   \u001b[0mprint\u001b[0m\u001b[0;34m(\u001b[0m\u001b[0;34m\"Hello IF100\"\u001b[0m\u001b[0;34m)\u001b[0m\u001b[0;34m\u001b[0m\u001b[0;34m\u001b[0m\u001b[0m\n",
            "\u001b[0;31mNameError\u001b[0m: name 'func2' is not defined"
          ]
        }
      ]
    },
    {
      "cell_type": "code",
      "metadata": {
        "id": "scIWIWVXRMxd"
      },
      "source": [
        "import random as rnd\n",
        "\n",
        "def randPassGenerator():\n",
        "  length = rnd.randint(7,10)\n",
        "  print(length)\n",
        "\n",
        "  password = \"\"\n",
        "  for i in range(length):\n",
        "    password += chr(rnd.randint(33,126))\n",
        "  print(password)"
      ],
      "execution_count": null,
      "outputs": []
    },
    {
      "cell_type": "code",
      "metadata": {
        "colab": {
          "base_uri": "https://localhost:8080/"
        },
        "id": "Ry5oKtcYRjXR",
        "outputId": "64b7b6cd-32ea-4ea4-9cd1-f3427696d4e2"
      },
      "source": [
        "import random as rnd\n",
        "\n",
        "def randPassGenerator():\n",
        "  length = rnd.randint(7,10)\n",
        "  #print(length)\n",
        "\n",
        "  password = \"\"\n",
        "  for i in range(length):\n",
        "    password += chr(rnd.randint(33,126))\n",
        "  print(password)\n",
        "\n",
        "# MAIN\n",
        "randPassGenerator()"
      ],
      "execution_count": null,
      "outputs": [
        {
          "output_type": "stream",
          "text": [
            "HTq%<-+\n"
          ],
          "name": "stdout"
        }
      ]
    },
    {
      "cell_type": "code",
      "metadata": {
        "colab": {
          "base_uri": "https://localhost:8080/",
          "height": 213
        },
        "id": "9WaW6-n6T_DH",
        "outputId": "5da3ff12-7ad2-4958-d23b-d76b2dc9ae05"
      },
      "source": [
        "import random as rnd\n",
        "\n",
        "def randPassGenerator():\n",
        "  length = rnd.randint(7,10)\n",
        "  #print(length)\n",
        "\n",
        "  password = \"\"\n",
        "  for i in range(length):\n",
        "    password += chr(rnd.randint(33,126))\n",
        "  print(password)\n",
        "\n",
        "# MAIN\n",
        "randPassGenerator()\n",
        "print(password)"
      ],
      "execution_count": null,
      "outputs": [
        {
          "output_type": "stream",
          "text": [
            "u\\\\a)u{Z\n"
          ],
          "name": "stdout"
        },
        {
          "output_type": "error",
          "ename": "NameError",
          "evalue": "ignored",
          "traceback": [
            "\u001b[0;31m---------------------------------------------------------------------------\u001b[0m",
            "\u001b[0;31mNameError\u001b[0m                                 Traceback (most recent call last)",
            "\u001b[0;32m<ipython-input-5-6666254b0df5>\u001b[0m in \u001b[0;36m<module>\u001b[0;34m()\u001b[0m\n\u001b[1;32m     12\u001b[0m \u001b[0;31m# MAIN\u001b[0m\u001b[0;34m\u001b[0m\u001b[0;34m\u001b[0m\u001b[0;34m\u001b[0m\u001b[0m\n\u001b[1;32m     13\u001b[0m \u001b[0mrandPassGenerator\u001b[0m\u001b[0;34m(\u001b[0m\u001b[0;34m)\u001b[0m\u001b[0;34m\u001b[0m\u001b[0;34m\u001b[0m\u001b[0m\n\u001b[0;32m---> 14\u001b[0;31m \u001b[0mprint\u001b[0m\u001b[0;34m(\u001b[0m\u001b[0mpassword\u001b[0m\u001b[0;34m)\u001b[0m\u001b[0;34m\u001b[0m\u001b[0;34m\u001b[0m\u001b[0m\n\u001b[0m",
            "\u001b[0;31mNameError\u001b[0m: name 'password' is not defined"
          ]
        }
      ]
    },
    {
      "cell_type": "code",
      "metadata": {
        "colab": {
          "base_uri": "https://localhost:8080/"
        },
        "id": "mpf9VCV8UT9e",
        "outputId": "6396f05e-539f-4d80-9842-43239b124f64"
      },
      "source": [
        "def doSomeCalcs():\n",
        "  a, b = 10, 20\n",
        "  c = b - a\n",
        "  return c\n",
        "\n",
        "# MAIN\n",
        "doSomeCalcs()     # --> 10\n",
        "print(\"bye\")"
      ],
      "execution_count": null,
      "outputs": [
        {
          "output_type": "stream",
          "text": [
            "bye\n"
          ],
          "name": "stdout"
        }
      ]
    },
    {
      "cell_type": "code",
      "metadata": {
        "colab": {
          "base_uri": "https://localhost:8080/"
        },
        "id": "25szOH4eVIBf",
        "outputId": "ecec17e3-74d9-4ea4-ccd6-552f88ec70be"
      },
      "source": [
        "def doSomeCalcs():\n",
        "  a, b = 10, 20\n",
        "  c = b - a\n",
        "  return c\n",
        "\n",
        "# MAIN\n",
        "print(doSomeCalcs())     # --> print(10)\n",
        "result = doSomeCalcs()\n",
        "print(result)\n",
        "print(\"bye\")"
      ],
      "execution_count": null,
      "outputs": [
        {
          "output_type": "stream",
          "text": [
            "10\n",
            "10\n",
            "bye\n"
          ],
          "name": "stdout"
        }
      ]
    },
    {
      "cell_type": "code",
      "metadata": {
        "colab": {
          "base_uri": "https://localhost:8080/"
        },
        "id": "dSTqi-gbVUiL",
        "outputId": "45818bf6-b78f-4ceb-e817-b18580740954"
      },
      "source": [
        "def doSomeCalcs():\n",
        "  a, b = 10, 20\n",
        "  c = b - a\n",
        "  return c\n",
        "  print(\"is this ever gonna be printed???\")\n",
        "\n",
        "# MAIN\n",
        "print(doSomeCalcs())     # --> print(10)\n",
        "result = doSomeCalcs()\n",
        "print(result)\n",
        "print(\"bye\")"
      ],
      "execution_count": null,
      "outputs": [
        {
          "output_type": "stream",
          "text": [
            "10\n",
            "10\n",
            "bye\n"
          ],
          "name": "stdout"
        }
      ]
    },
    {
      "cell_type": "code",
      "metadata": {
        "colab": {
          "base_uri": "https://localhost:8080/"
        },
        "id": "C8iAKn4kVeX_",
        "outputId": "97738303-fa86-48ee-d684-91bb05e58dc7"
      },
      "source": [
        "def getInput():\n",
        "  num = int(input(\"Enter an integer: \"))\n",
        "  if num < 10:\n",
        "    return True\n",
        "  else:\n",
        "    return False\n",
        "\n",
        "# MAIN\n",
        "print(getInput())"
      ],
      "execution_count": null,
      "outputs": [
        {
          "output_type": "stream",
          "text": [
            "Enter an integer: 11\n",
            "False\n"
          ],
          "name": "stdout"
        }
      ]
    },
    {
      "cell_type": "code",
      "metadata": {
        "colab": {
          "base_uri": "https://localhost:8080/"
        },
        "id": "OqiyUyQ7VywX",
        "outputId": "5708ea82-9575-4908-db9d-27b303f7af43"
      },
      "source": [
        "def getInput():\n",
        "  num = int(input(\"Enter an integer: \"))\n",
        "  if num < 10:\n",
        "    return True\n",
        "  return False\n",
        "\n",
        "# MAIN\n",
        "print(getInput())"
      ],
      "execution_count": null,
      "outputs": [
        {
          "output_type": "stream",
          "text": [
            "Enter an integer: 11\n",
            "False\n"
          ],
          "name": "stdout"
        }
      ]
    },
    {
      "cell_type": "code",
      "metadata": {
        "colab": {
          "base_uri": "https://localhost:8080/"
        },
        "id": "Fda0grjXWD5e",
        "outputId": "5a854889-f5a4-4387-dcc6-efdac383f08d"
      },
      "source": [
        "def getInput():\n",
        "  num = int(input(\"Enter an integer: \"))\n",
        "  return num < 10\n",
        "\n",
        "# MAIN\n",
        "print(getInput())"
      ],
      "execution_count": null,
      "outputs": [
        {
          "output_type": "stream",
          "text": [
            "Enter an integer: 5\n",
            "True\n"
          ],
          "name": "stdout"
        }
      ]
    },
    {
      "cell_type": "code",
      "metadata": {
        "colab": {
          "base_uri": "https://localhost:8080/"
        },
        "id": "C-NZJilGWOnV",
        "outputId": "587b1df3-7df6-47fc-d969-48c99c74bff5"
      },
      "source": [
        "def getInput():\n",
        "  num = int(input(\"Enter an integer: \"))\n",
        "  return num < 10\n",
        "\n",
        "# MAIN\n",
        "if getInput():\n",
        "  print(\"This is smaller than 10\")\n",
        "else:\n",
        "  print(\"This is >= 10\")"
      ],
      "execution_count": null,
      "outputs": [
        {
          "output_type": "stream",
          "text": [
            "Enter an integer: 5\n",
            "This is smaller than 10\n"
          ],
          "name": "stdout"
        }
      ]
    },
    {
      "cell_type": "code",
      "metadata": {
        "colab": {
          "base_uri": "https://localhost:8080/"
        },
        "id": "k_0PuwD9WYyE",
        "outputId": "99f57ba0-84f4-4010-ef4e-9f8bff4a5602"
      },
      "source": [
        "def getInput():\n",
        "  num = int(input(\"Enter an integer: \"))\n",
        "  return num < 10\n",
        "\n",
        "# MAIN\n",
        "# while the input is >= 10, ask for another input\n",
        "while not getInput():         \n",
        "  print(\"This is not smaller than 10\")\n"
      ],
      "execution_count": null,
      "outputs": [
        {
          "output_type": "stream",
          "text": [
            "Enter an integer: 16\n",
            "This is not smaller than 10\n",
            "Enter an integer: 11\n",
            "This is not smaller than 10\n",
            "Enter an integer: 10\n",
            "This is not smaller than 10\n",
            "Enter an integer: 4\n"
          ],
          "name": "stdout"
        }
      ]
    },
    {
      "cell_type": "code",
      "metadata": {
        "colab": {
          "base_uri": "https://localhost:8080/"
        },
        "id": "5J21RpxHW2xL",
        "outputId": "fd7c1de9-9882-436c-b341-91163de58fe0"
      },
      "source": [
        "import random as rnd\n",
        "\n",
        "def randPassGenerator():\n",
        "  length = rnd.randint(7,10)\n",
        "  #print(length)\n",
        "\n",
        "  password = \"\"\n",
        "  for i in range(length):\n",
        "    password += chr(rnd.randint(33,126))\n",
        "  #print(password)\n",
        "  return password\n",
        "\n",
        "# MAIN\n",
        "passwrd = randPassGenerator()\n",
        "print(passwrd)\n"
      ],
      "execution_count": null,
      "outputs": [
        {
          "output_type": "stream",
          "text": [
            "MRTjdE4ZG\n"
          ],
          "name": "stdout"
        }
      ]
    },
    {
      "cell_type": "code",
      "metadata": {
        "colab": {
          "base_uri": "https://localhost:8080/",
          "height": 347
        },
        "id": "mmMKRQNPXO7s",
        "outputId": "894fef6e-e935-42d4-ad11-42caea2fdf99"
      },
      "source": [
        "def func5():\n",
        "  print(\"Func-1 -->\", a)\n",
        "  a = 5\n",
        "  print(\"Func-2 -->\", a)\n",
        "\n",
        "# MAIN\n",
        "a, b = 10, 20\n",
        "print(\"Main-1 -->\", a, b)\n",
        "func5()\n",
        "print(\"Main-2 -->\", a, b)"
      ],
      "execution_count": null,
      "outputs": [
        {
          "output_type": "stream",
          "text": [
            "Main-1 --> 10 20\n"
          ],
          "name": "stdout"
        },
        {
          "output_type": "error",
          "ename": "UnboundLocalError",
          "evalue": "ignored",
          "traceback": [
            "\u001b[0;31m---------------------------------------------------------------------------\u001b[0m",
            "\u001b[0;31mUnboundLocalError\u001b[0m                         Traceback (most recent call last)",
            "\u001b[0;32m<ipython-input-4-cefba173b795>\u001b[0m in \u001b[0;36m<module>\u001b[0;34m()\u001b[0m\n\u001b[1;32m      7\u001b[0m \u001b[0ma\u001b[0m\u001b[0;34m,\u001b[0m \u001b[0mb\u001b[0m \u001b[0;34m=\u001b[0m \u001b[0;36m10\u001b[0m\u001b[0;34m,\u001b[0m \u001b[0;36m20\u001b[0m\u001b[0;34m\u001b[0m\u001b[0;34m\u001b[0m\u001b[0m\n\u001b[1;32m      8\u001b[0m \u001b[0mprint\u001b[0m\u001b[0;34m(\u001b[0m\u001b[0;34m\"Main-1 -->\"\u001b[0m\u001b[0;34m,\u001b[0m \u001b[0ma\u001b[0m\u001b[0;34m,\u001b[0m \u001b[0mb\u001b[0m\u001b[0;34m)\u001b[0m\u001b[0;34m\u001b[0m\u001b[0;34m\u001b[0m\u001b[0m\n\u001b[0;32m----> 9\u001b[0;31m \u001b[0mfunc5\u001b[0m\u001b[0;34m(\u001b[0m\u001b[0;34m)\u001b[0m\u001b[0;34m\u001b[0m\u001b[0;34m\u001b[0m\u001b[0m\n\u001b[0m\u001b[1;32m     10\u001b[0m \u001b[0mprint\u001b[0m\u001b[0;34m(\u001b[0m\u001b[0;34m\"Main-2 -->\"\u001b[0m\u001b[0;34m,\u001b[0m \u001b[0ma\u001b[0m\u001b[0;34m,\u001b[0m \u001b[0mb\u001b[0m\u001b[0;34m)\u001b[0m\u001b[0;34m\u001b[0m\u001b[0;34m\u001b[0m\u001b[0m\n",
            "\u001b[0;32m<ipython-input-4-cefba173b795>\u001b[0m in \u001b[0;36mfunc5\u001b[0;34m()\u001b[0m\n\u001b[1;32m      1\u001b[0m \u001b[0;32mdef\u001b[0m \u001b[0mfunc5\u001b[0m\u001b[0;34m(\u001b[0m\u001b[0;34m)\u001b[0m\u001b[0;34m:\u001b[0m\u001b[0;34m\u001b[0m\u001b[0;34m\u001b[0m\u001b[0m\n\u001b[0;32m----> 2\u001b[0;31m   \u001b[0mprint\u001b[0m\u001b[0;34m(\u001b[0m\u001b[0;34m\"Func-1 -->\"\u001b[0m\u001b[0;34m,\u001b[0m \u001b[0ma\u001b[0m\u001b[0;34m)\u001b[0m\u001b[0;34m\u001b[0m\u001b[0;34m\u001b[0m\u001b[0m\n\u001b[0m\u001b[1;32m      3\u001b[0m   \u001b[0ma\u001b[0m \u001b[0;34m=\u001b[0m \u001b[0;36m5\u001b[0m\u001b[0;34m\u001b[0m\u001b[0;34m\u001b[0m\u001b[0m\n\u001b[1;32m      4\u001b[0m   \u001b[0mprint\u001b[0m\u001b[0;34m(\u001b[0m\u001b[0;34m\"Func-2 -->\"\u001b[0m\u001b[0;34m,\u001b[0m \u001b[0ma\u001b[0m\u001b[0;34m)\u001b[0m\u001b[0;34m\u001b[0m\u001b[0;34m\u001b[0m\u001b[0m\n\u001b[1;32m      5\u001b[0m \u001b[0;34m\u001b[0m\u001b[0m\n",
            "\u001b[0;31mUnboundLocalError\u001b[0m: local variable 'a' referenced before assignment"
          ]
        }
      ]
    },
    {
      "cell_type": "code",
      "metadata": {
        "colab": {
          "base_uri": "https://localhost:8080/",
          "height": 347
        },
        "id": "3UGV34P3Ypmj",
        "outputId": "b02e3ce9-dbcc-40ed-c249-ba9c8da1b347"
      },
      "source": [
        "def func5():\n",
        "  a += 5\n",
        "  print(\"Func-2 -->\", a)\n",
        "\n",
        "# MAIN\n",
        "a, b = 10, 20\n",
        "print(\"Main-1 -->\", a, b)\n",
        "func5()\n",
        "print(\"Main-2 -->\", a, b)"
      ],
      "execution_count": null,
      "outputs": [
        {
          "output_type": "stream",
          "text": [
            "Main-1 --> 10 20\n"
          ],
          "name": "stdout"
        },
        {
          "output_type": "error",
          "ename": "UnboundLocalError",
          "evalue": "ignored",
          "traceback": [
            "\u001b[0;31m---------------------------------------------------------------------------\u001b[0m",
            "\u001b[0;31mUnboundLocalError\u001b[0m                         Traceback (most recent call last)",
            "\u001b[0;32m<ipython-input-5-306cfee6e7f4>\u001b[0m in \u001b[0;36m<module>\u001b[0;34m()\u001b[0m\n\u001b[1;32m      6\u001b[0m \u001b[0ma\u001b[0m\u001b[0;34m,\u001b[0m \u001b[0mb\u001b[0m \u001b[0;34m=\u001b[0m \u001b[0;36m10\u001b[0m\u001b[0;34m,\u001b[0m \u001b[0;36m20\u001b[0m\u001b[0;34m\u001b[0m\u001b[0;34m\u001b[0m\u001b[0m\n\u001b[1;32m      7\u001b[0m \u001b[0mprint\u001b[0m\u001b[0;34m(\u001b[0m\u001b[0;34m\"Main-1 -->\"\u001b[0m\u001b[0;34m,\u001b[0m \u001b[0ma\u001b[0m\u001b[0;34m,\u001b[0m \u001b[0mb\u001b[0m\u001b[0;34m)\u001b[0m\u001b[0;34m\u001b[0m\u001b[0;34m\u001b[0m\u001b[0m\n\u001b[0;32m----> 8\u001b[0;31m \u001b[0mfunc5\u001b[0m\u001b[0;34m(\u001b[0m\u001b[0;34m)\u001b[0m\u001b[0;34m\u001b[0m\u001b[0;34m\u001b[0m\u001b[0m\n\u001b[0m\u001b[1;32m      9\u001b[0m \u001b[0mprint\u001b[0m\u001b[0;34m(\u001b[0m\u001b[0;34m\"Main-2 -->\"\u001b[0m\u001b[0;34m,\u001b[0m \u001b[0ma\u001b[0m\u001b[0;34m,\u001b[0m \u001b[0mb\u001b[0m\u001b[0;34m)\u001b[0m\u001b[0;34m\u001b[0m\u001b[0;34m\u001b[0m\u001b[0m\n",
            "\u001b[0;32m<ipython-input-5-306cfee6e7f4>\u001b[0m in \u001b[0;36mfunc5\u001b[0;34m()\u001b[0m\n\u001b[1;32m      1\u001b[0m \u001b[0;32mdef\u001b[0m \u001b[0mfunc5\u001b[0m\u001b[0;34m(\u001b[0m\u001b[0;34m)\u001b[0m\u001b[0;34m:\u001b[0m\u001b[0;34m\u001b[0m\u001b[0;34m\u001b[0m\u001b[0m\n\u001b[0;32m----> 2\u001b[0;31m   \u001b[0ma\u001b[0m \u001b[0;34m+=\u001b[0m \u001b[0;36m5\u001b[0m\u001b[0;34m\u001b[0m\u001b[0;34m\u001b[0m\u001b[0m\n\u001b[0m\u001b[1;32m      3\u001b[0m   \u001b[0mprint\u001b[0m\u001b[0;34m(\u001b[0m\u001b[0;34m\"Func-2 -->\"\u001b[0m\u001b[0;34m,\u001b[0m \u001b[0ma\u001b[0m\u001b[0;34m)\u001b[0m\u001b[0;34m\u001b[0m\u001b[0;34m\u001b[0m\u001b[0m\n\u001b[1;32m      4\u001b[0m \u001b[0;34m\u001b[0m\u001b[0m\n\u001b[1;32m      5\u001b[0m \u001b[0;31m# MAIN\u001b[0m\u001b[0;34m\u001b[0m\u001b[0;34m\u001b[0m\u001b[0;34m\u001b[0m\u001b[0m\n",
            "\u001b[0;31mUnboundLocalError\u001b[0m: local variable 'a' referenced before assignment"
          ]
        }
      ]
    },
    {
      "cell_type": "code",
      "metadata": {
        "colab": {
          "base_uri": "https://localhost:8080/",
          "height": 314
        },
        "id": "GZN9v1gSa9To",
        "outputId": "f5d92e02-1c3a-4e6a-b59b-6a3a15f7a867"
      },
      "source": [
        "import random as rnd\n",
        "\n",
        "def randPassGenerator():\n",
        "  length = rnd.randint(7,10)\n",
        "  #print(length)\n",
        "\n",
        "  password = \"\"\n",
        "  for i in range(length):\n",
        "    password += chr(rnd.randint(33,126))\n",
        "  #print(password)\n",
        "  return password\n",
        "\n",
        "def checkUpper():\n",
        "  for ch in password:\n",
        "    if \"A\" <= ch <= \"Z\":\n",
        "      return True\n",
        "  # ---\n",
        "  return False\n",
        "\n",
        "# MAIN\n",
        "#passwrd = randPassGenerator()\n",
        "#print(passwrd)\n",
        "\n",
        "passwrd = \"bnhyuB8\"\n",
        "print(checkUpper())"
      ],
      "execution_count": null,
      "outputs": [
        {
          "output_type": "error",
          "ename": "NameError",
          "evalue": "ignored",
          "traceback": [
            "\u001b[0;31m---------------------------------------------------------------------------\u001b[0m",
            "\u001b[0;31mNameError\u001b[0m                                 Traceback (most recent call last)",
            "\u001b[0;32m<ipython-input-6-d936427b23ed>\u001b[0m in \u001b[0;36m<module>\u001b[0;34m()\u001b[0m\n\u001b[1;32m     23\u001b[0m \u001b[0;34m\u001b[0m\u001b[0m\n\u001b[1;32m     24\u001b[0m \u001b[0mpasswrd\u001b[0m \u001b[0;34m=\u001b[0m \u001b[0;34m\"bnhyuB8\"\u001b[0m\u001b[0;34m\u001b[0m\u001b[0;34m\u001b[0m\u001b[0m\n\u001b[0;32m---> 25\u001b[0;31m \u001b[0mprint\u001b[0m\u001b[0;34m(\u001b[0m\u001b[0mcheckUpper\u001b[0m\u001b[0;34m(\u001b[0m\u001b[0;34m)\u001b[0m\u001b[0;34m)\u001b[0m\u001b[0;34m\u001b[0m\u001b[0;34m\u001b[0m\u001b[0m\n\u001b[0m",
            "\u001b[0;32m<ipython-input-6-d936427b23ed>\u001b[0m in \u001b[0;36mcheckUpper\u001b[0;34m()\u001b[0m\n\u001b[1;32m     12\u001b[0m \u001b[0;34m\u001b[0m\u001b[0m\n\u001b[1;32m     13\u001b[0m \u001b[0;32mdef\u001b[0m \u001b[0mcheckUpper\u001b[0m\u001b[0;34m(\u001b[0m\u001b[0;34m)\u001b[0m\u001b[0;34m:\u001b[0m\u001b[0;34m\u001b[0m\u001b[0;34m\u001b[0m\u001b[0m\n\u001b[0;32m---> 14\u001b[0;31m   \u001b[0;32mfor\u001b[0m \u001b[0mch\u001b[0m \u001b[0;32min\u001b[0m \u001b[0mpassword\u001b[0m\u001b[0;34m:\u001b[0m\u001b[0;34m\u001b[0m\u001b[0;34m\u001b[0m\u001b[0m\n\u001b[0m\u001b[1;32m     15\u001b[0m     \u001b[0;32mif\u001b[0m \u001b[0;34m\"A\"\u001b[0m \u001b[0;34m<=\u001b[0m \u001b[0mch\u001b[0m \u001b[0;34m<=\u001b[0m \u001b[0;34m\"Z\"\u001b[0m\u001b[0;34m:\u001b[0m\u001b[0;34m\u001b[0m\u001b[0;34m\u001b[0m\u001b[0m\n\u001b[1;32m     16\u001b[0m       \u001b[0;32mreturn\u001b[0m \u001b[0;32mTrue\u001b[0m\u001b[0;34m\u001b[0m\u001b[0;34m\u001b[0m\u001b[0m\n",
            "\u001b[0;31mNameError\u001b[0m: name 'password' is not defined"
          ]
        }
      ]
    },
    {
      "cell_type": "code",
      "metadata": {
        "colab": {
          "base_uri": "https://localhost:8080/"
        },
        "id": "za_vtgRVcHfV",
        "outputId": "216ad444-28b3-4268-afbc-fec09a1a280e"
      },
      "source": [
        "def func6(parameter1, parameter2):\n",
        "  result = parameter1 - parameter2\n",
        "  return result\n",
        "\n",
        "# MAIN\n",
        "a, b = 10, 20\n",
        "print(func6(a,b))\n",
        "print(func6(b,a))"
      ],
      "execution_count": null,
      "outputs": [
        {
          "output_type": "stream",
          "text": [
            "-10\n",
            "10\n"
          ],
          "name": "stdout"
        }
      ]
    },
    {
      "cell_type": "code",
      "metadata": {
        "colab": {
          "base_uri": "https://localhost:8080/"
        },
        "id": "grz0khjfdPAR",
        "outputId": "de0f8cf3-94ad-445a-8755-02537b72215f"
      },
      "source": [
        "import random as rnd\n",
        "\n",
        "def randPassGenerator():\n",
        "  length = rnd.randint(7,10)\n",
        "  #print(length)\n",
        "\n",
        "  password = \"\"\n",
        "  for i in range(length):\n",
        "    password += chr(rnd.randint(33,126))\n",
        "  #print(password)\n",
        "  return password\n",
        "\n",
        "def checkUpper(text):\n",
        "  for ch in text:\n",
        "    #if \"A\" <= ch <= \"Z\":\n",
        "    if ch.isupper():\n",
        "      return True\n",
        "  # ---\n",
        "  return False\n",
        "\n",
        "def checkDigit(text):\n",
        "  for ch in text:\n",
        "    #if \"0\" <= ch <= \"9\":\n",
        "    if ch.isdigit():\n",
        "      return True\n",
        "  # ---\n",
        "  return False\n",
        "\n",
        "def checkGoodPassw(password):\n",
        "  # return checkUpper(password) and checkDigit(password)\n",
        "  if checkUpper(password) and checkDigit(password):\n",
        "    return True\n",
        "  return False\n",
        "\n",
        "# MAIN\n",
        "passwrd = randPassGenerator()\n",
        "print(passwrd)\n",
        "while not checkGoodPassw(passwrd):\n",
        "  # ----\n",
        "  passwrd = randPassGenerator()\n",
        "  print(passwrd)\n"
      ],
      "execution_count": null,
      "outputs": [
        {
          "output_type": "stream",
          "text": [
            "k'z%=I'\n",
            "dYf#cUljc>\n",
            "Gc8.tqF#b\n"
          ],
          "name": "stdout"
        }
      ]
    },
    {
      "cell_type": "code",
      "metadata": {
        "id": "7UFl9MGAfTdQ"
      },
      "source": [
        "import random as rnd\n",
        "\n",
        "def randPassGenerator():\n",
        "  length = rnd.randint(7,10)\n",
        "  #print(length)\n",
        "\n",
        "  password = \"\"\n",
        "  for i in range(length):\n",
        "    password += chr(rnd.randint(33,126))\n",
        "  #print(password)\n",
        "  return password\n",
        "\n",
        "def checkUpper(text):\n",
        "  for ch in text:\n",
        "    #if \"A\" <= ch <= \"Z\":\n",
        "    if ch.isupper():\n",
        "      return True\n",
        "  # ---\n",
        "  return False\n",
        "\n",
        "def checkDigit(text):\n",
        "  for ch in text:\n",
        "    #if \"0\" <= ch <= \"9\":\n",
        "    if ch.isdigit():\n",
        "      return True\n",
        "  # ---\n",
        "  return False\n",
        "\n",
        "def checkGoodPassw(password):\n",
        "  # return checkUpper(password) and checkDigit(password)\n",
        "  if checkUpper(password) and checkDigit(password):\n",
        "    return True\n",
        "  return False\n",
        "\n",
        "# MAIN\n",
        "passwrd = randPassGenerator()\n",
        "print(passwrd)\n",
        "while not checkGoodPassw(passwrd):\n",
        "  # ----\n",
        "  passwrd = randPassGenerator()\n",
        "  print(passwrd)\n"
      ],
      "execution_count": null,
      "outputs": []
    },
    {
      "cell_type": "code",
      "metadata": {
        "colab": {
          "base_uri": "https://localhost:8080/"
        },
        "id": "e5HYfjcsffhw",
        "outputId": "3528d945-f20f-4f4d-a1b6-7e095670e1e2"
      },
      "source": [
        "import random as rnd\n",
        "\n",
        "def randPassGenerator():\n",
        "  length = rnd.randint(7,10)\n",
        "  #print(length)\n",
        "\n",
        "  password = \"\"\n",
        "  for i in range(length):\n",
        "    password += chr(rnd.randint(33,126))\n",
        "  #print(password)\n",
        "  return password\n",
        "\n",
        "def checkUpperAndDigit(text, lowerBoundary, upperBoundary):\n",
        "  for ch in text:\n",
        "    if lowerBoundary <= ch <= upperBoundary:\n",
        "      return True\n",
        "  return False\n",
        "\n",
        "def checkGoodPassw(password):\n",
        "  # return checkUpper(password) and checkDigit(password)\n",
        "  if checkUpperAndDigit(password,\"0\",\"9\") and checkUpperAndDigit(password,\"A\",\"Z\"):\n",
        "    return True\n",
        "  return False\n",
        "\n",
        "# MAIN\n",
        "passwrd = randPassGenerator()\n",
        "print(passwrd)\n",
        "while not checkGoodPassw(passwrd):\n",
        "  # ----\n",
        "  passwrd = randPassGenerator()\n",
        "  print(passwrd)\n"
      ],
      "execution_count": null,
      "outputs": [
        {
          "output_type": "stream",
          "text": [
            "JvJvFdk\n",
            "bJu[<'K\n",
            "rf##WvD`I\n",
            "HQ8W*oj\n"
          ],
          "name": "stdout"
        }
      ]
    },
    {
      "cell_type": "code",
      "metadata": {
        "colab": {
          "base_uri": "https://localhost:8080/"
        },
        "id": "MQUu8l92f81B",
        "outputId": "84ade929-402a-4f3b-8649-196b993e1347"
      },
      "source": [
        "import random as rnd\n",
        "\n",
        "def randPassGenerator():\n",
        "  length = rnd.randint(7,10)\n",
        "  \n",
        "  password = \"\"\n",
        "  for i in range(length):\n",
        "    password += chr(rnd.randint(33,126))\n",
        "  #print(password)\n",
        "  return password\n",
        "\n",
        "def checkUpperAndDigit(text, lowerBoundary, upperBoundary):\n",
        "  for ch in text:\n",
        "    if lowerBoundary <= ch <= upperBoundary:\n",
        "      return True\n",
        "  return False\n",
        "\n",
        "# MAIN\n",
        "passwrd = randPassGenerator()\n",
        "print(passwrd)\n",
        "while not (checkUpperAndDigit(passwrd,\"0\",\"9\") and checkUpperAndDigit(passwrd,\"A\",\"Z\")):\n",
        "  passwrd = randPassGenerator()\n",
        "  print(passwrd)\n"
      ],
      "execution_count": null,
      "outputs": [
        {
          "output_type": "stream",
          "text": [
            "hkgs]^!w\n",
            "aR(#d`j#\n",
            "80a~,Wm\n"
          ],
          "name": "stdout"
        }
      ]
    },
    {
      "cell_type": "code",
      "metadata": {
        "colab": {
          "base_uri": "https://localhost:8080/"
        },
        "id": "9MLJltIJgO9u",
        "outputId": "b8c002df-044a-4d0a-dd04-6a1f302a23b8"
      },
      "source": [
        "import random as rnd\n",
        "\n",
        "def randPassGenerator():\n",
        "  length = rnd.randint(7,10)\n",
        "  \n",
        "  password = \"\"\n",
        "  for i in range(length):\n",
        "    password += chr(rnd.randint(33,126))\n",
        "  #print(password)\n",
        "  return password\n",
        "\n",
        "def checkUpperAndDigit(text, lowerBoundary, upperBoundary):\n",
        "  for ch in text:\n",
        "    if lowerBoundary <= ch <= upperBoundary:\n",
        "      return True\n",
        "  return False\n",
        "\n",
        "# MAIN\n",
        "while True:\n",
        "  passwrd = randPassGenerator()\n",
        "  print(passwrd)\n",
        "  if (checkUpperAndDigit(passwrd,\"0\",\"9\") and checkUpperAndDigit(passwrd,\"A\",\"Z\")):\n",
        "    break\n"
      ],
      "execution_count": null,
      "outputs": [
        {
          "output_type": "stream",
          "text": [
            ")zdqPNNp:^\n",
            "H%bEpD\"\n",
            "*<e_tOd\\\n",
            "tA+-N~Zig#\n",
            "C@vtQaoctG\n",
            "Z,b35m;\n"
          ],
          "name": "stdout"
        }
      ]
    }
  ]
}