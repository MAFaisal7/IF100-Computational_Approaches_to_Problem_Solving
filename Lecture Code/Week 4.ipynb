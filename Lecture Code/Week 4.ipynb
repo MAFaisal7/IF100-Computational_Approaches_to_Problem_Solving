{
  "nbformat": 4,
  "nbformat_minor": 0,
  "metadata": {
    "colab": {
      "name": "sectionA.ipynb",
      "provenance": []
    },
    "kernelspec": {
      "name": "python3",
      "display_name": "Python 3"
    }
  },
  "cells": [
    {
      "cell_type": "code",
      "metadata": {
        "colab": {
          "base_uri": "https://localhost:8080/"
        },
        "id": "7MdTjbLV5N7h",
        "outputId": "7bae9978-26cd-4240-8c80-a3c663006f8b"
      },
      "source": [
        "print(\"Hello World\")"
      ],
      "execution_count": null,
      "outputs": [
        {
          "output_type": "stream",
          "text": [
            "Hello World\n"
          ],
          "name": "stdout"
        }
      ]
    },
    {
      "cell_type": "code",
      "metadata": {
        "colab": {
          "base_uri": "https://localhost:8080/"
        },
        "id": "VhPRRSQL7MiQ",
        "outputId": "f4373dc9-0a26-4be8-8404-d9353cdd5fd6"
      },
      "source": [
        "print(\"Hello Wor ld\")"
      ],
      "execution_count": null,
      "outputs": [
        {
          "output_type": "stream",
          "text": [
            "Hello Wor ld\n"
          ],
          "name": "stdout"
        }
      ]
    },
    {
      "cell_type": "code",
      "metadata": {
        "colab": {
          "base_uri": "https://localhost:8080/"
        },
        "id": "yi73qBT67SAR",
        "outputId": "23c35a06-60ef-4e9a-a449-cff4fe1e1ac8"
      },
      "source": [
        "print ( \"Hello Wor ld\"         )"
      ],
      "execution_count": null,
      "outputs": [
        {
          "output_type": "stream",
          "text": [
            "Hello Wor ld\n"
          ],
          "name": "stdout"
        }
      ]
    },
    {
      "cell_type": "code",
      "metadata": {
        "colab": {
          "base_uri": "https://localhost:8080/",
          "height": 130
        },
        "id": "JF4DBN1u7gcX",
        "outputId": "f6e49569-8c7c-426f-fc19-0ad13387ccf7"
      },
      "source": [
        "print \"Hello World\""
      ],
      "execution_count": null,
      "outputs": [
        {
          "output_type": "error",
          "ename": "SyntaxError",
          "evalue": "ignored",
          "traceback": [
            "\u001b[0;36m  File \u001b[0;32m\"<ipython-input-5-2e860ebf713e>\"\u001b[0;36m, line \u001b[0;32m1\u001b[0m\n\u001b[0;31m    print \"Hello World\"\u001b[0m\n\u001b[0m                      ^\u001b[0m\n\u001b[0;31mSyntaxError\u001b[0m\u001b[0;31m:\u001b[0m Missing parentheses in call to 'print'. Did you mean print(\"Hello World\")?\n"
          ]
        }
      ]
    },
    {
      "cell_type": "code",
      "metadata": {
        "colab": {
          "base_uri": "https://localhost:8080/",
          "height": 130
        },
        "id": "K9O4dPFa7ofB",
        "outputId": "e6e0f3d9-8812-407e-850c-10deb214434a"
      },
      "source": [
        "print(Hello World)"
      ],
      "execution_count": null,
      "outputs": [
        {
          "output_type": "error",
          "ename": "SyntaxError",
          "evalue": "ignored",
          "traceback": [
            "\u001b[0;36m  File \u001b[0;32m\"<ipython-input-6-10cb182148e3>\"\u001b[0;36m, line \u001b[0;32m1\u001b[0m\n\u001b[0;31m    print(Hello World)\u001b[0m\n\u001b[0m                    ^\u001b[0m\n\u001b[0;31mSyntaxError\u001b[0m\u001b[0;31m:\u001b[0m invalid syntax\n"
          ]
        }
      ]
    },
    {
      "cell_type": "code",
      "metadata": {
        "colab": {
          "base_uri": "https://localhost:8080/"
        },
        "id": "B41tALV77xLI",
        "outputId": "8f740585-3f93-46cc-aaf5-496120550040"
      },
      "source": [
        "print('Hello World')"
      ],
      "execution_count": null,
      "outputs": [
        {
          "output_type": "stream",
          "text": [
            "Hello World\n"
          ],
          "name": "stdout"
        }
      ]
    },
    {
      "cell_type": "code",
      "metadata": {
        "colab": {
          "base_uri": "https://localhost:8080/",
          "height": 130
        },
        "id": "juIZxNYd73Me",
        "outputId": "5400edd4-1c55-49ed-dd7a-11a575c5c63b"
      },
      "source": [
        "print(\"Hello World')"
      ],
      "execution_count": null,
      "outputs": [
        {
          "output_type": "error",
          "ename": "SyntaxError",
          "evalue": "ignored",
          "traceback": [
            "\u001b[0;36m  File \u001b[0;32m\"<ipython-input-8-f1fa627f45a2>\"\u001b[0;36m, line \u001b[0;32m1\u001b[0m\n\u001b[0;31m    print(\"Hello World')\u001b[0m\n\u001b[0m                        ^\u001b[0m\n\u001b[0;31mSyntaxError\u001b[0m\u001b[0;31m:\u001b[0m EOL while scanning string literal\n"
          ]
        }
      ]
    },
    {
      "cell_type": "code",
      "metadata": {
        "colab": {
          "base_uri": "https://localhost:8080/"
        },
        "id": "daAxO6eD8GEa",
        "outputId": "54c69746-11d5-4c7e-a82e-633a168c09a5"
      },
      "source": [
        "print(\"Hello World\")"
      ],
      "execution_count": null,
      "outputs": [
        {
          "output_type": "stream",
          "text": [
            "Hello World\n"
          ],
          "name": "stdout"
        }
      ]
    },
    {
      "cell_type": "code",
      "metadata": {
        "colab": {
          "base_uri": "https://localhost:8080/"
        },
        "id": "-xuBvqKw8N3S",
        "outputId": "416ab92c-9a46-4ba5-c4f9-6358d20f70b9"
      },
      "source": [
        "print(\"Hello SU\")"
      ],
      "execution_count": null,
      "outputs": [
        {
          "output_type": "stream",
          "text": [
            "Hello SU\n"
          ],
          "name": "stdout"
        }
      ]
    },
    {
      "cell_type": "code",
      "metadata": {
        "colab": {
          "base_uri": "https://localhost:8080/"
        },
        "id": "MTsKIJ1Z8PNA",
        "outputId": "5fa41bc6-70a7-4b0c-a48d-e078b4898e62"
      },
      "source": [
        "print(\"Hello IF100\")"
      ],
      "execution_count": null,
      "outputs": [
        {
          "output_type": "stream",
          "text": [
            "Hello IF100\n"
          ],
          "name": "stdout"
        }
      ]
    },
    {
      "cell_type": "code",
      "metadata": {
        "colab": {
          "base_uri": "https://localhost:8080/"
        },
        "id": "uTuCuGN08Q1W",
        "outputId": "e5be7425-4081-4b6b-b667-9a3a0c861b88"
      },
      "source": [
        "print(\"Hello World\")\n",
        "print(\"Hello SU\")\n",
        "print(\"Hello IF100\")"
      ],
      "execution_count": null,
      "outputs": [
        {
          "output_type": "stream",
          "text": [
            "Hello World\n",
            "Hello SU\n",
            "Hello IF100\n"
          ],
          "name": "stdout"
        }
      ]
    },
    {
      "cell_type": "code",
      "metadata": {
        "colab": {
          "base_uri": "https://localhost:8080/",
          "height": 130
        },
        "id": "Y1Z8OqdI8qGg",
        "outputId": "077d1cb6-1ad1-44bc-ab57-6051e8852315"
      },
      "source": [
        "print(\"Hello World\") print(\"Hello SU\")\n",
        "print(\"Hello IF100\")"
      ],
      "execution_count": null,
      "outputs": [
        {
          "output_type": "error",
          "ename": "SyntaxError",
          "evalue": "ignored",
          "traceback": [
            "\u001b[0;36m  File \u001b[0;32m\"<ipython-input-13-4ab7023ccf04>\"\u001b[0;36m, line \u001b[0;32m1\u001b[0m\n\u001b[0;31m    print(\"Hello World\") print(\"Hello SU\")\u001b[0m\n\u001b[0m                             ^\u001b[0m\n\u001b[0;31mSyntaxError\u001b[0m\u001b[0;31m:\u001b[0m invalid syntax\n"
          ]
        }
      ]
    },
    {
      "cell_type": "code",
      "metadata": {
        "colab": {
          "base_uri": "https://localhost:8080/",
          "height": 130
        },
        "id": "7-rcqWst8yd0",
        "outputId": "12e47d82-f00c-49d2-c15a-767a34477482"
      },
      "source": [
        "print(\"Hello World\")\n",
        "   print(\"Hello SU\")\n",
        "print(\"Hello IF100\")"
      ],
      "execution_count": null,
      "outputs": [
        {
          "output_type": "error",
          "ename": "IndentationError",
          "evalue": "ignored",
          "traceback": [
            "\u001b[0;36m  File \u001b[0;32m\"<ipython-input-14-1d732e291dad>\"\u001b[0;36m, line \u001b[0;32m2\u001b[0m\n\u001b[0;31m    print(\"Hello SU\")\u001b[0m\n\u001b[0m    ^\u001b[0m\n\u001b[0;31mIndentationError\u001b[0m\u001b[0;31m:\u001b[0m unexpected indent\n"
          ]
        }
      ]
    },
    {
      "cell_type": "code",
      "metadata": {
        "colab": {
          "base_uri": "https://localhost:8080/"
        },
        "id": "t2G9U1ZW9At-",
        "outputId": "ca3bdfbd-ea9a-4ffe-d5df-c0436d586b68"
      },
      "source": [
        "   print(\"Hello World\")\n",
        "   print(\"Hello SU\")\n",
        "   print(\"Hello IF100\") "
      ],
      "execution_count": null,
      "outputs": [
        {
          "output_type": "stream",
          "text": [
            "Hello World\n",
            "Hello SU\n",
            "Hello IF100\n"
          ],
          "name": "stdout"
        }
      ]
    },
    {
      "cell_type": "code",
      "metadata": {
        "id": "hzjxNPtW_kMZ"
      },
      "source": [
        "n = 5"
      ],
      "execution_count": null,
      "outputs": []
    },
    {
      "cell_type": "code",
      "metadata": {
        "colab": {
          "base_uri": "https://localhost:8080/"
        },
        "id": "37FEKefO_z_c",
        "outputId": "2aa68ee0-82d5-4cd0-e162-e160ee6dbf08"
      },
      "source": [
        "print(\"n\")"
      ],
      "execution_count": null,
      "outputs": [
        {
          "output_type": "stream",
          "text": [
            "n\n"
          ],
          "name": "stdout"
        }
      ]
    },
    {
      "cell_type": "code",
      "metadata": {
        "colab": {
          "base_uri": "https://localhost:8080/"
        },
        "id": "8nVKgTqZAOo7",
        "outputId": "487c9d2a-c3f6-46bc-c6a5-eb8693468bbf"
      },
      "source": [
        "print(n)"
      ],
      "execution_count": null,
      "outputs": [
        {
          "output_type": "stream",
          "text": [
            "5\n"
          ],
          "name": "stdout"
        }
      ]
    },
    {
      "cell_type": "code",
      "metadata": {
        "colab": {
          "base_uri": "https://localhost:8080/",
          "height": 130
        },
        "id": "iLA6IK8YAXVt",
        "outputId": "d04315c2-797c-48aa-bb5c-bf0c5fba7900"
      },
      "source": [
        "5 = m"
      ],
      "execution_count": null,
      "outputs": [
        {
          "output_type": "error",
          "ename": "SyntaxError",
          "evalue": "ignored",
          "traceback": [
            "\u001b[0;36m  File \u001b[0;32m\"<ipython-input-19-367245fe1832>\"\u001b[0;36m, line \u001b[0;32m1\u001b[0m\n\u001b[0;31m    5 = m\u001b[0m\n\u001b[0m         ^\u001b[0m\n\u001b[0;31mSyntaxError\u001b[0m\u001b[0;31m:\u001b[0m can't assign to literal\n"
          ]
        }
      ]
    },
    {
      "cell_type": "code",
      "metadata": {
        "id": "feye0SFVAp-3"
      },
      "source": [
        "birthyear = 1984"
      ],
      "execution_count": null,
      "outputs": []
    },
    {
      "cell_type": "code",
      "metadata": {
        "id": "72Rem3XhAr2J"
      },
      "source": [
        "birthYear = 1984"
      ],
      "execution_count": null,
      "outputs": []
    },
    {
      "cell_type": "code",
      "metadata": {
        "id": "ih0vkBfaAzVp"
      },
      "source": [
        "birth_year = 1984"
      ],
      "execution_count": null,
      "outputs": []
    },
    {
      "cell_type": "code",
      "metadata": {
        "colab": {
          "base_uri": "https://localhost:8080/",
          "height": 130
        },
        "id": "NCuMZpwzA04X",
        "outputId": "8c6fa73c-e8c0-4a7f-b7bc-7983ef5ae8e4"
      },
      "source": [
        "birth year = 1984"
      ],
      "execution_count": null,
      "outputs": [
        {
          "output_type": "error",
          "ename": "SyntaxError",
          "evalue": "ignored",
          "traceback": [
            "\u001b[0;36m  File \u001b[0;32m\"<ipython-input-23-d6485fa37076>\"\u001b[0;36m, line \u001b[0;32m1\u001b[0m\n\u001b[0;31m    birth year = 1984\u001b[0m\n\u001b[0m             ^\u001b[0m\n\u001b[0;31mSyntaxError\u001b[0m\u001b[0;31m:\u001b[0m invalid syntax\n"
          ]
        }
      ]
    },
    {
      "cell_type": "code",
      "metadata": {
        "id": "CJ_h_XozA7LL"
      },
      "source": [
        "birthyear1 = 1984\n",
        "birthyear2 = 1985\n",
        "birthyear3 = 1986"
      ],
      "execution_count": null,
      "outputs": []
    },
    {
      "cell_type": "code",
      "metadata": {
        "colab": {
          "base_uri": "https://localhost:8080/",
          "height": 130
        },
        "id": "T9jparoLA_Zn",
        "outputId": "21221f69-717d-43ab-e6c7-67f71fa5d29f"
      },
      "source": [
        "1birthyear = 1984"
      ],
      "execution_count": null,
      "outputs": [
        {
          "output_type": "error",
          "ename": "SyntaxError",
          "evalue": "ignored",
          "traceback": [
            "\u001b[0;36m  File \u001b[0;32m\"<ipython-input-25-ffe89be286db>\"\u001b[0;36m, line \u001b[0;32m1\u001b[0m\n\u001b[0;31m    1birthyear = 1984\u001b[0m\n\u001b[0m             ^\u001b[0m\n\u001b[0;31mSyntaxError\u001b[0m\u001b[0;31m:\u001b[0m invalid syntax\n"
          ]
        }
      ]
    },
    {
      "cell_type": "code",
      "metadata": {
        "colab": {
          "base_uri": "https://localhost:8080/"
        },
        "id": "8bl2L1ZXBjOW",
        "outputId": "6ebf6bb5-9e68-4e11-ac7d-c49960b94d8a"
      },
      "source": [
        "print(n)"
      ],
      "execution_count": null,
      "outputs": [
        {
          "output_type": "stream",
          "text": [
            "5\n"
          ],
          "name": "stdout"
        }
      ]
    },
    {
      "cell_type": "code",
      "metadata": {
        "colab": {
          "base_uri": "https://localhost:8080/",
          "height": 164
        },
        "id": "-LhSKWTABm3Z",
        "outputId": "03209789-478e-4e81-9e4a-3669e04be86b"
      },
      "source": [
        "print(N)"
      ],
      "execution_count": null,
      "outputs": [
        {
          "output_type": "error",
          "ename": "NameError",
          "evalue": "ignored",
          "traceback": [
            "\u001b[0;31m---------------------------------------------------------------------------\u001b[0m",
            "\u001b[0;31mNameError\u001b[0m                                 Traceback (most recent call last)",
            "\u001b[0;32m<ipython-input-29-9b5949cc7fc6>\u001b[0m in \u001b[0;36m<module>\u001b[0;34m()\u001b[0m\n\u001b[0;32m----> 1\u001b[0;31m \u001b[0mprint\u001b[0m\u001b[0;34m(\u001b[0m\u001b[0mN\u001b[0m\u001b[0;34m)\u001b[0m\u001b[0;34m\u001b[0m\u001b[0;34m\u001b[0m\u001b[0m\n\u001b[0m",
            "\u001b[0;31mNameError\u001b[0m: name 'N' is not defined"
          ]
        }
      ]
    },
    {
      "cell_type": "code",
      "metadata": {
        "colab": {
          "base_uri": "https://localhost:8080/",
          "height": 181
        },
        "id": "jqmd3naOBxUO",
        "outputId": "576b9d22-145a-4c8f-931f-0a36d084567e"
      },
      "source": [
        "print(z)\n",
        "z=5"
      ],
      "execution_count": null,
      "outputs": [
        {
          "output_type": "error",
          "ename": "NameError",
          "evalue": "ignored",
          "traceback": [
            "\u001b[0;31m---------------------------------------------------------------------------\u001b[0m",
            "\u001b[0;31mNameError\u001b[0m                                 Traceback (most recent call last)",
            "\u001b[0;32m<ipython-input-31-4659c5345f84>\u001b[0m in \u001b[0;36m<module>\u001b[0;34m()\u001b[0m\n\u001b[0;32m----> 1\u001b[0;31m \u001b[0mprint\u001b[0m\u001b[0;34m(\u001b[0m\u001b[0mz\u001b[0m\u001b[0;34m)\u001b[0m\u001b[0;34m\u001b[0m\u001b[0;34m\u001b[0m\u001b[0m\n\u001b[0m\u001b[1;32m      2\u001b[0m \u001b[0mz\u001b[0m\u001b[0;34m=\u001b[0m\u001b[0;36m5\u001b[0m\u001b[0;34m\u001b[0m\u001b[0;34m\u001b[0m\u001b[0m\n",
            "\u001b[0;31mNameError\u001b[0m: name 'z' is not defined"
          ]
        }
      ]
    },
    {
      "cell_type": "code",
      "metadata": {
        "id": "OhR5Ua-2B85V"
      },
      "source": [
        "t=5"
      ],
      "execution_count": null,
      "outputs": []
    },
    {
      "cell_type": "code",
      "metadata": {
        "colab": {
          "base_uri": "https://localhost:8080/"
        },
        "id": "Z_KJ2pA7B_zx",
        "outputId": "50323f3f-a041-4c18-dd16-86f35d450bd5"
      },
      "source": [
        "print(t) "
      ],
      "execution_count": null,
      "outputs": [
        {
          "output_type": "stream",
          "text": [
            "5\n"
          ],
          "name": "stdout"
        }
      ]
    },
    {
      "cell_type": "code",
      "metadata": {
        "id": "-OT5n1gmCI2_"
      },
      "source": [
        "duygu = 10"
      ],
      "execution_count": null,
      "outputs": []
    },
    {
      "cell_type": "code",
      "metadata": {
        "colab": {
          "base_uri": "https://localhost:8080/"
        },
        "id": "_2lWPos9COi1",
        "outputId": "1eeb2d81-7ab6-4f38-b8d5-f955f25276f5"
      },
      "source": [
        "print(duygu)"
      ],
      "execution_count": null,
      "outputs": [
        {
          "output_type": "stream",
          "text": [
            "10\n"
          ],
          "name": "stdout"
        }
      ]
    },
    {
      "cell_type": "code",
      "metadata": {
        "colab": {
          "base_uri": "https://localhost:8080/"
        },
        "id": "5myyTJq7C9R9",
        "outputId": "80d09399-1446-42a7-f9b3-e052aefb2b20"
      },
      "source": [
        "print(n)"
      ],
      "execution_count": null,
      "outputs": [
        {
          "output_type": "stream",
          "text": [
            "5\n"
          ],
          "name": "stdout"
        }
      ]
    },
    {
      "cell_type": "code",
      "metadata": {
        "colab": {
          "base_uri": "https://localhost:8080/"
        },
        "id": "eLgfEGY7FPHp",
        "outputId": "87bfd696-5e98-4ad6-be21-a83feed9cedb"
      },
      "source": [
        "print(n)"
      ],
      "execution_count": null,
      "outputs": [
        {
          "output_type": "stream",
          "text": [
            "5\n"
          ],
          "name": "stdout"
        }
      ]
    },
    {
      "cell_type": "code",
      "metadata": {
        "colab": {
          "base_uri": "https://localhost:8080/"
        },
        "id": "e7oz7Go7FPx_",
        "outputId": "0a8562c7-778d-4443-cfa4-17b9a3cb6e2c"
      },
      "source": [
        "print(n)"
      ],
      "execution_count": null,
      "outputs": [
        {
          "output_type": "stream",
          "text": [
            "5\n"
          ],
          "name": "stdout"
        }
      ]
    },
    {
      "cell_type": "code",
      "metadata": {
        "colab": {
          "base_uri": "https://localhost:8080/"
        },
        "id": "SQljswI-FQkg",
        "outputId": "6862d855-00a2-4095-9f95-b0341851eec9"
      },
      "source": [
        "n = 4\n",
        "print(n)"
      ],
      "execution_count": null,
      "outputs": [
        {
          "output_type": "stream",
          "text": [
            "4\n"
          ],
          "name": "stdout"
        }
      ]
    },
    {
      "cell_type": "code",
      "metadata": {
        "colab": {
          "base_uri": "https://localhost:8080/"
        },
        "id": "OoEgaHn8FXfQ",
        "outputId": "7b4a2d92-f882-418f-f588-afb021e5e5ab"
      },
      "source": [
        "print(n)\n",
        "n = 5\n",
        "n = 10\n",
        "print(n)"
      ],
      "execution_count": null,
      "outputs": [
        {
          "output_type": "stream",
          "text": [
            "4\n",
            "10\n"
          ],
          "name": "stdout"
        }
      ]
    },
    {
      "cell_type": "code",
      "metadata": {
        "colab": {
          "base_uri": "https://localhost:8080/"
        },
        "id": "RjfskHe9F_-_",
        "outputId": "12bc01ff-fc6a-44a1-d7cc-654b6aacadf4"
      },
      "source": [
        "p = 10\n",
        "n = p\n",
        "print(p)\n",
        "print(n)"
      ],
      "execution_count": null,
      "outputs": [
        {
          "output_type": "stream",
          "text": [
            "10\n",
            "10\n"
          ],
          "name": "stdout"
        }
      ]
    },
    {
      "cell_type": "code",
      "metadata": {
        "colab": {
          "base_uri": "https://localhost:8080/"
        },
        "id": "q9s4niiJGP5G",
        "outputId": "477a94cb-d3db-412e-8783-a5917f8cc2eb"
      },
      "source": [
        "p = 10\n",
        "n = p\n",
        "p = 5\n",
        "print(p)\n",
        "print(n)"
      ],
      "execution_count": null,
      "outputs": [
        {
          "output_type": "stream",
          "text": [
            "5\n",
            "10\n"
          ],
          "name": "stdout"
        }
      ]
    },
    {
      "cell_type": "code",
      "metadata": {
        "id": "NSfKmRyAHdki"
      },
      "source": [
        "m = 5 + 2"
      ],
      "execution_count": null,
      "outputs": []
    },
    {
      "cell_type": "code",
      "metadata": {
        "colab": {
          "base_uri": "https://localhost:8080/"
        },
        "id": "7sxdo283HuQ0",
        "outputId": "e404f078-a6f5-461d-e407-7451225394b6"
      },
      "source": [
        "print(m)"
      ],
      "execution_count": null,
      "outputs": [
        {
          "output_type": "stream",
          "text": [
            "7\n"
          ],
          "name": "stdout"
        }
      ]
    },
    {
      "cell_type": "code",
      "metadata": {
        "colab": {
          "base_uri": "https://localhost:8080/"
        },
        "id": "6-qY3BxaHt6q",
        "outputId": "3e577ed5-de95-47ad-c479-200e06dad137"
      },
      "source": [
        "print(p-n)"
      ],
      "execution_count": null,
      "outputs": [
        {
          "output_type": "stream",
          "text": [
            "-5\n"
          ],
          "name": "stdout"
        }
      ]
    },
    {
      "cell_type": "code",
      "metadata": {
        "colab": {
          "base_uri": "https://localhost:8080/"
        },
        "id": "LH1GCI4fIAPu",
        "outputId": "0f580f2f-97cd-479a-b1e0-8cd30bb92897"
      },
      "source": [
        "k = 45 - 5\n",
        "print(k)"
      ],
      "execution_count": null,
      "outputs": [
        {
          "output_type": "stream",
          "text": [
            "40\n"
          ],
          "name": "stdout"
        }
      ]
    },
    {
      "cell_type": "code",
      "metadata": {
        "colab": {
          "base_uri": "https://localhost:8080/"
        },
        "id": "dCgkIvk5IEbd",
        "outputId": "1dad3258-4a8f-4a9f-baaf-98a7f42ab799"
      },
      "source": [
        "k = 5 * 2\n",
        "k"
      ],
      "execution_count": null,
      "outputs": [
        {
          "output_type": "execute_result",
          "data": {
            "text/plain": [
              "10"
            ]
          },
          "metadata": {
            "tags": []
          },
          "execution_count": 49
        }
      ]
    },
    {
      "cell_type": "code",
      "metadata": {
        "colab": {
          "base_uri": "https://localhost:8080/"
        },
        "id": "9Pk5kT4aIJll",
        "outputId": "ff11b1d0-9e71-4de2-f0df-30d55445ac8d"
      },
      "source": [
        "10 / 2"
      ],
      "execution_count": null,
      "outputs": [
        {
          "output_type": "execute_result",
          "data": {
            "text/plain": [
              "5.0"
            ]
          },
          "metadata": {
            "tags": []
          },
          "execution_count": 50
        }
      ]
    },
    {
      "cell_type": "code",
      "metadata": {
        "colab": {
          "base_uri": "https://localhost:8080/"
        },
        "id": "vusqbvVCIXbq",
        "outputId": "247bfd6d-1a89-4d35-a12a-369fdc39dbfd"
      },
      "source": [
        "l = 3\n",
        "k = 5 * l\n",
        "print(l)\n",
        "print(k)"
      ],
      "execution_count": null,
      "outputs": [
        {
          "output_type": "stream",
          "text": [
            "3\n",
            "15\n"
          ],
          "name": "stdout"
        }
      ]
    },
    {
      "cell_type": "code",
      "metadata": {
        "id": "WlxsEfSJItBd"
      },
      "source": [
        "print = 10"
      ],
      "execution_count": null,
      "outputs": []
    },
    {
      "cell_type": "code",
      "metadata": {
        "colab": {
          "base_uri": "https://localhost:8080/"
        },
        "id": "R8m3PzkII1Wm",
        "outputId": "11a807c1-971a-42d1-a629-8b7f3eed2809"
      },
      "source": [
        "print(k)"
      ],
      "execution_count": null,
      "outputs": [
        {
          "output_type": "stream",
          "text": [
            "15\n"
          ],
          "name": "stdout"
        }
      ]
    },
    {
      "cell_type": "code",
      "metadata": {
        "colab": {
          "base_uri": "https://localhost:8080/"
        },
        "id": "Rpjuboc1JbX0",
        "outputId": "3e405f9c-58c7-491f-9394-79027bc82435"
      },
      "source": [
        "m = 10 / 4\n",
        "print(m)"
      ],
      "execution_count": null,
      "outputs": [
        {
          "output_type": "stream",
          "text": [
            "2.5\n"
          ],
          "name": "stdout"
        }
      ]
    },
    {
      "cell_type": "code",
      "metadata": {
        "colab": {
          "base_uri": "https://localhost:8080/"
        },
        "id": "e5pdX8MeJjJK",
        "outputId": "7636eabf-583d-49ee-a5fb-41f5ecb35e3c"
      },
      "source": [
        "m = 10 // 4\n",
        "print(m)"
      ],
      "execution_count": null,
      "outputs": [
        {
          "output_type": "stream",
          "text": [
            "2\n"
          ],
          "name": "stdout"
        }
      ]
    },
    {
      "cell_type": "code",
      "metadata": {
        "colab": {
          "base_uri": "https://localhost:8080/"
        },
        "id": "VjkdR6P7Jzyu",
        "outputId": "31b6c6a3-4d9f-4c84-80a6-6c762e7db489"
      },
      "source": [
        "m = 20 / 7\n",
        "print(m)\n",
        "m = 20 // 7\n",
        "print(m)\n",
        "n = 10 % 7\n",
        "print(n)"
      ],
      "execution_count": null,
      "outputs": [
        {
          "output_type": "stream",
          "text": [
            "2.857142857142857\n",
            "2\n",
            "3\n"
          ],
          "name": "stdout"
        }
      ]
    },
    {
      "cell_type": "code",
      "metadata": {
        "colab": {
          "base_uri": "https://localhost:8080/"
        },
        "id": "oHncz-MXJ94e",
        "outputId": "464c75fd-4ad5-405b-f668-540d7b508630"
      },
      "source": [
        "n = 5 ** 3\n",
        "print(n)"
      ],
      "execution_count": null,
      "outputs": [
        {
          "output_type": "stream",
          "text": [
            "125\n"
          ],
          "name": "stdout"
        }
      ]
    },
    {
      "cell_type": "code",
      "metadata": {
        "id": "CKxkWkCUKCPF"
      },
      "source": [
        "m = 2 ** 4 + 10 / 2 - 2"
      ],
      "execution_count": null,
      "outputs": []
    },
    {
      "cell_type": "code",
      "metadata": {
        "colab": {
          "base_uri": "https://localhost:8080/"
        },
        "id": "4bSQQOelK0nN",
        "outputId": "2423d238-5fed-4dbe-eb64-4bda7a45b034"
      },
      "source": [
        "x = 10\n",
        "x = x + 5\n",
        "print(x)  "
      ],
      "execution_count": null,
      "outputs": [
        {
          "output_type": "stream",
          "text": [
            "15\n"
          ],
          "name": "stdout"
        }
      ]
    },
    {
      "cell_type": "code",
      "metadata": {
        "colab": {
          "base_uri": "https://localhost:8080/"
        },
        "id": "UN5_QoiaLPa5",
        "outputId": "2443ab89-2967-48c8-f57b-05806b29a01e"
      },
      "source": [
        "x = 10\n",
        "x += 5\n",
        "print(x)  "
      ],
      "execution_count": null,
      "outputs": [
        {
          "output_type": "stream",
          "text": [
            "15\n"
          ],
          "name": "stdout"
        }
      ]
    },
    {
      "cell_type": "code",
      "metadata": {
        "colab": {
          "base_uri": "https://localhost:8080/"
        },
        "id": "ej6-kbQfLhmu",
        "outputId": "a4814b84-70e0-4d46-ec28-48261b1eda55"
      },
      "source": [
        "elapsed_time = (2025 - 2018) * 365 * 24 * 60 * 60\n",
        "births = elapsed_time // 25\n",
        "deaths = elapsed_time // 74\n",
        "immigrants = elapsed_time // 54\n",
        "\n",
        "new_pop = 83670000 + births - deaths + immigrants\n",
        "print(new_pop)"
      ],
      "execution_count": null,
      "outputs": [
        {
          "output_type": "stream",
          "text": [
            "93604945\n"
          ],
          "name": "stdout"
        }
      ]
    },
    {
      "cell_type": "code",
      "metadata": {
        "colab": {
          "base_uri": "https://localhost:8080/"
        },
        "id": "wjHmRZR0Mak0",
        "outputId": "fad087d6-fee7-4eb6-b758-92ccd0e4eee3"
      },
      "source": [
        "elapsed_time = (2030 - 2018) * 365 * 24 * 60 * 60\n",
        "new_pop = 83670000 + elapsed_time // 25 - elapsed_time // 74 + elapsed_time // 54\n",
        "print(new_pop)"
      ],
      "execution_count": null,
      "outputs": [
        {
          "output_type": "stream",
          "text": [
            "100701335\n"
          ],
          "name": "stdout"
        }
      ]
    },
    {
      "cell_type": "code",
      "metadata": {
        "colab": {
          "base_uri": "https://localhost:8080/"
        },
        "id": "kbsAyIZ3Msy3",
        "outputId": "09ba0fa6-7012-4133-a4e6-d86f277965b9"
      },
      "source": [
        "population = 83670000\n",
        "start_year = 2018\n",
        "end_year = 2025\n",
        "seconds_in_year = 365 * 24 * 60 * 60\n",
        "\n",
        "elapsed_time = (end_year - start_year) * seconds_in_year\n",
        "births = elapsed_time // 25\n",
        "deaths = elapsed_time // 74\n",
        "immigrants = elapsed_time // 54\n",
        "\n",
        "population += births - deaths + immigrants\n",
        "print(population)"
      ],
      "execution_count": null,
      "outputs": [
        {
          "output_type": "stream",
          "text": [
            "93604945\n"
          ],
          "name": "stdout"
        }
      ]
    },
    {
      "cell_type": "code",
      "metadata": {
        "colab": {
          "base_uri": "https://localhost:8080/"
        },
        "id": "o32tN6Y_NauP",
        "outputId": "4beab118-cf9a-4324-fd88-84ab0a2e0207"
      },
      "source": [
        "print(\"Estimated population will be\", end=\" \")\n",
        "print(population, end=\" \")\n",
        "print(\"in\", end=\" \")\n",
        "print(end_year, end=\"\")\n",
        "print(\".\")"
      ],
      "execution_count": null,
      "outputs": [
        {
          "output_type": "stream",
          "text": [
            "Estimated population will be 93604945 in 2025.\n"
          ],
          "name": "stdout"
        }
      ]
    },
    {
      "cell_type": "code",
      "metadata": {
        "colab": {
          "base_uri": "https://localhost:8080/"
        },
        "id": "1aJqQnNaOQP6",
        "outputId": "52954acb-718b-4781-ea23-e1c6a2220af8"
      },
      "source": [
        "n = 10\n",
        "m = 15\n",
        "print(\"m + n =\", m + n,m,n)"
      ],
      "execution_count": null,
      "outputs": [
        {
          "output_type": "stream",
          "text": [
            "m + n = 25 15 10\n"
          ],
          "name": "stdout"
        }
      ]
    },
    {
      "cell_type": "code",
      "metadata": {
        "colab": {
          "base_uri": "https://localhost:8080/"
        },
        "id": "X2co5TMsO0DK",
        "outputId": "28a5195b-3676-4bbe-fad4-73b500d73576"
      },
      "source": [
        "population = 83670000\n",
        "start_year = 2018\n",
        "end_year = 2025\n",
        "seconds_in_year = 365 * 24 * 60 * 60\n",
        "\n",
        "elapsed_time = (end_year - start_year) * seconds_in_year\n",
        "births = elapsed_time // 25\n",
        "deaths = elapsed_time // 74\n",
        "immigrants = elapsed_time // 54\n",
        "\n",
        "population += births - deaths + immigrants\n",
        "print(\"Estimated population will be\", population, \"in\", end_year, \".\")"
      ],
      "execution_count": null,
      "outputs": [
        {
          "output_type": "stream",
          "text": [
            "Estimated population will be 93604945 in 2025 .\n"
          ],
          "name": "stdout"
        }
      ]
    },
    {
      "cell_type": "code",
      "metadata": {
        "colab": {
          "base_uri": "https://localhost:8080/"
        },
        "id": "nO6vjLIcPMXS",
        "outputId": "cb3880f6-0600-494e-82db-892ca800f5d3"
      },
      "source": [
        "population = 83670000\n",
        "start_year = 2018\n",
        "end_year = 2035\n",
        "seconds_in_year = 365 * 24 * 60 * 60\n",
        "\n",
        "elapsed_time = (end_year - start_year) * seconds_in_year\n",
        "births = elapsed_time // 25\n",
        "deaths = elapsed_time // 74\n",
        "immigrants = elapsed_time // 54\n",
        "\n",
        "population += births - deaths + immigrants\n",
        "print(\"Estimated population will be \", population, \" in \", end_year, \".\", sep=\"\")"
      ],
      "execution_count": null,
      "outputs": [
        {
          "output_type": "stream",
          "text": [
            "Estimated population will be 107797724 in 2035.\n"
          ],
          "name": "stdout"
        }
      ]
    }
  ]
}