{
  "nbformat": 4,
  "nbformat_minor": 0,
  "metadata": {
    "colab": {
      "name": "Sequences_Part1.ipynb",
      "provenance": [],
      "collapsed_sections": [
        "O4N1jPpHPIFI",
        "K8-tbzzC-12S",
        "0FK-KVmeQ83e",
        "A--JbxHuRqCG",
        "zYtmJoJDQPGy",
        "1WnilSblQ-Zw",
        "MFndp9Kuj4BV",
        "MWFRqWi5cUnm",
        "hJf8pLbKSPps",
        "o0bePHVhtiJ4",
        "PpvRimvx7cYH"
      ]
    },
    "kernelspec": {
      "name": "python3",
      "display_name": "Python 3"
    }
  },
  "cells": [
    {
      "cell_type": "markdown",
      "metadata": {
        "id": "V3Hu96e0G8zh"
      },
      "source": [
        "# Memorizing All Passwords"
      ]
    },
    {
      "cell_type": "markdown",
      "metadata": {
        "id": "BBxD2n0xG_wf"
      },
      "source": [
        "Operation | Example Site 1 | Example Site 2\n",
        "--- | --- | ---\n",
        "Site Name | Facebook | Gmail\n",
        "Get first and last 2 letters | Fa  ok | Gm il\n",
        "Swap them | okFa | ilGm\n",
        "Letter Count | Facebook (8 characters) | Gmail (5 characters)\n",
        "Password | okFa8eight( | ilGm5five%"
      ]
    },
    {
      "cell_type": "markdown",
      "metadata": {
        "id": "R7aevtGFH4ws"
      },
      "source": [
        "* Different passwords for each website with **just one algorithm**\n",
        "* Do not try to hack me ☺\n",
        "* <u> You may assume that the number of characters will be between 5 and 9 </u>"
      ]
    },
    {
      "cell_type": "markdown",
      "metadata": {
        "id": "O4N1jPpHPIFI"
      },
      "source": [
        "#Sequences"
      ]
    },
    {
      "cell_type": "markdown",
      "metadata": {
        "id": "avzgIMrIPKNp"
      },
      "source": [
        "<img src = \"https://lh6.googleusercontent.com/rr-brc18ATG2yK3KtkTbv39kQTx8RnPByPRMb3OsYgx17Vjxfm_SrH1m2v6dFND7vSrm1gvGOzaqLDcbLBhO67sViCqlMq3o0fCoeaSa7GdN0s091bzEdrAYLgyuRcg-ICyET2dLSDM\" />\n",
        "\n",
        "- String\n",
        "- List\n",
        "- Range"
      ]
    },
    {
      "cell_type": "markdown",
      "metadata": {
        "id": "K8-tbzzC-12S"
      },
      "source": [
        "# String"
      ]
    },
    {
      "cell_type": "markdown",
      "metadata": {
        "id": "x6S6ZFku-4iS"
      },
      "source": [
        "* Contiguous set of characters represented in quotation marks\n",
        "* Python allows for either pairs of single or double quotes\n",
        "  - name = 'Messi'\n",
        "  - name = \"Messi\"\t\n",
        "* **Subsequence of strings** can be taken using the slice operator (**[ ]** and** [:]** ) with indexes starting at 0 in the beginning of the string"
      ]
    },
    {
      "cell_type": "markdown",
      "metadata": {
        "id": "0FK-KVmeQ83e"
      },
      "source": [
        "# Slices of Strings"
      ]
    },
    {
      "cell_type": "markdown",
      "metadata": {
        "id": "kJzdfSyz_Llq"
      },
      "source": [
        "name[2:4] → index 2 is inclusive, \n",
        "\t\t\t\tbut index 4 is exclusive\n",
        "\n",
        "name[2:] → all characters starting \n",
        "\t\t\t\tfrom the index 2\n",
        "\n",
        "name[-1] → the last character\n",
        "\n",
        "name[-2:] → characters from the\n",
        " \t\t\t\tsecond-last (included) \n",
        "\t\t\t\tto the end\n",
        "\n",
        "\n",
        "name[0:5:2] → elements from \n",
        "\t\t\t\t\tindex 0 (included) to \n",
        "\t\t\t\t\tindex 5 (excluded) \n",
        "\t\t\t\t\twith a step size of 2\n",
        "\n",
        "**Attempting to use an index that is too large will result in an error**"
      ]
    },
    {
      "cell_type": "code",
      "metadata": {
        "id": "rUjCh-4sQG_c",
        "colab": {
          "base_uri": "https://localhost:8080/"
        },
        "outputId": "33570eae-c727-4def-8a85-898ae07810a8"
      },
      "source": [
        "name = \"Messi\"\n",
        "print(name)"
      ],
      "execution_count": null,
      "outputs": [
        {
          "output_type": "stream",
          "text": [
            "Messi\n"
          ],
          "name": "stdout"
        }
      ]
    },
    {
      "cell_type": "code",
      "metadata": {
        "id": "LKiggsS-QOqS",
        "colab": {
          "base_uri": "https://localhost:8080/",
          "height": 32
        },
        "outputId": "d4bceb2d-f903-4577-e1a9-13ee4097d7af"
      },
      "source": [
        "print(name[0])"
      ],
      "execution_count": null,
      "outputs": [
        {
          "output_type": "stream",
          "text": [
            "M\n"
          ],
          "name": "stdout"
        }
      ]
    },
    {
      "cell_type": "code",
      "metadata": {
        "id": "N2NHcNjDQiWo",
        "colab": {
          "base_uri": "https://localhost:8080/",
          "height": 32
        },
        "outputId": "5d6d88a4-afc5-4a99-f4c2-8d16e45a8b06"
      },
      "source": [
        "print(name[2:4])"
      ],
      "execution_count": null,
      "outputs": [
        {
          "output_type": "stream",
          "text": [
            "ss\n"
          ],
          "name": "stdout"
        }
      ]
    },
    {
      "cell_type": "code",
      "metadata": {
        "id": "I81WYQ5-Qkvs",
        "colab": {
          "base_uri": "https://localhost:8080/",
          "height": 32
        },
        "outputId": "1f29f326-55b7-47f3-ce33-291d7202fb9d"
      },
      "source": [
        "print(name[2:])"
      ],
      "execution_count": null,
      "outputs": [
        {
          "output_type": "stream",
          "text": [
            "ssi\n"
          ],
          "name": "stdout"
        }
      ]
    },
    {
      "cell_type": "code",
      "metadata": {
        "id": "tpSH6xZsQnwq",
        "colab": {
          "base_uri": "https://localhost:8080/",
          "height": 32
        },
        "outputId": "a893c266-b885-443a-a7e5-d16117acded9"
      },
      "source": [
        "print(name*2)"
      ],
      "execution_count": null,
      "outputs": [
        {
          "output_type": "stream",
          "text": [
            "MessiMessi\n"
          ],
          "name": "stdout"
        }
      ]
    },
    {
      "cell_type": "code",
      "metadata": {
        "id": "05glIKc3Qq4l",
        "colab": {
          "base_uri": "https://localhost:8080/",
          "height": 32
        },
        "outputId": "5f2a0f3b-6ecc-45bc-bfc9-f96ece994cd2"
      },
      "source": [
        "print(name[-1])"
      ],
      "execution_count": null,
      "outputs": [
        {
          "output_type": "stream",
          "text": [
            "i\n"
          ],
          "name": "stdout"
        }
      ]
    },
    {
      "cell_type": "code",
      "metadata": {
        "id": "NyYzlE6-QtMF",
        "colab": {
          "base_uri": "https://localhost:8080/",
          "height": 32
        },
        "outputId": "09b443c2-370e-46b4-c08f-78776a90e8fd"
      },
      "source": [
        "print(name[:2]+name[2:])"
      ],
      "execution_count": null,
      "outputs": [
        {
          "output_type": "stream",
          "text": [
            "Messi\n"
          ],
          "name": "stdout"
        }
      ]
    },
    {
      "cell_type": "code",
      "metadata": {
        "id": "9e7X0PmaQvPT",
        "colab": {
          "base_uri": "https://localhost:8080/",
          "height": 32
        },
        "outputId": "ad563182-e712-423f-aa31-87c6edae8d42"
      },
      "source": [
        "print(name[0:4:2])"
      ],
      "execution_count": null,
      "outputs": [
        {
          "output_type": "stream",
          "text": [
            "Ms\n"
          ],
          "name": "stdout"
        }
      ]
    },
    {
      "cell_type": "code",
      "metadata": {
        "id": "hJue4AnvQ5rH",
        "colab": {
          "base_uri": "https://localhost:8080/",
          "height": 181
        },
        "outputId": "f1bf98a0-dd73-41d1-c5f0-77a39c26fa9f"
      },
      "source": [
        "print(name[5])"
      ],
      "execution_count": null,
      "outputs": [
        {
          "output_type": "error",
          "ename": "IndexError",
          "evalue": "ignored",
          "traceback": [
            "\u001b[0;31m---------------------------------------------------------------------------\u001b[0m",
            "\u001b[0;31mIndexError\u001b[0m                                Traceback (most recent call last)",
            "\u001b[0;32m<ipython-input-11-581b2b310a0e>\u001b[0m in \u001b[0;36m<module>\u001b[0;34m()\u001b[0m\n\u001b[0;32m----> 1\u001b[0;31m \u001b[0mprint\u001b[0m\u001b[0;34m(\u001b[0m\u001b[0mname\u001b[0m\u001b[0;34m[\u001b[0m\u001b[0;36m5\u001b[0m\u001b[0;34m]\u001b[0m\u001b[0;34m)\u001b[0m\u001b[0;34m\u001b[0m\u001b[0m\n\u001b[0m",
            "\u001b[0;31mIndexError\u001b[0m: string index out of range"
          ]
        }
      ]
    },
    {
      "cell_type": "markdown",
      "metadata": {
        "id": "A--JbxHuRqCG"
      },
      "source": [
        "# Operation on Strings"
      ]
    },
    {
      "cell_type": "markdown",
      "metadata": {
        "id": "3OaPTWOF_aPo"
      },
      "source": [
        "Assume name is “Messi” again.\n",
        "\n",
        "* **x in name** → **True** if **x** exists in **name**, else **False**\n",
        "* **x not in name** → **True** if **x** does not exists in **name**, else **False**\n",
        "* **len()** returns the length of the string\n",
        "* **min() **returns the minimum element \n",
        "  - ASCII representation (Alphabetical order)\n",
        "* **max() **returns the maximum element\n",
        "  - ASCII representation (Alphabetical order)"
      ]
    },
    {
      "cell_type": "code",
      "metadata": {
        "id": "gIoWtn6yRxV-",
        "colab": {
          "base_uri": "https://localhost:8080/",
          "height": 32
        },
        "outputId": "b323538f-00e8-46f2-b710-0f88c6dd1277"
      },
      "source": [
        "print(len(name))"
      ],
      "execution_count": null,
      "outputs": [
        {
          "output_type": "stream",
          "text": [
            "5\n"
          ],
          "name": "stdout"
        }
      ]
    },
    {
      "cell_type": "code",
      "metadata": {
        "id": "g8XCcOQqR2mb",
        "colab": {
          "base_uri": "https://localhost:8080/"
        },
        "outputId": "a493dd89-5d66-40cd-c1e1-762cba296645"
      },
      "source": [
        "min(name)"
      ],
      "execution_count": null,
      "outputs": [
        {
          "output_type": "stream",
          "text": [
            "M\n"
          ],
          "name": "stdout"
        }
      ]
    },
    {
      "cell_type": "code",
      "metadata": {
        "id": "4VfLKUsCR8H0",
        "colab": {
          "base_uri": "https://localhost:8080/"
        },
        "outputId": "23758adf-14f7-4a05-f394-25d76a00dda6"
      },
      "source": [
        "max(name)"
      ],
      "execution_count": null,
      "outputs": [
        {
          "output_type": "stream",
          "text": [
            "s\n"
          ],
          "name": "stdout"
        }
      ]
    },
    {
      "cell_type": "code",
      "metadata": {
        "id": "MeP1AlbzR9O_",
        "colab": {
          "base_uri": "https://localhost:8080/"
        },
        "outputId": "6e6a20df-82d7-4d01-f588-e74fbae0b03e"
      },
      "source": [
        "\"ss\" in name"
      ],
      "execution_count": null,
      "outputs": [
        {
          "output_type": "execute_result",
          "data": {
            "text/plain": [
              "True"
            ]
          },
          "metadata": {
            "tags": []
          },
          "execution_count": 7
        }
      ]
    },
    {
      "cell_type": "code",
      "metadata": {
        "id": "7SlCiAgUR-E4",
        "colab": {
          "base_uri": "https://localhost:8080/",
          "height": 32
        },
        "outputId": "5a6b3cf9-1f36-40e3-959a-47bf66301dbb"
      },
      "source": [
        "\"a\" in name"
      ],
      "execution_count": null,
      "outputs": [
        {
          "output_type": "execute_result",
          "data": {
            "text/plain": [
              "False"
            ]
          },
          "metadata": {
            "tags": []
          },
          "execution_count": 17
        }
      ]
    },
    {
      "cell_type": "code",
      "metadata": {
        "id": "eK3de7viSBva",
        "colab": {
          "base_uri": "https://localhost:8080/",
          "height": 32
        },
        "outputId": "d8891d14-0c1f-4042-848f-49ac1f8086e3"
      },
      "source": [
        "\"es\" not in name"
      ],
      "execution_count": null,
      "outputs": [
        {
          "output_type": "execute_result",
          "data": {
            "text/plain": [
              "False"
            ]
          },
          "metadata": {
            "tags": []
          },
          "execution_count": 18
        }
      ]
    },
    {
      "cell_type": "code",
      "metadata": {
        "id": "-S-9bYIUSDR9",
        "colab": {
          "base_uri": "https://localhost:8080/",
          "height": 32
        },
        "outputId": "c69743d4-2f1f-4b29-e2ac-4fd2c9e8c442"
      },
      "source": [
        "\"sim\" not in name"
      ],
      "execution_count": null,
      "outputs": [
        {
          "output_type": "execute_result",
          "data": {
            "text/plain": [
              "True"
            ]
          },
          "metadata": {
            "tags": []
          },
          "execution_count": 19
        }
      ]
    },
    {
      "cell_type": "markdown",
      "metadata": {
        "id": "zYtmJoJDQPGy"
      },
      "source": [
        "#Built-in Functions"
      ]
    },
    {
      "cell_type": "markdown",
      "metadata": {
        "id": "EhOoesWkQSBf"
      },
      "source": [
        "- The Python interpreter has a number of functions that are always available for use. \n",
        "\n",
        "- These functions are called <u>built-in functions</u>.\n",
        "\n",
        "- You have already been using built-in functions (**print()**, **input()**, **str()** functions) for 3 weeks.\n"
      ]
    },
    {
      "cell_type": "markdown",
      "metadata": {
        "id": "1WnilSblQ-Zw"
      },
      "source": [
        "#Functions in Python"
      ]
    },
    {
      "cell_type": "markdown",
      "metadata": {
        "id": "1MPKhxAuRBDX"
      },
      "source": [
        "- A **function** is a piece of code that is called by a name \n",
        "  - It can be passed data to operate on (**parameters**)\n",
        "    - i.e., input() can be used with and without parameters\n",
        "  - It can optionally return data (**return value**)\n",
        "    - i.e., input() returns a string value, while print() does not have a return value \n",
        "\n",
        "- Three **types** of functions\n",
        "  - Built-in functions (some of them were already covered)\n",
        "  - Methods (to be covered in this lecture)\n",
        "  - User-defined functions (to be covered in the following weeks)"
      ]
    },
    {
      "cell_type": "markdown",
      "metadata": {
        "id": "MFndp9Kuj4BV"
      },
      "source": [
        "# Memorizing All Passwords"
      ]
    },
    {
      "cell_type": "markdown",
      "metadata": {
        "id": "39lXDe4Wj4BW"
      },
      "source": [
        "Operation | Example Site 1 | Example Site 2\n",
        "--- | --- | ---\n",
        "Site Name | Facebook | Gmail\n",
        "Get first and last 2 letters | Fa  ok | Gm il\n",
        "Swap them | okFa | ilGm\n",
        "Letter Count | Facebook (8 characters) | Gmail (5 characters)\n",
        "Password | okFa8eight( | ilGm5five%"
      ]
    },
    {
      "cell_type": "markdown",
      "metadata": {
        "id": "e00We2h0j4BW"
      },
      "source": [
        "* Different passwords for each website with **just one algorithm**\n",
        "* Do not try to hack me ☺\n",
        "* <u> You may assume that the number of characters will be between 5 and 9 </u>"
      ]
    },
    {
      "cell_type": "markdown",
      "metadata": {
        "id": "MWFRqWi5cUnm"
      },
      "source": [
        "# website_password.py"
      ]
    },
    {
      "cell_type": "markdown",
      "metadata": {
        "id": "lUhVSrahIfKr"
      },
      "source": [
        "<img src = \"https://lh4.googleusercontent.com/h1NO_NC_WLspNW8k8SSAz72zoRCkN-BGC-R0OQtcZK-8CNA_aoMnGrufrFcnh8zatcKh6RO2_uwUItL2F9FNTHpEnW-5DLjvV-EXDvOtA4ndjP85GLoP6t_TqgNCKwVmw_GzCFfyDrk\" />"
      ]
    },
    {
      "cell_type": "code",
      "metadata": {
        "id": "3e8-Y883cWv2",
        "colab": {
          "base_uri": "https://localhost:8080/",
          "height": 54
        },
        "outputId": "417f92d4-8feb-472e-92a8-452d63088e1f"
      },
      "source": [
        "# obtain the website name from the user\n",
        "site_name = input(\"Please enter the website for which the password will be generated: \")\n",
        "\n",
        "# find the number of characters within the website name\n",
        "length = len(site_name)\n",
        "\n",
        "# check the validty of length\n",
        "# display error if invalid, set the password if valid\n",
        "if length < 5 or length > 9:\n",
        "  print(\"Invalid length!\")\n",
        "else:\n",
        "  # set the password as last 2 letters concatenated with the first 2 letters\n",
        "  password = site_name[-2:] + site_name[:2]\n",
        "\n",
        "  # append the number of characeters to the password\n",
        "  password += str(length)\n",
        "\n",
        "  # append the textual version of this number and the symbol on the keyboard\n",
        "  if length == 5:\n",
        "    text = \"five\"\n",
        "    symbol = \"%\"\n",
        "  elif length == 6:\n",
        "    text = \"six\"\n",
        "    symbol = \"&\"\n",
        "  elif length == 7:\n",
        "    text = \"seven\"\n",
        "    symbol = \"/\"\n",
        "  elif length == 8:\n",
        "    text = \"eight\"\n",
        "    symbol = \"(\"\n",
        "  else:\n",
        "    text = \"nine\"\n",
        "    symbol = \")\"\n",
        "\n",
        "  password += text + symbol\n",
        "\n",
        "  # display the result\n",
        "  print(\"You password for the website \", site_name, \" is \", password, \".\", sep=\"\")\n",
        "\n"
      ],
      "execution_count": null,
      "outputs": [
        {
          "output_type": "stream",
          "text": [
            "Please enter the website for which the password will be generated: safari\n",
            "You password for the website safari is risa6six&.\n"
          ],
          "name": "stdout"
        }
      ]
    },
    {
      "cell_type": "markdown",
      "metadata": {
        "id": "SdBMINRwRkz4"
      },
      "source": [
        "#Change in the Country Name"
      ]
    },
    {
      "cell_type": "markdown",
      "metadata": {
        "id": "jYxnT2aZRnX5"
      },
      "source": [
        "**The Czech Republic** is a small landlocked country in Central Europe, situated southeast of Germany and bordering Austria to the south, Poland to the north and Slovakia to the southeast. **The Czech Republic** is not a geographically large country, but it has a rich and eventful history. **The Czech Republic** contains a vast amount of architectural treasure, as well as beautiful forests and mountains to match.\n",
        "\n",
        "**Czechia** is a small landlocked country in Central Europe, situated southeast of Germany and bordering Austria to the south, Poland to the north and Slovakia to the southeast. **Czechia** is not a geographically large country, but it has a rich and eventful history. **Czechia** contains a vast amount of architectural treasure, as well as beautiful forests and mountains to match."
      ]
    },
    {
      "cell_type": "markdown",
      "metadata": {
        "id": "hJf8pLbKSPps"
      },
      "source": [
        "#Methods in Python"
      ]
    },
    {
      "cell_type": "markdown",
      "metadata": {
        "id": "eGN5DIDGSp26"
      },
      "source": [
        "<img src = \"https://lh3.googleusercontent.com/EIadIeo8d0XdIDikuyblBRPmRAAkYpfDGGi_LokF4KKvLnyyqd4oYGHhA2gUPtlj2mJAClswHP1lz-dG-byzuV3n9Zlbg9_ZaVtdS2AfZNvrA-b3ZWq37Xs-qK3XMM0ARulUpG6FjFUODvSAP85tG2yqGzf-OlVTXrSHv7iAQmiY3N1of2chj6PZOWHM4OeJsJl3FwmIx3S0HaTen3nPM0PN_ExQ6X9NyYFNw0h888gk8UEtw7I9B290QMAXZztIJJBdH52Q4vlpa_Y7CQp7iKMAE0No8IC1gmDn1IFHJBPyTuDA0uPzrJQ2MXojHW_tINCl3x7OCd0HfHyZ6oNkfIcHBtGWT2ssShIvbYRhUYHxLyCwx6rZANDI5SESUaaj379uN_nxTxfGUpVijTUhOcqdCr1sgTlWJgYyqdu2i27CjFC8BdDV9iD7HalE-6qaWvYNK5RzrEHKJ3jOXExY1LktUiPs3QvQVE6aTeH7EmKvoyNR0vU4Jww5FgAVM7aKIQR0tTelWQJkZ3CXuLZJ1X8ARlU-O17srYTg0sy1kH9zrgt46FZe9kyQaLUS3YIH8jPzJiXiiR6d5O4NdptA4AnNAqqlJWnrDz0ByIyjB036_-du_xu-68duE_s5R5FPnzPSj6hZqaWQ7GF8dK5TQkcKTwgDivcH-5G2PNA4C9ucLBSE33WJnq6aTs7yGgvkq-cm0LzZBOKH2ABJLeiZAFRs=w392-h188-no\" />\n",
        "\n",
        "- A **function** is a piece of code that is called by a name \n",
        "  - It can be passed data to operate on (**parameters**)\n",
        "  - It can optionally return data (**return value**)\n",
        "  - All data that is passed to a function is **explicitly** passed\n",
        "\n",
        "\n",
        " - A **method** is a piece of code, called by a name, that is associated with an object\n",
        "\n",
        "  → In most respects, it is identical to a function except for *two key differences*:\n",
        "  - A method is able to operate on the data that is contained within the object (**string**, **list**, **etc.**)\n",
        "  - A method **implicitly** passes the object on which it is called\n"
      ]
    },
    {
      "cell_type": "markdown",
      "metadata": {
        "id": "o0bePHVhtiJ4"
      },
      "source": [
        "#Change in the Country Name"
      ]
    },
    {
      "cell_type": "markdown",
      "metadata": {
        "id": "lWij_-mVtTNA"
      },
      "source": [
        "- **<u> Object.methodName(parameter) </u>**\n",
        "  - In this example, we first get the string input which is our **object** and we name it as **text**\n",
        "  - Then we call string’s **replace()** method with appropriate parameters (two parameters)\n"
      ]
    },
    {
      "cell_type": "code",
      "metadata": {
        "id": "gUh1UQNQuVdB",
        "colab": {
          "base_uri": "https://localhost:8080/",
          "height": 60
        },
        "outputId": "a4bb317b-26c5-4c8e-d3c1-b0446d3cb136"
      },
      "source": [
        "text = \"The Czech Republic is a small landlocked country in Central Europe, situated southeast of Germany and bordering Austria to the south, Poland to the north and Slovakia to the southeast. The Czech Republic is not a geographically large country, but it has a rich and eventful history. The Czech Republic contains a vast amount of architectural treasure, as well as beautiful forests and mountains to match.\"\n",
        "\n",
        "replacedText = text.replace(\"The Czech Republic\", \"Czechia\")\n",
        "print(replacedText)"
      ],
      "execution_count": null,
      "outputs": [
        {
          "output_type": "stream",
          "text": [
            "Czechia is a small landlocked country in Central Europe, situated southeast of Germany and bordering Austria to the south, Poland to the north and Slovakia to the southeast. Czechia is not a geographically large country, but it has a rich and eventful history. Czechia contains a vast amount of architectural treasure, as well as beautiful forests and mountains to match.\n"
          ],
          "name": "stdout"
        }
      ]
    },
    {
      "cell_type": "markdown",
      "metadata": {
        "id": "PpvRimvx7cYH"
      },
      "source": [
        "#String Methods"
      ]
    },
    {
      "cell_type": "markdown",
      "metadata": {
        "id": "DPVE7hiVojuI"
      },
      "source": [
        "Method | Description\n",
        "--- | --- \n",
        "`capitalize()` | Return a copy of the string with its first character capitalized <br> and the rest lowercase\n",
        "`lower()` | Return a copy of the string with all characters lowercase\n",
        "`upper()` | Return a copy of the string with all characters uppercase\n",
        "`count(sub,start,end)` | Return the number of non-overlapping occurrences of <br> substring *sub* within the slice s[*start*:*end*] <br> (*start* and *end* are optional)\n",
        "`split(sep, maxsplit)` | Return a list of words in the string, using sep as <br> the delimiter string, with at most *maxsplit* elements <br> (*maxsplit* is optional)\n",
        "`replace(old,new,count)`| Return a copy of the string with the first *count* <br> occurrences of substring *old* replaced by *new* <br> (*count* is optional)\n",
        "`find(sub,start,end)` | Return the lowest index in the string where <br> substring sub is found within the slice s[start:end] <br> → Returns -1 if not found (start and end are optional)\n",
        "`rfind(sub,start,end)` | Return the highest index in the string where  <br> substring sub is found within the slice s[start:end] <br> → Returns -1 if not found (start and end are optional)\n",
        "`isalnum()` | Return true if all characters in the string are alphanumeric\n",
        "`isalpha()` | Return true if all characters in the string are alphabetic\n",
        "`isdecimal()` | Return true if all characters in the string are decimal characters\n",
        "`isdigit()` | Return true if all characters in the string are digits\n",
        "`islower()`| Return true if all characters in the string are lowercase\n",
        "`isupper()` | Return true if all characters in the string are uppercase"
      ]
    },
    {
      "cell_type": "markdown",
      "metadata": {
        "id": "QrXZtqs4seBx"
      },
      "source": [
        "-  **Do not try to memorize all these methods. **"
      ]
    },
    {
      "cell_type": "markdown",
      "metadata": {
        "id": "u7SdIhEnbmer"
      },
      "source": [
        "# String Method Examples"
      ]
    },
    {
      "cell_type": "code",
      "metadata": {
        "id": "rMSVrd0abo6D",
        "colab": {
          "base_uri": "https://localhost:8080/",
          "height": 32
        },
        "outputId": "ace73258-f4d8-4f55-bfb3-34e66b8faa88"
      },
      "source": [
        "s = \"duygu\"\n",
        "s.capitalize()"
      ],
      "execution_count": null,
      "outputs": [
        {
          "output_type": "execute_result",
          "data": {
            "text/plain": [
              "'Duygu'"
            ]
          },
          "metadata": {
            "tags": []
          },
          "execution_count": 38
        }
      ]
    },
    {
      "cell_type": "code",
      "metadata": {
        "id": "j-q_wGq4bt9g",
        "colab": {
          "base_uri": "https://localhost:8080/",
          "height": 32
        },
        "outputId": "7e625604-413d-49b0-f91b-df1a867e3f4c"
      },
      "source": [
        "s.upper()"
      ],
      "execution_count": null,
      "outputs": [
        {
          "output_type": "execute_result",
          "data": {
            "text/plain": [
              "'DUYGU'"
            ]
          },
          "metadata": {
            "tags": []
          },
          "execution_count": 39
        }
      ]
    },
    {
      "cell_type": "code",
      "metadata": {
        "id": "fl4YUGc2bxdM",
        "colab": {
          "base_uri": "https://localhost:8080/",
          "height": 32
        },
        "outputId": "42a99fa4-8f91-42b5-8fc8-0fdc7cfcb13b"
      },
      "source": [
        "s.count('u')"
      ],
      "execution_count": null,
      "outputs": [
        {
          "output_type": "execute_result",
          "data": {
            "text/plain": [
              "2"
            ]
          },
          "metadata": {
            "tags": []
          },
          "execution_count": 40
        }
      ]
    },
    {
      "cell_type": "code",
      "metadata": {
        "id": "iGeCDq0DbzOM",
        "colab": {
          "base_uri": "https://localhost:8080/",
          "height": 32
        },
        "outputId": "ce267c59-cd1a-4ce1-a50e-38c21e01e68e"
      },
      "source": [
        "s.count('u',2)"
      ],
      "execution_count": null,
      "outputs": [
        {
          "output_type": "execute_result",
          "data": {
            "text/plain": [
              "1"
            ]
          },
          "metadata": {
            "tags": []
          },
          "execution_count": 42
        }
      ]
    },
    {
      "cell_type": "code",
      "metadata": {
        "id": "zHXiYDPYb2oV",
        "colab": {
          "base_uri": "https://localhost:8080/",
          "height": 32
        },
        "outputId": "3dcc966c-deb2-4bd1-cc25-2a6ffe8e5bf4"
      },
      "source": [
        "s.replace(\"u\",\"-\")"
      ],
      "execution_count": null,
      "outputs": [
        {
          "output_type": "execute_result",
          "data": {
            "text/plain": [
              "'d-yg-'"
            ]
          },
          "metadata": {
            "tags": []
          },
          "execution_count": 43
        }
      ]
    },
    {
      "cell_type": "code",
      "metadata": {
        "id": "4hqNCXrbb5lB",
        "colab": {
          "base_uri": "https://localhost:8080/",
          "height": 32
        },
        "outputId": "78a628ee-cdcf-47d3-8894-8abbfd82516a"
      },
      "source": [
        "s.split(\"u\")"
      ],
      "execution_count": null,
      "outputs": [
        {
          "output_type": "execute_result",
          "data": {
            "text/plain": [
              "['d', 'yg', '']"
            ]
          },
          "metadata": {
            "tags": []
          },
          "execution_count": 44
        }
      ]
    },
    {
      "cell_type": "code",
      "metadata": {
        "id": "CroFSIPrb7z0",
        "colab": {
          "base_uri": "https://localhost:8080/",
          "height": 32
        },
        "outputId": "af6fc16b-6651-4638-84fd-d835f6552e75"
      },
      "source": [
        "s = \"duygu\"\n",
        "s.find(\"u\")"
      ],
      "execution_count": null,
      "outputs": [
        {
          "output_type": "execute_result",
          "data": {
            "text/plain": [
              "1"
            ]
          },
          "metadata": {
            "tags": []
          },
          "execution_count": 45
        }
      ]
    },
    {
      "cell_type": "code",
      "metadata": {
        "id": "kyO0c4hUb_7b",
        "colab": {
          "base_uri": "https://localhost:8080/",
          "height": 32
        },
        "outputId": "dc961157-8c3c-4da6-b75d-e30cda3264d4"
      },
      "source": [
        "s.find(\"u\",2)"
      ],
      "execution_count": null,
      "outputs": [
        {
          "output_type": "execute_result",
          "data": {
            "text/plain": [
              "4"
            ]
          },
          "metadata": {
            "tags": []
          },
          "execution_count": 46
        }
      ]
    },
    {
      "cell_type": "code",
      "metadata": {
        "id": "Sw1s0ti7cBbu",
        "colab": {
          "base_uri": "https://localhost:8080/",
          "height": 32
        },
        "outputId": "a748f856-531b-4e9e-df92-e72af1f07db0"
      },
      "source": [
        "s.rfind(\"u\")"
      ],
      "execution_count": null,
      "outputs": [
        {
          "output_type": "execute_result",
          "data": {
            "text/plain": [
              "4"
            ]
          },
          "metadata": {
            "tags": []
          },
          "execution_count": 31
        }
      ]
    },
    {
      "cell_type": "code",
      "metadata": {
        "id": "YtP29CnYcDFT",
        "colab": {
          "base_uri": "https://localhost:8080/",
          "height": 32
        },
        "outputId": "90e57c35-fd5a-4ab5-9fef-1151ae1e8927"
      },
      "source": [
        "s.index(\"u\")"
      ],
      "execution_count": null,
      "outputs": [
        {
          "output_type": "execute_result",
          "data": {
            "text/plain": [
              "1"
            ]
          },
          "metadata": {
            "tags": []
          },
          "execution_count": 32
        }
      ]
    },
    {
      "cell_type": "code",
      "metadata": {
        "id": "4WByVtzycGf0",
        "colab": {
          "base_uri": "https://localhost:8080/",
          "height": 32
        },
        "outputId": "577eab71-33de-4b70-ffcd-d27df5758d7a"
      },
      "source": [
        "s.index(\"u\",2)"
      ],
      "execution_count": null,
      "outputs": [
        {
          "output_type": "execute_result",
          "data": {
            "text/plain": [
              "4"
            ]
          },
          "metadata": {
            "tags": []
          },
          "execution_count": 33
        }
      ]
    },
    {
      "cell_type": "code",
      "metadata": {
        "id": "OInhbjIIcI3a",
        "colab": {
          "base_uri": "https://localhost:8080/",
          "height": 32
        },
        "outputId": "d5e7edc8-e7fd-4018-ec7f-810d19de3eb6"
      },
      "source": [
        "s.rindex(\"u\")"
      ],
      "execution_count": null,
      "outputs": [
        {
          "output_type": "execute_result",
          "data": {
            "text/plain": [
              "4"
            ]
          },
          "metadata": {
            "tags": []
          },
          "execution_count": 34
        }
      ]
    },
    {
      "cell_type": "code",
      "metadata": {
        "id": "nZkPW5W7cKsv",
        "colab": {
          "base_uri": "https://localhost:8080/",
          "height": 32
        },
        "outputId": "fac39ea2-a4f3-4d02-ee24-ee21401f0b6b"
      },
      "source": [
        "s.find(\"a\")"
      ],
      "execution_count": null,
      "outputs": [
        {
          "output_type": "execute_result",
          "data": {
            "text/plain": [
              "-1"
            ]
          },
          "metadata": {
            "tags": []
          },
          "execution_count": 35
        }
      ]
    },
    {
      "cell_type": "code",
      "metadata": {
        "id": "bSzMDtHycMoj",
        "colab": {
          "base_uri": "https://localhost:8080/",
          "height": 158
        },
        "outputId": "f4a28a3d-267a-4c79-a60d-ab2dcd5ea0b6"
      },
      "source": [
        "s.index(\"a\")"
      ],
      "execution_count": null,
      "outputs": [
        {
          "output_type": "error",
          "ename": "ValueError",
          "evalue": "ignored",
          "traceback": [
            "\u001b[0;31m---------------------------------------------------------------------------\u001b[0m",
            "\u001b[0;31mValueError\u001b[0m                                Traceback (most recent call last)",
            "\u001b[0;32m<ipython-input-37-1a10a9a0bcff>\u001b[0m in \u001b[0;36m<module>\u001b[0;34m()\u001b[0m\n\u001b[0;32m----> 1\u001b[0;31m \u001b[0ms\u001b[0m\u001b[0;34m.\u001b[0m\u001b[0mindex\u001b[0m\u001b[0;34m(\u001b[0m\u001b[0;34m\"a\"\u001b[0m\u001b[0;34m)\u001b[0m\u001b[0;34m\u001b[0m\u001b[0m\n\u001b[0m",
            "\u001b[0;31mValueError\u001b[0m: substring not found"
          ]
        }
      ]
    }
  ]
}