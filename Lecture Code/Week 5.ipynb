{
  "nbformat": 4,
  "nbformat_minor": 0,
  "metadata": {
    "colab": {
      "name": "sectionA.ipynb",
      "provenance": [],
      "collapsed_sections": []
    },
    "kernelspec": {
      "name": "python3",
      "display_name": "Python 3"
    },
    "language_info": {
      "name": "python"
    }
  },
  "cells": [
    {
      "cell_type": "code",
      "metadata": {
        "id": "QDvNyFo95VRp"
      },
      "source": [
        "x = True\n",
        "y = False"
      ],
      "execution_count": null,
      "outputs": []
    },
    {
      "cell_type": "code",
      "metadata": {
        "colab": {
          "base_uri": "https://localhost:8080/"
        },
        "id": "x9Sab8gm-VQq",
        "outputId": "8d80d0b4-6b22-4984-e5b0-dcbc5ee76678"
      },
      "source": [
        "x"
      ],
      "execution_count": null,
      "outputs": [
        {
          "output_type": "execute_result",
          "data": {
            "text/plain": [
              "True"
            ]
          },
          "metadata": {
            "tags": []
          },
          "execution_count": 3
        }
      ]
    },
    {
      "cell_type": "code",
      "metadata": {
        "colab": {
          "base_uri": "https://localhost:8080/"
        },
        "id": "y0Ov3sE7-XDb",
        "outputId": "73417b57-c6dc-406b-834c-bea90a228466"
      },
      "source": [
        "y"
      ],
      "execution_count": null,
      "outputs": [
        {
          "output_type": "execute_result",
          "data": {
            "text/plain": [
              "False"
            ]
          },
          "metadata": {
            "tags": []
          },
          "execution_count": 4
        }
      ]
    },
    {
      "cell_type": "code",
      "metadata": {
        "colab": {
          "base_uri": "https://localhost:8080/"
        },
        "id": "BO9z4EKo-YYK",
        "outputId": "fb261438-6119-4b95-e5cd-edd7628b398b"
      },
      "source": [
        "x and y"
      ],
      "execution_count": null,
      "outputs": [
        {
          "output_type": "execute_result",
          "data": {
            "text/plain": [
              "False"
            ]
          },
          "metadata": {
            "tags": []
          },
          "execution_count": 5
        }
      ]
    },
    {
      "cell_type": "code",
      "metadata": {
        "colab": {
          "base_uri": "https://localhost:8080/"
        },
        "id": "K5c7JB1e-a2C",
        "outputId": "8018e2a5-07c9-4b67-f861-2c3367442449"
      },
      "source": [
        "print(x and not y)"
      ],
      "execution_count": null,
      "outputs": [
        {
          "output_type": "stream",
          "text": [
            "True\n"
          ],
          "name": "stdout"
        }
      ]
    },
    {
      "cell_type": "code",
      "metadata": {
        "colab": {
          "base_uri": "https://localhost:8080/"
        },
        "id": "84xQ0DXo-jFY",
        "outputId": "ea62614a-fb27-4ea6-863c-dd196aba464b"
      },
      "source": [
        "print(x and y)"
      ],
      "execution_count": null,
      "outputs": [
        {
          "output_type": "stream",
          "text": [
            "False\n"
          ],
          "name": "stdout"
        }
      ]
    },
    {
      "cell_type": "code",
      "metadata": {
        "colab": {
          "base_uri": "https://localhost:8080/",
          "height": 164
        },
        "id": "iMUoes0g-qrR",
        "outputId": "ee1cdaee-11ca-4fad-8bdc-41493df6a17d"
      },
      "source": [
        "x = true"
      ],
      "execution_count": null,
      "outputs": [
        {
          "output_type": "error",
          "ename": "NameError",
          "evalue": "ignored",
          "traceback": [
            "\u001b[0;31m---------------------------------------------------------------------------\u001b[0m",
            "\u001b[0;31mNameError\u001b[0m                                 Traceback (most recent call last)",
            "\u001b[0;32m<ipython-input-9-ed048989c03e>\u001b[0m in \u001b[0;36m<module>\u001b[0;34m()\u001b[0m\n\u001b[0;32m----> 1\u001b[0;31m \u001b[0mx\u001b[0m \u001b[0;34m=\u001b[0m \u001b[0mtrue\u001b[0m\u001b[0;34m\u001b[0m\u001b[0;34m\u001b[0m\u001b[0m\n\u001b[0m",
            "\u001b[0;31mNameError\u001b[0m: name 'true' is not defined"
          ]
        }
      ]
    },
    {
      "cell_type": "code",
      "metadata": {
        "colab": {
          "base_uri": "https://localhost:8080/",
          "height": 130
        },
        "id": "dkvWW2bE-7VT",
        "outputId": "c9be74d0-c09c-4480-e6d2-118b35b793fe"
      },
      "source": [
        "True = 5"
      ],
      "execution_count": null,
      "outputs": [
        {
          "output_type": "error",
          "ename": "SyntaxError",
          "evalue": "ignored",
          "traceback": [
            "\u001b[0;36m  File \u001b[0;32m\"<ipython-input-10-cee96fa4ba6e>\"\u001b[0;36m, line \u001b[0;32m1\u001b[0m\n\u001b[0;31m    True = 5\u001b[0m\n\u001b[0m            ^\u001b[0m\n\u001b[0;31mSyntaxError\u001b[0m\u001b[0;31m:\u001b[0m can't assign to keyword\n"
          ]
        }
      ]
    },
    {
      "cell_type": "code",
      "metadata": {
        "colab": {
          "base_uri": "https://localhost:8080/"
        },
        "id": "R3CEhvjf-99W",
        "outputId": "1ca630c2-593e-468a-9d6d-d1188a1e8851"
      },
      "source": [
        "x = 10\n",
        "print( x < 15 )"
      ],
      "execution_count": null,
      "outputs": [
        {
          "output_type": "stream",
          "text": [
            "True\n"
          ],
          "name": "stdout"
        }
      ]
    },
    {
      "cell_type": "code",
      "metadata": {
        "colab": {
          "base_uri": "https://localhost:8080/"
        },
        "id": "2_4d-brV_pId",
        "outputId": "190dca86-ec42-4412-fff9-30aaf1dee2e3"
      },
      "source": [
        "x = 15\n",
        "print ( \"x = 20\" )"
      ],
      "execution_count": null,
      "outputs": [
        {
          "output_type": "stream",
          "text": [
            "x = 20\n"
          ],
          "name": "stdout"
        }
      ]
    },
    {
      "cell_type": "code",
      "metadata": {
        "colab": {
          "base_uri": "https://localhost:8080/",
          "height": 181
        },
        "id": "QxFYgIHO_2Xk",
        "outputId": "88ffdd57-e83a-4b02-bbd0-7a5871b37e73"
      },
      "source": [
        "x = 15\n",
        "print ( x = 20 )"
      ],
      "execution_count": null,
      "outputs": [
        {
          "output_type": "error",
          "ename": "TypeError",
          "evalue": "ignored",
          "traceback": [
            "\u001b[0;31m---------------------------------------------------------------------------\u001b[0m",
            "\u001b[0;31mTypeError\u001b[0m                                 Traceback (most recent call last)",
            "\u001b[0;32m<ipython-input-13-8866a34667ad>\u001b[0m in \u001b[0;36m<module>\u001b[0;34m()\u001b[0m\n\u001b[1;32m      1\u001b[0m \u001b[0mx\u001b[0m \u001b[0;34m=\u001b[0m \u001b[0;36m15\u001b[0m\u001b[0;34m\u001b[0m\u001b[0;34m\u001b[0m\u001b[0m\n\u001b[0;32m----> 2\u001b[0;31m \u001b[0mprint\u001b[0m \u001b[0;34m(\u001b[0m \u001b[0mx\u001b[0m \u001b[0;34m=\u001b[0m \u001b[0;36m20\u001b[0m \u001b[0;34m)\u001b[0m\u001b[0;34m\u001b[0m\u001b[0;34m\u001b[0m\u001b[0m\n\u001b[0m",
            "\u001b[0;31mTypeError\u001b[0m: 'x' is an invalid keyword argument for print()"
          ]
        }
      ]
    },
    {
      "cell_type": "code",
      "metadata": {
        "colab": {
          "base_uri": "https://localhost:8080/"
        },
        "id": "q1Ey6FIdAYoB",
        "outputId": "8784a840-c14c-4110-94a7-6b6832083972"
      },
      "source": [
        "x = 15\n",
        "print ( x != 20 )"
      ],
      "execution_count": null,
      "outputs": [
        {
          "output_type": "stream",
          "text": [
            "True\n"
          ],
          "name": "stdout"
        }
      ]
    },
    {
      "cell_type": "code",
      "metadata": {
        "id": "StFEtFNYA_mo"
      },
      "source": [
        "x = -10 + 11 or 10 ** 2 % 5 < 0"
      ],
      "execution_count": null,
      "outputs": []
    },
    {
      "cell_type": "code",
      "metadata": {
        "colab": {
          "base_uri": "https://localhost:8080/"
        },
        "id": "WoJ5HbSNB4gU",
        "outputId": "5db88b30-e4f6-4f3b-f5c7-2796eefb8fd7"
      },
      "source": [
        "x = 11\n",
        "if x < 20:\n",
        "  print(\"hello\")\n",
        "print(\"IF100\")\n",
        "print(\"bye\")"
      ],
      "execution_count": null,
      "outputs": [
        {
          "output_type": "stream",
          "text": [
            "hello\n",
            "IF100\n",
            "bye\n"
          ],
          "name": "stdout"
        }
      ]
    },
    {
      "cell_type": "code",
      "metadata": {
        "colab": {
          "base_uri": "https://localhost:8080/"
        },
        "id": "Lud8phqYCy7o",
        "outputId": "b8182369-a119-4121-8751-b8cf6757daaf"
      },
      "source": [
        "\"\"\"\n",
        "input x\n",
        "if x < 0\n",
        "  multiply x by -1\n",
        "print x\n",
        "\"\"\"\n",
        "\n",
        "x = float(input(\"Please enter x: \"))\n",
        "if x < 0:\n",
        "  x *= -1\n",
        "\n",
        "print(x)"
      ],
      "execution_count": null,
      "outputs": [
        {
          "output_type": "stream",
          "text": [
            "Please enter x: -5\n",
            "5.0\n"
          ],
          "name": "stdout"
        }
      ]
    },
    {
      "cell_type": "code",
      "metadata": {
        "colab": {
          "base_uri": "https://localhost:8080/"
        },
        "id": "AuuFzDLlI02C",
        "outputId": "92bec0b9-7ad8-4d97-c0b3-6583a8df768b"
      },
      "source": [
        "x = 21\n",
        "if x < 20:\n",
        "  print(\"hello\")\n",
        "  print(\"IF100\")\n",
        "else:\n",
        "  print(\"mello\")\n",
        "print(\"bye\")"
      ],
      "execution_count": null,
      "outputs": [
        {
          "output_type": "stream",
          "text": [
            "mello\n",
            "bye\n"
          ],
          "name": "stdout"
        }
      ]
    },
    {
      "cell_type": "code",
      "metadata": {
        "colab": {
          "base_uri": "https://localhost:8080/"
        },
        "id": "QlTPmwIcJLHy",
        "outputId": "3b807dd9-7f03-4ae7-d492-d9dffdd47dea"
      },
      "source": [
        "GPA = float(input(\"Please enter your GPA: \"))\n",
        "if GPA >= 2.00:\n",
        "  print(\"eligible to graduate\")\n",
        "else:\n",
        "  print(\"not eligible to graduate\")"
      ],
      "execution_count": null,
      "outputs": [
        {
          "output_type": "stream",
          "text": [
            "Please enter your GPA: 1.8\n",
            "not eligible to graduate\n"
          ],
          "name": "stdout"
        }
      ]
    },
    {
      "cell_type": "code",
      "metadata": {
        "colab": {
          "base_uri": "https://localhost:8080/"
        },
        "id": "lOgYAo-YKBfG",
        "outputId": "133286a5-4b73-418d-98c1-cfacd55f2bcb"
      },
      "source": [
        "x = int(input())\n",
        "\n",
        "if x < 50:\n",
        "  print(\"smaller than 50\")\n",
        "\n",
        "if x < 30:\n",
        "  print(\"smaller than 30\")\n",
        "\n",
        "else:\n",
        "  print(\"greater than 30\")"
      ],
      "execution_count": null,
      "outputs": [
        {
          "output_type": "stream",
          "text": [
            "40\n",
            "smaller than 50\n",
            "greater than 30\n"
          ],
          "name": "stdout"
        }
      ]
    },
    {
      "cell_type": "code",
      "metadata": {
        "colab": {
          "base_uri": "https://localhost:8080/"
        },
        "id": "m0CuOJ7xMK15",
        "outputId": "4ea300cf-a736-4af7-eb29-8c9f91c68ee8"
      },
      "source": [
        "midterm = float(input(\"Please enter your average exam grade: \"))\n",
        "essay = float(input(\"Please enter your average process essay grade: \"))\n",
        "discussion = float(input(\"Please enter your average discussion sessions grade: \"))\n",
        "questions = float(input(\"Please enter your average in-lecture questions grade: \"))\n",
        "\n",
        "overall = midterm*0.4 + essay*0.3 + discussion*0.2 + questions*0.1\n",
        "\n",
        "print(overall)"
      ],
      "execution_count": null,
      "outputs": [
        {
          "output_type": "stream",
          "text": [
            "Please enter your average exam grade: 67\n",
            "Please enter your average process essay grade: 55.5\n",
            "Please enter your average discussion sessions grade: 80\n",
            "Please enter your average in-lecture questions grade: 75\n",
            "66.95\n"
          ],
          "name": "stdout"
        }
      ]
    },
    {
      "cell_type": "code",
      "metadata": {
        "colab": {
          "base_uri": "https://localhost:8080/"
        },
        "id": "WKtl--ODM6H1",
        "outputId": "c2bc659c-7bda-4a96-bd9c-fd61219205ce"
      },
      "source": [
        "if overall > 86:\n",
        "  print(\"A\")\n",
        "\n",
        "if overall > 74:\n",
        "  print(\"B\")\n",
        "\n",
        "if overall > 62:\n",
        "  print(\"C\")\n",
        "\n",
        "if overall > 54:\n",
        "  print(\"D\")\n",
        "\n",
        "else:\n",
        "  print(\"F\")"
      ],
      "execution_count": null,
      "outputs": [
        {
          "output_type": "stream",
          "text": [
            "C\n",
            "D\n"
          ],
          "name": "stdout"
        }
      ]
    },
    {
      "cell_type": "code",
      "metadata": {
        "colab": {
          "base_uri": "https://localhost:8080/"
        },
        "id": "Oz5N00a3NhxX",
        "outputId": "8951ca31-9c0e-4126-ffd9-90110eeeb5b3"
      },
      "source": [
        "if 100 > overall >= 86:\n",
        "  print(\"A\")\n",
        "\n",
        "if 86 > overall >= 74:\n",
        "  print(\"B\")\n",
        "\n",
        "if 74 > overall >= 62:\n",
        "  print(\"C\")\n",
        "\n",
        "if 62 > overall >= 54:\n",
        "  print(\"D\")\n",
        "\n",
        "if 54 > overall >= 0:\n",
        "  print(\"F\")"
      ],
      "execution_count": null,
      "outputs": [
        {
          "output_type": "stream",
          "text": [
            "C\n"
          ],
          "name": "stdout"
        }
      ]
    },
    {
      "cell_type": "code",
      "metadata": {
        "id": "YkakkGXvO3cy"
      },
      "source": [
        "if overall >= 86:\n",
        "  print(\"A\")\n",
        "else:\n",
        "  if overall >= 74:\n",
        "    print(\"B\")\n",
        "  else:\n",
        "    # ...."
      ],
      "execution_count": null,
      "outputs": []
    },
    {
      "cell_type": "code",
      "metadata": {
        "colab": {
          "base_uri": "https://localhost:8080/"
        },
        "id": "8kCaLZj0PJCD",
        "outputId": "6f7ec412-56ef-4339-ff59-7758f60c1b83"
      },
      "source": [
        "if 100 > overall >= 86:\n",
        "  print(\"A\")\n",
        "\n",
        "elif 86 > overall >= 74:\n",
        "  print(\"B\")\n",
        "\n",
        "elif 74 > overall >= 62:\n",
        "  print(\"C\")\n",
        "\n",
        "elif 62 > overall >= 54:\n",
        "  print(\"D\")\n",
        "\n",
        "else:\n",
        "  print(\"F\")"
      ],
      "execution_count": null,
      "outputs": [
        {
          "output_type": "stream",
          "text": [
            "C\n"
          ],
          "name": "stdout"
        }
      ]
    },
    {
      "cell_type": "code",
      "metadata": {
        "colab": {
          "base_uri": "https://localhost:8080/"
        },
        "id": "H-ozydWvPeAq",
        "outputId": "373b88f3-6318-4e9e-833d-f52d311f970f"
      },
      "source": [
        "if overall >= 86:\n",
        "  print(\"A\")\n",
        "\n",
        "elif overall >= 74:\n",
        "  print(\"B\")\n",
        "\n",
        "elif overall >= 62:\n",
        "  print(\"C\")\n",
        "\n",
        "elif overall >= 54:\n",
        "  print(\"D\")\n",
        "\n",
        "else:\n",
        "  print(\"F\")"
      ],
      "execution_count": null,
      "outputs": [
        {
          "output_type": "stream",
          "text": [
            "C\n"
          ],
          "name": "stdout"
        }
      ]
    },
    {
      "cell_type": "code",
      "metadata": {
        "colab": {
          "base_uri": "https://localhost:8080/"
        },
        "id": "Xq7MG-4AP8-C",
        "outputId": "f9482844-44ef-43f0-c74f-50656dab2685"
      },
      "source": [
        "if overall >= 86:\n",
        "  letter = \"A\"\n",
        "\n",
        "elif overall >= 74:\n",
        "  letter = \"B\"\n",
        "\n",
        "elif overall >= 62:\n",
        "  letter = \"C\"\n",
        "\n",
        "elif overall >= 54:\n",
        "  letter = \"D\"\n",
        "\n",
        "else:\n",
        "  letter = \"F\"\n",
        "\n",
        "print(letter)"
      ],
      "execution_count": null,
      "outputs": [
        {
          "output_type": "stream",
          "text": [
            "C\n"
          ],
          "name": "stdout"
        }
      ]
    },
    {
      "cell_type": "code",
      "metadata": {
        "colab": {
          "base_uri": "https://localhost:8080/"
        },
        "id": "GYtuwkMOQQSu",
        "outputId": "b12061d8-e612-46b3-b87c-252d11abe034"
      },
      "source": [
        "if overall >= 86:\n",
        "  letter = \"A\"\n",
        "\n",
        "if overall >= 74:\n",
        "  letter = \"B\"\n",
        "\n",
        "if overall >= 62:\n",
        "  letter = \"C\"\n",
        "\n",
        "if overall >= 54:\n",
        "  letter = \"D\"\n",
        "\n",
        "else:\n",
        "  letter = \"F\"\n",
        "\n",
        "print(letter)"
      ],
      "execution_count": null,
      "outputs": [
        {
          "output_type": "stream",
          "text": [
            "D\n"
          ],
          "name": "stdout"
        }
      ]
    }
  ]
}