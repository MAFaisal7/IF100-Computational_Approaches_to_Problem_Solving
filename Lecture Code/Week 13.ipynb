{
  "nbformat": 4,
  "nbformat_minor": 0,
  "metadata": {
    "colab": {
      "name": "sectionA.ipynb",
      "provenance": [],
      "collapsed_sections": []
    },
    "kernelspec": {
      "name": "python3",
      "display_name": "Python 3"
    },
    "language_info": {
      "name": "python"
    }
  },
  "cells": [
    {
      "cell_type": "code",
      "metadata": {
        "id": "EKrFAzlIQXaM"
      },
      "source": [
        "inFile = open(\"example.txt\",\"r\")\n",
        "# processing\n",
        "inFile.close()"
      ],
      "execution_count": null,
      "outputs": []
    },
    {
      "cell_type": "code",
      "metadata": {
        "colab": {
          "base_uri": "https://localhost:8080/"
        },
        "id": "L3c0wASPWPe_",
        "outputId": "997e56bf-d257-47b8-e1f7-2b96f20f1766"
      },
      "source": [
        "inFile = open(\"example.txt\",\"r\")\n",
        "\n",
        "s = inFile.read()   # transfers the content to a string variable\n",
        "inFile.close()\n",
        "\n",
        "print(s)\n",
        "\n"
      ],
      "execution_count": null,
      "outputs": [
        {
          "output_type": "stream",
          "text": [
            "Hello IF100\n",
            "\n",
            "Have a nice week\n",
            "I'm happy\n"
          ],
          "name": "stdout"
        }
      ]
    },
    {
      "cell_type": "code",
      "metadata": {
        "colab": {
          "base_uri": "https://localhost:8080/",
          "height": 230
        },
        "id": "ZWV1QY7TWr6k",
        "outputId": "90cf9611-4ae4-4d97-97f2-f825911b3d55"
      },
      "source": [
        "inFile = open(\"example.txt\",\"r\")\n",
        "inFile.close()\n",
        "\n",
        "s = inFile.read()\n",
        "print(s)\n",
        "\n"
      ],
      "execution_count": null,
      "outputs": [
        {
          "output_type": "error",
          "ename": "ValueError",
          "evalue": "ignored",
          "traceback": [
            "\u001b[0;31m---------------------------------------------------------------------------\u001b[0m",
            "\u001b[0;31mValueError\u001b[0m                                Traceback (most recent call last)",
            "\u001b[0;32m<ipython-input-9-36bafee0bd97>\u001b[0m in \u001b[0;36m<module>\u001b[0;34m()\u001b[0m\n\u001b[1;32m      2\u001b[0m \u001b[0minFile\u001b[0m\u001b[0;34m.\u001b[0m\u001b[0mclose\u001b[0m\u001b[0;34m(\u001b[0m\u001b[0;34m)\u001b[0m\u001b[0;34m\u001b[0m\u001b[0;34m\u001b[0m\u001b[0m\n\u001b[1;32m      3\u001b[0m \u001b[0;34m\u001b[0m\u001b[0m\n\u001b[0;32m----> 4\u001b[0;31m \u001b[0ms\u001b[0m \u001b[0;34m=\u001b[0m \u001b[0minFile\u001b[0m\u001b[0;34m.\u001b[0m\u001b[0mread\u001b[0m\u001b[0;34m(\u001b[0m\u001b[0;34m)\u001b[0m\u001b[0;34m\u001b[0m\u001b[0;34m\u001b[0m\u001b[0m\n\u001b[0m\u001b[1;32m      5\u001b[0m \u001b[0mprint\u001b[0m\u001b[0;34m(\u001b[0m\u001b[0ms\u001b[0m\u001b[0;34m)\u001b[0m\u001b[0;34m\u001b[0m\u001b[0;34m\u001b[0m\u001b[0m\n\u001b[1;32m      6\u001b[0m \u001b[0;34m\u001b[0m\u001b[0m\n",
            "\u001b[0;31mValueError\u001b[0m: I/O operation on closed file."
          ]
        }
      ]
    },
    {
      "cell_type": "code",
      "metadata": {
        "colab": {
          "base_uri": "https://localhost:8080/"
        },
        "id": "gvfw2LL0W4ph",
        "outputId": "982061de-f5c9-4225-badf-3220fe7f7899"
      },
      "source": [
        "inFile = open(\"example.txt\",\"r\")\n",
        "\n",
        "fileList = inFile.readlines()\n",
        "inFile.close()\n",
        "\n",
        "print(fileList)\n",
        "\n",
        "for line in fileList:\n",
        "  print(line)\n"
      ],
      "execution_count": null,
      "outputs": [
        {
          "output_type": "stream",
          "text": [
            "['Hello IF100\\n', '\\n', 'Have a nice week\\n', \"I'm happy\"]\n",
            "Hello IF100\n",
            "\n",
            "\n",
            "\n",
            "Have a nice week\n",
            "\n",
            "I'm happy\n"
          ],
          "name": "stdout"
        }
      ]
    },
    {
      "cell_type": "code",
      "metadata": {
        "colab": {
          "base_uri": "https://localhost:8080/"
        },
        "id": "9k_fxjCBX6uc",
        "outputId": "45a3cbaf-d430-4563-cb96-1dbad271f3c6"
      },
      "source": [
        "inFile = open(\"example.txt\",\"r\")\n",
        "\n",
        "fileList = inFile.readlines()\n",
        "inFile.close()\n",
        "\n",
        "print(fileList)\n",
        "\n",
        "for line in fileList:\n",
        "  print(line, end=\"\")\n"
      ],
      "execution_count": null,
      "outputs": [
        {
          "output_type": "stream",
          "text": [
            "['Hello IF100\\n', '\\n', 'Have a nice week\\n', \"I'm happy\"]\n",
            "Hello IF100\n",
            "\n",
            "Have a nice week\n",
            "I'm happy"
          ],
          "name": "stdout"
        }
      ]
    },
    {
      "cell_type": "code",
      "metadata": {
        "colab": {
          "base_uri": "https://localhost:8080/"
        },
        "id": "ZExbBORPYpzD",
        "outputId": "3a65c1e6-3c87-442a-89b3-4c02c58b738f"
      },
      "source": [
        "print(\"duygu\", end=\"-\")\n",
        "print(\"altop\", end=\"\\n\")"
      ],
      "execution_count": null,
      "outputs": [
        {
          "output_type": "stream",
          "text": [
            "duygu-altop\n"
          ],
          "name": "stdout"
        }
      ]
    },
    {
      "cell_type": "code",
      "metadata": {
        "colab": {
          "base_uri": "https://localhost:8080/"
        },
        "id": "lW9BEJ4mYFQa",
        "outputId": "bc1ac844-b121-4838-f1cf-eed380bb568d"
      },
      "source": [
        "s = \"\\n \\tdu ygu\\n \\t\"\n",
        "print(s)\n",
        "s = s.strip()     # not split\n",
        "print(s)"
      ],
      "execution_count": null,
      "outputs": [
        {
          "output_type": "stream",
          "text": [
            "\n",
            " \tdu ygu\n",
            " \t\n",
            "du ygu\n"
          ],
          "name": "stdout"
        }
      ]
    },
    {
      "cell_type": "code",
      "metadata": {
        "colab": {
          "base_uri": "https://localhost:8080/"
        },
        "id": "Z3OBP__PYCH8",
        "outputId": "490c311e-6cd3-472e-ed51-a0ecd0258aae"
      },
      "source": [
        "inFile = open(\"example.txt\",\"r\")\n",
        "\n",
        "fileList = inFile.readlines()     # read the content in a list where the items are lines\n",
        "inFile.close()\n",
        "\n",
        "print(fileList)\n",
        "\n",
        "for line in fileList:\n",
        "  print(line.strip())\n"
      ],
      "execution_count": null,
      "outputs": [
        {
          "output_type": "stream",
          "text": [
            "['Hello IF100\\n', '\\n', 'Have a nice week\\n', \"I'm happy\"]\n",
            "Hello IF100\n",
            "\n",
            "Have a nice week\n",
            "I'm happy\n"
          ],
          "name": "stdout"
        }
      ]
    },
    {
      "cell_type": "code",
      "metadata": {
        "colab": {
          "base_uri": "https://localhost:8080/"
        },
        "id": "AbzT0ATtY9f1",
        "outputId": "07ede44e-07be-4d35-e3ed-a6a539c377a2"
      },
      "source": [
        "inFile = open(\"example.txt\",\"r\")\n",
        "\n",
        "for abc in inFile:\n",
        "  abc = abc.strip()\n",
        "  print(abc) \n",
        "\n",
        "inFile.close()\n",
        "\n"
      ],
      "execution_count": null,
      "outputs": [
        {
          "output_type": "stream",
          "text": [
            "Hello IF100\n",
            "\n",
            "Have a nice week\n",
            "I'm happy\n"
          ],
          "name": "stdout"
        }
      ]
    },
    {
      "cell_type": "code",
      "metadata": {
        "colab": {
          "base_uri": "https://localhost:8080/"
        },
        "id": "sINEqFfIZnMq",
        "outputId": "22d6879a-e95e-4016-f011-783e6d871383"
      },
      "source": [
        "state = input(\"Enter a state: \")\n",
        "\n",
        "inputFile = open(\"ufoDataset.txt\", \"r\")\n",
        "\n",
        "lineCounter = 1\n",
        "counter = 0\n",
        "\n",
        "\n",
        "for line in inputFile:\n",
        "  line = line.strip()\n",
        "  #print(line)\n",
        "\n",
        "  \"\"\"\n",
        "  if (\",\"+state+\",\") in line:\n",
        "    print(lineCounter, \"---\")\n",
        "  \"\"\"\n",
        "\n",
        "  info = line.split(\",\")\n",
        "  #print(info[-2])\n",
        "  if info[-2] == state:\n",
        "    counter += 1\n",
        "\n",
        "  lineCounter += 1\n",
        "  if lineCounter == 21:\n",
        "    break\n",
        "\n",
        "inputFile.close()\n",
        "\n",
        "print(\"The number of reports is\", counter)"
      ],
      "execution_count": null,
      "outputs": [
        {
          "output_type": "stream",
          "text": [
            "Enter a state: State\n",
            "The number of reports is 1\n"
          ],
          "name": "stdout"
        }
      ]
    },
    {
      "cell_type": "code",
      "metadata": {
        "colab": {
          "base_uri": "https://localhost:8080/"
        },
        "id": "bPnjcmN1cqzx",
        "outputId": "55c605a2-1400-4127-8ba6-14a4d9467c1a"
      },
      "source": [
        "state = input(\"Enter a state: \")\n",
        "\n",
        "inputFile = open(\"ufoDataset.txt\", \"r\")\n",
        "\n",
        "lineCounter = 1\n",
        "counter = 0\n",
        "\n",
        "for line in inputFile:\n",
        "  if lineCounter != 1:\n",
        "    line = line.strip()\n",
        "    info = line.split(\",\")\n",
        "    if info[-2] == state:\n",
        "      counter += 1\n",
        "    lineCounter += 1\n",
        "\n",
        "\n",
        "inputFile.close()\n",
        "\n",
        "print(\"The number of reports is\", counter)"
      ],
      "execution_count": null,
      "outputs": [
        {
          "output_type": "stream",
          "text": [
            "Enter a state: State\n",
            "The number of reports is 0\n"
          ],
          "name": "stdout"
        }
      ]
    },
    {
      "cell_type": "code",
      "metadata": {
        "colab": {
          "base_uri": "https://localhost:8080/"
        },
        "id": "NoQyQYDVc-Kf",
        "outputId": "7088cf82-35db-4c04-b225-16d35f47b983"
      },
      "source": [
        "state = input(\"Enter a state: \")\n",
        "inputFile = open(\"ufoDataset.txt\", \"r\")\n",
        "counter = 0\n",
        "\n",
        "inputFile.readline()\n",
        "\n",
        "for line in inputFile:\n",
        "  line = line.strip()\n",
        "  info = line.split(\",\")\n",
        "  if info[-2] == state:\n",
        "    counter += 1\n",
        "\n",
        "\n",
        "inputFile.close()\n",
        "\n",
        "print(\"The number of reports is\", counter)"
      ],
      "execution_count": null,
      "outputs": [
        {
          "output_type": "stream",
          "text": [
            "Enter a state: State\n",
            "The number of reports is 0\n"
          ],
          "name": "stdout"
        }
      ]
    },
    {
      "cell_type": "code",
      "metadata": {
        "colab": {
          "base_uri": "https://localhost:8080/"
        },
        "id": "qM12gVJKdcLn",
        "outputId": "4b95f463-ac63-494e-f049-bcbd82494a22"
      },
      "source": [
        "state = input(\"Enter a state: \")\n",
        "inputFile = open(\"ufoDataset.txt\", \"r\")\n",
        "counter = 0\n",
        "\n",
        "fileLines = inputFile.readlines()\n",
        "\n",
        "for line in fileLines[1:]:\n",
        "  line = line.strip()\n",
        "  info = line.split(\",\")\n",
        "  if info[-2] == state:\n",
        "    counter += 1\n",
        "\n",
        "\n",
        "inputFile.close()\n",
        "\n",
        "print(\"The number of reports is\", counter)"
      ],
      "execution_count": null,
      "outputs": [
        {
          "output_type": "stream",
          "text": [
            "Enter a state: State\n",
            "The number of reports is 0\n"
          ],
          "name": "stdout"
        }
      ]
    },
    {
      "cell_type": "code",
      "metadata": {
        "colab": {
          "base_uri": "https://localhost:8080/"
        },
        "id": "OznLXoFCdtsM",
        "outputId": "306503c5-7997-4cf5-d025-d44f6287cd2c"
      },
      "source": [
        "state = input(\"Enter a state: \")\n",
        "inputFile = open(\"ufoDataset.txt\", \"r\")\n",
        "counter = 0\n",
        "\n",
        "fileLines = inputFile.readlines()\n",
        "\n",
        "for line in range(1,len(fileLines)):\n",
        "  info = fileLines[line].split(\",\")\n",
        "  if info[-2] == state:\n",
        "    counter += 1\n",
        "\n",
        "\n",
        "inputFile.close()\n",
        "\n",
        "print(\"The number of reports is\", counter)"
      ],
      "execution_count": null,
      "outputs": [
        {
          "output_type": "stream",
          "text": [
            "Enter a state: CA\n",
            "The number of reports is 2529\n"
          ],
          "name": "stdout"
        }
      ]
    },
    {
      "cell_type": "code",
      "metadata": {
        "id": "ZFW3octVeFTl"
      },
      "source": [
        "state = input(\"Enter a state: \")\n",
        "inputFile = open(\"ufoDataset.txt\", \"r\")\n",
        "counter = 0\n",
        "\n",
        "strFile = inputFile.read()\n",
        "listFile = s.split(\"\\n\")\n",
        "\n",
        "for line in listFile:\n",
        "  line = line.strip()\n",
        "  info = line.split(\",\")\n",
        "  if info[-2] == state:\n",
        "    counter += 1\n",
        "\n",
        "\n",
        "inputFile.close()\n",
        "\n",
        "print(\"The number of reports is\", counter)"
      ],
      "execution_count": null,
      "outputs": []
    },
    {
      "cell_type": "code",
      "metadata": {
        "colab": {
          "base_uri": "https://localhost:8080/"
        },
        "id": "dVILoCfyekgQ",
        "outputId": "b5588065-c942-4f65-8c47-aad62c082c87"
      },
      "source": [
        "inputFile = open(\"ufoDataset.txt\", \"r\")\n",
        "\n",
        "s = inputFile.readline()\n",
        "print(s)\n",
        "\n",
        "inputFile.seek(0)\n",
        "\n",
        "s = inputFile.readline()\n",
        "print(s)\n",
        "\n",
        "inputFile.close()\n"
      ],
      "execution_count": null,
      "outputs": [
        {
          "output_type": "stream",
          "text": [
            "City,Colors Reported,Shape Reported,State,Time\n",
            "\n",
            "City,Colors Reported,Shape Reported,State,Time\n",
            "\n"
          ],
          "name": "stdout"
        }
      ]
    },
    {
      "cell_type": "code",
      "metadata": {
        "id": "X7FKxkTYfIa2"
      },
      "source": [
        "outFile = open(\"test.txt\",\"w\")\n",
        "\n",
        "outFile.write(\"hello\")\n",
        "\n",
        "outFile.close()"
      ],
      "execution_count": null,
      "outputs": []
    },
    {
      "cell_type": "code",
      "metadata": {
        "id": "25Yr9ykmfrTb"
      },
      "source": [
        "outFile = open(\"test.txt\",\"a\")\n",
        "\n",
        "outFile.write(\"hello\")\n",
        "\n",
        "outFile.close()"
      ],
      "execution_count": null,
      "outputs": []
    },
    {
      "cell_type": "code",
      "metadata": {
        "colab": {
          "base_uri": "https://localhost:8080/"
        },
        "id": "IHYitYmQkSnm",
        "outputId": "fee7a206-c2b2-4aa8-81c3-ed3ee1e79f66"
      },
      "source": [
        "inFile = open(\"ciphertext.txt\", \"r\")\n",
        "ciphertext = inFile.read()\n",
        "inFile.close()\n",
        "\n",
        "print(ciphertext)"
      ],
      "execution_count": null,
      "outputs": [
        {
          "output_type": "stream",
          "text": [
            "PCIFBSACIHV OBR PIFBZSM TOBG OFS DFCPOPZM TSR ID CT HVSWF AOBOUSFG PSWBU ZWBYSR KWHV CHVSF XCPG WB HVS DFSAWSF ZSOUIS PIH IBTCFHIBOHSZM HVOH QCASG VOBR WB VOBR KWHV HVS GIQQSGG HVOH SRRWS VCKS OBR GSOB RMQVS VOJS PFCIUVH HC HVSWF QZIPG.\n",
            "\n",
            "HVS QVOZZSBUS HVSM'FS PCHV HOQYZWBU WG HC AOYS HVCGS QZIPG O FSUIZOF TWLHIFS WB HVS DFSAWSF ZSOUIS OBR HVSM'FS RCWBU O DFSHHM UCCR XCP CT WH - PCIFBSACIHV VOJS FSQCJSFSR KSZZ HVWG GSOGCB OTHSF ZCGWBU TWJS CT HVSWF TWFGH GWL UOASG.\n"
          ],
          "name": "stdout"
        }
      ]
    },
    {
      "cell_type": "code",
      "metadata": {
        "colab": {
          "base_uri": "https://localhost:8080/"
        },
        "id": "stRGpJ8IkcE-",
        "outputId": "e002b73b-5c6a-48a3-e965-877f201a3d8a"
      },
      "source": [
        "d = {}\n",
        "\n",
        "d[\"duygu\"] = 37\n",
        "\n",
        "d"
      ],
      "execution_count": null,
      "outputs": [
        {
          "output_type": "execute_result",
          "data": {
            "text/plain": [
              "{'duygu': 37}"
            ]
          },
          "metadata": {
            "tags": []
          },
          "execution_count": 55
        }
      ]
    },
    {
      "cell_type": "code",
      "metadata": {
        "colab": {
          "base_uri": "https://localhost:8080/"
        },
        "id": "eOIBOJH0oJZR",
        "outputId": "52bc4801-5246-4aec-c0c9-69a61513b6d8"
      },
      "source": [
        "d[\"duygu\"]"
      ],
      "execution_count": null,
      "outputs": [
        {
          "output_type": "execute_result",
          "data": {
            "text/plain": [
              "37"
            ]
          },
          "metadata": {
            "tags": []
          },
          "execution_count": 56
        }
      ]
    },
    {
      "cell_type": "code",
      "metadata": {
        "colab": {
          "base_uri": "https://localhost:8080/"
        },
        "id": "Sllf8964ooR1",
        "outputId": "e5cc73b7-e6e9-4c83-b2f6-a1387e86b786"
      },
      "source": [
        "d[\"inanc\"] = 33\n",
        "d[\"ada\"] = 4\n",
        "print(d)"
      ],
      "execution_count": null,
      "outputs": [
        {
          "output_type": "stream",
          "text": [
            "{'duygu': 37, 'inanc': 33, 'ada': 4}\n"
          ],
          "name": "stdout"
        }
      ]
    },
    {
      "cell_type": "code",
      "metadata": {
        "colab": {
          "base_uri": "https://localhost:8080/"
        },
        "id": "pkY98HnhoxJE",
        "outputId": "4cd8eb07-c7a8-4a23-a586-69819de2359b"
      },
      "source": [
        "d[\"ada\"]"
      ],
      "execution_count": null,
      "outputs": [
        {
          "output_type": "execute_result",
          "data": {
            "text/plain": [
              "4"
            ]
          },
          "metadata": {
            "tags": []
          },
          "execution_count": 58
        }
      ]
    },
    {
      "cell_type": "code",
      "metadata": {
        "colab": {
          "base_uri": "https://localhost:8080/"
        },
        "id": "1yxBYGcJo2qy",
        "outputId": "5cf7a691-1a91-43a1-8d23-41a15111c3d2"
      },
      "source": [
        "d[\"ada\"] = 3.5\n",
        "print(d)"
      ],
      "execution_count": null,
      "outputs": [
        {
          "output_type": "stream",
          "text": [
            "{'duygu': 37, 'inanc': 33, 'ada': 3.5}\n"
          ],
          "name": "stdout"
        }
      ]
    },
    {
      "cell_type": "code",
      "metadata": {
        "colab": {
          "base_uri": "https://localhost:8080/"
        },
        "id": "Yhb0JO33qYls",
        "outputId": "4abff7ae-230c-4e4f-b4e8-54e57b1c8c5e"
      },
      "source": [
        "d[\"ada\"]"
      ],
      "execution_count": null,
      "outputs": [
        {
          "output_type": "execute_result",
          "data": {
            "text/plain": [
              "3.5"
            ]
          },
          "metadata": {
            "tags": []
          },
          "execution_count": 60
        }
      ]
    },
    {
      "cell_type": "code",
      "metadata": {
        "colab": {
          "base_uri": "https://localhost:8080/",
          "height": 162
        },
        "id": "hs24bTN0qgtU",
        "outputId": "a815d636-6c26-407d-b1b9-e4cb55ba0158"
      },
      "source": [
        "d[37]"
      ],
      "execution_count": null,
      "outputs": [
        {
          "output_type": "error",
          "ename": "KeyError",
          "evalue": "ignored",
          "traceback": [
            "\u001b[0;31m---------------------------------------------------------------------------\u001b[0m",
            "\u001b[0;31mKeyError\u001b[0m                                  Traceback (most recent call last)",
            "\u001b[0;32m<ipython-input-61-ac544f49f2bb>\u001b[0m in \u001b[0;36m<module>\u001b[0;34m()\u001b[0m\n\u001b[0;32m----> 1\u001b[0;31m \u001b[0md\u001b[0m\u001b[0;34m[\u001b[0m\u001b[0;36m37\u001b[0m\u001b[0;34m]\u001b[0m\u001b[0;34m\u001b[0m\u001b[0;34m\u001b[0m\u001b[0m\n\u001b[0m",
            "\u001b[0;31mKeyError\u001b[0m: 37"
          ]
        }
      ]
    },
    {
      "cell_type": "code",
      "metadata": {
        "colab": {
          "base_uri": "https://localhost:8080/",
          "height": 162
        },
        "id": "2Lr4aFKQqn7a",
        "outputId": "fb0b761d-ca1d-491e-8e83-037b0e350cec"
      },
      "source": [
        "d[\"adc\"]"
      ],
      "execution_count": null,
      "outputs": [
        {
          "output_type": "error",
          "ename": "KeyError",
          "evalue": "ignored",
          "traceback": [
            "\u001b[0;31m---------------------------------------------------------------------------\u001b[0m",
            "\u001b[0;31mKeyError\u001b[0m                                  Traceback (most recent call last)",
            "\u001b[0;32m<ipython-input-62-b34a657ae91a>\u001b[0m in \u001b[0;36m<module>\u001b[0;34m()\u001b[0m\n\u001b[0;32m----> 1\u001b[0;31m \u001b[0md\u001b[0m\u001b[0;34m[\u001b[0m\u001b[0;34m\"adc\"\u001b[0m\u001b[0;34m]\u001b[0m\u001b[0;34m\u001b[0m\u001b[0;34m\u001b[0m\u001b[0m\n\u001b[0m",
            "\u001b[0;31mKeyError\u001b[0m: 'adc'"
          ]
        }
      ]
    },
    {
      "cell_type": "code",
      "metadata": {
        "colab": {
          "base_uri": "https://localhost:8080/",
          "height": 162
        },
        "id": "ONHSkN85qtTp",
        "outputId": "d707038d-00fc-4004-f1a7-7862ab008692"
      },
      "source": [
        "d[\"ad\"]"
      ],
      "execution_count": null,
      "outputs": [
        {
          "output_type": "error",
          "ename": "KeyError",
          "evalue": "ignored",
          "traceback": [
            "\u001b[0;31m---------------------------------------------------------------------------\u001b[0m",
            "\u001b[0;31mKeyError\u001b[0m                                  Traceback (most recent call last)",
            "\u001b[0;32m<ipython-input-63-2083f8104daf>\u001b[0m in \u001b[0;36m<module>\u001b[0;34m()\u001b[0m\n\u001b[0;32m----> 1\u001b[0;31m \u001b[0md\u001b[0m\u001b[0;34m[\u001b[0m\u001b[0;34m\"ad\"\u001b[0m\u001b[0;34m]\u001b[0m\u001b[0;34m\u001b[0m\u001b[0;34m\u001b[0m\u001b[0m\n\u001b[0m",
            "\u001b[0;31mKeyError\u001b[0m: 'ad'"
          ]
        }
      ]
    },
    {
      "cell_type": "code",
      "metadata": {
        "colab": {
          "base_uri": "https://localhost:8080/"
        },
        "id": "wjwW8an_qxcr",
        "outputId": "f26821ad-ce42-4d00-b673-6fc27061531d"
      },
      "source": [
        "\"ada\" in d. #FASTER"
      ],
      "execution_count": null,
      "outputs": [
        {
          "output_type": "execute_result",
          "data": {
            "text/plain": [
              "True"
            ]
          },
          "metadata": {
            "tags": []
          },
          "execution_count": 64
        }
      ]
    },
    {
      "cell_type": "code",
      "metadata": {
        "colab": {
          "base_uri": "https://localhost:8080/"
        },
        "id": "_9GbVFS2q1eo",
        "outputId": "ff7b4f04-be1f-4680-e84b-926ab07c532d"
      },
      "source": [
        "33 in d"
      ],
      "execution_count": null,
      "outputs": [
        {
          "output_type": "execute_result",
          "data": {
            "text/plain": [
              "False"
            ]
          },
          "metadata": {
            "tags": []
          },
          "execution_count": 65
        }
      ]
    },
    {
      "cell_type": "code",
      "metadata": {
        "colab": {
          "base_uri": "https://localhost:8080/"
        },
        "id": "yI6RcfbXq_yn",
        "outputId": "85368f1c-d08d-4e64-e36f-b84df3a5e44e"
      },
      "source": [
        "d.keys()"
      ],
      "execution_count": null,
      "outputs": [
        {
          "output_type": "execute_result",
          "data": {
            "text/plain": [
              "dict_keys(['duygu', 'inanc', 'ada'])"
            ]
          },
          "metadata": {
            "tags": []
          },
          "execution_count": 66
        }
      ]
    },
    {
      "cell_type": "code",
      "metadata": {
        "colab": {
          "base_uri": "https://localhost:8080/"
        },
        "id": "KvQ6IQexrGwb",
        "outputId": "3f7bfde2-aa67-41ff-c58c-4f1f43a8aa54"
      },
      "source": [
        "\"ada\" in d.keys() # DONT USE IT"
      ],
      "execution_count": null,
      "outputs": [
        {
          "output_type": "execute_result",
          "data": {
            "text/plain": [
              "True"
            ]
          },
          "metadata": {
            "tags": []
          },
          "execution_count": 67
        }
      ]
    },
    {
      "cell_type": "code",
      "metadata": {
        "colab": {
          "base_uri": "https://localhost:8080/"
        },
        "id": "yu7Xiy7NrSPl",
        "outputId": "7f05174e-4875-4af6-d74e-dc5c59cf8c15"
      },
      "source": [
        "d.values()"
      ],
      "execution_count": null,
      "outputs": [
        {
          "output_type": "execute_result",
          "data": {
            "text/plain": [
              "dict_values([37, 33, 3.5])"
            ]
          },
          "metadata": {
            "tags": []
          },
          "execution_count": 68
        }
      ]
    },
    {
      "cell_type": "code",
      "metadata": {
        "colab": {
          "base_uri": "https://localhost:8080/"
        },
        "id": "1JP5m7UArWI0",
        "outputId": "266e4666-e286-460f-8273-dad4ac249cc1"
      },
      "source": [
        "33 in d.values()"
      ],
      "execution_count": null,
      "outputs": [
        {
          "output_type": "execute_result",
          "data": {
            "text/plain": [
              "True"
            ]
          },
          "metadata": {
            "tags": []
          },
          "execution_count": 70
        }
      ]
    },
    {
      "cell_type": "code",
      "metadata": {
        "colab": {
          "base_uri": "https://localhost:8080/"
        },
        "id": "CXQmeW0Gra1M",
        "outputId": "c1fec937-88c5-4453-b1e2-9f1687148bed"
      },
      "source": [
        "d.items()"
      ],
      "execution_count": null,
      "outputs": [
        {
          "output_type": "execute_result",
          "data": {
            "text/plain": [
              "dict_items([('duygu', 37), ('inanc', 33), ('ada', 3.5)])"
            ]
          },
          "metadata": {
            "tags": []
          },
          "execution_count": 71
        }
      ]
    },
    {
      "cell_type": "code",
      "metadata": {
        "colab": {
          "base_uri": "https://localhost:8080/"
        },
        "id": "59a1q85grfAn",
        "outputId": "3ac91c4d-9d7e-488d-ef5b-262ef0887dcc"
      },
      "source": [
        "for item in d.items():\n",
        "  print(item)"
      ],
      "execution_count": null,
      "outputs": [
        {
          "output_type": "stream",
          "text": [
            "('duygu', 37)\n",
            "('inanc', 33)\n",
            "('ada', 3.5)\n"
          ],
          "name": "stdout"
        }
      ]
    },
    {
      "cell_type": "code",
      "metadata": {
        "colab": {
          "base_uri": "https://localhost:8080/"
        },
        "id": "fA-Oht-Trp6w",
        "outputId": "7a0f7f37-7157-4068-94d6-bc19cc61da3b"
      },
      "source": [
        "for a, b in d.items():\n",
        "  print(a, b)"
      ],
      "execution_count": null,
      "outputs": [
        {
          "output_type": "stream",
          "text": [
            "duygu 37\n",
            "inanc 33\n",
            "ada 3.5\n"
          ],
          "name": "stdout"
        }
      ]
    },
    {
      "cell_type": "code",
      "metadata": {
        "colab": {
          "base_uri": "https://localhost:8080/"
        },
        "id": "EOot85Inr88v",
        "outputId": "9085a941-1c6a-40db-ce79-23f4c97e3841"
      },
      "source": [
        "d = {}\n",
        "\n",
        "for i in range(3):\n",
        "  name = input(\"Name: \")\n",
        "  age = int(input(\"Age: \"))\n",
        "  #d[name] = age\n",
        "\n",
        "  \n",
        "  if name not in d:\n",
        "    d[name] = [age]\n",
        "  else:\n",
        "    d[name].append(age)\n",
        "  \n",
        "print(d)"
      ],
      "execution_count": null,
      "outputs": [
        {
          "output_type": "stream",
          "text": [
            "Name: ada\n",
            "Age: 3\n",
            "Name: ada\n",
            "Age: 4\n",
            "Name: duygu\n",
            "Age: 23\n",
            "{'ada': [3, 4], 'duygu': [23]}\n"
          ],
          "name": "stdout"
        }
      ]
    },
    {
      "cell_type": "code",
      "metadata": {
        "colab": {
          "base_uri": "https://localhost:8080/"
        },
        "id": "bRpbm6aXtXlX",
        "outputId": "0a5a439a-1f0c-4536-d922-9fa35c82ce6f"
      },
      "source": [
        "d"
      ],
      "execution_count": null,
      "outputs": [
        {
          "output_type": "execute_result",
          "data": {
            "text/plain": [
              "{'ada': [3, 4], 'duygu': [23]}"
            ]
          },
          "metadata": {
            "tags": []
          },
          "execution_count": 78
        }
      ]
    },
    {
      "cell_type": "code",
      "metadata": {
        "colab": {
          "base_uri": "https://localhost:8080/"
        },
        "id": "KMM-xFpytX71",
        "outputId": "8ec67de2-bc28-4915-c5eb-4b637f5f26c4"
      },
      "source": [
        "d.pop(\"duygu\")"
      ],
      "execution_count": null,
      "outputs": [
        {
          "output_type": "execute_result",
          "data": {
            "text/plain": [
              "[23]"
            ]
          },
          "metadata": {
            "tags": []
          },
          "execution_count": 79
        }
      ]
    },
    {
      "cell_type": "code",
      "metadata": {
        "colab": {
          "base_uri": "https://localhost:8080/"
        },
        "id": "jkOgNgH9tdz1",
        "outputId": "924f6644-20c6-4415-9594-8b8e08c7dc74"
      },
      "source": [
        "print(d)"
      ],
      "execution_count": null,
      "outputs": [
        {
          "output_type": "stream",
          "text": [
            "{'ada': [3, 4]}\n"
          ],
          "name": "stdout"
        }
      ]
    }
  ]
}