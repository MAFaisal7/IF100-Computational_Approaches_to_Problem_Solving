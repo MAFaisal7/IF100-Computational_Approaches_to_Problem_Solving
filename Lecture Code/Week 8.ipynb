{
  "nbformat": 4,
  "nbformat_minor": 0,
  "metadata": {
    "colab": {
      "name": "sectionA.ipynb",
      "provenance": [],
      "collapsed_sections": []
    },
    "kernelspec": {
      "name": "python3",
      "display_name": "Python 3"
    },
    "language_info": {
      "name": "python"
    }
  },
  "cells": [
    {
      "cell_type": "code",
      "metadata": {
        "colab": {
          "base_uri": "https://localhost:8080/"
        },
        "id": "rJCNO5ytA7eU",
        "outputId": "1b17eaba-eba2-4f27-be04-4ece0360d647"
      },
      "source": [
        "for var in [10, 20, 30]:\n",
        "  print(var)"
      ],
      "execution_count": null,
      "outputs": [
        {
          "output_type": "stream",
          "text": [
            "10\n",
            "20\n",
            "30\n"
          ],
          "name": "stdout"
        }
      ]
    },
    {
      "cell_type": "code",
      "metadata": {
        "colab": {
          "base_uri": "https://localhost:8080/"
        },
        "id": "-KrmeU9zF7sL",
        "outputId": "5d7d54b9-a476-4867-cb69-5a900e73e8da"
      },
      "source": [
        "for var in [10, 20, 30]:\n",
        "  print(\"hello\")"
      ],
      "execution_count": null,
      "outputs": [
        {
          "output_type": "stream",
          "text": [
            "hello\n",
            "hello\n",
            "hello\n"
          ],
          "name": "stdout"
        }
      ]
    },
    {
      "cell_type": "code",
      "metadata": {
        "colab": {
          "base_uri": "https://localhost:8080/"
        },
        "id": "-L9tlM4bGdVX",
        "outputId": "513e2dea-48d7-470c-91c4-e0ba5fcf8497"
      },
      "source": [
        "myList = [10, 20, 30]\n",
        "for x in myList:\n",
        "  print(x)"
      ],
      "execution_count": null,
      "outputs": [
        {
          "output_type": "stream",
          "text": [
            "10\n",
            "20\n",
            "30\n"
          ],
          "name": "stdout"
        }
      ]
    },
    {
      "cell_type": "code",
      "metadata": {
        "colab": {
          "base_uri": "https://localhost:8080/"
        },
        "id": "1wnbwdTjGtZE",
        "outputId": "51feae2c-def6-467c-f73b-82d207827671"
      },
      "source": [
        "for y in \"duygu altop\":\n",
        "  print(y)"
      ],
      "execution_count": null,
      "outputs": [
        {
          "output_type": "stream",
          "text": [
            "d\n",
            "u\n",
            "y\n",
            "g\n",
            "u\n",
            " \n",
            "a\n",
            "l\n",
            "t\n",
            "o\n",
            "p\n"
          ],
          "name": "stdout"
        }
      ]
    },
    {
      "cell_type": "code",
      "metadata": {
        "colab": {
          "base_uri": "https://localhost:8080/"
        },
        "id": "sclLwfFoHFu0",
        "outputId": "7e72b798-82e2-417e-da08-e49090635931"
      },
      "source": [
        "for x in range(3):    # 0, 1, 2\n",
        "  print(\"hello\")"
      ],
      "execution_count": null,
      "outputs": [
        {
          "output_type": "stream",
          "text": [
            "hello\n",
            "hello\n",
            "hello\n"
          ],
          "name": "stdout"
        }
      ]
    },
    {
      "cell_type": "code",
      "metadata": {
        "colab": {
          "base_uri": "https://localhost:8080/"
        },
        "id": "ciQyp9YiHb7d",
        "outputId": "29b7b0d7-1607-4eea-f507-9a96e779833b"
      },
      "source": [
        "for x in range(3):    # 0, 1, 2\n",
        "  print(\"hello1\")\n",
        "  print(\"hello2\")"
      ],
      "execution_count": null,
      "outputs": [
        {
          "output_type": "stream",
          "text": [
            "hello1\n",
            "hello2\n",
            "hello1\n",
            "hello2\n",
            "hello1\n",
            "hello2\n"
          ],
          "name": "stdout"
        }
      ]
    },
    {
      "cell_type": "code",
      "metadata": {
        "colab": {
          "base_uri": "https://localhost:8080/"
        },
        "id": "hjlLUMVjHq34",
        "outputId": "925a8def-932b-4947-8c0e-b3c24c4bb5a6"
      },
      "source": [
        "for x in range(3):    # 0, 1, 2\n",
        "  print(\"hello1\")\n",
        "  print(\"hello2\")\n",
        "print(\"hello3\")"
      ],
      "execution_count": null,
      "outputs": [
        {
          "output_type": "stream",
          "text": [
            "hello1\n",
            "hello2\n",
            "hello1\n",
            "hello2\n",
            "hello1\n",
            "hello2\n",
            "hello3\n"
          ],
          "name": "stdout"
        }
      ]
    },
    {
      "cell_type": "code",
      "metadata": {
        "colab": {
          "base_uri": "https://localhost:8080/"
        },
        "id": "Uo4SYThGH8wo",
        "outputId": "854b73eb-321e-4f5b-abe3-0c0f330c702d"
      },
      "source": [
        "myList = [10,20,30,40,50]\n",
        "for x in range(5):    # 0, 1, 2, 3, 4\n",
        "  print(x)"
      ],
      "execution_count": null,
      "outputs": [
        {
          "output_type": "stream",
          "text": [
            "0\n",
            "1\n",
            "2\n",
            "3\n",
            "4\n"
          ],
          "name": "stdout"
        }
      ]
    },
    {
      "cell_type": "code",
      "metadata": {
        "colab": {
          "base_uri": "https://localhost:8080/"
        },
        "id": "1sG_bHPLIVGz",
        "outputId": "c124bebb-fd78-4236-f6ae-f464b7e27297"
      },
      "source": [
        "# iterating over items\n",
        "myList = [10,20,30,40,50]\n",
        "for x in myList: \n",
        "  print(x)"
      ],
      "execution_count": null,
      "outputs": [
        {
          "output_type": "stream",
          "text": [
            "10\n",
            "20\n",
            "30\n",
            "40\n",
            "50\n"
          ],
          "name": "stdout"
        }
      ]
    },
    {
      "cell_type": "code",
      "metadata": {
        "colab": {
          "base_uri": "https://localhost:8080/"
        },
        "id": "kyvvfkuQIfZp",
        "outputId": "32d9e26d-37ae-48f8-f128-4eb80e5ed350"
      },
      "source": [
        "# iterating over indices\n",
        "myList = [10,20,30,40,50]\n",
        "for x in range(5):    # 0, 1, 2, 3, 4\n",
        "  print(myList[x])"
      ],
      "execution_count": null,
      "outputs": [
        {
          "output_type": "stream",
          "text": [
            "10\n",
            "20\n",
            "30\n",
            "40\n",
            "50\n"
          ],
          "name": "stdout"
        }
      ]
    },
    {
      "cell_type": "code",
      "metadata": {
        "colab": {
          "base_uri": "https://localhost:8080/"
        },
        "id": "ExnyniFMJuf5",
        "outputId": "dfc71984-09eb-4f81-cdc7-ee9def3e57aa"
      },
      "source": [
        "# iterating over indices\n",
        "myList = [10,20,30,40,50]\n",
        "for x in range(4):  # 0, 1, 2, 3  \n",
        "  print(myList[x])"
      ],
      "execution_count": null,
      "outputs": [
        {
          "output_type": "stream",
          "text": [
            "10\n",
            "20\n",
            "30\n",
            "40\n"
          ],
          "name": "stdout"
        }
      ]
    },
    {
      "cell_type": "code",
      "metadata": {
        "colab": {
          "base_uri": "https://localhost:8080/",
          "height": 283
        },
        "id": "g2xExwKxJ2Qb",
        "outputId": "89e558f1-0056-4336-ee92-18f467c57aca"
      },
      "source": [
        "# iterating over indices\n",
        "myList = [10,20,30,40,50]\n",
        "for x in range(6):  # 0, 1, 2, 3, 4, 5\n",
        "  print(myList[x])"
      ],
      "execution_count": null,
      "outputs": [
        {
          "output_type": "stream",
          "text": [
            "10\n",
            "20\n",
            "30\n",
            "40\n",
            "50\n"
          ],
          "name": "stdout"
        },
        {
          "output_type": "error",
          "ename": "IndexError",
          "evalue": "ignored",
          "traceback": [
            "\u001b[0;31m---------------------------------------------------------------------------\u001b[0m",
            "\u001b[0;31mIndexError\u001b[0m                                Traceback (most recent call last)",
            "\u001b[0;32m<ipython-input-13-f446b8953eea>\u001b[0m in \u001b[0;36m<module>\u001b[0;34m()\u001b[0m\n\u001b[1;32m      2\u001b[0m \u001b[0mmyList\u001b[0m \u001b[0;34m=\u001b[0m \u001b[0;34m[\u001b[0m\u001b[0;36m10\u001b[0m\u001b[0;34m,\u001b[0m\u001b[0;36m20\u001b[0m\u001b[0;34m,\u001b[0m\u001b[0;36m30\u001b[0m\u001b[0;34m,\u001b[0m\u001b[0;36m40\u001b[0m\u001b[0;34m,\u001b[0m\u001b[0;36m50\u001b[0m\u001b[0;34m]\u001b[0m\u001b[0;34m\u001b[0m\u001b[0;34m\u001b[0m\u001b[0m\n\u001b[1;32m      3\u001b[0m \u001b[0;32mfor\u001b[0m \u001b[0mx\u001b[0m \u001b[0;32min\u001b[0m \u001b[0mrange\u001b[0m\u001b[0;34m(\u001b[0m\u001b[0;36m6\u001b[0m\u001b[0;34m)\u001b[0m\u001b[0;34m:\u001b[0m  \u001b[0;31m# 0, 1, 2, 3, 4, 5\u001b[0m\u001b[0;34m\u001b[0m\u001b[0;34m\u001b[0m\u001b[0m\n\u001b[0;32m----> 4\u001b[0;31m   \u001b[0mprint\u001b[0m\u001b[0;34m(\u001b[0m\u001b[0mmyList\u001b[0m\u001b[0;34m[\u001b[0m\u001b[0mx\u001b[0m\u001b[0;34m]\u001b[0m\u001b[0;34m)\u001b[0m\u001b[0;34m\u001b[0m\u001b[0;34m\u001b[0m\u001b[0m\n\u001b[0m",
            "\u001b[0;31mIndexError\u001b[0m: list index out of range"
          ]
        }
      ]
    },
    {
      "cell_type": "code",
      "metadata": {
        "colab": {
          "base_uri": "https://localhost:8080/"
        },
        "id": "9RJMufGfKI3f",
        "outputId": "a75ba50c-5f8a-4d0e-a1b6-1ccd06fb8c21"
      },
      "source": [
        "# iterating over indices\n",
        "myList = [10,20,30,40,50, 60, 60,70,100]\n",
        "for x in range(len(myList)): \n",
        "  print(myList[x])"
      ],
      "execution_count": null,
      "outputs": [
        {
          "output_type": "stream",
          "text": [
            "10\n",
            "20\n",
            "30\n",
            "40\n",
            "50\n",
            "60\n",
            "60\n",
            "70\n",
            "100\n"
          ],
          "name": "stdout"
        }
      ]
    },
    {
      "cell_type": "code",
      "metadata": {
        "colab": {
          "base_uri": "https://localhost:8080/"
        },
        "id": "vp80coNMKcPW",
        "outputId": "df6a74d7-b3c0-4484-f026-a1b724b26350"
      },
      "source": [
        "# iterating over indices\n",
        "myStr = \"duygu altop\"\n",
        "for x in range(len(myStr)): \n",
        "  print(myStr[x])"
      ],
      "execution_count": null,
      "outputs": [
        {
          "output_type": "stream",
          "text": [
            "d\n",
            "u\n",
            "y\n",
            "g\n",
            "u\n",
            " \n",
            "a\n",
            "l\n",
            "t\n",
            "o\n",
            "p\n"
          ],
          "name": "stdout"
        }
      ]
    },
    {
      "cell_type": "code",
      "metadata": {
        "colab": {
          "base_uri": "https://localhost:8080/"
        },
        "id": "nT5CYN2tLIAb",
        "outputId": "2120ed8f-c27c-43a4-c686-66691f20ab91"
      },
      "source": [
        "myStr = \"IF100 - Python\"\n",
        "myList = []\n",
        "for ch in myStr:\n",
        "  myList.append(ch)\n",
        "print(myList)"
      ],
      "execution_count": null,
      "outputs": [
        {
          "output_type": "stream",
          "text": [
            "['I', 'F', '1', '0', '0', ' ', '-', ' ', 'P', 'y', 't', 'h', 'o', 'n']\n"
          ],
          "name": "stdout"
        }
      ]
    },
    {
      "cell_type": "code",
      "metadata": {
        "colab": {
          "base_uri": "https://localhost:8080/"
        },
        "id": "tF4z1PfOLspQ",
        "outputId": "99116690-3578-4a40-aedd-2fe2fccb0c41"
      },
      "source": [
        "myStr = \"IF100 - Python\"\n",
        "myList = []\n",
        "for ch in myStr:\n",
        "  myList.append(ch)\n",
        "  print(myList)"
      ],
      "execution_count": null,
      "outputs": [
        {
          "output_type": "stream",
          "text": [
            "['I']\n",
            "['I', 'F']\n",
            "['I', 'F', '1']\n",
            "['I', 'F', '1', '0']\n",
            "['I', 'F', '1', '0', '0']\n",
            "['I', 'F', '1', '0', '0', ' ']\n",
            "['I', 'F', '1', '0', '0', ' ', '-']\n",
            "['I', 'F', '1', '0', '0', ' ', '-', ' ']\n",
            "['I', 'F', '1', '0', '0', ' ', '-', ' ', 'P']\n",
            "['I', 'F', '1', '0', '0', ' ', '-', ' ', 'P', 'y']\n",
            "['I', 'F', '1', '0', '0', ' ', '-', ' ', 'P', 'y', 't']\n",
            "['I', 'F', '1', '0', '0', ' ', '-', ' ', 'P', 'y', 't', 'h']\n",
            "['I', 'F', '1', '0', '0', ' ', '-', ' ', 'P', 'y', 't', 'h', 'o']\n",
            "['I', 'F', '1', '0', '0', ' ', '-', ' ', 'P', 'y', 't', 'h', 'o', 'n']\n"
          ],
          "name": "stdout"
        }
      ]
    },
    {
      "cell_type": "code",
      "metadata": {
        "colab": {
          "base_uri": "https://localhost:8080/"
        },
        "id": "cGsRTYFML31h",
        "outputId": "dc4f16c1-91e2-4b4b-8cc1-c469e8a1b08c"
      },
      "source": [
        "myStr = \"IF100 - Python\"\n",
        "\n",
        "for ch in myStr:\n",
        "  myList = []\n",
        "  myList.append(ch)\n",
        "  print(myList)"
      ],
      "execution_count": null,
      "outputs": [
        {
          "output_type": "stream",
          "text": [
            "['I']\n",
            "['F']\n",
            "['1']\n",
            "['0']\n",
            "['0']\n",
            "[' ']\n",
            "['-']\n",
            "[' ']\n",
            "['P']\n",
            "['y']\n",
            "['t']\n",
            "['h']\n",
            "['o']\n",
            "['n']\n"
          ],
          "name": "stdout"
        }
      ]
    },
    {
      "cell_type": "code",
      "metadata": {
        "colab": {
          "base_uri": "https://localhost:8080/"
        },
        "id": "PbdTgA83MMxZ",
        "outputId": "2f585240-32d6-4880-cca7-68ccef0cd178"
      },
      "source": [
        "numOfLetters = 0\n",
        "myStr = \"IF100 - Python \"\n",
        "\n",
        "for ch in myStr:  \n",
        "  if ch.isalpha():\n",
        "    numOfLetters += 1\n",
        "print(numOfLetters)\n"
      ],
      "execution_count": null,
      "outputs": [
        {
          "output_type": "stream",
          "text": [
            "8\n"
          ],
          "name": "stdout"
        }
      ]
    },
    {
      "cell_type": "code",
      "metadata": {
        "colab": {
          "base_uri": "https://localhost:8080/"
        },
        "id": "3FzPg0sdRSNG",
        "outputId": "9386d788-87bf-47ec-fa33-fd46fe7e0c87"
      },
      "source": [
        "DNA = input(\"Enter a DNA sequence: \")\n",
        "\n",
        "countInvalid = 0\n",
        "\n",
        "for var in DNA:\n",
        "  if var not in \"ACGT\":   #var != \"A\" and var != \"C\" and var != \"D\" and var != \"G\"\n",
        "    #print(\"Mutated DNA\")\n",
        "    countInvalid += 1\n",
        "\n",
        "if countInvalid != 0:\n",
        "  print(\"Mutated DNA\")\n",
        "else:\n",
        "  print(\"Valid DNA\")"
      ],
      "execution_count": null,
      "outputs": [
        {
          "output_type": "stream",
          "text": [
            "Enter a DNA sequence: ACFTGCATF\n",
            "Mutated DNA\n"
          ],
          "name": "stdout"
        }
      ]
    },
    {
      "cell_type": "code",
      "metadata": {
        "colab": {
          "base_uri": "https://localhost:8080/"
        },
        "id": "aAoswS0gTkze",
        "outputId": "27b0901f-0b61-48f0-f0c2-62b7be5b25dd"
      },
      "source": [
        "DNA = input(\"Enter a DNA sequence: \")\n",
        "\n",
        "countValid = 0\n",
        "\n",
        "for var in DNA:\n",
        "  if var.upper() in \"ACGT\":  \n",
        "    #print(\"Mutated DNA\")\n",
        "    countValid += 1\n",
        "\n",
        "if countValid != len(DNA):\n",
        "  print(\"Mutated DNA\")\n",
        "else:\n",
        "  print(\"Valid DNA\")"
      ],
      "execution_count": null,
      "outputs": [
        {
          "output_type": "stream",
          "text": [
            "Enter a DNA sequence: ACGTH\n",
            "Mutated DNA\n"
          ],
          "name": "stdout"
        }
      ]
    },
    {
      "cell_type": "code",
      "metadata": {
        "colab": {
          "base_uri": "https://localhost:8080/"
        },
        "id": "f7LG1OmtUHH4",
        "outputId": "16f30c6a-c768-4307-9e71-8c1c900402bc"
      },
      "source": [
        "DNA = input(\"Enter a DNA sequence: \")\n",
        "\n",
        "isValid = True\n",
        "\n",
        "for ch in DNA:\n",
        "  if ch.upper() not in \"ACGT\":\n",
        "    isValid = False\n",
        "\n",
        "if isValid:   # isValid == True:\n",
        "  print(\"Valid DNA\")\n",
        "else:\n",
        "  print(\"Mutated DNA\")"
      ],
      "execution_count": null,
      "outputs": [
        {
          "output_type": "stream",
          "text": [
            "Enter a DNA sequence: ACGHCsdG\n",
            "Mutated DNA\n"
          ],
          "name": "stdout"
        }
      ]
    },
    {
      "cell_type": "code",
      "metadata": {
        "id": "W4T0AHoTVUiU"
      },
      "source": [
        "DNA = input(\"Enter a DNA sequence: \")\n",
        "\n",
        "result = \"Valid DNA\"\n",
        "\n",
        "for ch in DNA:\n",
        "  if ch.upper() not in \"ACGT\":\n",
        "    result = \"Mutated DNA\"\n",
        "\n",
        "print(result)"
      ],
      "execution_count": null,
      "outputs": []
    },
    {
      "cell_type": "code",
      "metadata": {
        "colab": {
          "base_uri": "https://localhost:8080/"
        },
        "id": "7YwZu6fqVxWw",
        "outputId": "2cc313b8-f2d1-462f-d0ee-f729f3f516fe"
      },
      "source": [
        "DNA = input(\"Enter a DNA sequence: \")\n",
        "\n",
        "result = \"Valid DNA\"\n",
        "\n",
        "for ch in DNA:\n",
        "  if ch.upper() not in \"ACGT\":\n",
        "    result = \"Mutated DNA\"\n",
        "    break\n",
        "\n",
        "print(result)"
      ],
      "execution_count": null,
      "outputs": [
        {
          "output_type": "stream",
          "text": [
            "Enter a DNA sequence: cadst\n",
            "Mutated DNA\n"
          ],
          "name": "stdout"
        }
      ]
    },
    {
      "cell_type": "code",
      "metadata": {
        "colab": {
          "base_uri": "https://localhost:8080/"
        },
        "id": "vaNSX4AzWNCl",
        "outputId": "c5eb51f4-6149-41bb-ef68-87d82c0c51d3"
      },
      "source": [
        "for i in range(5):\n",
        "  print(i)"
      ],
      "execution_count": null,
      "outputs": [
        {
          "output_type": "stream",
          "text": [
            "0\n",
            "1\n",
            "2\n",
            "3\n",
            "4\n"
          ],
          "name": "stdout"
        }
      ]
    },
    {
      "cell_type": "code",
      "metadata": {
        "colab": {
          "base_uri": "https://localhost:8080/"
        },
        "id": "MaYSv3ZLWRSq",
        "outputId": "ec9e0976-45e0-47e3-ceba-fde4e1ef8380"
      },
      "source": [
        "for i in range(5):\n",
        "  print(i)\n",
        "  if i == 3:\n",
        "    break\n",
        "    "
      ],
      "execution_count": null,
      "outputs": [
        {
          "output_type": "stream",
          "text": [
            "0\n",
            "1\n",
            "2\n",
            "3\n"
          ],
          "name": "stdout"
        }
      ]
    },
    {
      "cell_type": "code",
      "metadata": {
        "colab": {
          "base_uri": "https://localhost:8080/"
        },
        "id": "nwfp9Z1fWcov",
        "outputId": "49080c71-fec5-47d9-8635-adc1f313e8b5"
      },
      "source": [
        "for i in range(5):\n",
        "  if i == 3:\n",
        "    break\n",
        "  print(i)  \n"
      ],
      "execution_count": null,
      "outputs": [
        {
          "output_type": "stream",
          "text": [
            "0\n",
            "1\n",
            "2\n"
          ],
          "name": "stdout"
        }
      ]
    },
    {
      "cell_type": "code",
      "metadata": {
        "id": "OvIQymyTX62S"
      },
      "source": [
        "myList = [10, 15, 20, 25, 5, 10, 15, 5, 30]"
      ],
      "execution_count": null,
      "outputs": []
    },
    {
      "cell_type": "code",
      "metadata": {
        "colab": {
          "base_uri": "https://localhost:8080/"
        },
        "id": "eqCr6JhDYB6p",
        "outputId": "36179ced-7663-4a58-bcb8-81a75e61d6a0"
      },
      "source": [
        "minElement = min(myList)\n",
        "myList.index(minElement)"
      ],
      "execution_count": null,
      "outputs": [
        {
          "output_type": "execute_result",
          "data": {
            "text/plain": [
              "4"
            ]
          },
          "metadata": {
            "tags": []
          },
          "execution_count": 42
        }
      ]
    },
    {
      "cell_type": "code",
      "metadata": {
        "colab": {
          "base_uri": "https://localhost:8080/"
        },
        "id": "C01QzDZLYPHW",
        "outputId": "9f71d0b1-e26e-4ca2-a55b-fe13d8ea0588"
      },
      "source": [
        "minElement = min(myList)\n",
        "myList.reverse()\n",
        "print(len(myList) -1 - myList.index(minElement))\n",
        "myList.reverse()"
      ],
      "execution_count": null,
      "outputs": [
        {
          "output_type": "stream",
          "text": [
            "7\n"
          ],
          "name": "stdout"
        }
      ]
    },
    {
      "cell_type": "code",
      "metadata": {
        "colab": {
          "base_uri": "https://localhost:8080/"
        },
        "id": "5iedh8qrY5Fy",
        "outputId": "798e541a-aabb-4bc3-b1dd-063ccaecfd84"
      },
      "source": [
        "myList = [10, 15, 20, 25, 5, 10, 15, 5, 30]\n",
        "minElement = min(myList)\n",
        "\n",
        "for idx in range(len(myList)):\n",
        "  if myList[idx] == minElement:\n",
        "    print(idx)\n"
      ],
      "execution_count": null,
      "outputs": [
        {
          "output_type": "stream",
          "text": [
            "4\n",
            "7\n"
          ],
          "name": "stdout"
        }
      ]
    },
    {
      "cell_type": "code",
      "metadata": {
        "colab": {
          "base_uri": "https://localhost:8080/"
        },
        "id": "YA4CNZzrZi6a",
        "outputId": "51a3481f-225b-4a4b-b062-65b70c429bb6"
      },
      "source": [
        "myList = [10, 15, 20, 25, 5, 10, 15, 5, 30]\n",
        "minElement = min(myList)\n",
        "\n",
        "printIndx = 1000\n",
        "\n",
        "for idx in range(len(myList)):\n",
        "  if myList[idx] == minElement: \n",
        "    printIndx = idx\n",
        "    break\n",
        "  \n",
        "print(printIndx)\n"
      ],
      "execution_count": null,
      "outputs": [
        {
          "output_type": "stream",
          "text": [
            "4\n"
          ],
          "name": "stdout"
        }
      ]
    },
    {
      "cell_type": "code",
      "metadata": {
        "colab": {
          "base_uri": "https://localhost:8080/"
        },
        "id": "XLnKapOtZ2n-",
        "outputId": "771d75b5-30f0-4944-c515-f734c5fa404c"
      },
      "source": [
        "myList = [10, 15, 20, 25, 5, 10, 15, 5, 30]\n",
        "minElement = min(myList)\n",
        "\n",
        "printIndx = 1000\n",
        "\n",
        "for idx in range(len(myList)):\n",
        "  if myList[idx] == minElement: \n",
        "    printIndx = idx\n",
        "  \n",
        "print(printIndx)\n"
      ],
      "execution_count": null,
      "outputs": [
        {
          "output_type": "stream",
          "text": [
            "7\n"
          ],
          "name": "stdout"
        }
      ]
    },
    {
      "cell_type": "code",
      "metadata": {
        "colab": {
          "base_uri": "https://localhost:8080/"
        },
        "id": "_8ZVe8yea0Xg",
        "outputId": "d8a159ed-4de0-468c-cf65-ff1871c42268"
      },
      "source": [
        "myList = [10, 15, 20, 25, 5, 10, 15, 5, 30]\n",
        "minElement = min(myList)\n",
        "\n",
        "myList.reverse()\n",
        "\n",
        "for idx in range(len(myList)):\n",
        "  if myList[idx] == minElement: \n",
        "    break\n",
        "  \n",
        "print(len(myList)-1-idx)\n",
        "\n",
        "myList.reverse()"
      ],
      "execution_count": null,
      "outputs": [
        {
          "output_type": "stream",
          "text": [
            "7\n"
          ],
          "name": "stdout"
        }
      ]
    },
    {
      "cell_type": "code",
      "metadata": {
        "id": "cK3UlxeDaz7O"
      },
      "source": [
        ""
      ],
      "execution_count": null,
      "outputs": []
    }
  ]
}