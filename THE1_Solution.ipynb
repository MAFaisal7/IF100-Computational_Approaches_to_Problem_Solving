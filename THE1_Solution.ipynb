{
  "nbformat": 4,
  "nbformat_minor": 0,
  "metadata": {
    "colab": {
      "name": "THE1_Solution.ipynb",
      "provenance": [],
      "collapsed_sections": []
    },
    "kernelspec": {
      "name": "python3",
      "display_name": "Python 3"
    }
  },
  "cells": [
    {
      "cell_type": "code",
      "metadata": {
        "id": "gp8Rm7OVF1T3",
        "colab": {
          "base_uri": "https://localhost:8080/"
        },
        "outputId": "3a9dfd09-7b5b-425f-eec7-922379cb554f"
      },
      "source": [
        "filesize = float(input(\"Please enter the file size you want to share in GB: \"))\n",
        "upload_speed = float(input(\"Please enter your upload speed in Mbps: \"))\n",
        "friend_download_speed = float(input(\"Please enter your friends download speed in Mbps: \"))\n",
        "\n",
        "filesize = filesize * 1024 # convert to mb\n",
        "zip_time = filesize / 1 # compression will 1 MB per second \n",
        "zipped_filesize = filesize * 0.38 # 62 percent compression\n",
        "\n",
        "upload_time = zipped_filesize * 8 / upload_speed\n",
        "\n",
        "friend_download_time = zipped_filesize * 8 / friend_download_speed\n",
        "\n",
        "decompress_time = zipped_filesize / 1.2\n",
        "\n",
        "total_time = zip_time + upload_time + friend_download_time + decompress_time\n",
        "\n",
        "hours = total_time // (60 * 60)\n",
        "total_time %= (60 * 60)\n",
        "\n",
        "minutes = total_time // 60\n",
        "total_time %= 60\n",
        "seconds = total_time\n",
        "\n",
        "print(\"File sharing will take\", format(hours,\".0f\"), \"hour(s),\", format(minutes,\".0f\"), \"minute(s) and\" , format(seconds,\".2f\"), \"second(s).\")"
      ],
      "execution_count": null,
      "outputs": [
        {
          "output_type": "stream",
          "text": [
            "Please enter the file size you want to share in GB: 9.23\n",
            "Please enter your upload speed in Mbps: 6.35\n",
            "Please enter your friends download speed in Mbps: 60.277\n",
            "File sharing will take 4 hour(s), 50 minute(s) and 46.00 second(s).\n"
          ],
          "name": "stdout"
        }
      ]
    },
    {
      "cell_type": "code",
      "metadata": {
        "id": "58kSKA6SOdx8"
      },
      "source": [
        ""
      ],
      "execution_count": null,
      "outputs": []
    }
  ]
}